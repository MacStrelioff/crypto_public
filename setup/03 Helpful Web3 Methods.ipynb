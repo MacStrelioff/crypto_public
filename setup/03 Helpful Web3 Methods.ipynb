{
 "cells": [
  {
   "cell_type": "markdown",
   "id": "9fde4149-03ed-44cf-a18b-8bb2d6156322",
   "metadata": {},
   "source": [
    "# Helpful Web3 Methods"
   ]
  },
  {
   "cell_type": "markdown",
   "id": "ee3eb1f0-fe9f-47de-bc75-8194769b9db8",
   "metadata": {},
   "source": [
    "### Connect to a node and assign account to local variable"
   ]
  },
  {
   "cell_type": "code",
   "execution_count": 1,
   "id": "794f989b-3bd8-4db9-b066-92a09a3b251e",
   "metadata": {},
   "outputs": [],
   "source": [
    "from web3 import Web3\n",
    "\n",
    "# to get key from environment\n",
    "import os\n",
    "from dotenv import load_dotenv # https://pypi.org/project/python-dotenv/"
   ]
  },
  {
   "cell_type": "code",
   "execution_count": 2,
   "id": "097d9930-2ac5-4ae4-98c2-58a94d3187d2",
   "metadata": {},
   "outputs": [
    {
     "data": {
      "text/plain": [
       "True"
      ]
     },
     "execution_count": 2,
     "metadata": {},
     "output_type": "execute_result"
    }
   ],
   "source": [
    "# to load environment dictionary\n",
    "load_dotenv('../.env')"
   ]
  },
  {
   "cell_type": "code",
   "execution_count": 3,
   "id": "6ada3943-dc68-4b9e-897e-62aac6484e8d",
   "metadata": {},
   "outputs": [],
   "source": [
    "# api key originally from https://dashboard.alchemy.com/\n",
    "apiKey=os.environ['ALCHEMY_KEY'] # gets key from environment, alternatively one could paste their key here\n",
    "alchemy_url = f\"https://eth-mainnet.g.alchemy.com/v2/{apiKey}\""
   ]
  },
  {
   "cell_type": "code",
   "execution_count": 4,
   "id": "97849b8e-ae56-4d32-8661-791787a47a05",
   "metadata": {},
   "outputs": [
    {
     "name": "stdout",
     "output_type": "stream",
     "text": [
      "True\n"
     ]
    }
   ],
   "source": [
    "# connect to an ethereum node through Alchemyy\n",
    "w3 = Web3(Web3.HTTPProvider(alchemy_url))\n",
    "# check connection\n",
    "print(w3.isConnected())"
   ]
  },
  {
   "cell_type": "code",
   "execution_count": 5,
   "id": "be1c962d-4092-4033-ab6a-fee883d8ca0f",
   "metadata": {},
   "outputs": [
    {
     "data": {
      "text/plain": [
       "'0x536A46C01c78df44e05A31eEb6aaFB85cddE20D5'"
      ]
     },
     "execution_count": 5,
     "metadata": {},
     "output_type": "execute_result"
    }
   ],
   "source": [
    "# get account\n",
    "PRIVATE_KEY = os.environ['PRIVATE_KEY']\n",
    "acct = w3.eth.account.from_key(PRIVATE_KEY)\n",
    "acct.address"
   ]
  },
  {
   "cell_type": "markdown",
   "id": "cb52a3eb-62bd-4e6f-99b0-4663c2826df1",
   "metadata": {},
   "source": [
    "# Helpful methods"
   ]
  },
  {
   "cell_type": "code",
   "execution_count": 17,
   "id": "e390cf0b-c499-4f84-bb58-0876766c617e",
   "metadata": {},
   "outputs": [
    {
     "data": {
      "text/plain": [
       "'Geth/v1.10.26-stable-e5eb32ac/linux-amd64/go1.18.8'"
      ]
     },
     "execution_count": 17,
     "metadata": {},
     "output_type": "execute_result"
    }
   ],
   "source": [
    "# Node type\n",
    "w3.clientVersion"
   ]
  },
  {
   "cell_type": "code",
   "execution_count": 21,
   "id": "f600b0e2-5de0-455f-a15e-b40700d1ecb9",
   "metadata": {},
   "outputs": [
    {
     "data": {
      "text/plain": [
       "15965256"
      ]
     },
     "execution_count": 21,
     "metadata": {},
     "output_type": "execute_result"
    }
   ],
   "source": [
    "# get block info, including all transactions in the block\n",
    "w3.eth.get_block('latest').number # get number from the block dict"
   ]
  },
  {
   "cell_type": "code",
   "execution_count": 24,
   "id": "032a947b-8db1-48b3-932c-d77d698800b2",
   "metadata": {},
   "outputs": [
    {
     "data": {
      "text/plain": [
       "Decimal('13.264756366')"
      ]
     },
     "execution_count": 24,
     "metadata": {},
     "output_type": "execute_result"
    }
   ],
   "source": [
    "# gas price in gwei\n",
    "w3.fromWei(w3.eth.gas_price,'gwei')"
   ]
  },
  {
   "cell_type": "code",
   "execution_count": 25,
   "id": "9177c3a2-d810-4d86-9ff3-e7dd01daaf17",
   "metadata": {},
   "outputs": [
    {
     "data": {
      "text/plain": [
       "0"
      ]
     },
     "execution_count": 25,
     "metadata": {},
     "output_type": "execute_result"
    }
   ],
   "source": [
    "# get balance\n",
    "addr = acct.address\n",
    "balance = w3.eth.get_balance(addr)\n",
    "balance # in wei"
   ]
  },
  {
   "cell_type": "code",
   "execution_count": 26,
   "id": "5d836b16-ed45-47b0-b846-569957463e37",
   "metadata": {},
   "outputs": [
    {
     "data": {
      "text/plain": [
       "0"
      ]
     },
     "execution_count": 26,
     "metadata": {},
     "output_type": "execute_result"
    }
   ],
   "source": [
    "# convert to eth units\n",
    "w3.fromWei(balance, 'ether')"
   ]
  },
  {
   "cell_type": "markdown",
   "id": "da42e028-bee3-4ee7-ae7f-2690d5e0e593",
   "metadata": {},
   "source": [
    "## Encode/decode types\n",
    "https://web3py.readthedocs.io/en/v5/web3.main.html#encoding-and-decoding-helpers"
   ]
  },
  {
   "cell_type": "markdown",
   "id": "eb8db130-b640-42d7-8024-add846ba1061",
   "metadata": {},
   "source": [
    "## Hashing\n",
    "https://web3py.readthedocs.io/en/v5/web3.main.html#cryptographic-hashing "
   ]
  },
  {
   "cell_type": "code",
   "execution_count": null,
   "id": "13b69654-3932-430c-a912-225fa9adde08",
   "metadata": {},
   "outputs": [],
   "source": []
  },
  {
   "cell_type": "code",
   "execution_count": null,
   "id": "630df45d-93d9-486d-a814-5e8827ace2bd",
   "metadata": {},
   "outputs": [],
   "source": []
  },
  {
   "cell_type": "code",
   "execution_count": null,
   "id": "9920d062-f7f1-4212-8999-ffd86fde32f1",
   "metadata": {},
   "outputs": [],
   "source": []
  }
 ],
 "metadata": {
  "kernelspec": {
   "display_name": "Python 3",
   "language": "python",
   "name": "python3"
  },
  "language_info": {
   "codemirror_mode": {
    "name": "ipython",
    "version": 3
   },
   "file_extension": ".py",
   "mimetype": "text/x-python",
   "name": "python",
   "nbconvert_exporter": "python",
   "pygments_lexer": "ipython3",
   "version": "3.9.0 (v3.9.0:9cf6752276, Oct  5 2020, 11:29:23) \n[Clang 6.0 (clang-600.0.57)]"
  },
  "vscode": {
   "interpreter": {
    "hash": "397704579725e15f5c7cb49fe5f0341eb7531c82d19f2c29d197e8b64ab5776b"
   }
  }
 },
 "nbformat": 4,
 "nbformat_minor": 5
}
