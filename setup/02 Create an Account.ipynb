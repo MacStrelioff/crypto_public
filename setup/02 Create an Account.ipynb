{
 "cells": [
  {
   "cell_type": "markdown",
   "id": "d2263732-4a7f-4a0b-8dc3-e11e8d6d6d86",
   "metadata": {},
   "source": [
    "# Create and Save a Web3 Account"
   ]
  },
  {
   "cell_type": "markdown",
   "id": "2a891b31-189c-4497-a3c8-c8005ddcaf1a",
   "metadata": {},
   "source": [
    "### Create address and private key\n",
    "\n",
    "Preparation:\n",
    "- `pip install web3` to install [web3](https://web3py.readthedocs.io/en/v5/) library\n"
   ]
  },
  {
   "cell_type": "code",
   "execution_count": 1,
   "id": "ba5602b3-16b3-42ef-b061-90d05a192bc0",
   "metadata": {},
   "outputs": [],
   "source": [
    "import web3\n",
    "from web3.auto import w3"
   ]
  },
  {
   "cell_type": "code",
   "execution_count": 2,
   "id": "bee1fc70-cb41-4a1a-a604-66ab45bfad39",
   "metadata": {},
   "outputs": [],
   "source": [
    "acct = w3.eth.account.create('KEYSMASH FJAFJKLDSKF7JKFDJ 1530') # https://web3py.readthedocs.io/en/v5/middleware.html?highlight=keysmash#signing"
   ]
  },
  {
   "cell_type": "code",
   "execution_count": 3,
   "id": "e9ec54a6-695f-482f-b85d-4152ec5601a5",
   "metadata": {},
   "outputs": [
    {
     "data": {
      "text/plain": [
       "'0x4D84f49e91963571289374848FeA747b48860c7e'"
      ]
     },
     "execution_count": 3,
     "metadata": {},
     "output_type": "execute_result"
    }
   ],
   "source": [
    "acct.address"
   ]
  },
  {
   "cell_type": "code",
   "execution_count": 4,
   "id": "1407d0c1-140b-4d6d-ab1e-7c1ccaf2efd2",
   "metadata": {},
   "outputs": [
    {
     "data": {
      "text/plain": [
       "HexBytes('0x9d65f76447b94d45d6929c54d9d929591b97f03ac5777f102d8f48a62288d70c')"
      ]
     },
     "execution_count": 4,
     "metadata": {},
     "output_type": "execute_result"
    }
   ],
   "source": [
    "acct.privateKey"
   ]
  },
  {
   "cell_type": "markdown",
   "id": "d4eb3ab4-2843-482d-b37d-4bc130d88ebf",
   "metadata": {
    "tags": []
   },
   "source": [
    "### Store the private key\n",
    "\n",
    "The safest way is to write it down and never save it on a computer in any form (text, screenshots, ...).\n",
    "\n",
    "Another way that balalnces convenience with security is to save it as an environemnt variable that is ignored by github.\n",
    "\n",
    "Preparation:\n",
    "- `pip install python-dotenv` to install an environment manager library\n",
    "- from the projects parent folder, run\n",
    "    - `touch .gitignore` to create a .gitignore\n",
    "    - `open .gitignore`, and add `.env` so that the .env file will be ignored in commits\n",
    "    - `touch .env` to create .env file\n",
    "    - `open .env` to paste in an assignment of the private key like `PRIVATE_KEY=\"your private key\"`, where `your private key` is the value from within `HexBytes(your private key)` above\n",
    "    \n",
    "Note, this is the same private key to use to import the account into a wallet app.\n",
    "\n",
    "Resources:\n",
    "- [environment variables](https://www.twilio.com/blog/environment-variables-python)\n",
    "- [.env in .gitignore](https://salferrarello.com/add-env-to-gitignore/)\n"
   ]
  },
  {
   "cell_type": "code",
   "execution_count": 5,
   "id": "82c21f60-88f5-4526-94ea-b910603f3f59",
   "metadata": {},
   "outputs": [],
   "source": [
    "import os\n",
    "from dotenv import load_dotenv # https://pypi.org/project/python-dotenv/"
   ]
  },
  {
   "cell_type": "code",
   "execution_count": 6,
   "id": "d53b420a-90de-4598-a253-a9edb37d0e60",
   "metadata": {},
   "outputs": [
    {
     "data": {
      "text/plain": [
       "True"
      ]
     },
     "execution_count": 6,
     "metadata": {},
     "output_type": "execute_result"
    }
   ],
   "source": [
    "load_dotenv('../.env')"
   ]
  },
  {
   "cell_type": "code",
   "execution_count": 7,
   "id": "a5f7ce46-497a-45d1-afe2-9659349430d7",
   "metadata": {},
   "outputs": [
    {
     "data": {
      "text/plain": [
       "'0x9d65f76447b94d45d6929c54d9d929591b97f03ac5777f102d8f48a62288d70c'"
      ]
     },
     "execution_count": 7,
     "metadata": {},
     "output_type": "execute_result"
    }
   ],
   "source": [
    "# to check that the value was loaded\n",
    "# os.environ['PRIVATE_KEY']"
   ]
  },
  {
   "cell_type": "code",
   "execution_count": 8,
   "id": "dd534124-b943-450a-ae39-e9a1fb02b6fe",
   "metadata": {},
   "outputs": [],
   "source": [
    "PRIVATE_KEY = os.environ['PRIVATE_KEY']\n",
    "acct_2 = w3.eth.account.from_key(PRIVATE_KEY)"
   ]
  },
  {
   "cell_type": "code",
   "execution_count": 9,
   "id": "d9797d1d-4320-4f82-9194-bc10e2927871",
   "metadata": {},
   "outputs": [
    {
     "data": {
      "text/plain": [
       "'0x4D84f49e91963571289374848FeA747b48860c7e'"
      ]
     },
     "execution_count": 9,
     "metadata": {},
     "output_type": "execute_result"
    }
   ],
   "source": [
    "# check that this address matches the address above when the account was created\n",
    "acct_2.address"
   ]
  }
 ],
 "metadata": {
  "kernelspec": {
   "display_name": "Python 3",
   "language": "python",
   "name": "python3"
  },
  "language_info": {
   "codemirror_mode": {
    "name": "ipython",
    "version": 3
   },
   "file_extension": ".py",
   "mimetype": "text/x-python",
   "name": "python",
   "nbconvert_exporter": "python",
   "pygments_lexer": "ipython3",
   "version": "3.8.6"
  }
 },
 "nbformat": 4,
 "nbformat_minor": 5
}
