{
 "cells": [
  {
   "cell_type": "markdown",
   "id": "d2263732-4a7f-4a0b-8dc3-e11e8d6d6d86",
   "metadata": {},
   "source": [
    "# Create and Save a Web3 Account"
   ]
  },
  {
   "cell_type": "markdown",
   "id": "2a891b31-189c-4497-a3c8-c8005ddcaf1a",
   "metadata": {},
   "source": [
    "### Create address and private key\n",
    "\n",
    "Preparation:\n",
    "- `pip install web3` to install [web3](https://web3py.readthedocs.io/en/v5/) library\n"
   ]
  },
  {
   "cell_type": "code",
   "execution_count": 2,
   "id": "7480234b",
   "metadata": {},
   "outputs": [
    {
     "name": "stdout",
     "output_type": "stream",
     "text": [
      "Collecting web3\n",
      "  Downloading web3-5.31.3-py3-none-any.whl (501 kB)\n",
      "\u001b[K     |████████████████████████████████| 501 kB 1.5 MB/s eta 0:00:01\n",
      "\u001b[?25hRequirement already satisfied: jsonschema<5,>=3.2.0 in /Library/Frameworks/Python.framework/Versions/3.9/lib/python3.9/site-packages (from web3) (3.2.0)\n",
      "Requirement already satisfied: requests<3.0.0,>=2.16.0 in /Library/Frameworks/Python.framework/Versions/3.9/lib/python3.9/site-packages (from web3) (2.24.0)\n",
      "Collecting aiohttp<4,>=3.7.4.post0\n",
      "  Downloading aiohttp-3.8.3-cp39-cp39-macosx_10_9_x86_64.whl (360 kB)\n",
      "\u001b[K     |████████████████████████████████| 360 kB 1.7 MB/s eta 0:00:01\n",
      "\u001b[?25hRequirement already satisfied: attrs>=17.3.0 in /Library/Frameworks/Python.framework/Versions/3.9/lib/python3.9/site-packages (from aiohttp<4,>=3.7.4.post0->web3) (20.2.0)\n",
      "Collecting aiosignal>=1.1.2\n",
      "  Downloading aiosignal-1.3.1-py3-none-any.whl (7.6 kB)\n",
      "Collecting async-timeout<5.0,>=4.0.0a3\n",
      "  Using cached async_timeout-4.0.2-py3-none-any.whl (5.8 kB)\n",
      "Collecting charset-normalizer<3.0,>=2.0\n",
      "  Downloading charset_normalizer-2.1.1-py3-none-any.whl (39 kB)\n",
      "Collecting eth-abi<3.0.0,>=2.2.0\n",
      "  Using cached eth_abi-2.2.0-py3-none-any.whl (28 kB)\n",
      "Collecting eth-account<0.6.0,>=0.5.9\n",
      "  Using cached eth_account-0.5.9-py3-none-any.whl (101 kB)\n",
      "Collecting bitarray<3,>=1.2.1\n",
      "  Downloading bitarray-2.6.0-cp39-cp39-macosx_10_9_x86_64.whl (105 kB)\n",
      "\u001b[K     |████████████████████████████████| 105 kB 1.9 MB/s eta 0:00:01\n",
      "\u001b[?25hCollecting eth-hash[pycryptodome]<1.0.0,>=0.2.0\n",
      "  Downloading eth_hash-0.5.1-py3-none-any.whl (9.0 kB)\n",
      "Collecting eth-keyfile<0.6.0,>=0.5.0\n",
      "  Using cached eth_keyfile-0.5.1-py3-none-any.whl (8.3 kB)\n",
      "Collecting cytoolz<1.0.0,>=0.9.0\n",
      "  Downloading cytoolz-0.12.0-cp39-cp39-macosx_10_9_x86_64.whl (410 kB)\n",
      "\u001b[K     |████████████████████████████████| 410 kB 1.7 MB/s eta 0:00:01\n",
      "\u001b[?25hCollecting eth-keys<0.4.0,>=0.3.4\n",
      "  Using cached eth_keys-0.3.4-py3-none-any.whl (21 kB)\n",
      "Collecting eth-rlp<0.3\n",
      "  Using cached eth_rlp-0.2.1-py3-none-any.whl (5.0 kB)\n",
      "Collecting eth-typing<3.0.0,>=2.0.0\n",
      "  Using cached eth_typing-2.3.0-py3-none-any.whl (6.2 kB)\n",
      "Collecting eth-utils<2.0.0,>=1.9.5\n",
      "  Using cached eth_utils-1.10.0-py3-none-any.whl (24 kB)\n",
      "  Using cached eth_utils-1.9.5-py3-none-any.whl (23 kB)\n",
      "Collecting frozenlist>=1.1.1\n",
      "  Downloading frozenlist-1.3.3-cp39-cp39-macosx_10_9_x86_64.whl (36 kB)\n",
      "Collecting hexbytes<1.0.0,>=0.1.0\n",
      "  Using cached hexbytes-0.3.0-py3-none-any.whl (6.4 kB)\n",
      "Collecting ipfshttpclient==0.8.0a2\n",
      "  Using cached ipfshttpclient-0.8.0a2-py3-none-any.whl (82 kB)\n",
      "Requirement already satisfied: requests<3.0.0,>=2.16.0 in /Library/Frameworks/Python.framework/Versions/3.9/lib/python3.9/site-packages (from web3) (2.24.0)\n",
      "Requirement already satisfied: attrs>=17.3.0 in /Library/Frameworks/Python.framework/Versions/3.9/lib/python3.9/site-packages (from aiohttp<4,>=3.7.4.post0->web3) (20.2.0)\n",
      "Requirement already satisfied: setuptools in /Library/Frameworks/Python.framework/Versions/3.9/lib/python3.9/site-packages (from jsonschema<5,>=3.2.0->web3) (49.2.1)\n",
      "Requirement already satisfied: pyrsistent>=0.14.0 in /Library/Frameworks/Python.framework/Versions/3.9/lib/python3.9/site-packages (from jsonschema<5,>=3.2.0->web3) (0.17.3)\n",
      "Requirement already satisfied: six>=1.11.0 in /Library/Frameworks/Python.framework/Versions/3.9/lib/python3.9/site-packages (from jsonschema<5,>=3.2.0->web3) (1.15.0)\n",
      "Collecting lru-dict<2.0.0,>=1.1.6\n",
      "  Downloading lru_dict-1.1.8-cp39-cp39-macosx_10_9_x86_64.whl (9.9 kB)\n",
      "Collecting multiaddr>=0.0.7\n",
      "  Using cached multiaddr-0.0.9-py2.py3-none-any.whl (16 kB)\n",
      "Requirement already satisfied: six>=1.11.0 in /Library/Frameworks/Python.framework/Versions/3.9/lib/python3.9/site-packages (from jsonschema<5,>=3.2.0->web3) (1.15.0)\n",
      "Collecting base58\n",
      "  Using cached base58-2.1.1-py3-none-any.whl (5.6 kB)\n",
      "Collecting multidict<7.0,>=4.5\n",
      "  Downloading multidict-6.0.3-cp39-cp39-macosx_10_9_x86_64.whl (29 kB)\n",
      "Collecting netaddr\n",
      "  Using cached netaddr-0.8.0-py2.py3-none-any.whl (1.9 MB)\n",
      "Collecting parsimonious<0.9.0,>=0.8.0\n",
      "  Using cached parsimonious-0.8.1.tar.gz (45 kB)\n",
      "Requirement already satisfied: six>=1.11.0 in /Library/Frameworks/Python.framework/Versions/3.9/lib/python3.9/site-packages (from jsonschema<5,>=3.2.0->web3) (1.15.0)\n",
      "Collecting protobuf==3.19.5\n",
      "  Downloading protobuf-3.19.5-cp39-cp39-macosx_10_9_x86_64.whl (980 kB)\n",
      "\u001b[K     |████████████████████████████████| 980 kB 1.7 MB/s eta 0:00:01\n",
      "\u001b[?25hCollecting pycryptodome<4,>=3.6.6\n",
      "  Downloading pycryptodome-3.16.0-cp35-abi3-macosx_10_9_x86_64.whl (1.6 MB)\n",
      "\u001b[K     |████████████████████████████████| 1.6 MB 1.7 MB/s eta 0:00:01\n",
      "\u001b[?25hRequirement already satisfied: chardet<4,>=3.0.2 in /Library/Frameworks/Python.framework/Versions/3.9/lib/python3.9/site-packages (from requests<3.0.0,>=2.16.0->web3) (3.0.4)\n",
      "Requirement already satisfied: idna<3,>=2.5 in /Library/Frameworks/Python.framework/Versions/3.9/lib/python3.9/site-packages (from requests<3.0.0,>=2.16.0->web3) (2.10)\n",
      "Requirement already satisfied: certifi>=2017.4.17 in /Library/Frameworks/Python.framework/Versions/3.9/lib/python3.9/site-packages (from requests<3.0.0,>=2.16.0->web3) (2021.10.8)\n",
      "Requirement already satisfied: urllib3!=1.25.0,!=1.25.1,<1.26,>=1.21.1 in /Library/Frameworks/Python.framework/Versions/3.9/lib/python3.9/site-packages (from requests<3.0.0,>=2.16.0->web3) (1.25.11)\n",
      "Collecting rlp<3,>=1.0.0\n",
      "  Using cached rlp-2.0.1-py2.py3-none-any.whl (20 kB)\n",
      "Collecting toolz>=0.8.0\n",
      "  Using cached toolz-0.12.0-py3-none-any.whl (55 kB)\n",
      "Collecting varint\n",
      "  Using cached varint-1.0.2.tar.gz (1.9 kB)\n",
      "Collecting websockets<10,>=9.1\n",
      "  Downloading websockets-9.1-cp39-cp39-macosx_10_9_x86_64.whl (88 kB)\n",
      "\u001b[K     |████████████████████████████████| 88 kB 1.7 MB/s eta 0:00:01\n",
      "\u001b[?25hCollecting yarl<2.0,>=1.0\n",
      "  Downloading yarl-1.8.2-cp39-cp39-macosx_10_9_x86_64.whl (61 kB)\n",
      "\u001b[K     |████████████████████████████████| 61 kB 1.7 MB/s eta 0:00:01\n",
      "\u001b[?25hRequirement already satisfied: idna<3,>=2.5 in /Library/Frameworks/Python.framework/Versions/3.9/lib/python3.9/site-packages (from requests<3.0.0,>=2.16.0->web3) (2.10)\n",
      "Using legacy 'setup.py install' for parsimonious, since package 'wheel' is not installed.\n",
      "Using legacy 'setup.py install' for varint, since package 'wheel' is not installed.\n",
      "Installing collected packages: toolz, eth-typing, eth-hash, cytoolz, eth-utils, varint, rlp, pycryptodome, parsimonious, netaddr, multidict, hexbytes, frozenlist, eth-keys, base58, yarl, multiaddr, eth-rlp, eth-keyfile, eth-abi, charset-normalizer, bitarray, async-timeout, aiosignal, websockets, protobuf, lru-dict, ipfshttpclient, eth-account, aiohttp, web3\n",
      "    Running setup.py install for varint ... \u001b[?25ldone\n",
      "\u001b[?25h    Running setup.py install for parsimonious ... \u001b[?25ldone\n",
      "\u001b[?25hSuccessfully installed aiohttp-3.8.3 aiosignal-1.3.1 async-timeout-4.0.2 base58-2.1.1 bitarray-2.6.0 charset-normalizer-2.1.1 cytoolz-0.12.0 eth-abi-2.2.0 eth-account-0.5.9 eth-hash-0.5.1 eth-keyfile-0.5.1 eth-keys-0.3.4 eth-rlp-0.2.1 eth-typing-2.3.0 eth-utils-1.9.5 frozenlist-1.3.3 hexbytes-0.3.0 ipfshttpclient-0.8.0a2 lru-dict-1.1.8 multiaddr-0.0.9 multidict-6.0.3 netaddr-0.8.0 parsimonious-0.8.1 protobuf-3.19.5 pycryptodome-3.16.0 rlp-2.0.1 toolz-0.12.0 varint-1.0.2 web3-5.31.3 websockets-9.1 yarl-1.8.2\n",
      "\u001b[33mWARNING: You are using pip version 20.3; however, version 22.3.1 is available.\n",
      "You should consider upgrading via the '/usr/local/bin/python3.9 -m pip install --upgrade pip' command.\u001b[0m\n",
      "Note: you may need to restart the kernel to use updated packages.\n"
     ]
    }
   ],
   "source": [
    "pip install web3"
   ]
  },
  {
   "cell_type": "code",
   "execution_count": 3,
   "id": "ba5602b3-16b3-42ef-b061-90d05a192bc0",
   "metadata": {},
   "outputs": [],
   "source": [
    "import web3\n",
    "from web3.auto import w3"
   ]
  },
  {
   "cell_type": "code",
   "execution_count": 10,
   "id": "bee1fc70-cb41-4a1a-a604-66ab45bfad39",
   "metadata": {},
   "outputs": [],
   "source": [
    "acct = w3.eth.account.create('KEYSMASH FJAFJKLDSKF7JKFDJ 1530') # https://web3py.readthedocs.io/en/v5/middleware.html?highlight=keysmash#signing"
   ]
  },
  {
   "cell_type": "code",
   "execution_count": 11,
   "id": "e9ec54a6-695f-482f-b85d-4152ec5601a5",
   "metadata": {},
   "outputs": [
    {
     "data": {
      "text/plain": [
       "'0xf415080c86dF05FA8839d54f5483137ecccf82BC'"
      ]
     },
     "execution_count": 11,
     "metadata": {},
     "output_type": "execute_result"
    }
   ],
   "source": [
    "acct.address"
   ]
  },
  {
   "cell_type": "code",
   "execution_count": 12,
   "id": "1407d0c1-140b-4d6d-ab1e-7c1ccaf2efd2",
   "metadata": {},
   "outputs": [
    {
     "data": {
      "text/plain": [
       "HexBytes('0xebb285b8e1e258f128dee2dd8cc9a18dc2299cec156c5dcd3fe727564ba8dfd6')"
      ]
     },
     "execution_count": 12,
     "metadata": {},
     "output_type": "execute_result"
    }
   ],
   "source": [
    "acct.privateKey"
   ]
  },
  {
   "cell_type": "markdown",
   "id": "d4eb3ab4-2843-482d-b37d-4bc130d88ebf",
   "metadata": {
    "tags": []
   },
   "source": [
    "### Store the private key\n",
    "\n",
    "The safest way is to write it down and never save it on a computer in any form (text, screenshots, ...).\n",
    "\n",
    "Another way that balalnces convenience with security is to save it as an environemnt variable that is ignored by github.\n",
    "\n",
    "Preparation:\n",
    "- `pip install python-dotenv` to install an environment manager library\n",
    "- from the projects parent folder, run\n",
    "    - `touch .gitignore` to create a .gitignore\n",
    "    - `open .gitignore`, and add `.env` so that the .env file will be ignored in commits\n",
    "    - `touch .env` to create .env file\n",
    "    - `open .env` to paste in an assignment of the private key like `PRIVATE_KEY=\"your private key\"`, where `your private key` is the value from within `HexBytes(your private key)` above\n",
    "    \n",
    "Note, this is the same private key to use to import the account into a wallet app.\n",
    "\n",
    "Resources:\n",
    "- [environment variables](https://www.twilio.com/blog/environment-variables-python)\n",
    "- [.env in .gitignore](https://salferrarello.com/add-env-to-gitignore/)\n"
   ]
  },
  {
   "cell_type": "code",
   "execution_count": 17,
   "id": "a2023a70",
   "metadata": {},
   "outputs": [
    {
     "name": "stdout",
     "output_type": "stream",
     "text": [
      "Collecting python-dotenv\n",
      "  Using cached python_dotenv-0.21.0-py3-none-any.whl (18 kB)\n",
      "Installing collected packages: python-dotenv\n",
      "Successfully installed python-dotenv-0.21.0\n",
      "\u001b[33mWARNING: You are using pip version 20.3; however, version 22.3.1 is available.\n",
      "You should consider upgrading via the '/usr/local/bin/python3.9 -m pip install --upgrade pip' command.\u001b[0m\n",
      "Note: you may need to restart the kernel to use updated packages.\n"
     ]
    }
   ],
   "source": [
    "pip install python-dotenv"
   ]
  },
  {
   "cell_type": "code",
   "execution_count": 18,
   "id": "82c21f60-88f5-4526-94ea-b910603f3f59",
   "metadata": {},
   "outputs": [],
   "source": [
    "import os\n",
    "from dotenv import load_dotenv # https://pypi.org/project/python-dotenv/"
   ]
  },
  {
   "cell_type": "code",
   "execution_count": 19,
   "id": "d53b420a-90de-4598-a253-a9edb37d0e60",
   "metadata": {},
   "outputs": [
    {
     "data": {
      "text/plain": [
       "True"
      ]
     },
     "execution_count": 19,
     "metadata": {},
     "output_type": "execute_result"
    }
   ],
   "source": [
    "load_dotenv('../.env')"
   ]
  },
  {
   "cell_type": "code",
   "execution_count": 8,
   "id": "a5f7ce46-497a-45d1-afe2-9659349430d7",
   "metadata": {},
   "outputs": [],
   "source": [
    "# to check that the value was loaded\n",
    "# os.environ['PRIVATE_KEY']"
   ]
  },
  {
   "cell_type": "code",
   "execution_count": 20,
   "id": "dd534124-b943-450a-ae39-e9a1fb02b6fe",
   "metadata": {},
   "outputs": [],
   "source": [
    "PRIVATE_KEY = os.environ['PRIVATE_KEY_DEV']\n",
    "acct_2 = w3.eth.account.from_key(PRIVATE_KEY)"
   ]
  },
  {
   "cell_type": "code",
   "execution_count": 21,
   "id": "d9797d1d-4320-4f82-9194-bc10e2927871",
   "metadata": {},
   "outputs": [
    {
     "data": {
      "text/plain": [
       "'0x536A46C01c78df44e05A31eEb6aaFB85cddE20D5'"
      ]
     },
     "execution_count": 21,
     "metadata": {},
     "output_type": "execute_result"
    }
   ],
   "source": [
    "# check that this address matches the address above when the account was created\n",
    "acct_2.address"
   ]
  },
  {
   "cell_type": "code",
   "execution_count": null,
   "id": "e19903c7-209b-4fcb-a9e2-2caf452ff9aa",
   "metadata": {},
   "outputs": [],
   "source": []
  }
 ],
 "metadata": {
  "kernelspec": {
   "display_name": "Python 3",
   "language": "python",
   "name": "python3"
  },
  "language_info": {
   "codemirror_mode": {
    "name": "ipython",
    "version": 3
   },
   "file_extension": ".py",
   "mimetype": "text/x-python",
   "name": "python",
   "nbconvert_exporter": "python",
   "pygments_lexer": "ipython3",
   "version": "3.9.0"
  },
  "vscode": {
   "interpreter": {
    "hash": "397704579725e15f5c7cb49fe5f0341eb7531c82d19f2c29d197e8b64ab5776b"
   }
  }
 },
 "nbformat": 4,
 "nbformat_minor": 5
}
