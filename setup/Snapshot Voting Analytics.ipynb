{
 "cells": [
  {
   "cell_type": "markdown",
   "id": "cdf08910-de54-4e37-9fee-3c27e5b43fa9",
   "metadata": {},
   "source": [
    "see\n",
    "https://docs.snapshot.org/graphql-api"
   ]
  },
  {
   "cell_type": "code",
   "execution_count": null,
   "id": "9e3c1ea5-61b2-4141-97b8-32a437d9ad16",
   "metadata": {},
   "outputs": [],
   "source": []
  }
 ],
 "metadata": {
  "kernelspec": {
   "display_name": "Python 3",
   "language": "python",
   "name": "python3"
  },
  "language_info": {
   "codemirror_mode": {
    "name": "ipython",
    "version": 3
   },
   "file_extension": ".py",
   "mimetype": "text/x-python",
   "name": "python",
   "nbconvert_exporter": "python",
   "pygments_lexer": "ipython3",
   "version": "3.8.6"
  }
 },
 "nbformat": 4,
 "nbformat_minor": 5
}
