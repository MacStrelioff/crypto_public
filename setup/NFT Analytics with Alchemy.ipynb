{
 "cells": [
  {
   "cell_type": "code",
   "execution_count": null,
   "id": "e17fff0c-377c-4461-ace6-400198ed73e7",
   "metadata": {},
   "outputs": [],
   "source": []
  },
  {
   "cell_type": "code",
   "execution_count": null,
   "id": "9f6dfb16-268f-427c-a6c2-ac51be7c0bf4",
   "metadata": {},
   "outputs": [],
   "source": []
  },
  {
   "cell_type": "code",
   "execution_count": 2,
   "id": "c5584028-a76a-48c0-8a12-e902f206c50c",
   "metadata": {},
   "outputs": [
    {
     "data": {
      "text/plain": [
       "'0x659A4BdaAaCc62d2bd9Cb18225D9C89b5B697A5A'"
      ]
     },
     "execution_count": 2,
     "metadata": {},
     "output_type": "execute_result"
    }
   ],
   "source": [
    "address_collection = Web3.toChecksumAddress(\"0x659a4bdaaacc62d2bd9cb18225d9c89b5b697a5a\")\n",
    "address_collection"
   ]
  },
  {
   "cell_type": "code",
   "execution_count": 1,
   "id": "c9ff8d00-7aba-445a-ac54-532621d39f4e",
   "metadata": {},
   "outputs": [
    {
     "name": "stdout",
     "output_type": "stream",
     "text": [
      "connected: True\n",
      "address: 0x536A46C01c78df44e05A31eEb6aaFB85cddE20D5\n"
     ]
    }
   ],
   "source": [
    "%run ConectAndAssignAccount.py"
   ]
  },
  {
   "cell_type": "code",
   "execution_count": 3,
   "id": "c0b837c6-c668-401e-8aa1-5f24259062bc",
   "metadata": {},
   "outputs": [],
   "source": [
    "# Alchamey requests api;\n",
    "base_url = f\"https://eth-mainnet.g.alchemy.com/nft/v2/{apiKey}\"  # apiKey loaded from environment in ConnectAndAssignAccount\n",
    "\n",
    "# collection -> owners & owned tokens\n",
    "def getOwnersForCollection():\n",
    "    # docs: https://docs.alchemy.com/reference/getownersforcollection\n",
    "    # first page\n",
    "    first_page_url = base_url+ f\"/getOwnersForCollection?contractAddress={address_collection}&withTokenBalances=true\"\n",
    "    headers = {\"accept\": \"application/json\"}\n",
    "    response = requests.get(first_page_url, headers=headers) \n",
    "\n",
    "    # response.json()['ownerAddresses'] is a list with len() usually around 50k\n",
    "    owner_addresses_page = response.json()['ownerAddresses']\n",
    "    owner_addresses_all = owner_addresses_page\n",
    "\n",
    "    # subsequent pages (todo:add more conditions avoid infinite loops)\n",
    "    while True:\n",
    "        page_key_old = response.json()['pageKey']\n",
    "        next_page_url = first_page_url + f\"&pageKey={page_key_old}\"\n",
    "        response = requests.get(next_page_url, headers=headers) \n",
    "        owner_addresses_page = response.json()['ownerAddresses']\n",
    "        owner_addresses_all+=owner_addresses_page\n",
    "        print(len(owner_addresses_all),page_key_old) # feedback to monitor\n",
    "        if 'pageKey' not in response.json():\n",
    "            print('no more page keys')\n",
    "            return owner_addresses_all\n",
    "\n",
    "# owner -> NFTs owned\n",
    "# https://docs.alchemy.com/reference/getnfts\n",
    "def getNFTs(owner):\n",
    "    first_page_url = base_url + f\"/getNFTs?owner={owner}&contractAddresses[]={address_collection}&withMetadata=true\"\n",
    "    headers = {\"accept\": \"application/json\"}\n",
    "    response = requests.get(first_page_url, headers=headers)\n",
    "    response_json = response.json()\n",
    "\n",
    "    owner_nfts_all = response_json['ownedNfts']\n",
    "    while len(owner_nfts_all) < response_json['totalCount']:\n",
    "            page_key = response_json['pageKey']\n",
    "            next_page_url = first_page_url + f\"&pageKey={page_key}\"\n",
    "            response = requests.get(next_page_url, headers=headers) # introduces dupes bc of page size being 100, need to dedupe later\n",
    "            response_json=response.json()\n",
    "            owner_nfts_all += response_json['ownedNfts']\n",
    "            print(f\"{len(owner_nfts_all)} / {response_json['totalCount']}\",page_key) # feedback to monitor\n",
    "\n",
    "    return owner_nfts_all # may have dupes -- could dedupe by processing into a dict keyed by tokenId\n",
    "\n",
    "def process_nft_list(nft_list):\n",
    "    nfts_df = pd.DataFrame()\n",
    "    for nft in nft_list:\n",
    "        if 'metadata' in nft.keys():\n",
    "            if 'attributes' in nft['metadata'].keys():\n",
    "                if nft['metadata']['attributes']:\n",
    "                    tmp_df=pd.DataFrame(nft['metadata']['attributes']).set_index('trait_type')\n",
    "                    tmp_df=tmp_df.T.loc[['value']] # transpose for easier formatting\n",
    "                else: tmp_df=pd.DataFrame()\n",
    "            else: tmp_df=pd.DataFrame()\n",
    "        else: tmp_df=pd.DataFrame()\n",
    "\n",
    "        if 'title' in nft.keys(): \n",
    "            tmp_df['title'] = nft['title']\n",
    "        else: tmp_df['title'] = None\n",
    "\n",
    "        if 'id' in nft.keys():\n",
    "            if 'tokenId' in nft['id'].keys():\n",
    "                tmp_df['id'] = nft['id']['tokenId']\n",
    "        else: tmp_df['id'] = None\n",
    "\n",
    "        # if 'owner' in nft.keys():\n",
    "        #     tmp_df['owner']=owner\n",
    "        # else: tmp_df['owner']=owner\n",
    "\n",
    "        nfts_df=nfts_df.append(tmp_df)\n",
    "\n",
    "    nfts_df=nfts_df.drop_duplicates()\n",
    "    return nfts_df\n",
    "\n",
    "# process the list of nfts with metadata and dupes\n",
    "\n",
    "# collection -> NFT info\n",
    "# https://docs.alchemy.com/reference/getnftsforcollection\n",
    "# skipped bc relevant info was returned by getNFTs\n",
    "# # getNFTsForCollection\n",
    "# url = f\"https://eth-mainnet.g.alchemy.com/nft/v2/{apiKey}/getNFTsForCollection?contractAddress={ens_nft_address}&withMetadata=true\"\n",
    "# headers = {\"accept\": \"application/json\"}\n",
    "# response = requests.get(url, headers=headers)\n",
    "\n",
    "# NFT sales\n",
    "# https://docs.alchemy.com/reference/getnftsales\n"
   ]
  },
  {
   "cell_type": "code",
   "execution_count": null,
   "id": "51bd4368-62a6-4711-8c58-31dff2ed0334",
   "metadata": {},
   "outputs": [],
   "source": []
  }
 ],
 "metadata": {
  "kernelspec": {
   "display_name": "Python 3",
   "language": "python",
   "name": "python3"
  },
  "language_info": {
   "codemirror_mode": {
    "name": "ipython",
    "version": 3
   },
   "file_extension": ".py",
   "mimetype": "text/x-python",
   "name": "python",
   "nbconvert_exporter": "python",
   "pygments_lexer": "ipython3",
   "version": "3.8.6"
  }
 },
 "nbformat": 4,
 "nbformat_minor": 5
}
