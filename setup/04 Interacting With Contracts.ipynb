{
 "cells": [
  {
   "cell_type": "markdown",
   "id": "a5197a38-f3bb-496f-a253-9a42d0a20f81",
   "metadata": {},
   "source": [
    "# Interacting With Contracts"
   ]
  },
  {
   "cell_type": "code",
   "execution_count": 13,
   "id": "e1f415d9-b981-4d21-b737-d224563f0e15",
   "metadata": {},
   "outputs": [
    {
     "name": "stdout",
     "output_type": "stream",
     "text": [
      "connected: True\n",
      "address: 0x536A46C01c78df44e05A31eEb6aaFB85cddE20D5\n"
     ]
    }
   ],
   "source": [
    "%run ConectAndAssignAccount.py"
   ]
  },
  {
   "cell_type": "code",
   "execution_count": null,
   "id": "1f9001c3-5c45-41c9-90b1-3e273e468879",
   "metadata": {},
   "outputs": [],
   "source": []
  },
  {
   "cell_type": "code",
   "execution_count": null,
   "id": "0d63be74-ee44-47d2-9a4e-b0895faa5b02",
   "metadata": {},
   "outputs": [],
   "source": []
  }
 ],
 "metadata": {
  "kernelspec": {
   "display_name": "Python 3",
   "language": "python",
   "name": "python3"
  },
  "language_info": {
   "codemirror_mode": {
    "name": "ipython",
    "version": 3
   },
   "file_extension": ".py",
   "mimetype": "text/x-python",
   "name": "python",
   "nbconvert_exporter": "python",
   "pygments_lexer": "ipython3",
   "version": "3.8.6"
  }
 },
 "nbformat": 4,
 "nbformat_minor": 5
}
