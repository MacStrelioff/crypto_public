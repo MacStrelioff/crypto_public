{
 "cells": [
  {
   "cell_type": "markdown",
   "id": "99303aea-96e2-47e3-b747-8c41a604be34",
   "metadata": {},
   "source": [
    "# Connect to a Node"
   ]
  },
  {
   "cell_type": "markdown",
   "id": "83a9fcbf-e2d8-4bc5-88f6-b5fe95b2286b",
   "metadata": {},
   "source": [
    "### Steps to connect to a node provider\n",
    "\n",
    "Preparation:\n",
    "- `pip install web3` to install [web3](https://web3py.readthedocs.io/en/v5/) library\n",
    "- Get an API key from a Node provider, eg [Alchemy](https://alchemy.com/?r=0f039c5c6545b4de)\n",
    "\n",
    "### Steps to store the key as an environment variable\n",
    "\n",
    "Preparation:\n",
    "- `pip install python-dotenv` to install an environment manager library\n",
    "- from the projects parent folder, run\n",
    "    - `touch .gitignore` to create a .gitignore\n",
    "    - `open .gitignore`, and add `.env` so that the .env file will be ignored in commits\n",
    "    - `touch .env` to create .env file\n",
    "    - `open .env` to paste in an assignment of the private key like `PRIVATE_KEY=\"<private key>\"`, where `<private key>` is the value from within `HexBytes(<private key>)` above\n",
    "\n",
    "Resources:\n",
    "- [environment variables](https://www.twilio.com/blog/environment-variables-python)\n",
    "- [.env in .gitignore](https://salferrarello.com/add-env-to-gitignore/)\n",
    "\n"
   ]
  },
  {
   "cell_type": "code",
   "execution_count": 1,
   "id": "6c8b884f-0a9d-405e-b43b-81c90644b389",
   "metadata": {},
   "outputs": [],
   "source": [
    "from web3 import Web3\n",
    "\n",
    "# to get key from environment\n",
    "import os\n",
    "from dotenv import load_dotenv # https://pypi.org/project/python-dotenv/"
   ]
  },
  {
   "cell_type": "code",
   "execution_count": 2,
   "id": "cb54ff48-f0a8-4cc2-b473-fb9096b51c69",
   "metadata": {},
   "outputs": [
    {
     "data": {
      "text/plain": [
       "True"
      ]
     },
     "execution_count": 2,
     "metadata": {},
     "output_type": "execute_result"
    }
   ],
   "source": [
    "# to load environment dictionary\n",
    "load_dotenv('../.env')"
   ]
  },
  {
   "cell_type": "code",
   "execution_count": 3,
   "id": "3543c3da-9cfb-49f8-91a8-5723b3677388",
   "metadata": {},
   "outputs": [],
   "source": [
    "# api key originally from https://dashboard.alchemy.com/\n",
    "apiKey=os.environ['ALCHEMY_KEY'] # gets key from environment, alternatively one could paste their key here\n",
    "alchemy_url = f\"https://eth-mainnet.g.alchemy.com/v2/{apiKey}\""
   ]
  },
  {
   "cell_type": "code",
   "execution_count": 4,
   "id": "a48cd0ad-ba20-4e0c-a39b-9e6e199ff165",
   "metadata": {},
   "outputs": [
    {
     "name": "stdout",
     "output_type": "stream",
     "text": [
      "True\n"
     ]
    }
   ],
   "source": [
    "# connect to an ethereum node through Alchemyy\n",
    "w3 = Web3(Web3.HTTPProvider(alchemy_url))\n",
    "\n",
    "# check connection\n",
    "print(w3.isConnected())"
   ]
  }
 ],
 "metadata": {
  "kernelspec": {
   "display_name": "Python 3",
   "language": "python",
   "name": "python3"
  },
  "language_info": {
   "codemirror_mode": {
    "name": "ipython",
    "version": 3
   },
   "file_extension": ".py",
   "mimetype": "text/x-python",
   "name": "python",
   "nbconvert_exporter": "python",
   "pygments_lexer": "ipython3",
   "version": "3.8.6"
  }
 },
 "nbformat": 4,
 "nbformat_minor": 5
}
