{
 "cells": [
  {
   "cell_type": "code",
   "execution_count": 1,
   "id": "9cb66205-c203-487d-8717-66f79fdbf376",
   "metadata": {},
   "outputs": [],
   "source": [
    "import requests\n",
    "import json\n",
    "from web3 import Web3\n",
    "from web3 import _utils # for error handling\n",
    "\n",
    "import pandas as pd\n",
    "\n",
    "# saving dictionaries and pd dataFrames\n",
    "import pickle\n",
    "def save_obj(obj, name):\n",
    "    with open(name+'.pkl', 'wb') as f:\n",
    "        pickle.dump(obj, f, pickle.HIGHEST_PROTOCOL)\n",
    "def load_obj(name):\n",
    "    with open(name+'.pkl', 'rb') as f:\n",
    "        return pickle.load(f)"
   ]
  },
  {
   "cell_type": "code",
   "execution_count": 2,
   "id": "069f3de3-7257-442a-bf6f-2dfe9cfeef08",
   "metadata": {},
   "outputs": [],
   "source": [
    "# copy api key from https://dashboard.alchemy.com/\n",
    "apiKey=\"\""
   ]
  },
  {
   "cell_type": "markdown",
   "id": "0ef5ccfe-8b67-43d8-9bcb-87e06158d9dc",
   "metadata": {},
   "source": [
    "# Web3 data curation\n",
    "\n",
    "- I used web3 to get payments associated with registration and renewal events, which was used to estimate protocol revenue."
   ]
  },
  {
   "cell_type": "code",
   "execution_count": 3,
   "id": "c1bdb35a-04e7-4bb5-b8b1-8e9ca9ce5f08",
   "metadata": {},
   "outputs": [
    {
     "name": "stdout",
     "output_type": "stream",
     "text": [
      "True\n"
     ]
    }
   ],
   "source": [
    "# connect to an ethereum node\n",
    "alchemy_url = f\"https://eth-mainnet.g.alchemy.com/v2/{apiKey}\"\n",
    "w3 = Web3(Web3.HTTPProvider(alchemy_url))\n",
    "print(w3.isConnected())"
   ]
  },
  {
   "cell_type": "code",
   "execution_count": 4,
   "id": "5f256373-5c1c-40e3-9307-26740d5b4853",
   "metadata": {},
   "outputs": [],
   "source": [
    "# contracts, abis from etherscan\n",
    "ens_nft_address = Web3.toChecksumAddress(\"0x57f1887a8bf19b14fc0df6fd9b2acc9af147ea85\")\n",
    "ens_nft_abi = '[{\"inputs\":[{\"internalType\":\"contract ENS\",\"name\":\"_ens\",\"type\":\"address\"},{\"internalType\":\"bytes32\",\"name\":\"_baseNode\",\"type\":\"bytes32\"}],\"payable\":false,\"stateMutability\":\"nonpayable\",\"type\":\"constructor\"},{\"anonymous\":false,\"inputs\":[{\"indexed\":true,\"internalType\":\"address\",\"name\":\"owner\",\"type\":\"address\"},{\"indexed\":true,\"internalType\":\"address\",\"name\":\"approved\",\"type\":\"address\"},{\"indexed\":true,\"internalType\":\"uint256\",\"name\":\"tokenId\",\"type\":\"uint256\"}],\"name\":\"Approval\",\"type\":\"event\"},{\"anonymous\":false,\"inputs\":[{\"indexed\":true,\"internalType\":\"address\",\"name\":\"owner\",\"type\":\"address\"},{\"indexed\":true,\"internalType\":\"address\",\"name\":\"operator\",\"type\":\"address\"},{\"indexed\":false,\"internalType\":\"bool\",\"name\":\"approved\",\"type\":\"bool\"}],\"name\":\"ApprovalForAll\",\"type\":\"event\"},{\"anonymous\":false,\"inputs\":[{\"indexed\":true,\"internalType\":\"address\",\"name\":\"controller\",\"type\":\"address\"}],\"name\":\"ControllerAdded\",\"type\":\"event\"},{\"anonymous\":false,\"inputs\":[{\"indexed\":true,\"internalType\":\"address\",\"name\":\"controller\",\"type\":\"address\"}],\"name\":\"ControllerRemoved\",\"type\":\"event\"},{\"anonymous\":false,\"inputs\":[{\"indexed\":true,\"internalType\":\"uint256\",\"name\":\"id\",\"type\":\"uint256\"},{\"indexed\":true,\"internalType\":\"address\",\"name\":\"owner\",\"type\":\"address\"},{\"indexed\":false,\"internalType\":\"uint256\",\"name\":\"expires\",\"type\":\"uint256\"}],\"name\":\"NameMigrated\",\"type\":\"event\"},{\"anonymous\":false,\"inputs\":[{\"indexed\":true,\"internalType\":\"uint256\",\"name\":\"id\",\"type\":\"uint256\"},{\"indexed\":true,\"internalType\":\"address\",\"name\":\"owner\",\"type\":\"address\"},{\"indexed\":false,\"internalType\":\"uint256\",\"name\":\"expires\",\"type\":\"uint256\"}],\"name\":\"NameRegistered\",\"type\":\"event\"},{\"anonymous\":false,\"inputs\":[{\"indexed\":true,\"internalType\":\"uint256\",\"name\":\"id\",\"type\":\"uint256\"},{\"indexed\":false,\"internalType\":\"uint256\",\"name\":\"expires\",\"type\":\"uint256\"}],\"name\":\"NameRenewed\",\"type\":\"event\"},{\"anonymous\":false,\"inputs\":[{\"indexed\":true,\"internalType\":\"address\",\"name\":\"previousOwner\",\"type\":\"address\"},{\"indexed\":true,\"internalType\":\"address\",\"name\":\"newOwner\",\"type\":\"address\"}],\"name\":\"OwnershipTransferred\",\"type\":\"event\"},{\"anonymous\":false,\"inputs\":[{\"indexed\":true,\"internalType\":\"address\",\"name\":\"from\",\"type\":\"address\"},{\"indexed\":true,\"internalType\":\"address\",\"name\":\"to\",\"type\":\"address\"},{\"indexed\":true,\"internalType\":\"uint256\",\"name\":\"tokenId\",\"type\":\"uint256\"}],\"name\":\"Transfer\",\"type\":\"event\"},{\"constant\":true,\"inputs\":[],\"name\":\"GRACE_PERIOD\",\"outputs\":[{\"internalType\":\"uint256\",\"name\":\"\",\"type\":\"uint256\"}],\"payable\":false,\"stateMutability\":\"view\",\"type\":\"function\"},{\"constant\":false,\"inputs\":[{\"internalType\":\"address\",\"name\":\"controller\",\"type\":\"address\"}],\"name\":\"addController\",\"outputs\":[],\"payable\":false,\"stateMutability\":\"nonpayable\",\"type\":\"function\"},{\"constant\":false,\"inputs\":[{\"internalType\":\"address\",\"name\":\"to\",\"type\":\"address\"},{\"internalType\":\"uint256\",\"name\":\"tokenId\",\"type\":\"uint256\"}],\"name\":\"approve\",\"outputs\":[],\"payable\":false,\"stateMutability\":\"nonpayable\",\"type\":\"function\"},{\"constant\":true,\"inputs\":[{\"internalType\":\"uint256\",\"name\":\"id\",\"type\":\"uint256\"}],\"name\":\"available\",\"outputs\":[{\"internalType\":\"bool\",\"name\":\"\",\"type\":\"bool\"}],\"payable\":false,\"stateMutability\":\"view\",\"type\":\"function\"},{\"constant\":true,\"inputs\":[{\"internalType\":\"address\",\"name\":\"owner\",\"type\":\"address\"}],\"name\":\"balanceOf\",\"outputs\":[{\"internalType\":\"uint256\",\"name\":\"\",\"type\":\"uint256\"}],\"payable\":false,\"stateMutability\":\"view\",\"type\":\"function\"},{\"constant\":true,\"inputs\":[],\"name\":\"baseNode\",\"outputs\":[{\"internalType\":\"bytes32\",\"name\":\"\",\"type\":\"bytes32\"}],\"payable\":false,\"stateMutability\":\"view\",\"type\":\"function\"},{\"constant\":true,\"inputs\":[{\"internalType\":\"address\",\"name\":\"\",\"type\":\"address\"}],\"name\":\"controllers\",\"outputs\":[{\"internalType\":\"bool\",\"name\":\"\",\"type\":\"bool\"}],\"payable\":false,\"stateMutability\":\"view\",\"type\":\"function\"},{\"constant\":true,\"inputs\":[],\"name\":\"ens\",\"outputs\":[{\"internalType\":\"contract ENS\",\"name\":\"\",\"type\":\"address\"}],\"payable\":false,\"stateMutability\":\"view\",\"type\":\"function\"},{\"constant\":true,\"inputs\":[{\"internalType\":\"uint256\",\"name\":\"tokenId\",\"type\":\"uint256\"}],\"name\":\"getApproved\",\"outputs\":[{\"internalType\":\"address\",\"name\":\"\",\"type\":\"address\"}],\"payable\":false,\"stateMutability\":\"view\",\"type\":\"function\"},{\"constant\":true,\"inputs\":[{\"internalType\":\"address\",\"name\":\"owner\",\"type\":\"address\"},{\"internalType\":\"address\",\"name\":\"operator\",\"type\":\"address\"}],\"name\":\"isApprovedForAll\",\"outputs\":[{\"internalType\":\"bool\",\"name\":\"\",\"type\":\"bool\"}],\"payable\":false,\"stateMutability\":\"view\",\"type\":\"function\"},{\"constant\":true,\"inputs\":[],\"name\":\"isOwner\",\"outputs\":[{\"internalType\":\"bool\",\"name\":\"\",\"type\":\"bool\"}],\"payable\":false,\"stateMutability\":\"view\",\"type\":\"function\"},{\"constant\":true,\"inputs\":[{\"internalType\":\"uint256\",\"name\":\"id\",\"type\":\"uint256\"}],\"name\":\"nameExpires\",\"outputs\":[{\"internalType\":\"uint256\",\"name\":\"\",\"type\":\"uint256\"}],\"payable\":false,\"stateMutability\":\"view\",\"type\":\"function\"},{\"constant\":true,\"inputs\":[],\"name\":\"owner\",\"outputs\":[{\"internalType\":\"address\",\"name\":\"\",\"type\":\"address\"}],\"payable\":false,\"stateMutability\":\"view\",\"type\":\"function\"},{\"constant\":true,\"inputs\":[{\"internalType\":\"uint256\",\"name\":\"tokenId\",\"type\":\"uint256\"}],\"name\":\"ownerOf\",\"outputs\":[{\"internalType\":\"address\",\"name\":\"\",\"type\":\"address\"}],\"payable\":false,\"stateMutability\":\"view\",\"type\":\"function\"},{\"constant\":false,\"inputs\":[{\"internalType\":\"uint256\",\"name\":\"id\",\"type\":\"uint256\"},{\"internalType\":\"address\",\"name\":\"owner\",\"type\":\"address\"}],\"name\":\"reclaim\",\"outputs\":[],\"payable\":false,\"stateMutability\":\"nonpayable\",\"type\":\"function\"},{\"constant\":false,\"inputs\":[{\"internalType\":\"uint256\",\"name\":\"id\",\"type\":\"uint256\"},{\"internalType\":\"address\",\"name\":\"owner\",\"type\":\"address\"},{\"internalType\":\"uint256\",\"name\":\"duration\",\"type\":\"uint256\"}],\"name\":\"register\",\"outputs\":[{\"internalType\":\"uint256\",\"name\":\"\",\"type\":\"uint256\"}],\"payable\":false,\"stateMutability\":\"nonpayable\",\"type\":\"function\"},{\"constant\":false,\"inputs\":[{\"internalType\":\"uint256\",\"name\":\"id\",\"type\":\"uint256\"},{\"internalType\":\"address\",\"name\":\"owner\",\"type\":\"address\"},{\"internalType\":\"uint256\",\"name\":\"duration\",\"type\":\"uint256\"}],\"name\":\"registerOnly\",\"outputs\":[{\"internalType\":\"uint256\",\"name\":\"\",\"type\":\"uint256\"}],\"payable\":false,\"stateMutability\":\"nonpayable\",\"type\":\"function\"},{\"constant\":false,\"inputs\":[{\"internalType\":\"address\",\"name\":\"controller\",\"type\":\"address\"}],\"name\":\"removeController\",\"outputs\":[],\"payable\":false,\"stateMutability\":\"nonpayable\",\"type\":\"function\"},{\"constant\":false,\"inputs\":[{\"internalType\":\"uint256\",\"name\":\"id\",\"type\":\"uint256\"},{\"internalType\":\"uint256\",\"name\":\"duration\",\"type\":\"uint256\"}],\"name\":\"renew\",\"outputs\":[{\"internalType\":\"uint256\",\"name\":\"\",\"type\":\"uint256\"}],\"payable\":false,\"stateMutability\":\"nonpayable\",\"type\":\"function\"},{\"constant\":false,\"inputs\":[],\"name\":\"renounceOwnership\",\"outputs\":[],\"payable\":false,\"stateMutability\":\"nonpayable\",\"type\":\"function\"},{\"constant\":false,\"inputs\":[{\"internalType\":\"address\",\"name\":\"from\",\"type\":\"address\"},{\"internalType\":\"address\",\"name\":\"to\",\"type\":\"address\"},{\"internalType\":\"uint256\",\"name\":\"tokenId\",\"type\":\"uint256\"}],\"name\":\"safeTransferFrom\",\"outputs\":[],\"payable\":false,\"stateMutability\":\"nonpayable\",\"type\":\"function\"},{\"constant\":false,\"inputs\":[{\"internalType\":\"address\",\"name\":\"from\",\"type\":\"address\"},{\"internalType\":\"address\",\"name\":\"to\",\"type\":\"address\"},{\"internalType\":\"uint256\",\"name\":\"tokenId\",\"type\":\"uint256\"},{\"internalType\":\"bytes\",\"name\":\"_data\",\"type\":\"bytes\"}],\"name\":\"safeTransferFrom\",\"outputs\":[],\"payable\":false,\"stateMutability\":\"nonpayable\",\"type\":\"function\"},{\"constant\":false,\"inputs\":[{\"internalType\":\"address\",\"name\":\"to\",\"type\":\"address\"},{\"internalType\":\"bool\",\"name\":\"approved\",\"type\":\"bool\"}],\"name\":\"setApprovalForAll\",\"outputs\":[],\"payable\":false,\"stateMutability\":\"nonpayable\",\"type\":\"function\"},{\"constant\":false,\"inputs\":[{\"internalType\":\"address\",\"name\":\"resolver\",\"type\":\"address\"}],\"name\":\"setResolver\",\"outputs\":[],\"payable\":false,\"stateMutability\":\"nonpayable\",\"type\":\"function\"},{\"constant\":true,\"inputs\":[{\"internalType\":\"bytes4\",\"name\":\"interfaceID\",\"type\":\"bytes4\"}],\"name\":\"supportsInterface\",\"outputs\":[{\"internalType\":\"bool\",\"name\":\"\",\"type\":\"bool\"}],\"payable\":false,\"stateMutability\":\"view\",\"type\":\"function\"},{\"constant\":false,\"inputs\":[{\"internalType\":\"address\",\"name\":\"from\",\"type\":\"address\"},{\"internalType\":\"address\",\"name\":\"to\",\"type\":\"address\"},{\"internalType\":\"uint256\",\"name\":\"tokenId\",\"type\":\"uint256\"}],\"name\":\"transferFrom\",\"outputs\":[],\"payable\":false,\"stateMutability\":\"nonpayable\",\"type\":\"function\"},{\"constant\":false,\"inputs\":[{\"internalType\":\"address\",\"name\":\"newOwner\",\"type\":\"address\"}],\"name\":\"transferOwnership\",\"outputs\":[],\"payable\":false,\"stateMutability\":\"nonpayable\",\"type\":\"function\"}]'\n",
    "\n",
    "ens_token_address = Web3.toChecksumAddress(\"0xc18360217d8f7ab5e7c516566761ea12ce7f9d72\")\n",
    "ens_token_abi = '[{\"inputs\":[{\"internalType\":\"uint256\",\"name\":\"freeSupply\",\"type\":\"uint256\"},{\"internalType\":\"uint256\",\"name\":\"airdropSupply\",\"type\":\"uint256\"},{\"internalType\":\"uint256\",\"name\":\"_claimPeriodEnds\",\"type\":\"uint256\"}],\"stateMutability\":\"nonpayable\",\"type\":\"constructor\"},{\"anonymous\":false,\"inputs\":[{\"indexed\":true,\"internalType\":\"address\",\"name\":\"owner\",\"type\":\"address\"},{\"indexed\":true,\"internalType\":\"address\",\"name\":\"spender\",\"type\":\"address\"},{\"indexed\":false,\"internalType\":\"uint256\",\"name\":\"value\",\"type\":\"uint256\"}],\"name\":\"Approval\",\"type\":\"event\"},{\"anonymous\":false,\"inputs\":[{\"indexed\":true,\"internalType\":\"address\",\"name\":\"claimant\",\"type\":\"address\"},{\"indexed\":false,\"internalType\":\"uint256\",\"name\":\"amount\",\"type\":\"uint256\"}],\"name\":\"Claim\",\"type\":\"event\"},{\"anonymous\":false,\"inputs\":[{\"indexed\":true,\"internalType\":\"address\",\"name\":\"delegator\",\"type\":\"address\"},{\"indexed\":true,\"internalType\":\"address\",\"name\":\"fromDelegate\",\"type\":\"address\"},{\"indexed\":true,\"internalType\":\"address\",\"name\":\"toDelegate\",\"type\":\"address\"}],\"name\":\"DelegateChanged\",\"type\":\"event\"},{\"anonymous\":false,\"inputs\":[{\"indexed\":true,\"internalType\":\"address\",\"name\":\"delegate\",\"type\":\"address\"},{\"indexed\":false,\"internalType\":\"uint256\",\"name\":\"previousBalance\",\"type\":\"uint256\"},{\"indexed\":false,\"internalType\":\"uint256\",\"name\":\"newBalance\",\"type\":\"uint256\"}],\"name\":\"DelegateVotesChanged\",\"type\":\"event\"},{\"anonymous\":false,\"inputs\":[{\"indexed\":false,\"internalType\":\"bytes32\",\"name\":\"merkleRoot\",\"type\":\"bytes32\"}],\"name\":\"MerkleRootChanged\",\"type\":\"event\"},{\"anonymous\":false,\"inputs\":[{\"indexed\":true,\"internalType\":\"address\",\"name\":\"previousOwner\",\"type\":\"address\"},{\"indexed\":true,\"internalType\":\"address\",\"name\":\"newOwner\",\"type\":\"address\"}],\"name\":\"OwnershipTransferred\",\"type\":\"event\"},{\"anonymous\":false,\"inputs\":[{\"indexed\":true,\"internalType\":\"address\",\"name\":\"from\",\"type\":\"address\"},{\"indexed\":true,\"internalType\":\"address\",\"name\":\"to\",\"type\":\"address\"},{\"indexed\":false,\"internalType\":\"uint256\",\"name\":\"value\",\"type\":\"uint256\"}],\"name\":\"Transfer\",\"type\":\"event\"},{\"inputs\":[],\"name\":\"DOMAIN_SEPARATOR\",\"outputs\":[{\"internalType\":\"bytes32\",\"name\":\"\",\"type\":\"bytes32\"}],\"stateMutability\":\"view\",\"type\":\"function\"},{\"inputs\":[{\"internalType\":\"address\",\"name\":\"owner\",\"type\":\"address\"},{\"internalType\":\"address\",\"name\":\"spender\",\"type\":\"address\"}],\"name\":\"allowance\",\"outputs\":[{\"internalType\":\"uint256\",\"name\":\"\",\"type\":\"uint256\"}],\"stateMutability\":\"view\",\"type\":\"function\"},{\"inputs\":[{\"internalType\":\"address\",\"name\":\"spender\",\"type\":\"address\"},{\"internalType\":\"uint256\",\"name\":\"amount\",\"type\":\"uint256\"}],\"name\":\"approve\",\"outputs\":[{\"internalType\":\"bool\",\"name\":\"\",\"type\":\"bool\"}],\"stateMutability\":\"nonpayable\",\"type\":\"function\"},{\"inputs\":[{\"internalType\":\"address\",\"name\":\"account\",\"type\":\"address\"}],\"name\":\"balanceOf\",\"outputs\":[{\"internalType\":\"uint256\",\"name\":\"\",\"type\":\"uint256\"}],\"stateMutability\":\"view\",\"type\":\"function\"},{\"inputs\":[{\"internalType\":\"address\",\"name\":\"account\",\"type\":\"address\"},{\"internalType\":\"uint32\",\"name\":\"pos\",\"type\":\"uint32\"}],\"name\":\"checkpoints\",\"outputs\":[{\"components\":[{\"internalType\":\"uint32\",\"name\":\"fromBlock\",\"type\":\"uint32\"},{\"internalType\":\"uint224\",\"name\":\"votes\",\"type\":\"uint224\"}],\"internalType\":\"struct ERC20Votes.Checkpoint\",\"name\":\"\",\"type\":\"tuple\"}],\"stateMutability\":\"view\",\"type\":\"function\"},{\"inputs\":[],\"name\":\"claimPeriodEnds\",\"outputs\":[{\"internalType\":\"uint256\",\"name\":\"\",\"type\":\"uint256\"}],\"stateMutability\":\"view\",\"type\":\"function\"},{\"inputs\":[{\"internalType\":\"uint256\",\"name\":\"amount\",\"type\":\"uint256\"},{\"internalType\":\"address\",\"name\":\"delegate\",\"type\":\"address\"},{\"internalType\":\"bytes32[]\",\"name\":\"merkleProof\",\"type\":\"bytes32[]\"}],\"name\":\"claimTokens\",\"outputs\":[],\"stateMutability\":\"nonpayable\",\"type\":\"function\"},{\"inputs\":[],\"name\":\"decimals\",\"outputs\":[{\"internalType\":\"uint8\",\"name\":\"\",\"type\":\"uint8\"}],\"stateMutability\":\"view\",\"type\":\"function\"},{\"inputs\":[{\"internalType\":\"address\",\"name\":\"spender\",\"type\":\"address\"},{\"internalType\":\"uint256\",\"name\":\"subtractedValue\",\"type\":\"uint256\"}],\"name\":\"decreaseAllowance\",\"outputs\":[{\"internalType\":\"bool\",\"name\":\"\",\"type\":\"bool\"}],\"stateMutability\":\"nonpayable\",\"type\":\"function\"},{\"inputs\":[{\"internalType\":\"address\",\"name\":\"delegatee\",\"type\":\"address\"}],\"name\":\"delegate\",\"outputs\":[],\"stateMutability\":\"nonpayable\",\"type\":\"function\"},{\"inputs\":[{\"internalType\":\"address\",\"name\":\"delegatee\",\"type\":\"address\"},{\"internalType\":\"uint256\",\"name\":\"nonce\",\"type\":\"uint256\"},{\"internalType\":\"uint256\",\"name\":\"expiry\",\"type\":\"uint256\"},{\"internalType\":\"uint8\",\"name\":\"v\",\"type\":\"uint8\"},{\"internalType\":\"bytes32\",\"name\":\"r\",\"type\":\"bytes32\"},{\"internalType\":\"bytes32\",\"name\":\"s\",\"type\":\"bytes32\"}],\"name\":\"delegateBySig\",\"outputs\":[],\"stateMutability\":\"nonpayable\",\"type\":\"function\"},{\"inputs\":[{\"internalType\":\"address\",\"name\":\"account\",\"type\":\"address\"}],\"name\":\"delegates\",\"outputs\":[{\"internalType\":\"address\",\"name\":\"\",\"type\":\"address\"}],\"stateMutability\":\"view\",\"type\":\"function\"},{\"inputs\":[{\"internalType\":\"uint256\",\"name\":\"blockNumber\",\"type\":\"uint256\"}],\"name\":\"getPastTotalSupply\",\"outputs\":[{\"internalType\":\"uint256\",\"name\":\"\",\"type\":\"uint256\"}],\"stateMutability\":\"view\",\"type\":\"function\"},{\"inputs\":[{\"internalType\":\"address\",\"name\":\"account\",\"type\":\"address\"},{\"internalType\":\"uint256\",\"name\":\"blockNumber\",\"type\":\"uint256\"}],\"name\":\"getPastVotes\",\"outputs\":[{\"internalType\":\"uint256\",\"name\":\"\",\"type\":\"uint256\"}],\"stateMutability\":\"view\",\"type\":\"function\"},{\"inputs\":[{\"internalType\":\"address\",\"name\":\"account\",\"type\":\"address\"}],\"name\":\"getVotes\",\"outputs\":[{\"internalType\":\"uint256\",\"name\":\"\",\"type\":\"uint256\"}],\"stateMutability\":\"view\",\"type\":\"function\"},{\"inputs\":[{\"internalType\":\"address\",\"name\":\"spender\",\"type\":\"address\"},{\"internalType\":\"uint256\",\"name\":\"addedValue\",\"type\":\"uint256\"}],\"name\":\"increaseAllowance\",\"outputs\":[{\"internalType\":\"bool\",\"name\":\"\",\"type\":\"bool\"}],\"stateMutability\":\"nonpayable\",\"type\":\"function\"},{\"inputs\":[{\"internalType\":\"uint256\",\"name\":\"index\",\"type\":\"uint256\"}],\"name\":\"isClaimed\",\"outputs\":[{\"internalType\":\"bool\",\"name\":\"\",\"type\":\"bool\"}],\"stateMutability\":\"view\",\"type\":\"function\"},{\"inputs\":[],\"name\":\"merkleRoot\",\"outputs\":[{\"internalType\":\"bytes32\",\"name\":\"\",\"type\":\"bytes32\"}],\"stateMutability\":\"view\",\"type\":\"function\"},{\"inputs\":[],\"name\":\"minimumMintInterval\",\"outputs\":[{\"internalType\":\"uint256\",\"name\":\"\",\"type\":\"uint256\"}],\"stateMutability\":\"view\",\"type\":\"function\"},{\"inputs\":[{\"internalType\":\"address\",\"name\":\"dest\",\"type\":\"address\"},{\"internalType\":\"uint256\",\"name\":\"amount\",\"type\":\"uint256\"}],\"name\":\"mint\",\"outputs\":[],\"stateMutability\":\"nonpayable\",\"type\":\"function\"},{\"inputs\":[],\"name\":\"mintCap\",\"outputs\":[{\"internalType\":\"uint256\",\"name\":\"\",\"type\":\"uint256\"}],\"stateMutability\":\"view\",\"type\":\"function\"},{\"inputs\":[],\"name\":\"name\",\"outputs\":[{\"internalType\":\"string\",\"name\":\"\",\"type\":\"string\"}],\"stateMutability\":\"view\",\"type\":\"function\"},{\"inputs\":[],\"name\":\"nextMint\",\"outputs\":[{\"internalType\":\"uint256\",\"name\":\"\",\"type\":\"uint256\"}],\"stateMutability\":\"view\",\"type\":\"function\"},{\"inputs\":[{\"internalType\":\"address\",\"name\":\"owner\",\"type\":\"address\"}],\"name\":\"nonces\",\"outputs\":[{\"internalType\":\"uint256\",\"name\":\"\",\"type\":\"uint256\"}],\"stateMutability\":\"view\",\"type\":\"function\"},{\"inputs\":[{\"internalType\":\"address\",\"name\":\"account\",\"type\":\"address\"}],\"name\":\"numCheckpoints\",\"outputs\":[{\"internalType\":\"uint32\",\"name\":\"\",\"type\":\"uint32\"}],\"stateMutability\":\"view\",\"type\":\"function\"},{\"inputs\":[],\"name\":\"owner\",\"outputs\":[{\"internalType\":\"address\",\"name\":\"\",\"type\":\"address\"}],\"stateMutability\":\"view\",\"type\":\"function\"},{\"inputs\":[{\"internalType\":\"address\",\"name\":\"owner\",\"type\":\"address\"},{\"internalType\":\"address\",\"name\":\"spender\",\"type\":\"address\"},{\"internalType\":\"uint256\",\"name\":\"value\",\"type\":\"uint256\"},{\"internalType\":\"uint256\",\"name\":\"deadline\",\"type\":\"uint256\"},{\"internalType\":\"uint8\",\"name\":\"v\",\"type\":\"uint8\"},{\"internalType\":\"bytes32\",\"name\":\"r\",\"type\":\"bytes32\"},{\"internalType\":\"bytes32\",\"name\":\"s\",\"type\":\"bytes32\"}],\"name\":\"permit\",\"outputs\":[],\"stateMutability\":\"nonpayable\",\"type\":\"function\"},{\"inputs\":[],\"name\":\"renounceOwnership\",\"outputs\":[],\"stateMutability\":\"nonpayable\",\"type\":\"function\"},{\"inputs\":[{\"internalType\":\"bytes32\",\"name\":\"_merkleRoot\",\"type\":\"bytes32\"}],\"name\":\"setMerkleRoot\",\"outputs\":[],\"stateMutability\":\"nonpayable\",\"type\":\"function\"},{\"inputs\":[{\"internalType\":\"address\",\"name\":\"dest\",\"type\":\"address\"}],\"name\":\"sweep\",\"outputs\":[],\"stateMutability\":\"nonpayable\",\"type\":\"function\"},{\"inputs\":[],\"name\":\"symbol\",\"outputs\":[{\"internalType\":\"string\",\"name\":\"\",\"type\":\"string\"}],\"stateMutability\":\"view\",\"type\":\"function\"},{\"inputs\":[],\"name\":\"totalSupply\",\"outputs\":[{\"internalType\":\"uint256\",\"name\":\"\",\"type\":\"uint256\"}],\"stateMutability\":\"view\",\"type\":\"function\"},{\"inputs\":[{\"internalType\":\"address\",\"name\":\"recipient\",\"type\":\"address\"},{\"internalType\":\"uint256\",\"name\":\"amount\",\"type\":\"uint256\"}],\"name\":\"transfer\",\"outputs\":[{\"internalType\":\"bool\",\"name\":\"\",\"type\":\"bool\"}],\"stateMutability\":\"nonpayable\",\"type\":\"function\"},{\"inputs\":[{\"internalType\":\"address\",\"name\":\"sender\",\"type\":\"address\"},{\"internalType\":\"address\",\"name\":\"recipient\",\"type\":\"address\"},{\"internalType\":\"uint256\",\"name\":\"amount\",\"type\":\"uint256\"}],\"name\":\"transferFrom\",\"outputs\":[{\"internalType\":\"bool\",\"name\":\"\",\"type\":\"bool\"}],\"stateMutability\":\"nonpayable\",\"type\":\"function\"},{\"inputs\":[{\"internalType\":\"address\",\"name\":\"newOwner\",\"type\":\"address\"}],\"name\":\"transferOwnership\",\"outputs\":[],\"stateMutability\":\"nonpayable\",\"type\":\"function\"}]'\n",
    "\n",
    "ens_dao_treasury_address =  Web3.toChecksumAddress(\"0xfe89cc7abb2c4183683ab71653c4cdc9b02d44b7\")\n",
    "ens_dao_treasury_abi = '[{\"inputs\":[{\"internalType\":\"uint256\",\"name\":\"minDelay\",\"type\":\"uint256\"},{\"internalType\":\"address[]\",\"name\":\"proposers\",\"type\":\"address[]\"},{\"internalType\":\"address[]\",\"name\":\"executors\",\"type\":\"address[]\"}],\"stateMutability\":\"nonpayable\",\"type\":\"constructor\"},{\"anonymous\":false,\"inputs\":[{\"indexed\":true,\"internalType\":\"bytes32\",\"name\":\"id\",\"type\":\"bytes32\"},{\"indexed\":true,\"internalType\":\"uint256\",\"name\":\"index\",\"type\":\"uint256\"},{\"indexed\":false,\"internalType\":\"address\",\"name\":\"target\",\"type\":\"address\"},{\"indexed\":false,\"internalType\":\"uint256\",\"name\":\"value\",\"type\":\"uint256\"},{\"indexed\":false,\"internalType\":\"bytes\",\"name\":\"data\",\"type\":\"bytes\"}],\"name\":\"CallExecuted\",\"type\":\"event\"},{\"anonymous\":false,\"inputs\":[{\"indexed\":true,\"internalType\":\"bytes32\",\"name\":\"id\",\"type\":\"bytes32\"},{\"indexed\":true,\"internalType\":\"uint256\",\"name\":\"index\",\"type\":\"uint256\"},{\"indexed\":false,\"internalType\":\"address\",\"name\":\"target\",\"type\":\"address\"},{\"indexed\":false,\"internalType\":\"uint256\",\"name\":\"value\",\"type\":\"uint256\"},{\"indexed\":false,\"internalType\":\"bytes\",\"name\":\"data\",\"type\":\"bytes\"},{\"indexed\":false,\"internalType\":\"bytes32\",\"name\":\"predecessor\",\"type\":\"bytes32\"},{\"indexed\":false,\"internalType\":\"uint256\",\"name\":\"delay\",\"type\":\"uint256\"}],\"name\":\"CallScheduled\",\"type\":\"event\"},{\"anonymous\":false,\"inputs\":[{\"indexed\":true,\"internalType\":\"bytes32\",\"name\":\"id\",\"type\":\"bytes32\"}],\"name\":\"Cancelled\",\"type\":\"event\"},{\"anonymous\":false,\"inputs\":[{\"indexed\":false,\"internalType\":\"uint256\",\"name\":\"oldDuration\",\"type\":\"uint256\"},{\"indexed\":false,\"internalType\":\"uint256\",\"name\":\"newDuration\",\"type\":\"uint256\"}],\"name\":\"MinDelayChange\",\"type\":\"event\"},{\"anonymous\":false,\"inputs\":[{\"indexed\":true,\"internalType\":\"bytes32\",\"name\":\"role\",\"type\":\"bytes32\"},{\"indexed\":true,\"internalType\":\"bytes32\",\"name\":\"previousAdminRole\",\"type\":\"bytes32\"},{\"indexed\":true,\"internalType\":\"bytes32\",\"name\":\"newAdminRole\",\"type\":\"bytes32\"}],\"name\":\"RoleAdminChanged\",\"type\":\"event\"},{\"anonymous\":false,\"inputs\":[{\"indexed\":true,\"internalType\":\"bytes32\",\"name\":\"role\",\"type\":\"bytes32\"},{\"indexed\":true,\"internalType\":\"address\",\"name\":\"account\",\"type\":\"address\"},{\"indexed\":true,\"internalType\":\"address\",\"name\":\"sender\",\"type\":\"address\"}],\"name\":\"RoleGranted\",\"type\":\"event\"},{\"anonymous\":false,\"inputs\":[{\"indexed\":true,\"internalType\":\"bytes32\",\"name\":\"role\",\"type\":\"bytes32\"},{\"indexed\":true,\"internalType\":\"address\",\"name\":\"account\",\"type\":\"address\"},{\"indexed\":true,\"internalType\":\"address\",\"name\":\"sender\",\"type\":\"address\"}],\"name\":\"RoleRevoked\",\"type\":\"event\"},{\"inputs\":[],\"name\":\"DEFAULT_ADMIN_ROLE\",\"outputs\":[{\"internalType\":\"bytes32\",\"name\":\"\",\"type\":\"bytes32\"}],\"stateMutability\":\"view\",\"type\":\"function\"},{\"inputs\":[],\"name\":\"EXECUTOR_ROLE\",\"outputs\":[{\"internalType\":\"bytes32\",\"name\":\"\",\"type\":\"bytes32\"}],\"stateMutability\":\"view\",\"type\":\"function\"},{\"inputs\":[],\"name\":\"PROPOSER_ROLE\",\"outputs\":[{\"internalType\":\"bytes32\",\"name\":\"\",\"type\":\"bytes32\"}],\"stateMutability\":\"view\",\"type\":\"function\"},{\"inputs\":[],\"name\":\"TIMELOCK_ADMIN_ROLE\",\"outputs\":[{\"internalType\":\"bytes32\",\"name\":\"\",\"type\":\"bytes32\"}],\"stateMutability\":\"view\",\"type\":\"function\"},{\"inputs\":[{\"internalType\":\"bytes32\",\"name\":\"id\",\"type\":\"bytes32\"}],\"name\":\"cancel\",\"outputs\":[],\"stateMutability\":\"nonpayable\",\"type\":\"function\"},{\"inputs\":[{\"internalType\":\"address\",\"name\":\"target\",\"type\":\"address\"},{\"internalType\":\"uint256\",\"name\":\"value\",\"type\":\"uint256\"},{\"internalType\":\"bytes\",\"name\":\"data\",\"type\":\"bytes\"},{\"internalType\":\"bytes32\",\"name\":\"predecessor\",\"type\":\"bytes32\"},{\"internalType\":\"bytes32\",\"name\":\"salt\",\"type\":\"bytes32\"}],\"name\":\"execute\",\"outputs\":[],\"stateMutability\":\"payable\",\"type\":\"function\"},{\"inputs\":[{\"internalType\":\"address[]\",\"name\":\"targets\",\"type\":\"address[]\"},{\"internalType\":\"uint256[]\",\"name\":\"values\",\"type\":\"uint256[]\"},{\"internalType\":\"bytes[]\",\"name\":\"datas\",\"type\":\"bytes[]\"},{\"internalType\":\"bytes32\",\"name\":\"predecessor\",\"type\":\"bytes32\"},{\"internalType\":\"bytes32\",\"name\":\"salt\",\"type\":\"bytes32\"}],\"name\":\"executeBatch\",\"outputs\":[],\"stateMutability\":\"payable\",\"type\":\"function\"},{\"inputs\":[],\"name\":\"getMinDelay\",\"outputs\":[{\"internalType\":\"uint256\",\"name\":\"duration\",\"type\":\"uint256\"}],\"stateMutability\":\"view\",\"type\":\"function\"},{\"inputs\":[{\"internalType\":\"bytes32\",\"name\":\"role\",\"type\":\"bytes32\"}],\"name\":\"getRoleAdmin\",\"outputs\":[{\"internalType\":\"bytes32\",\"name\":\"\",\"type\":\"bytes32\"}],\"stateMutability\":\"view\",\"type\":\"function\"},{\"inputs\":[{\"internalType\":\"bytes32\",\"name\":\"id\",\"type\":\"bytes32\"}],\"name\":\"getTimestamp\",\"outputs\":[{\"internalType\":\"uint256\",\"name\":\"timestamp\",\"type\":\"uint256\"}],\"stateMutability\":\"view\",\"type\":\"function\"},{\"inputs\":[{\"internalType\":\"bytes32\",\"name\":\"role\",\"type\":\"bytes32\"},{\"internalType\":\"address\",\"name\":\"account\",\"type\":\"address\"}],\"name\":\"grantRole\",\"outputs\":[],\"stateMutability\":\"nonpayable\",\"type\":\"function\"},{\"inputs\":[{\"internalType\":\"bytes32\",\"name\":\"role\",\"type\":\"bytes32\"},{\"internalType\":\"address\",\"name\":\"account\",\"type\":\"address\"}],\"name\":\"hasRole\",\"outputs\":[{\"internalType\":\"bool\",\"name\":\"\",\"type\":\"bool\"}],\"stateMutability\":\"view\",\"type\":\"function\"},{\"inputs\":[{\"internalType\":\"address\",\"name\":\"target\",\"type\":\"address\"},{\"internalType\":\"uint256\",\"name\":\"value\",\"type\":\"uint256\"},{\"internalType\":\"bytes\",\"name\":\"data\",\"type\":\"bytes\"},{\"internalType\":\"bytes32\",\"name\":\"predecessor\",\"type\":\"bytes32\"},{\"internalType\":\"bytes32\",\"name\":\"salt\",\"type\":\"bytes32\"}],\"name\":\"hashOperation\",\"outputs\":[{\"internalType\":\"bytes32\",\"name\":\"hash\",\"type\":\"bytes32\"}],\"stateMutability\":\"pure\",\"type\":\"function\"},{\"inputs\":[{\"internalType\":\"address[]\",\"name\":\"targets\",\"type\":\"address[]\"},{\"internalType\":\"uint256[]\",\"name\":\"values\",\"type\":\"uint256[]\"},{\"internalType\":\"bytes[]\",\"name\":\"datas\",\"type\":\"bytes[]\"},{\"internalType\":\"bytes32\",\"name\":\"predecessor\",\"type\":\"bytes32\"},{\"internalType\":\"bytes32\",\"name\":\"salt\",\"type\":\"bytes32\"}],\"name\":\"hashOperationBatch\",\"outputs\":[{\"internalType\":\"bytes32\",\"name\":\"hash\",\"type\":\"bytes32\"}],\"stateMutability\":\"pure\",\"type\":\"function\"},{\"inputs\":[{\"internalType\":\"bytes32\",\"name\":\"id\",\"type\":\"bytes32\"}],\"name\":\"isOperation\",\"outputs\":[{\"internalType\":\"bool\",\"name\":\"pending\",\"type\":\"bool\"}],\"stateMutability\":\"view\",\"type\":\"function\"},{\"inputs\":[{\"internalType\":\"bytes32\",\"name\":\"id\",\"type\":\"bytes32\"}],\"name\":\"isOperationDone\",\"outputs\":[{\"internalType\":\"bool\",\"name\":\"done\",\"type\":\"bool\"}],\"stateMutability\":\"view\",\"type\":\"function\"},{\"inputs\":[{\"internalType\":\"bytes32\",\"name\":\"id\",\"type\":\"bytes32\"}],\"name\":\"isOperationPending\",\"outputs\":[{\"internalType\":\"bool\",\"name\":\"pending\",\"type\":\"bool\"}],\"stateMutability\":\"view\",\"type\":\"function\"},{\"inputs\":[{\"internalType\":\"bytes32\",\"name\":\"id\",\"type\":\"bytes32\"}],\"name\":\"isOperationReady\",\"outputs\":[{\"internalType\":\"bool\",\"name\":\"ready\",\"type\":\"bool\"}],\"stateMutability\":\"view\",\"type\":\"function\"},{\"inputs\":[{\"internalType\":\"bytes32\",\"name\":\"role\",\"type\":\"bytes32\"},{\"internalType\":\"address\",\"name\":\"account\",\"type\":\"address\"}],\"name\":\"renounceRole\",\"outputs\":[],\"stateMutability\":\"nonpayable\",\"type\":\"function\"},{\"inputs\":[{\"internalType\":\"bytes32\",\"name\":\"role\",\"type\":\"bytes32\"},{\"internalType\":\"address\",\"name\":\"account\",\"type\":\"address\"}],\"name\":\"revokeRole\",\"outputs\":[],\"stateMutability\":\"nonpayable\",\"type\":\"function\"},{\"inputs\":[{\"internalType\":\"address\",\"name\":\"target\",\"type\":\"address\"},{\"internalType\":\"uint256\",\"name\":\"value\",\"type\":\"uint256\"},{\"internalType\":\"bytes\",\"name\":\"data\",\"type\":\"bytes\"},{\"internalType\":\"bytes32\",\"name\":\"predecessor\",\"type\":\"bytes32\"},{\"internalType\":\"bytes32\",\"name\":\"salt\",\"type\":\"bytes32\"},{\"internalType\":\"uint256\",\"name\":\"delay\",\"type\":\"uint256\"}],\"name\":\"schedule\",\"outputs\":[],\"stateMutability\":\"nonpayable\",\"type\":\"function\"},{\"inputs\":[{\"internalType\":\"address[]\",\"name\":\"targets\",\"type\":\"address[]\"},{\"internalType\":\"uint256[]\",\"name\":\"values\",\"type\":\"uint256[]\"},{\"internalType\":\"bytes[]\",\"name\":\"datas\",\"type\":\"bytes[]\"},{\"internalType\":\"bytes32\",\"name\":\"predecessor\",\"type\":\"bytes32\"},{\"internalType\":\"bytes32\",\"name\":\"salt\",\"type\":\"bytes32\"},{\"internalType\":\"uint256\",\"name\":\"delay\",\"type\":\"uint256\"}],\"name\":\"scheduleBatch\",\"outputs\":[],\"stateMutability\":\"nonpayable\",\"type\":\"function\"},{\"inputs\":[{\"internalType\":\"bytes4\",\"name\":\"interfaceId\",\"type\":\"bytes4\"}],\"name\":\"supportsInterface\",\"outputs\":[{\"internalType\":\"bool\",\"name\":\"\",\"type\":\"bool\"}],\"stateMutability\":\"view\",\"type\":\"function\"},{\"inputs\":[{\"internalType\":\"uint256\",\"name\":\"newDelay\",\"type\":\"uint256\"}],\"name\":\"updateDelay\",\"outputs\":[],\"stateMutability\":\"nonpayable\",\"type\":\"function\"},{\"stateMutability\":\"payable\",\"type\":\"receive\"}]'\n",
    "\n",
    "ens_registrar_address = Web3.toChecksumAddress(\"0x283af0b28c62c092c9727f1ee09c02ca627eb7f5\")\n",
    "ens_registrar_abi = '[{\"inputs\":[{\"internalType\":\"contract BaseRegistrar\",\"name\":\"_base\",\"type\":\"address\"},{\"internalType\":\"contract PriceOracle\",\"name\":\"_prices\",\"type\":\"address\"},{\"internalType\":\"uint256\",\"name\":\"_minCommitmentAge\",\"type\":\"uint256\"},{\"internalType\":\"uint256\",\"name\":\"_maxCommitmentAge\",\"type\":\"uint256\"}],\"payable\":false,\"stateMutability\":\"nonpayable\",\"type\":\"constructor\"},{\"anonymous\":false,\"inputs\":[{\"indexed\":false,\"internalType\":\"string\",\"name\":\"name\",\"type\":\"string\"},{\"indexed\":true,\"internalType\":\"bytes32\",\"name\":\"label\",\"type\":\"bytes32\"},{\"indexed\":true,\"internalType\":\"address\",\"name\":\"owner\",\"type\":\"address\"},{\"indexed\":false,\"internalType\":\"uint256\",\"name\":\"cost\",\"type\":\"uint256\"},{\"indexed\":false,\"internalType\":\"uint256\",\"name\":\"expires\",\"type\":\"uint256\"}],\"name\":\"NameRegistered\",\"type\":\"event\"},{\"anonymous\":false,\"inputs\":[{\"indexed\":false,\"internalType\":\"string\",\"name\":\"name\",\"type\":\"string\"},{\"indexed\":true,\"internalType\":\"bytes32\",\"name\":\"label\",\"type\":\"bytes32\"},{\"indexed\":false,\"internalType\":\"uint256\",\"name\":\"cost\",\"type\":\"uint256\"},{\"indexed\":false,\"internalType\":\"uint256\",\"name\":\"expires\",\"type\":\"uint256\"}],\"name\":\"NameRenewed\",\"type\":\"event\"},{\"anonymous\":false,\"inputs\":[{\"indexed\":true,\"internalType\":\"address\",\"name\":\"oracle\",\"type\":\"address\"}],\"name\":\"NewPriceOracle\",\"type\":\"event\"},{\"anonymous\":false,\"inputs\":[{\"indexed\":true,\"internalType\":\"address\",\"name\":\"previousOwner\",\"type\":\"address\"},{\"indexed\":true,\"internalType\":\"address\",\"name\":\"newOwner\",\"type\":\"address\"}],\"name\":\"OwnershipTransferred\",\"type\":\"event\"},{\"constant\":true,\"inputs\":[],\"name\":\"MIN_REGISTRATION_DURATION\",\"outputs\":[{\"internalType\":\"uint256\",\"name\":\"\",\"type\":\"uint256\"}],\"payable\":false,\"stateMutability\":\"view\",\"type\":\"function\"},{\"constant\":true,\"inputs\":[{\"internalType\":\"string\",\"name\":\"name\",\"type\":\"string\"}],\"name\":\"available\",\"outputs\":[{\"internalType\":\"bool\",\"name\":\"\",\"type\":\"bool\"}],\"payable\":false,\"stateMutability\":\"view\",\"type\":\"function\"},{\"constant\":false,\"inputs\":[{\"internalType\":\"bytes32\",\"name\":\"commitment\",\"type\":\"bytes32\"}],\"name\":\"commit\",\"outputs\":[],\"payable\":false,\"stateMutability\":\"nonpayable\",\"type\":\"function\"},{\"constant\":true,\"inputs\":[{\"internalType\":\"bytes32\",\"name\":\"\",\"type\":\"bytes32\"}],\"name\":\"commitments\",\"outputs\":[{\"internalType\":\"uint256\",\"name\":\"\",\"type\":\"uint256\"}],\"payable\":false,\"stateMutability\":\"view\",\"type\":\"function\"},{\"constant\":true,\"inputs\":[],\"name\":\"isOwner\",\"outputs\":[{\"internalType\":\"bool\",\"name\":\"\",\"type\":\"bool\"}],\"payable\":false,\"stateMutability\":\"view\",\"type\":\"function\"},{\"constant\":true,\"inputs\":[{\"internalType\":\"string\",\"name\":\"name\",\"type\":\"string\"},{\"internalType\":\"address\",\"name\":\"owner\",\"type\":\"address\"},{\"internalType\":\"bytes32\",\"name\":\"secret\",\"type\":\"bytes32\"}],\"name\":\"makeCommitment\",\"outputs\":[{\"internalType\":\"bytes32\",\"name\":\"\",\"type\":\"bytes32\"}],\"payable\":false,\"stateMutability\":\"pure\",\"type\":\"function\"},{\"constant\":true,\"inputs\":[{\"internalType\":\"string\",\"name\":\"name\",\"type\":\"string\"},{\"internalType\":\"address\",\"name\":\"owner\",\"type\":\"address\"},{\"internalType\":\"bytes32\",\"name\":\"secret\",\"type\":\"bytes32\"},{\"internalType\":\"address\",\"name\":\"resolver\",\"type\":\"address\"},{\"internalType\":\"address\",\"name\":\"addr\",\"type\":\"address\"}],\"name\":\"makeCommitmentWithConfig\",\"outputs\":[{\"internalType\":\"bytes32\",\"name\":\"\",\"type\":\"bytes32\"}],\"payable\":false,\"stateMutability\":\"pure\",\"type\":\"function\"},{\"constant\":true,\"inputs\":[],\"name\":\"maxCommitmentAge\",\"outputs\":[{\"internalType\":\"uint256\",\"name\":\"\",\"type\":\"uint256\"}],\"payable\":false,\"stateMutability\":\"view\",\"type\":\"function\"},{\"constant\":true,\"inputs\":[],\"name\":\"minCommitmentAge\",\"outputs\":[{\"internalType\":\"uint256\",\"name\":\"\",\"type\":\"uint256\"}],\"payable\":false,\"stateMutability\":\"view\",\"type\":\"function\"},{\"constant\":true,\"inputs\":[],\"name\":\"owner\",\"outputs\":[{\"internalType\":\"address\",\"name\":\"\",\"type\":\"address\"}],\"payable\":false,\"stateMutability\":\"view\",\"type\":\"function\"},{\"constant\":false,\"inputs\":[{\"internalType\":\"string\",\"name\":\"name\",\"type\":\"string\"},{\"internalType\":\"address\",\"name\":\"owner\",\"type\":\"address\"},{\"internalType\":\"uint256\",\"name\":\"duration\",\"type\":\"uint256\"},{\"internalType\":\"bytes32\",\"name\":\"secret\",\"type\":\"bytes32\"}],\"name\":\"register\",\"outputs\":[],\"payable\":true,\"stateMutability\":\"payable\",\"type\":\"function\"},{\"constant\":false,\"inputs\":[{\"internalType\":\"string\",\"name\":\"name\",\"type\":\"string\"},{\"internalType\":\"address\",\"name\":\"owner\",\"type\":\"address\"},{\"internalType\":\"uint256\",\"name\":\"duration\",\"type\":\"uint256\"},{\"internalType\":\"bytes32\",\"name\":\"secret\",\"type\":\"bytes32\"},{\"internalType\":\"address\",\"name\":\"resolver\",\"type\":\"address\"},{\"internalType\":\"address\",\"name\":\"addr\",\"type\":\"address\"}],\"name\":\"registerWithConfig\",\"outputs\":[],\"payable\":true,\"stateMutability\":\"payable\",\"type\":\"function\"},{\"constant\":false,\"inputs\":[{\"internalType\":\"string\",\"name\":\"name\",\"type\":\"string\"},{\"internalType\":\"uint256\",\"name\":\"duration\",\"type\":\"uint256\"}],\"name\":\"renew\",\"outputs\":[],\"payable\":true,\"stateMutability\":\"payable\",\"type\":\"function\"},{\"constant\":false,\"inputs\":[],\"name\":\"renounceOwnership\",\"outputs\":[],\"payable\":false,\"stateMutability\":\"nonpayable\",\"type\":\"function\"},{\"constant\":true,\"inputs\":[{\"internalType\":\"string\",\"name\":\"name\",\"type\":\"string\"},{\"internalType\":\"uint256\",\"name\":\"duration\",\"type\":\"uint256\"}],\"name\":\"rentPrice\",\"outputs\":[{\"internalType\":\"uint256\",\"name\":\"\",\"type\":\"uint256\"}],\"payable\":false,\"stateMutability\":\"view\",\"type\":\"function\"},{\"constant\":false,\"inputs\":[{\"internalType\":\"uint256\",\"name\":\"_minCommitmentAge\",\"type\":\"uint256\"},{\"internalType\":\"uint256\",\"name\":\"_maxCommitmentAge\",\"type\":\"uint256\"}],\"name\":\"setCommitmentAges\",\"outputs\":[],\"payable\":false,\"stateMutability\":\"nonpayable\",\"type\":\"function\"},{\"constant\":false,\"inputs\":[{\"internalType\":\"contract PriceOracle\",\"name\":\"_prices\",\"type\":\"address\"}],\"name\":\"setPriceOracle\",\"outputs\":[],\"payable\":false,\"stateMutability\":\"nonpayable\",\"type\":\"function\"},{\"constant\":true,\"inputs\":[{\"internalType\":\"bytes4\",\"name\":\"interfaceID\",\"type\":\"bytes4\"}],\"name\":\"supportsInterface\",\"outputs\":[{\"internalType\":\"bool\",\"name\":\"\",\"type\":\"bool\"}],\"payable\":false,\"stateMutability\":\"pure\",\"type\":\"function\"},{\"constant\":false,\"inputs\":[{\"internalType\":\"address\",\"name\":\"newOwner\",\"type\":\"address\"}],\"name\":\"transferOwnership\",\"outputs\":[],\"payable\":false,\"stateMutability\":\"nonpayable\",\"type\":\"function\"},{\"constant\":true,\"inputs\":[{\"internalType\":\"string\",\"name\":\"name\",\"type\":\"string\"}],\"name\":\"valid\",\"outputs\":[{\"internalType\":\"bool\",\"name\":\"\",\"type\":\"bool\"}],\"payable\":false,\"stateMutability\":\"pure\",\"type\":\"function\"},{\"constant\":false,\"inputs\":[],\"name\":\"withdraw\",\"outputs\":[],\"payable\":false,\"stateMutability\":\"nonpayable\",\"type\":\"function\"}]'\n"
   ]
  },
  {
   "cell_type": "code",
   "execution_count": 5,
   "id": "50940801-eef3-4348-846a-8ae0bf07e915",
   "metadata": {},
   "outputs": [],
   "source": [
    "# initializing representations of contracts\n",
    "ens_token_contract = w3.eth.contract(address = ens_token_address, abi = ens_token_abi)\n",
    "ens_nft_contract = w3.eth.contract(address = ens_nft_address, abi = ens_nft_abi)\n",
    "ens_dao_treasury_wallet = w3.eth.contract(address = ens_dao_treasury_address, abi = ens_dao_treasury_abi)\n",
    "ens_registrar_contract = w3.eth.contract(address = ens_registrar_address, abi = ens_registrar_abi)"
   ]
  },
  {
   "cell_type": "code",
   "execution_count": 6,
   "id": "7ef10927-bd4c-4791-baf3-1cb07aa23b99",
   "metadata": {},
   "outputs": [],
   "source": [
    "# get transfers to an address?\n",
    "# https://ethereum.stackexchange.com/questions/80135/getting-tokens-transferred-from-web3-py?rq=1"
   ]
  },
  {
   "cell_type": "code",
   "execution_count": 86,
   "id": "933fc29a-cc3f-4713-9462-28858f925741",
   "metadata": {},
   "outputs": [],
   "source": [
    "# w3.eth.get_block('latest')"
   ]
  },
  {
   "cell_type": "code",
   "execution_count": 96,
   "id": "a53ee6a0-d343-408e-826d-00c1c597cb09",
   "metadata": {},
   "outputs": [
    {
     "data": {
      "text/plain": [
       "15643365"
      ]
     },
     "execution_count": 96,
     "metadata": {},
     "output_type": "execute_result"
    }
   ],
   "source": [
    "w3.eth.block_number"
   ]
  },
  {
   "cell_type": "code",
   "execution_count": 142,
   "id": "9878f83e-b882-4b53-88bf-a48f9a0bbc1d",
   "metadata": {},
   "outputs": [],
   "source": [
    "# get contract events\n",
    "# https://web3py.readthedocs.io/en/stable/contracts.html?highlight=decode%20transaction%20abi#events\n",
    "# - registrations\n",
    "# logs = ens_nft_contract.events.NameRegistered().getLogs(fromBlock= 15643365-2000, toBlock= 15643365)\n",
    "\n",
    "# - renewals\n",
    "# ens_nft_contract.events.NameRenewed()\n",
    "\n",
    "# # too general\n",
    "# # web3.eth.get_logs(event_filter_params)\n",
    "# fltr = w3.eth.filter({'fromBlock': 15636207-100, 'toBlock': 15636207, 'address': f'{ens_nft_address}'})\n",
    "# tmp = w3.eth.get_filter_logs(fltr.filter_id)\n",
    "# # if I can get all contract transactions --\n",
    "# # w3.eth.get_transaction(tx_hash)"
   ]
  },
  {
   "cell_type": "code",
   "execution_count": 7,
   "id": "56206dda-30f7-4aa5-8fe9-42b803094cb2",
   "metadata": {},
   "outputs": [],
   "source": [
    "# # params for getting registration and renewal events\n",
    "# # (run before either of the following blocks)\n",
    "# end_block = w3.eth.block_number\n",
    "# start_block = end_block - 6000 * 365 # get one year assuming roughly 6k blocks/day\n",
    "\n",
    "# # dict keyed by block to make filling in chunks easier\n",
    "# logs_all=list()\n",
    "# block = start_block"
   ]
  },
  {
   "cell_type": "code",
   "execution_count": 6,
   "id": "6125a579-d08e-41c1-bd3a-f07d0723d3b0",
   "metadata": {},
   "outputs": [],
   "source": [
    "# get all registration events \n",
    "# while block <= end_block:\n",
    "#     logs_i = ens_nft_contract.events.NameRegistered().getLogs(fromBlock = block - 2000, toBlock = min(block,end_block+2001))\n",
    "#     logs_all+=list(logs_i)\n",
    "#     save_obj(logs_all, 'registration_logs')\n",
    "#     block+=2001\n",
    "#     if block%100==0:\n",
    "#         print(f'{block}, {block-start_block}/{end_block-start_block} ({(block-start_block)/(end_block-start_block)}% done)')"
   ]
  },
  {
   "cell_type": "code",
   "execution_count": 16,
   "id": "f150e410-8ce3-4e37-a0c5-488b9f964193",
   "metadata": {},
   "outputs": [
    {
     "name": "stdout",
     "output_type": "stream",
     "text": [
      "13617700, 164082/2190000 (0.07492328767123288% done)\n",
      "13817800, 364182/2190000 (0.1662931506849315% done)\n",
      "14017900, 564282/2190000 (0.25766301369863015% done)\n",
      "14218000, 764382/2190000 (0.34903287671232874% done)\n",
      "14418100, 964482/2190000 (0.4404027397260274% done)\n",
      "14618200, 1164582/2190000 (0.531772602739726% done)\n",
      "14818300, 1364682/2190000 (0.6231424657534247% done)\n",
      "15018400, 1564782/2190000 (0.7145123287671233% done)\n",
      "15218500, 1764882/2190000 (0.8058821917808219% done)\n",
      "15418600, 1964982/2190000 (0.8972520547945205% done)\n",
      "15618700, 2165082/2190000 (0.9886219178082192% done)\n"
     ]
    }
   ],
   "source": [
    "# # # get all renewal logs\n",
    "\n",
    "# # params for getting registration and renewal events\n",
    "# # (run before either of the following blocks)\n",
    "# end_block = w3.eth.block_number\n",
    "# start_block = end_block - 6000 * 365 # get one year assuming roughly 6k blocks/day\n",
    "\n",
    "# # dict keyed by block to make filling in chunks easier\n",
    "# logs_all=list()\n",
    "# block = start_block\n",
    "\n",
    "# while block <= end_block:\n",
    "#     logs_i = ens_nft_contract.events.NameRenewed().getLogs(fromBlock = block - 2000, toBlock = min(block,end_block+2001))\n",
    "#     logs_all+=list(logs_i)\n",
    "#     save_obj(logs_all, 'renewal_logs')\n",
    "#     block+=2001\n",
    "#     if block%100==0:\n",
    "#         print(f'{block}, {block-start_block}/{end_block-start_block} ({(block-start_block)/(end_block-start_block)}% done)')"
   ]
  },
  {
   "cell_type": "code",
   "execution_count": 19,
   "id": "b6013e4b-1e04-4e73-91bf-0543f5f852e4",
   "metadata": {},
   "outputs": [],
   "source": [
    "# process renewal logs, save processed logs\n",
    "# load logs from loop above\n",
    "# renewal_logs=load_obj('renewal_logs')"
   ]
  },
  {
   "cell_type": "code",
   "execution_count": 36,
   "id": "2609e83c-ab43-4898-8560-4f1d7265d318",
   "metadata": {},
   "outputs": [],
   "source": [
    "# d=dict()"
   ]
  },
  {
   "cell_type": "code",
   "execution_count": 71,
   "id": "1e5d33be-525d-4b85-8436-6c36dbee891f",
   "metadata": {
    "tags": []
   },
   "outputs": [
    {
     "name": "stdout",
     "output_type": "stream",
     "text": [
      "1000, 78330 / 181337 (aronud 0.5514594374010819% done)\n",
      "2000, 78330 / 181337 (aronud 1.1029188748021639% done)\n",
      "3000, 78330 / 181337 (aronud 1.654378312203246% done)\n",
      "4000, 78330 / 181337 (aronud 2.2058377496043278% done)\n",
      "5000, 78330 / 181337 (aronud 2.75729718700541% done)\n",
      "6000, 78330 / 181337 (aronud 3.308756624406492% done)\n",
      "7000, 78330 / 181337 (aronud 3.860216061807574% done)\n",
      "8000, 78330 / 181337 (aronud 4.4116754992086555% done)\n",
      "9000, 78330 / 181337 (aronud 4.963134936609738% done)\n",
      "10000, 78330 / 181337 (aronud 5.51459437401082% done)\n",
      "11000, 78330 / 181337 (aronud 6.066053811411901% done)\n",
      "12000, 78330 / 181337 (aronud 6.617513248812984% done)\n",
      "13000, 78330 / 181337 (aronud 7.168972686214066% done)\n",
      "14000, 78330 / 181337 (aronud 7.720432123615148% done)\n",
      "15000, 78330 / 181337 (aronud 8.27189156101623% done)\n",
      "16000, 78330 / 181337 (aronud 8.823350998417311% done)\n",
      "17000, 78330 / 181337 (aronud 9.374810435818395% done)\n",
      "18000, 78330 / 181337 (aronud 9.926269873219477% done)\n",
      "19000, 78330 / 181337 (aronud 10.477729310620559% done)\n",
      "20000, 78330 / 181337 (aronud 11.02918874802164% done)\n",
      "21000, 78330 / 181337 (aronud 11.58064818542272% done)\n",
      "22000, 78330 / 181337 (aronud 12.132107622823803% done)\n",
      "23000, 78330 / 181337 (aronud 12.683567060224885% done)\n",
      "24000, 78330 / 181337 (aronud 13.235026497625968% done)\n",
      "25000, 78330 / 181337 (aronud 13.786485935027049% done)\n",
      "26000, 78330 / 181337 (aronud 14.337945372428132% done)\n",
      "27000, 78330 / 181337 (aronud 14.889404809829212% done)\n",
      "28000, 78330 / 181337 (aronud 15.440864247230296% done)\n",
      "29000, 78330 / 181337 (aronud 15.992323684631376% done)\n",
      "30000, 78330 / 181337 (aronud 16.54378312203246% done)\n",
      "31000, 78330 / 181337 (aronud 17.09524255943354% done)\n",
      "32000, 78330 / 181337 (aronud 17.646701996834622% done)\n",
      "33000, 78330 / 181337 (aronud 18.198161434235704% done)\n",
      "34000, 78330 / 181337 (aronud 18.74962087163679% done)\n",
      "35000, 78330 / 181337 (aronud 19.301080309037868% done)\n",
      "36000, 78330 / 181337 (aronud 19.852539746438953% done)\n",
      "37000, 78330 / 181337 (aronud 20.403999183840032% done)\n",
      "38000, 78330 / 181337 (aronud 20.955458621241117% done)\n",
      "39000, 78330 / 181337 (aronud 21.506918058642196% done)\n",
      "40000, 78330 / 181337 (aronud 22.05837749604328% done)\n",
      "41000, 78330 / 181337 (aronud 22.60983693344436% done)\n",
      "42000, 78330 / 181337 (aronud 23.16129637084544% done)\n",
      "43000, 78330 / 181337 (aronud 23.712755808246524% done)\n",
      "44000, 78330 / 181337 (aronud 24.264215245647605% done)\n",
      "45000, 78330 / 181337 (aronud 24.815674683048687% done)\n",
      "46000, 78330 / 181337 (aronud 25.36713412044977% done)\n",
      "47000, 78330 / 181337 (aronud 25.91859355785085% done)\n",
      "48000, 78330 / 181337 (aronud 26.470052995251937% done)\n",
      "49000, 78330 / 181337 (aronud 27.021512432653015% done)\n",
      "50000, 78330 / 181337 (aronud 27.572971870054097% done)\n",
      "51000, 78330 / 181337 (aronud 28.12443130745518% done)\n",
      "52000, 78330 / 181337 (aronud 28.675890744856265% done)\n",
      "53000, 78330 / 181337 (aronud 29.227350182257343% done)\n",
      "54000, 78330 / 181337 (aronud 29.778809619658425% done)\n",
      "55000, 78330 / 181337 (aronud 30.330269057059507% done)\n",
      "56000, 78330 / 181337 (aronud 30.881728494460592% done)\n",
      "57000, 78330 / 181337 (aronud 31.433187931861674% done)\n",
      "58000, 78330 / 181337 (aronud 31.984647369262753% done)\n",
      "59000, 78330 / 181337 (aronud 32.53610680666383% done)\n",
      "60000, 78330 / 181337 (aronud 33.08756624406492% done)\n",
      "61000, 78330 / 181337 (aronud 33.639025681466% done)\n",
      "62000, 78330 / 181337 (aronud 34.19048511886708% done)\n",
      "63000, 78330 / 181337 (aronud 34.74194455626816% done)\n",
      "64000, 78330 / 181337 (aronud 35.293403993669244% done)\n",
      "65000, 78330 / 181337 (aronud 35.84486343107033% done)\n",
      "66000, 78330 / 181337 (aronud 36.39632286847141% done)\n",
      "67000, 78330 / 181337 (aronud 36.94778230587249% done)\n",
      "68000, 78330 / 181337 (aronud 37.49924174327358% done)\n",
      "69000, 78330 / 181337 (aronud 38.05070118067466% done)\n",
      "70000, 78330 / 181337 (aronud 38.602160618075736% done)\n",
      "71000, 78330 / 181337 (aronud 39.153620055476814% done)\n",
      "72000, 78330 / 181337 (aronud 39.70507949287791% done)\n",
      "73000, 78330 / 181337 (aronud 40.256538930278985% done)\n",
      "74000, 78330 / 181337 (aronud 40.807998367680064% done)\n",
      "75000, 78330 / 181337 (aronud 41.35945780508115% done)\n",
      "76000, 78330 / 181337 (aronud 41.910917242482235% done)\n",
      "77000, 78330 / 181337 (aronud 42.46237667988331% done)\n",
      "78000, 78330 / 181337 (aronud 43.01383611728439% done)\n",
      "79000, 78330 / 181337 (aronud 43.56529555468548% done)\n",
      "80000, 78330 / 181337 (aronud 44.11675499208656% done)\n",
      "81000, 78330 / 181337 (aronud 44.66821442948764% done)\n",
      "82000, 78330 / 181337 (aronud 45.21967386688872% done)\n",
      "83000, 78330 / 181337 (aronud 45.771133304289805% done)\n",
      "84000, 78330 / 181337 (aronud 46.32259274169088% done)\n",
      "85000, 78330 / 181337 (aronud 46.87405217909197% done)\n",
      "86000, 78330 / 181337 (aronud 47.42551161649305% done)\n",
      "87000, 78330 / 181337 (aronud 47.97697105389413% done)\n",
      "88000, 78330 / 181337 (aronud 48.52843049129521% done)\n",
      "89000, 78330 / 181337 (aronud 49.079889928696296% done)\n",
      "90000, 78330 / 181337 (aronud 49.631349366097375% done)\n",
      "91000, 78330 / 181337 (aronud 50.18280880349846% done)\n",
      "92000, 78330 / 181337 (aronud 50.73426824089954% done)\n",
      "93000, 78330 / 181337 (aronud 51.28572767830062% done)\n",
      "94000, 78330 / 181337 (aronud 51.8371871157017% done)\n",
      "95000, 78330 / 181337 (aronud 52.38864655310279% done)\n",
      "96000, 78330 / 181337 (aronud 52.940105990503874% done)\n",
      "97000, 78330 / 181337 (aronud 53.49156542790495% done)\n",
      "98000, 78330 / 181337 (aronud 54.04302486530603% done)\n",
      "99000, 78330 / 181337 (aronud 54.594484302707116% done)\n",
      "100000, 78330 / 181337 (aronud 55.145943740108194% done)\n",
      "101000, 78330 / 181337 (aronud 55.69740317750927% done)\n",
      "102000, 78330 / 181337 (aronud 56.24886261491036% done)\n",
      "103000, 78330 / 181337 (aronud 56.800322052311444% done)\n",
      "104000, 78330 / 181337 (aronud 57.35178148971253% done)\n",
      "105000, 78330 / 181337 (aronud 57.90324092711361% done)\n",
      "106000, 78330 / 181337 (aronud 58.454700364514686% done)\n",
      "107000, 78330 / 181337 (aronud 59.00615980191577% done)\n",
      "108000, 78330 / 181337 (aronud 59.55761923931685% done)\n",
      "109000, 78330 / 181337 (aronud 60.10907867671793% done)\n",
      "110000, 78330 / 181337 (aronud 60.660538114119014% done)\n",
      "111000, 78330 / 181337 (aronud 61.211997551520106% done)\n",
      "112000, 78330 / 181337 (aronud 61.763456988921185% done)\n",
      "113000, 78330 / 181337 (aronud 62.31491642632226% done)\n",
      "114000, 78330 / 181337 (aronud 62.86637586372335% done)\n",
      "115000, 78330 / 181337 (aronud 63.41783530112443% done)\n",
      "116000, 78330 / 181337 (aronud 63.969294738525505% done)\n",
      "117000, 78330 / 181337 (aronud 64.52075417592658% done)\n",
      "118000, 78330 / 181337 (aronud 65.07221361332766% done)\n",
      "119000, 78330 / 181337 (aronud 65.62367305072875% done)\n",
      "120000, 78330 / 181337 (aronud 66.17513248812983% done)\n",
      "121000, 78330 / 181337 (aronud 66.72659192553093% done)\n",
      "122000, 78330 / 181337 (aronud 67.278051362932% done)\n",
      "123000, 78330 / 181337 (aronud 67.82951080033308% done)\n",
      "124000, 78330 / 181337 (aronud 68.38097023773416% done)\n",
      "125000, 78330 / 181337 (aronud 68.93242967513524% done)\n",
      "126000, 78330 / 181337 (aronud 69.48388911253632% done)\n",
      "127000, 78330 / 181337 (aronud 70.03534854993741% done)\n",
      "128000, 78330 / 181337 (aronud 70.58680798733849% done)\n",
      "129000, 78330 / 181337 (aronud 71.13826742473958% done)\n",
      "130000, 78330 / 181337 (aronud 71.68972686214066% done)\n",
      "131000, 78330 / 181337 (aronud 72.24118629954174% done)\n",
      "132000, 78330 / 181337 (aronud 72.79264573694282% done)\n",
      "133000, 78330 / 181337 (aronud 73.3441051743439% done)\n",
      "134000, 78330 / 181337 (aronud 73.89556461174497% done)\n",
      "135000, 78330 / 181337 (aronud 74.44702404914607% done)\n",
      "136000, 78330 / 181337 (aronud 74.99848348654716% done)\n",
      "137000, 78330 / 181337 (aronud 75.54994292394824% done)\n",
      "138000, 78330 / 181337 (aronud 76.10140236134932% done)\n",
      "139000, 78330 / 181337 (aronud 76.6528617987504% done)\n",
      "140000, 78330 / 181337 (aronud 77.20432123615147% done)\n",
      "141000, 78330 / 181337 (aronud 77.75578067355255% done)\n",
      "142000, 78330 / 181337 (aronud 78.30724011095363% done)\n",
      "143000, 78330 / 181337 (aronud 78.85869954835472% done)\n",
      "144000, 78330 / 181337 (aronud 79.41015898575581% done)\n",
      "145000, 78330 / 181337 (aronud 79.96161842315689% done)\n",
      "146000, 78330 / 181337 (aronud 80.51307786055797% done)\n",
      "147000, 78330 / 181337 (aronud 81.06453729795905% done)\n",
      "148000, 78330 / 181337 (aronud 81.61599673536013% done)\n",
      "149000, 78330 / 181337 (aronud 82.1674561727612% done)\n",
      "150000, 78330 / 181337 (aronud 82.7189156101623% done)\n",
      "151000, 78330 / 181337 (aronud 83.27037504756338% done)\n",
      "152000, 78330 / 181337 (aronud 83.82183448496447% done)\n",
      "153000, 78330 / 181337 (aronud 84.37329392236555% done)\n",
      "154000, 78330 / 181337 (aronud 84.92475335976663% done)\n",
      "155000, 78330 / 181337 (aronud 85.4762127971677% done)\n",
      "156000, 78330 / 181337 (aronud 86.02767223456878% done)\n",
      "157000, 78330 / 181337 (aronud 86.57913167196986% done)\n",
      "158000, 78330 / 181337 (aronud 87.13059110937095% done)\n",
      "159000, 78330 / 181337 (aronud 87.68205054677203% done)\n",
      "160000, 78330 / 181337 (aronud 88.23350998417312% done)\n",
      "161000, 78330 / 181337 (aronud 88.7849694215742% done)\n",
      "162000, 78330 / 181337 (aronud 89.33642885897528% done)\n",
      "163000, 78330 / 181337 (aronud 89.88788829637636% done)\n",
      "164000, 78330 / 181337 (aronud 90.43934773377744% done)\n",
      "165000, 78330 / 181337 (aronud 90.99080717117852% done)\n",
      "166000, 78330 / 181337 (aronud 91.54226660857961% done)\n",
      "167000, 78330 / 181337 (aronud 92.09372604598069% done)\n",
      "168000, 78330 / 181337 (aronud 92.64518548338177% done)\n",
      "169000, 78330 / 181337 (aronud 93.19664492078286% done)\n",
      "170000, 78330 / 181337 (aronud 93.74810435818394% done)\n",
      "171000, 78330 / 181337 (aronud 94.29956379558502% done)\n",
      "172000, 78330 / 181337 (aronud 94.8510232329861% done)\n",
      "173000, 78330 / 181337 (aronud 95.40248267038717% done)\n",
      "174000, 78330 / 181337 (aronud 95.95394210778827% done)\n",
      "175000, 78330 / 181337 (aronud 96.50540154518934% done)\n",
      "176000, 78330 / 181337 (aronud 97.05686098259042% done)\n",
      "177000, 78330 / 181337 (aronud 97.60832041999151% done)\n",
      "178000, 78330 / 181337 (aronud 98.15977985739259% done)\n",
      "179000, 78330 / 181337 (aronud 98.71123929479367% done)\n",
      "180000, 78330 / 181337 (aronud 99.26269873219475% done)\n",
      "181000, 78330 / 181337 (aronud 99.81415816959583% done)\n"
     ]
    }
   ],
   "source": [
    "i = 0\n",
    "for log in renewal_logs: # len(d)=3536\n",
    "    i+=1\n",
    "    tx_hash = log.transactionHash\n",
    "    # tx = w3.eth.get_transaction(tx_hash)\n",
    "    if not tx_hash.hex() in d.keys():\n",
    "        tx_receipt = w3.eth.get_transaction_receipt(tx_hash)\n",
    "        register_event = ens_registrar_contract.events.NameRenewed().processReceipt(tx_receipt,errors=_utils.events.EventLogErrorFlags.Discard)\n",
    "\n",
    "        d[register_event[0]['transactionHash'].hex()] = {\n",
    "        'blockNumber':register_event[0]['blockNumber'],\n",
    "        # 'owner': register_event[0]['args']['owner'], # not included in renew events\n",
    "        'name': register_event[0]['args']['name'],\n",
    "        'cost': register_event[0]['args']['cost'],\n",
    "        'expires': register_event[0]['args']['expires']\n",
    "        }\n",
    "        save_obj(d, 'renewal_logs_dict')\n",
    "    if i%1000==0: print(f'{i}, {len(d)} / {len(renewal_logs)} (aronud {i/len(renewal_logs)*100}% done)')\n"
   ]
  },
  {
   "cell_type": "code",
   "execution_count": 72,
   "id": "ac63f0a7-5b88-4f3c-a792-6e6a6a5fccca",
   "metadata": {},
   "outputs": [],
   "source": [
    "# load the dict created abve\n",
    "# tmp = load_obj('renewal_logs_dict')"
   ]
  },
  {
   "cell_type": "code",
   "execution_count": 12,
   "id": "6c8127db-a3f8-40fb-a501-edf472abf362",
   "metadata": {},
   "outputs": [],
   "source": [
    "# ens_nft_contract.all_functions\n",
    "# ens_nft_contract.decode_function_input(tx.input)"
   ]
  },
  {
   "cell_type": "code",
   "execution_count": 13,
   "id": "7c428851-fed1-46d2-9a4a-149cd1f79108",
   "metadata": {},
   "outputs": [],
   "source": [
    "# TODO: \n",
    "# check each alchamey function...\n",
    "\n",
    "# - change token balances to=true? and see what is returned?\n",
    "\n",
    "# - write function for getNFTsForCollection\n",
    "# - process output of getNFTsForCollection\n",
    "\n",
    "\n",
    "# revenue and income projections.. \n",
    "# revenue data from alchamey & knoeledge of registration costs;\n",
    "# name_length, registration date, & expiration date can be used to estimate future revenue?\n",
    "# assuming everyone re-registers at the same prices for the same duration ; \n",
    "# revenue = annual price|name_langth * (expiration date - registration date) in years\n",
    "\n",
    "# estimate\n",
    "# - new users / new registrations & project this with a regression model?\n",
    "# - historical re-registration rate\n",
    "# - quarterly profits from registrations, & from re-registrations?\n"
   ]
  },
  {
   "cell_type": "markdown",
   "id": "7d930931-b02c-4cd2-80b5-f08e55c9fd46",
   "metadata": {},
   "source": [
    "# Alchemy data curation"
   ]
  },
  {
   "cell_type": "code",
   "execution_count": 6,
   "id": "be4c33e8-dc94-4039-9746-b90ce95caa81",
   "metadata": {},
   "outputs": [],
   "source": [
    "# Alchamey requests api;\n",
    "\n",
    "base_url = f\"https://eth-mainnet.g.alchemy.com/nft/v2/{apiKey}\"\n",
    "\n",
    "# collection -> owners & owned tokens\n",
    "def getOwnersForCollection():\n",
    "    # docs: https://docs.alchemy.com/reference/getownersforcollection\n",
    "    # first page\n",
    "    first_page_url = base_url+ f\"/getOwnersForCollection?contractAddress={ens_nft_address}&withTokenBalances=true\"\n",
    "    headers = {\"accept\": \"application/json\"}\n",
    "    response = requests.get(first_page_url, headers=headers) \n",
    "\n",
    "    # response.json()['ownerAddresses'] is a list with len() usually around 50k\n",
    "    owner_addresses_page = response.json()['ownerAddresses']\n",
    "    owner_addresses_all = owner_addresses_page\n",
    "\n",
    "    # subsequent pages (todo:add more conditions avoid infinite loops)\n",
    "    while True:\n",
    "        page_key_old = response.json()['pageKey']\n",
    "        next_page_url = first_page_url + f\"&pageKey={page_key_old}\"\n",
    "        response = requests.get(next_page_url, headers=headers) \n",
    "        owner_addresses_page = response.json()['ownerAddresses']\n",
    "        owner_addresses_all+=owner_addresses_page\n",
    "        print(len(owner_addresses_all),page_key_old) # feedback to monitor\n",
    "        if 'pageKey' not in response.json():\n",
    "            print('no more page keys')\n",
    "            return owner_addresses_all\n",
    "\n",
    "# owner -> NFTs owned\n",
    "# https://docs.alchemy.com/reference/getnfts\n",
    "def getNFTs(owner):\n",
    "    first_page_url = base_url + f\"/getNFTs?owner={owner}&contractAddresses[]={ens_nft_address}&withMetadata=true\"\n",
    "    headers = {\"accept\": \"application/json\"}\n",
    "    response = requests.get(first_page_url, headers=headers)\n",
    "    response_json = response.json()\n",
    "\n",
    "    owner_nfts_all = response_json['ownedNfts']\n",
    "    while len(owner_nfts_all) < response_json['totalCount']:\n",
    "            page_key = response_json['pageKey']\n",
    "            next_page_url = first_page_url + f\"&pageKey={page_key}\"\n",
    "            response = requests.get(next_page_url, headers=headers) # introduces dupes bc of page size being 100, need to dedupe later\n",
    "            response_json=response.json()\n",
    "            owner_nfts_all += response_json['ownedNfts']\n",
    "            print(f\"{len(owner_nfts_all)} / {response_json['totalCount']}\",page_key) # feedback to monitor\n",
    "\n",
    "    return owner_nfts_all # may have dupes -- could dedupe by processing into a dict keyed by tokenId\n",
    "\n",
    "def process_nft_list(nft_list):\n",
    "    nfts_df = pd.DataFrame()\n",
    "    for nft in nft_list:\n",
    "        if 'metadata' in nft.keys():\n",
    "            if 'attributes' in nft['metadata'].keys():\n",
    "                if nft['metadata']['attributes']:\n",
    "                    tmp_df=pd.DataFrame(nft['metadata']['attributes']).set_index('trait_type')\n",
    "                    tmp_df=tmp_df.T.loc[['value']] # transpose for easier formatting\n",
    "                else: tmp_df=pd.DataFrame()\n",
    "            else: tmp_df=pd.DataFrame()\n",
    "        else: tmp_df=pd.DataFrame()\n",
    "\n",
    "        if 'title' in nft.keys(): \n",
    "            tmp_df['title'] = nft['title']\n",
    "        else: tmp_df['title'] = None\n",
    "\n",
    "        if 'id' in nft.keys():\n",
    "            if 'tokenId' in nft['id'].keys():\n",
    "                tmp_df['id'] = nft['id']['tokenId']\n",
    "        else: tmp_df['id'] = None\n",
    "\n",
    "        # if 'owner' in nft.keys():\n",
    "        #     tmp_df['owner']=owner\n",
    "        # else: tmp_df['owner']=owner\n",
    "\n",
    "        nfts_df=nfts_df.append(tmp_df)\n",
    "\n",
    "    nfts_df=nfts_df.drop_duplicates()\n",
    "    return nfts_df\n",
    "\n",
    "# process the list of nfts with metadata and dupes\n",
    "\n",
    "# collection -> NFT info\n",
    "# https://docs.alchemy.com/reference/getnftsforcollection\n",
    "# skipped bc relevant info was returned by getNFTs\n",
    "# # getNFTsForCollection\n",
    "# url = f\"https://eth-mainnet.g.alchemy.com/nft/v2/{apiKey}/getNFTsForCollection?contractAddress={ens_nft_address}&withMetadata=true\"\n",
    "# headers = {\"accept\": \"application/json\"}\n",
    "# response = requests.get(url, headers=headers)\n",
    "\n",
    "# NFT sales\n",
    "# https://docs.alchemy.com/reference/getnftsales\n"
   ]
  },
  {
   "cell_type": "markdown",
   "id": "7801b3d9-b960-4330-b201-e5f483360cec",
   "metadata": {},
   "source": [
    "## Owners and domains owned"
   ]
  },
  {
   "cell_type": "code",
   "execution_count": 15,
   "id": "cfe49f38-1188-4ba0-8838-ea7135b917d3",
   "metadata": {},
   "outputs": [
    {
     "name": "stdout",
     "output_type": "stream",
     "text": [
      "19926 MHgwM2QzMmY4OGZjOGIxMGFmMGNiYmJkZjNjOWE3NGEzNmMzNjhlZWZjOjB4N2U5NzMzNjQ1MzZhMmMwNjRjOTFiNjlkMzI3NWZjYWE3NzY4MzUwYTI0NmRhZGJiZTZmOGQyNTU4NzZhMTgxNDpmYWxzZQ==\n",
      "29783 MHgwOGNmOTk2MGM5Mjc3N2JkNmE1OTZhNGYzZGMzNDIxMGQxNjZjODdmOjB4NjAyYzA3NjgyZDg2Y2RkMmE2OTkwM2VjYWUxZjgzNWE0M2VmMjU1MmIwMTk2YWE2YWU0OTA2MGQ1NThlOGViYTpmYWxzZQ==\n",
      "41968 MHgwZDU1ZWE4OGIwYjc2OWY5Mzg3M2Y1Yjk3ODVhYjgwNGQzNzZiZjA4OjB4YTMxMjVkMzY5MDZmZDdiYzhjYjBlNDBkYzM3YjgyOTlhZDhiYTBhMzc4ODliYTI1ZDFjNjJkZTg5M2JlOTJmMDpmYWxzZQ==\n",
      "53778 MHgxMmYzZDU5MzJkMmZkZmJjNGQ2ODU3ZGE5OGIxNDNmNTRmZjVmYjMzOjB4OWI0OGUwYWNiNzg4YzhlNjQ5YTc4MWZhYmMxZmIxYjhlYjMzZGEzYzM0MzlmZjM0Y2ZiMjU2NzZiMjUxMjM4YzpmYWxzZQ==\n",
      "64844 MHgxODU1MWJlMmRiZGUwM2NhYjc1YzU4NWVkYmVkZDgwZmUxZTVlMWYzOjB4NjkwMmNmMDc4YWY4ZTExNWFjYjcwNjNlYWQ5NWEyODA3MzAxYTY2NzA1ZmRiNmFlMGJhOGJjZjA0ZmUxZTgyODpmYWxzZQ==\n",
      "76405 MHgxZDZmMmYwMzU2YjNkZWZhZGYxNGIxYTBmOGEzZGNkYTg5MzY3ZDY4OjB4Y2E4Nzc1YTJkYzhlNWFhZjBmNzZhYmZkZTRlYTgwMzNlOWM5Y2VhMDQ4ZTliMmI3YjJjYjU1MjljMzMxMTgxYjpmYWxzZQ==\n",
      "86700 MHgyMmRmMDA2N2EwOTYxZjhiYTJkMTViNzNiYWUyOWM0ODgyNWE5YWEzOjB4MzM4ZTU0ZmVlY2IyNjg3N2E4NDIzOTBmZDQ5OGQzNmQ1NjBjMTFjZTE1NzA5N2Q3ZmIzNzA0NDY4YTlhMWU2NzpmYWxzZQ==\n",
      "97307 MHgyNzljNGFjNTlmMDM4ZTAyZTc2OTBhOTYyYWI3Yjc0M2Q0NjY3N2ZhOjB4NmZmYjFjOTYxYTJhMzJjYzUyOTc0ZWJkYzZiY2VkODJmNmZmMTYzOTMwZDQ3N2JjYWFjZWQ1OWU5NTg1MDIwYTpmYWxzZQ==\n",
      "104199 MHgyYzczZWJiZjc4YmNlN2NjYzVhMzMzZDZkMTlhZGJmZTA2YWFjOWY1OjB4MjMyNTc5Mjc4ZjViODhiYWRhMzEzNDgyNzYwOTJhM2UyM2JlYzQxYjJmZTEyMTlkZjExODc4MzNhOWQ3ZjU3MzpmYWxzZQ==\n",
      "115253 MHgyZmFiMDI0OWM2YTYwZDcxNTEzNWYxMmU1MWRlN2MxMzBjMjYyODlkOjB4NWU4MDBiYzRmNWJkODdmMGJlNzZiOGQxNWRkODczZmRhNTlmNDFmYWE0YThiOGE1YjliYWJlMGJmZDFjNWMwYjpmYWxzZQ==\n",
      "126207 MHgzNGIzZmUxZjM0ZTNkZjk3Mzg1NDRiYmYyZGYzZDQ3NzI1MDAzNjAzOjB4NmIxMWRhOTMyYzNlNTdkODUyYzczMDMzZWFmNjM1MDM1ZDY0Yzk3NDQzMzVjNzgzNjM0MWUxN2EyNDMyMmI0ZTpmYWxzZQ==\n",
      "137005 MHgzOWQwNzkyYWQ4YTI3N2FmOTBiOTFjMzJlYWJjMmFlZjM3ZjhjMTUxOjB4NjRkZTkyMjE0ZDU2MjZlZDg4YmM5ZTI4OWJhYjE5YjA4OWY4Y2IwNTQ2MTU4MGU1ODIzMzFhZDcyYTE4OWQ3NjpmYWxzZQ==\n",
      "148190 MHgzZWQ3MDA5ZmEyYzJiNWJlOGNhMGVkZjJlZGJiNmY5MzJiYzlhMzk3OjB4NTY0NmQ5Njg3MzgzMTQyN2JiNDEwNDY1ZTYzM2FkODk3ZDZmMDczMWM2ZjE4N2QyNjYyMTkzYmU2ODE3ODJjODpmYWxzZQ==\n",
      "159423 MHg0NDA0MDkzNjllODgzOTNhNTYyZWY5NjhkMWU2MDQ3YjAwZDAzNDBmOjB4MjRkODRkZTVkY2FhYjllN2Y2ZjhkOGRmYWIyZDI5NzVmMmMwMWM3Y2I2YWE4YWE2NTExYTUwNzI3OTJhMGEzNjpmYWxzZQ==\n",
      "170247 MHg0OTI0NjBmNDk4NjM2MGQ1MTRlODdiYmZlMThhOTBlNDg1MThjOWQ3OjB4OTFhN2YyN2IyOTY2MGM1MzkyOWIyYTE2MjNkM2Y5MWRkZWUwZmY3NWQyZjVjOTYzZTk1NjM2YTZiNjg4Yzc0NjpmYWxzZQ==\n",
      "181825 MHg0ZTI0ODE3N2U0MjhiOTdiMTQ2MmEyMDU2YTgwMDBjNThjNGRhZTA1OjB4OGI0NTFjNWJmNzU5OWE2MGUwMjE1NjZhM2I4Yzk5Y2M4OTEyOGUyZmY4ODE5YjE0ZDMzZmJkODZmZWNiNTZjNDpmYWxzZQ==\n",
      "193730 MHg1MzcwYjNjYTU1YmI1NjFlN2JjMDUwYzgxODQ4ODczYjliY2ViYmVjOjB4MTcyMGM5NThjYzU1MDA3OWVlOTY3YWI1ZmQ2YjQ3NWE4NjBhOGExNWMzZGYwOTAxZTdkNjYyMGVhMjE2MjM3NzpmYWxzZQ==\n",
      "206517 MHg1OTA2NGQzNTYyZjI5YTZiZjQ1ZTA3NDI4ZWFkNWQzM2M2NjRlZGM1OjB4ZTY5MWU3MmVkZWZkOGUyYjM0MjBjZGM1NTcxZTBmYmFjNjUwMGE2NmQ2NjY0N2ZjNmQ5Nzk5NzU0NGU5OTFlYzpmYWxzZQ==\n",
      "217750 MHg1ZWZhNWU3MzZiY2JkMzlmYWI5ZDZhZTFkM2ZkNGNhNzBhODBhNjM3OjB4MjgyMzk2ZTk4ZDQ4OTI4ODc1MjNhYmYxOWJjYjEyYjA4ZjE2ZTc4MTBkODk5YjZmZTkxNTZjZWU3NGI4ODA0MzpmYWxzZQ==\n",
      "227898 MHg2NDM3MmRiNjQwNTg3OTIxNGEwYTc2YTdmMWU5YzAxM2ZkMmZkODRiOjB4NDk1YjhiY2NiZWQyMjczZmM3NDI1ZWZhNWRiODQzNjFhNjNlMzYzNmZmMmNmNGU2ODgwMmFjZTJjYzQyNDMzMjpmYWxzZQ==\n",
      "239469 MHg2OGRkYWY3MDMwM2UwNjY4YTYyNTlhM2VhZDA5MGQwYjBhNzc5ZmM4OjB4OTkyZDUwMmJjMDBlYzYzMThjMjQ3YTA1NjQ4Y2EzODFkODUyZDc2ZTRiODcxOTYxZjcxMGNjNjQyYWZkN2VjMDpmYWxzZQ==\n",
      "250925 MHg2ZTNhYTg1ZGI5NWJiYTM2Mjc2YTM3ZWQ5M2IxMmI3YWIwNzgyYWZiOjB4ZmFlODE5NWQwZjQwMWNiZjI0ZWRmZmI4Zjg3MmNlOTI1MzIxY2FlYzg3ZmFlMTljN2FhMDBlMzhiYWJjNmQzMjpmYWxzZQ==\n",
      "262226 MHg3MzgyZjg5MzU5NTY1OWY1NzdhN2VmY2YzYzllNmQ2NmQxMGZkMjdiOjB4MWJlMzFkMDE0ZjFhNzU5NjQxOGYxZDcwOTAzNWUyN2FhY2ExMjI1MGMwNWYxNmI0ZWU1MWZmMjEyMzczYWNhYjpmYWxzZQ==\n",
      "272633 MHg3OGE2YzI3OTAyNjYwYTQwN2QyZGZjZDZhZDJiMDE0ZmRiY2MzZDgxOjB4ODBiNDBhOGM0YjgwNjc1Zjg2NjhlMWYwMDNjM2RhNjlmODFlYjhjOTc4NjgwYjFmMTljODU4ZDZiOTM0OGQwZjpmYWxzZQ==\n",
      "282480 MHg3ZDY3ZmQzZDNjMWY0NTUyY2NiZTYxZmYzYzdiZTk1OTg4NmRhY2Y1OjB4ZmJkMjcyMzMxYzFiOGRkZjlkZWFiNWNkNGJhZGNjYWRhZTY0YzI3MTBmYmRkOWZhNGJlNjI3NjNkM2RlNWI2YzpmYWxzZQ==\n",
      "293613 MHg4MjA0ZWMzYjZiNzU5N2YzN2I5Y2RlYzQ0MGE5M2RjYWYxZjcxMWQ5OjB4ODJmOGQ5N2Q5Y2EzMDViZDg0MDNiMzIyZDdhMjBlMDUzNWEwNTE5ZmFlOWEzMjdmOTIzNzMxMjk0MjU3YjQwZjpmYWxzZQ==\n",
      "303862 MHg4NzMwM2NjYjZiNmNhZTdhZTIxM2E3YTQ1MjY4YmY1ZWVlMWVmMDhlOjB4YTk4Y2YzNzM2NmJkMGIwNzljZDhmMDFhOTFmMzgyZmEwYTk3ZmZjMDM0Njg1YTY2MGQ1ZDBmZmRhOGUwNmMzODpmYWxzZQ==\n",
      "315306 MHg4YmY0NDdiYjcyZTczN2ZjYmZiMzZjNTIyNWUyNDNjMjYyMWJmNWRlOjB4YjFlYmYzNmZmOTk4M2U0MjQxODQ3MmVhNGFjM2IzMWJmOGU0YmQyNDgzNWI3ZjBkY2JhYjJmY2Y4YjEzZjZlODpmYWxzZQ==\n",
      "324626 MHg5MTU5OWM2ZWZmNGEyY2E0YjExZjIwMDE4NDU0YzU1MWI1M2UyOTg4OjB4NDU3MmE5ZWMwZGNmYzMxMTJiNmQ5YjRmZTEwNmNiMTcwZjc3MDVmNDYyMDc0N2IyMGQ2MzhmZTBlMDVhZTVkMzpmYWxzZQ==\n",
      "335671 MHg5NWFmZjg3ZWY2MGQ1MTY2ODU4ZGY4MjVlYWQxNjNhNjYyNmUwM2FiOjB4ZTNiZjMxN2YwNjU4MTQ1NDM3ZTc2NWEzMmQ1Mzc1ZGEwZTgxNjIwZGQ5ZjBlMWZhYzFjNzhmNWY3MDc5ZmI0MjpmYWxzZQ==\n",
      "346968 MHg5YWNiNWU1YzhjNjhhYzk3OTYwZDVhY2E5OWU2NGExYTA3Yzk3NmEyOjB4NTc3ZTY2YzUxYzY4MzJhNTIzNDllYzJjNDEzMmNjZjYyNDJiMGJmZWMzZjM0YTVjNTUxZDg0NGFjYWZiNmYxYTpmYWxzZQ==\n",
      "357482 MHhhMDFkNjQ0ODEwYTcxNDlkZjg2ZGQ5MjY1YzdjMGY5NGZiNzVjNzE4OjB4YjBlNjQwMDEwOWJmMDg2N2Q0NDA5OGViMDY5NmZiZmRiODRjZWQ0YWE5ZWFhNmFmNzY4NmExOWY2MjE2OTYzNjpmYWxzZQ==\n",
      "365396 MHhhNGY4MmI5ZDZiOWVlMDY2ZDc5OTMwYzc0NTUzOWU4MGFlNmMxMmQ2OjB4NWNiOTAzMjBhMDI4M2MwY2M1Y2RkZTY2MTM1MDk2NzIzZDhlMGFmYjkyMmZmMDQwM2Q0OWE5YTEwOTU3MmRkYjpmYWxzZQ==\n",
      "375644 MHhhOGIwOWM2MmIwZGYxMTg3NGY2ZGQ5ZWIxOGUzOTVjNzc3ZWY0YzA1OjB4NTkzY2EwMWRiMTAxMDIzODI5ODgzMDgyZmRmYTZkNGY2NjAxNjk0MjNiZWE3NGQ4NzEzMTdiYzJiMzBiZWIyZTpmYWxzZQ==\n",
      "388208 MHhhZDYxOTc4NWI3NTAwYTBiNTdlYzYzNDZiOTMxMDUwZGFhNjEwODQwOjB4MWJhMTNjZTAwYmE2OTRjOGZmODhkOWJmMDM3YmUwY2U4MzZmYzFmZWMxY2RiOWVmNDkxNzYyMDU5ZTljZDdhZjpmYWxzZQ==\n",
      "399142 MHhiMzMxZjgyZmZhYWIwZDUzMjM5ODY2YzFiYTk5ZjYwNTVhNTFhMGUxOjB4NTlmMmMzMDE4NzA3NTA4OTkzNjRiYWNjMTgzYjdhYzdjM2YxZTc3YWQ0NGJlNTAyM2RkZGM5MmJmMGYxMzgxMjpmYWxzZQ==\n",
      "409951 MHhiODI5YTg5YzA1ODg5NWZlZmM5Y2VmM2Y5ZGEyNmJiYTE0OGIxOTcwOjB4NGZlZjEzZWFkNzYxMDE3ZDNhZjcyZDIwNmQzMGJmMzE4MjljOWZmNzRkZjMwZGEzNTAzNDE0YmU2NjFmZjZlNzpmYWxzZQ==\n",
      "416448 MHhiZDIxMTA5ZTJiZGNiMjRjNGZiY2RjMTZhNGM5MGYzNGU4MTIyOGUyOjB4MWJlZDgxZWM0OWY3MjZlMjRlZGMzYTZlMmM0NmIxM2Q2ZDNmM2ExNWNjYTc1MzU2ZGRlOTc4MzNhODExYzBhODpmYWxzZQ==\n",
      "428646 MHhjMDMxY2YwMmRjNmI1ZDUzZjA5MjY2OWIxMjQ2ZmQ4MTBiZDg1YjM1OjB4MzJjYWNmYTcyNWM2MmU4YjJkYzMzNDM3YzhhNWFkNWJlOTFiOTY4Zjk1YjNhODk4YWZiZjcyYjY4ZDRmOTM0YTpmYWxzZQ==\n",
      "440311 MHhjNWRhMzk4OTJmMjg3YmVlZDY2ODM0ZTFlZTQ0MDcwNmFlZGY5NzljOjB4ZGZjMjdiOWZkNmExN2I1ZGM5YTdkZmFhYWY4ZTkwMWQ3MDJjZGI5Mjk5YzNhZjg1YjkyMzI0NjUwYjU1MGFhODpmYWxzZQ==\n",
      "451677 MHhjYjNiMjgxYzJkMTBiYjYwMGVhZDJiZTJjNjNhNjAwN2Q2YTIyNjdkOjB4ODI1OGQyZjU2NDA5YWJjODRlYTRkMzFiYTE0YjgyYjE4Y2NkYzgxMWE2NGQwZDU3YWI0NjU3YTdlODljMDUyNTpmYWxzZQ==\n",
      "462075 MHhkMDZlZGI0MTEyMGEzYzhhNWJkMTE3MThmOGQ0YmYzN2RmNWQwOWU2OjB4MDNlYWZjMjNkNWIxODU3MmE3OWY2Mjc1NmEzZGM0ZjQ1NTY2YzU1OGUxM2NjZjA2OTNiNzZmODhjN2NkZDk4ZjpmYWxzZQ==\n",
      "473097 MHhkNTM2NzNjMDRhYzU1NzFjMDI1OTdiMmU3OGExYTZhYTA3N2UyZWFmOjB4ZGEzMWUxNmViZDdhMWFjYjJiMjkwM2IwYzU4NjcxMjI3OGIzNDcwMWIzYTA2ZDFiOTNkZjFkNzljOTZlNDYyODpmYWxzZQ==\n",
      "484197 MHhkYTRlNTRkMzY5YjUzZTFlMzRjOTQ4ZWFjNzFmNDgwMjg3MGI3YzMwOjB4YjI0ZTYzMzk3OTBmNTUyOWVmYmFhZmRlYjliMzUzNjAzZDk2MDFlZTVmNDNiYzg1YTlhYjQ5ZDRjYjgwY2RiMzpmYWxzZQ==\n",
      "496418 MHhkZjYxN2ZjMDcyMjE1YzYzODEzN2IzMDM4NjI4YjQyMDA2NGMwNmIyOjB4OTMxNDUwNzVmM2NiYjRmMzRjZjQ2YjU3NGQxZDFkMzExMjUyYmFmMjJkZjkxNzUwMDM5ZWUyMDEyNjFiYWI4MDpmYWxzZQ==\n",
      "507907 MHhlNTAxOGM0MjlhODNmMTkzYmZmOTc2YzM3YjFkMzdmYzJhNTY3YjZjOjB4ODNkNzQ1Y2U2NjkwMGJkNDZmOWIwYWIyMzIzNzc1MmU4M2UyYzlhN2QxNjI5MGJjZDEyMWZmYzZlYWMzYTUxMDpmYWxzZQ==\n",
      "518581 MHhlYTU3YmMyYmVlN2RhOWNiZGI5NmJiMGNkOGEzZmQzNWMzYWYwM2YxOjB4NDliMGU2OTU0MDNkNWEwZWNiMTNiNDEyNGVhZjU5ZmVkMzk3YWUzNDY4ZjljMjEzNjgzYWQ2ZDY2ODZkNTk2YTpmYWxzZQ==\n",
      "528012 MHhlZjRiMGU4YjBjZmE1OWVkM2JlNmMxZTgxNmU1MzYwMmIxNTQ1YTRiOjB4ZmU0MTliNTQ1YmRlMjcxYjZiMjE4ZTk4ZTFkZmJlODAzNDhmYzJiN2RhNDI1YmQ4MzFmOGQ2MTc5OWU2MjRlMTpmYWxzZQ==\n",
      "538498 MHhmM2I2M2Y4YmUzNjk0M2U5MGE0NDliYzhmYThjZGYzOTU1YWFkNjc5OjB4NzRmM2VlNWJjOWVlNjZlYzM4YmU1ZDcwZjFhMTliOTU1ZmJhYzI2MDQyMGQ2YzBmMjc2OGMyZDI2ZjUxMDVmNTpmYWxzZQ==\n",
      "549334 MHhmODg3YWY0YjNjYWRlY2Y4YWM3NGU3MWE5YTY5ZGZmNGQxNGYzYWYxOjB4NjBmOWFmNzdmNDlhZjkxN2NlMjg1MmY5NWUzOTIwNDljZDFjZTcxZWFkMDRmZTQyZjEyMzJhNjY5OGI4YWIxZTpmYWxzZQ==\n",
      "554770 MHhmZDkwMTM0MmViZGE3ZWQ2M2U1OWM0OTRjNDY4MWZhMzc1MWU2YjU4OjB4MGNmZGQ3ZTMwZDBiZmM3YmI4ODc3MDFlZWQ4MDFkMTkwOTY0ZTE0NzZmNjI3YWIwMzljOTIyYmYyNGNmMzQ1ZjpmYWxzZQ==\n",
      "no more page keys\n"
     ]
    }
   ],
   "source": [
    "owner_addresses_all = getOwnersForCollection()"
   ]
  },
  {
   "cell_type": "code",
   "execution_count": 16,
   "id": "bfa81913-0321-4e0a-b856-a67acc6c4a50",
   "metadata": {},
   "outputs": [
    {
     "name": "stdout",
     "output_type": "stream",
     "text": [
      "0/554770\n",
      "100000/554770\n",
      "200000/554770\n",
      "300000/554770\n",
      "400000/554770\n",
      "500000/554770\n",
      "done.\n"
     ]
    }
   ],
   "source": [
    "# efficiently process info into a long data frame;\n",
    "\n",
    "# step 1) convert to a dict with key:owner id, value: list of owned nfts\n",
    "all_dict = dict()\n",
    "i=-1\n",
    "for owner in owner_addresses_all:\n",
    "    i+=1\n",
    "    if i%100000==0: print(f'{i}/{len(owner_addresses_all)}')\n",
    "    all_dict[owner['ownerAddress']] = [[i['tokenId'] for i in owner['tokenBalances']]]\n",
    "print('done.')"
   ]
  },
  {
   "cell_type": "code",
   "execution_count": 17,
   "id": "be7ae8ce-c4aa-45ac-996f-59e9bb5c94e0",
   "metadata": {},
   "outputs": [
    {
     "data": {
      "text/plain": [
       "554649"
      ]
     },
     "execution_count": 17,
     "metadata": {},
     "output_type": "execute_result"
    }
   ],
   "source": [
    "len(all_dict.keys()) # verify number of owner addresses"
   ]
  },
  {
   "cell_type": "code",
   "execution_count": 18,
   "id": "984e403f-9668-4e64-84d3-ebe49d59088d",
   "metadata": {},
   "outputs": [],
   "source": [
    "# step 2) convert dict of lists into a df of lists\n",
    "tmp=pd.DataFrame.from_dict(all_dict,orient='index',columns=['nft_ids'])\n",
    "# step 3) explode the lists into rows for each (owner,nft id) pair, rename index coluumn\n",
    "tmp=tmp.explode('nft_ids').reset_index().rename(columns={'index':'address_owner'})\n",
    "# save for later usage\n",
    "tmp.to_pickle(path = '/Users/macstrelioff/Documents/git/crypto_public/ENS NFT analyses/owners_and_owned_nft_ids_df')"
   ]
  },
  {
   "cell_type": "code",
   "execution_count": 19,
   "id": "9a853223-e060-47b5-b676-a8cde4967a17",
   "metadata": {},
   "outputs": [],
   "source": [
    "# load the saved result instead of re-running code above\n",
    "owners_and_owned_nft_ids_df = pd.read_pickle('owners_and_owned_nft_ids_df')"
   ]
  },
  {
   "cell_type": "code",
   "execution_count": 22,
   "id": "a69f6671-1cbb-46dc-90f2-1d6f45749355",
   "metadata": {},
   "outputs": [
    {
     "data": {
      "text/html": [
       "<div>\n",
       "<style scoped>\n",
       "    .dataframe tbody tr th:only-of-type {\n",
       "        vertical-align: middle;\n",
       "    }\n",
       "\n",
       "    .dataframe tbody tr th {\n",
       "        vertical-align: top;\n",
       "    }\n",
       "\n",
       "    .dataframe thead th {\n",
       "        text-align: right;\n",
       "    }\n",
       "</style>\n",
       "<table border=\"1\" class=\"dataframe\">\n",
       "  <thead>\n",
       "    <tr style=\"text-align: right;\">\n",
       "      <th></th>\n",
       "      <th>address_owner</th>\n",
       "      <th>nft_ids</th>\n",
       "    </tr>\n",
       "  </thead>\n",
       "  <tbody>\n",
       "    <tr>\n",
       "      <th>0</th>\n",
       "      <td>0x0000000000000000000000000000000000000001</td>\n",
       "      <td>0x048fcb12e6268ffe230ec5cd4148909d78c83d66dd64...</td>\n",
       "    </tr>\n",
       "    <tr>\n",
       "      <th>1</th>\n",
       "      <td>0x0000000000000000000000000000000000000001</td>\n",
       "      <td>0x056ca2314f8a6e8efe226d76ed83647670d0f2cb0ed8...</td>\n",
       "    </tr>\n",
       "    <tr>\n",
       "      <th>2</th>\n",
       "      <td>0x0000000000000000000000000000000000000001</td>\n",
       "      <td>0x06f16259602eb8442dbf3aa9e163eec8557f643ec435...</td>\n",
       "    </tr>\n",
       "    <tr>\n",
       "      <th>3</th>\n",
       "      <td>0x0000000000000000000000000000000000000001</td>\n",
       "      <td>0x0d73a424a96fa74a63677d10aecefbe1d1573495ce66...</td>\n",
       "    </tr>\n",
       "    <tr>\n",
       "      <th>4</th>\n",
       "      <td>0x0000000000000000000000000000000000000001</td>\n",
       "      <td>0x0d9b90614509308bb0ce53096c8410e953af7ca492a1...</td>\n",
       "    </tr>\n",
       "  </tbody>\n",
       "</table>\n",
       "</div>"
      ],
      "text/plain": [
       "                                address_owner  \\\n",
       "0  0x0000000000000000000000000000000000000001   \n",
       "1  0x0000000000000000000000000000000000000001   \n",
       "2  0x0000000000000000000000000000000000000001   \n",
       "3  0x0000000000000000000000000000000000000001   \n",
       "4  0x0000000000000000000000000000000000000001   \n",
       "\n",
       "                                             nft_ids  \n",
       "0  0x048fcb12e6268ffe230ec5cd4148909d78c83d66dd64...  \n",
       "1  0x056ca2314f8a6e8efe226d76ed83647670d0f2cb0ed8...  \n",
       "2  0x06f16259602eb8442dbf3aa9e163eec8557f643ec435...  \n",
       "3  0x0d73a424a96fa74a63677d10aecefbe1d1573495ce66...  \n",
       "4  0x0d9b90614509308bb0ce53096c8410e953af7ca492a1...  "
      ]
     },
     "execution_count": 22,
     "metadata": {},
     "output_type": "execute_result"
    }
   ],
   "source": [
    "owners_and_owned_nft_ids_df.head()"
   ]
  },
  {
   "cell_type": "code",
   "execution_count": 21,
   "id": "20e99011-f0d4-495e-bd39-5f6f46119ae7",
   "metadata": {},
   "outputs": [
    {
     "data": {
      "text/plain": [
       "((2546310, 2), 554649)"
      ]
     },
     "execution_count": 21,
     "metadata": {},
     "output_type": "execute_result"
    }
   ],
   "source": [
    "# some check number of nfts and owners\n",
    "owners_and_owned_nft_ids_df.shape,owners_and_owned_nft_ids_df.address_owner.nunique()"
   ]
  },
  {
   "cell_type": "markdown",
   "id": "ac5b5306-963f-4e8a-b61a-5d3e0d2359fb",
   "metadata": {},
   "source": [
    "# get nfts by collection id (to be matched to owners later)"
   ]
  },
  {
   "cell_type": "code",
   "execution_count": 48,
   "id": "fcc07127-f1a7-41fb-be30-142b87081098",
   "metadata": {},
   "outputs": [],
   "source": [
    "# for getting metadata on all nfts in the collection\n",
    "\n",
    "first_page_url = base_url + f\"/getNFTsForCollection?contractAddress={ens_nft_address}&withMetadata=true\"\n",
    "headers = {\"accept\": \"application/json\"}\n",
    "response = requests.get(first_page_url, headers=headers)\n",
    "nfts_page = response.json()['nfts']\n",
    "\n",
    "nfts_all = nfts_page\n",
    "\n",
    "# for pagniation \n",
    "i=-1"
   ]
  },
  {
   "cell_type": "code",
   "execution_count": 62,
   "id": "2786f6f6-7a83-4dbd-920e-39628c65d47a",
   "metadata": {},
   "outputs": [],
   "source": [
    "startToken = nfts_all[-1]['id']['tokenId']"
   ]
  },
  {
   "cell_type": "code",
   "execution_count": null,
   "id": "ce128b17-397a-4ba5-bf29-dcf7859ddf7c",
   "metadata": {},
   "outputs": [
    {
     "name": "stdout",
     "output_type": "stream",
     "text": [
      "2150, 214700, 100, aprox. 8.431809166990666% done, 0x14e7988432518fb016a1a9081dc2336a42b48e4c66f00b32081b856a586490c6\n",
      "2153, 215000, 100, aprox. 8.443590921765221% done, 0x14eec6cdf54354c5769789a4d41f396ea21727328836a61f3e4314c12a23167f\n",
      "2160, 215700, 100, aprox. 8.471081682905853% done, 0x15014e872c4f1633fe77029bca85f084f082077a8f6c781e69f76c921fd18e5f\n",
      "2163, 216000, 100, aprox. 8.48286343768041% done, 0x150907766bf52e26a058d2a6c8090fbac7bc26faf97d9db45469f24a2710b69f\n",
      "2170, 216700, 100, aprox. 8.51035419882104% done, 0x151aa312afaf8903eb361504cc8f0e50b6d8deec18a7b964085be2b955993449\n",
      "2173, 217000, 100, aprox. 8.522135953595596% done, 0x1520d00f6480df95d6e6d586f11a93198ac497ff0009016b5629f50f6179268b\n",
      "2180, 217700, 100, aprox. 8.549626714736226% done, 0x1531ffbfb5aa6b0b6cc00d441b9da118cb698f53060521dbe21e562131f88228\n",
      "2183, 218000, 100, aprox. 8.561408469510782% done, 0x153953bb5b03c782d514a095146805d60a5435ceb7d806f3cfd4da2483274145\n",
      "2190, 218700, 100, aprox. 8.588899230651412% done, 0x154c6538e7dd3a35591049a5a993f96994fa7517a04be954d56adf29d1415dc4\n",
      "2193, 219000, 100, aprox. 8.600680985425969% done, 0x1553bb281709e385f17c6c0b0cb4e511924f175354fa16c4dc74a8bc4ac4fe40\n",
      "2200, 219700, 100, aprox. 8.6281717465666% done, 0x156693f0aef0d210b12a282f1b77c54438096d25034e15e2d8bde4664b440068\n",
      "2203, 220000, 100, aprox. 8.639953501341155% done, 0x156db5bfdc443d9c478e6bcf63a5882e8bbf0c7f691abe8af01342def0daccf9\n",
      "2210, 220700, 100, aprox. 8.667444262481787% done, 0x157e93f91626cb546d7a326d31d1b9b314e5c059cb3f7a1f29a24655683cf7b1\n",
      "2213, 221000, 100, aprox. 8.679226017256344% done, 0x15859524bd209d2791d244c8d332968948117b0de49e47df0b31373f735303ea\n",
      "2220, 221700, 100, aprox. 8.706716778396975% done, 0x1597b2324470304065420d7fc3bf8b94e84a23f3adf6beb1729107f717a00179\n",
      "2223, 222000, 100, aprox. 8.71849853317153% done, 0x159eed10b0bb9f7fa2aaf38ddd50058cd9f31954e6bd367a811b1431e1c35ac7\n",
      "2230, 222700, 100, aprox. 8.745989294312162% done, 0x15b1e5bfd6dd7fbdbbead476f424ab2d405903dc1376aefecd8bc4b013a2efa8\n",
      "2233, 223000, 100, aprox. 8.757771049086719% done, 0x15ba7ca880fc78f9f372b65897323d769171f9cf2c198923159e17043c5a4a3b\n",
      "2240, 223700, 100, aprox. 8.785261810227349% done, 0x15cc4f696a6beb655d0f4884766a3490aee49a339af5fe7946967392bb027f5c\n",
      "2243, 224000, 100, aprox. 8.797043565001905% done, 0x15d2dc2473c2d55dec58f98a89ca79db083a051956f57e38ffe3d5c6b23919b9\n",
      "2250, 224700, 100, aprox. 8.824534326142535% done, 0x15e303f721f1d9d281ba4b77253e117df47604043e8fe7aa22648a5eb3c41980\n",
      "2253, 225000, 100, aprox. 8.836316080917092% done, 0x15e9b2195f46ce222a67b2e152cb2f9667fc500913100840b9ba6cdb7d0c870e\n",
      "2260, 225700, 100, aprox. 8.863806842057723% done, 0x15fa76b894555524add56305f27b4ff8f5ad62113026bcb2d380f3487b453e71\n",
      "2263, 226000, 100, aprox. 8.875588596832278% done, 0x1601fb39e5c4c0fdca40a82d3604c4e39b67124ed90592566128f359da16248c\n",
      "2270, 226700, 100, aprox. 8.90307935797291% done, 0x16131a6a5699f42e1d33d0d4038e98e4a490b287f61c88b892323b8899918028\n",
      "2273, 227000, 100, aprox. 8.914861112747467% done, 0x1619ec9ca4ebce6075077afb76a81212d2ee2e0ce7a94baba4222eaba44f399d\n",
      "2280, 227700, 100, aprox. 8.942351873888096% done, 0x162b8a3e8dc52305f9492c40368babb1fc94488b5c06ecf67da2c5b0313e6830\n",
      "2283, 228000, 100, aprox. 8.954133628662653% done, 0x16334dad5e99a82825d40b1ac8de198203576f40623e48d584f350b192776cfc\n",
      "2290, 228700, 100, aprox. 8.981624389803285% done, 0x1644425180220c6dc7bda7d373f9fc6d2f1c0f4ddc03fd7bf0caf52005dfabf4\n",
      "2293, 229000, 100, aprox. 8.99340614457784% done, 0x164c3fa34cc86a4e71ddafe5c3de04aa0cb523775bb71252c41caa28f65b3a1a\n",
      "2300, 229700, 100, aprox. 9.020896905718471% done, 0x165d86e7cdb19bc81c0bc5127537b478321fe7b372a5b0b2ff5d2246a14348b8\n",
      "2303, 230000, 100, aprox. 9.032678660493026% done, 0x1665c34928466aaa61d58694e717c5765c936ecf1791087a9193a8d68537ae8e\n",
      "2310, 230700, 100, aprox. 9.060169421633658% done, 0x1676b9d1abe8fa47d1be1bceb3f55cfd2544a4df64284cd351002f190386c0d3\n",
      "2313, 231000, 100, aprox. 9.071951176408215% done, 0x167ead9d80de2022758d15fdcf667db326299c315db62ca47df98bf5ece7d12f\n",
      "2320, 231700, 100, aprox. 9.099441937548844% done, 0x169135376f62e7ae6e64b37b705389d3d0cc8d2e0fdf33fdc1dd0e73d4b66f77\n",
      "2323, 232000, 100, aprox. 9.111223692323401% done, 0x1698c44f6ca681ff8a75239721a171eb5c200211c281efb86c79a250220919f5\n",
      "2330, 232700, 100, aprox. 9.138714453464033% done, 0x16a9c2d6efbaa2c92160db7a7ef76ddaca6348af8b934e41c9a47ae590482700\n",
      "2333, 233000, 100, aprox. 9.150496208238588% done, 0x16b156d76d4a7068d63119c7cd1afadd43a0214d76440a43b670925799026257\n",
      "2340, 233700, 100, aprox. 9.17798696937922% done, 0x16c4267817efd745ac82c8c6129bf2cfe1bc0904fbd2318b1e60fe12c6fd65fb\n",
      "2343, 234000, 100, aprox. 9.189768724153776% done, 0x16cba577bf3b4ad72acff0c2b8dec7bc339f7beabb069046dc623ad48afc6be0\n",
      "2350, 234700, 100, aprox. 9.217259485294406% done, 0x16dd2d42726914f76b0b2e56a97b7a637e44331c5230e2e84834abc39a4d97fc\n",
      "2353, 235000, 100, aprox. 9.229041240068963% done, 0x16e3da3cc863b1cce54cb97580c170b60a8ff09d1fe9be7bd57233ae3b01f327\n"
     ]
    }
   ],
   "source": [
    "while True:\n",
    "    i+=1\n",
    "    if len(nfts_all)%1000==0 or i%10==0: \n",
    "        save_obj(nfts_all, 'nfts_all')\n",
    "        print(f'{i}, {len(nfts_all)}, {len(nfts_page)}, aprox. {len(nfts_all)/2546310*100}% done, {startToken}') # feedback to monitor\n",
    "    startToken = nfts_all[-1]['id']['tokenId'] # response.json()['nextToken']\n",
    "    next_page_url = first_page_url + f\"&startToken={startToken}\"\n",
    "    response = requests.get(next_page_url, headers=headers) \n",
    "    if response.status_code != 200: continue # try again if status cod isnt 200\n",
    "    nfts_page = response.json()['nfts']\n",
    "    nfts_all+=nfts_page\n",
    "    if 'nextToken' not in response.json():\n",
    "        print('no more page keys')\n",
    "        # return nfts_all"
   ]
  },
  {
   "cell_type": "code",
   "execution_count": null,
   "id": "140330aa-80fc-44fd-8e9b-14bd43f5d8c9",
   "metadata": {},
   "outputs": [],
   "source": []
  },
  {
   "cell_type": "code",
   "execution_count": null,
   "id": "cf8cd2c9-f7f9-4a4e-93d8-50e27282f7b0",
   "metadata": {},
   "outputs": [],
   "source": []
  },
  {
   "cell_type": "markdown",
   "id": "cb5c53bd-c0d2-4305-8ea0-1529c80bcf4b",
   "metadata": {},
   "source": [
    "# join owners and nft ids to nft metadata kyed by nft id"
   ]
  },
  {
   "cell_type": "code",
   "execution_count": null,
   "id": "b0fbecc0-efaf-4a2a-870c-9b282a9bbd0e",
   "metadata": {},
   "outputs": [],
   "source": []
  },
  {
   "cell_type": "code",
   "execution_count": null,
   "id": "f6caabc4-f76f-4b79-82a3-ff1f481c049d",
   "metadata": {},
   "outputs": [],
   "source": []
  },
  {
   "cell_type": "markdown",
   "id": "97b35c07-bdf8-438c-8eeb-74ea62663143",
   "metadata": {},
   "source": [
    "# get nfts by owner"
   ]
  },
  {
   "cell_type": "code",
   "execution_count": 336,
   "id": "723c6803-9629-4b5c-b3c9-d125f9fac50d",
   "metadata": {},
   "outputs": [],
   "source": [
    "# copied to clone of this nb to run...\n",
    "\n",
    "# # get all nfts owned by each owner & format into a pandas df\n",
    "# df = pd.DataFrame()\n",
    "# # i = 0\n",
    "# i=12000 # last printed id"
   ]
  },
  {
   "cell_type": "code",
   "execution_count": 25,
   "id": "96997e59-f8a7-4ea0-bd86-e6aea113d3e5",
   "metadata": {},
   "outputs": [],
   "source": [
    "# # TODO: \n",
    "# # - import pickle, \n",
    "# # - save df so it can be accessed quickly later\n",
    "\n",
    "# # - for faster loop, save each wallet's df, then later concatinate them all.\n",
    "\n",
    "# while i <= len(owner_addresses_all): # looping over indecies makes it easier to continue where i left off if there is an error\n",
    "#     owner_address = owner_addresses_all[i]\n",
    "#     if i%500 == 0: \n",
    "#         df.to_pickle(path = '/Users/macstrelioff/Documents/git/crypto_public/ENS NFT analyses/owners_and_their_nfts')\n",
    "#         print(f'{i} / {len(owner_addresses_all)}')\n",
    "#     if owner_address == '0x000000000000000000000000000000000000dead': continue # skip dead address\n",
    "#     try:\n",
    "#         nft_list = getNFTs(owner_address)\n",
    "#         nft_df = process_nft_list(nft_list) # dead address gave error\n",
    "#     except: \n",
    "#         nft_df = pd.DataFrame()\n",
    "#     nft_df['owner']=owner_address\n",
    "#     df=df.append(nft_df)\n",
    "#     i+=1\n",
    "#     df=df.drop_duplicates()\n"
   ]
  },
  {
   "cell_type": "code",
   "execution_count": null,
   "id": "31a85f45-4f76-4b90-9ed7-7624acb95c60",
   "metadata": {},
   "outputs": [],
   "source": [
    "# load resluts of loop above\n",
    "# owners_and_their_nfts = pd.read_pickle('owners_and_their_nfts')"
   ]
  },
  {
   "cell_type": "markdown",
   "id": "99f19e44-68b6-419b-b8c0-7cd07fb6eeeb",
   "metadata": {},
   "source": [
    "# get nft sales"
   ]
  },
  {
   "cell_type": "code",
   "execution_count": null,
   "id": "0498b6b9-36f1-41e6-a151-6bfc16388a38",
   "metadata": {},
   "outputs": [],
   "source": [
    "# # start about y ear ago, assuming about 6k blocks/day\n",
    "# startBlock = w3.eth.block_number - 6000 * 365 * 4 # should get all trades since ens was created may 2019 on opensea\n",
    "# print(f'startBlock = {startBlock}')\n",
    "# startLogIndex=0\n",
    "\n",
    "# latestBlock = w3.eth.block_number\n",
    "# print(f'latestBlock = {latestBlock}')\n",
    "\n",
    "# url = base_url + f\"/getNFTSales?startBlock={startBlock}&startLogIndex={startLogIndex}&startBundleIndex=0&ascendingOrder=true&marketplace=seaport&contractAddress={ens_nft_address}&buyerIsMaker=true\"\n",
    "# headers = {\"accept\": \"application/json\"}\n",
    "# response = requests.get(url, headers=headers)\n",
    "\n",
    "# returned_sales_df = pd.DataFrame(response.json()['nftSales'])\n",
    "# nft_sales_df = returned_sales_df\n",
    "\n",
    "# newBlockNumber = response.json()['nftSales'][-1]['blockNumber']\n",
    "# newLogIndex = response.json()['nftSales'][-1]['logIndex']\n",
    "\n",
    "# lastPrintBlock = newBlockNumber\n",
    "\n",
    "# while newBlockNumber < latestBlock and len(returned_sales_df)>1:\n",
    "    \n",
    "#     if newBlockNumber - lastPrintBlock > 6000*7: # print feedback for about each week worth of blocks\n",
    "#         lastPrintBlock = newBlockNumber\n",
    "#         print(f'block {newBlockNumber} / {latestBlock} ({(newBlockNumber-startBlock) / (latestBlock-startBlock) * 100}% done)')\n",
    "    \n",
    "#     url = base_url + f\"/getNFTSales?startBlock={newBlockNumber}&startLogIndex={newLogIndex}&startBundleIndex=0&ascendingOrder=true&marketplace=seaport&contractAddress={ens_nft_address}&buyerIsMaker=true\"\n",
    "#     headers = {\"accept\": \"application/json\"}\n",
    "#     response = requests.get(url, headers=headers)\n",
    "#     returned_sales_df = pd.DataFrame(response.json()['nftSales'])\n",
    "#     nft_sales_df = nft_sales_df.append(returned_sales_df)\n",
    "    \n",
    "#     newBlockNumber = response.json()['nftSales'][-1]['blockNumber']\n",
    "#     newLogIndex = response.json()['nftSales'][-1]['logIndex']\n",
    "# print('done.')\n"
   ]
  },
  {
   "cell_type": "code",
   "execution_count": null,
   "id": "70522f6e-6ab0-4ecc-8373-3a4b01ad61e7",
   "metadata": {},
   "outputs": [],
   "source": [
    "# # NOTE possibly missing earlier data\n",
    "# # startBlock = 6880054 # 4 years ago\n",
    "# # latestBlock = 15640054\n",
    "# # block 15009916 / 15640054 (92.80664383561644% done) # first finishd chunk of blocks, seems to skip ~90% of early blocks\n",
    "\n",
    "# save result of loop\n",
    "# nft_sales_df.to_pickle(path = '/Users/macstrelioff/Documents/git/crypto_public/ENS NFT analyses/nft_sales_df')"
   ]
  },
  {
   "cell_type": "code",
   "execution_count": null,
   "id": "66fdb5dd-ec60-4f8e-9123-a22bff98431a",
   "metadata": {},
   "outputs": [],
   "source": [
    "# load the saved result instead of re-running code above\n",
    "nft_sales_df = pd.read_pickle('nft_sales_df')"
   ]
  },
  {
   "cell_type": "code",
   "execution_count": null,
   "id": "fadd5c13-e54a-4d74-bb83-d0473f1b2564",
   "metadata": {},
   "outputs": [],
   "source": []
  },
  {
   "cell_type": "markdown",
   "id": "243583e8-abc1-4afe-a7ef-607b7065d7dd",
   "metadata": {},
   "source": [
    "# get treasury flows"
   ]
  },
  {
   "cell_type": "code",
   "execution_count": null,
   "id": "2edb3fcb-441f-402e-8f29-5cbcc58b7e14",
   "metadata": {},
   "outputs": [],
   "source": []
  },
  {
   "cell_type": "code",
   "execution_count": 57,
   "id": "c953b977-1458-4e13-809e-3942d80366cb",
   "metadata": {},
   "outputs": [],
   "source": [
    "ens_dao_treasury_address\n",
    "\n",
    "transfers_url = f\"https://eth-mainnet.alchemyapi.io/v2/{apiKey}/\"\n",
    "\n",
    "payload = {\n",
    "    \"id\": 1,\n",
    "    \"jsonrpc\": \"2.0\",\n",
    "    \"method\": \"alchemy_getAssetTransfers\",\n",
    "    \"params\": [\n",
    "        {\n",
    "            \"fromBlock\": \"0x0\",\n",
    "            \"toBlock\": \"latest\",\n",
    "            \"category\": [\"internal\", \"erc20\"],\n",
    "            \"withMetadata\": False,\n",
    "            \"excludeZeroValue\": True,\n",
    "            \"maxCount\": \"0x3e8\",\n",
    "            \"toAddress\": \"0xFe89cc7aBB2C4183683ab71653C4cdc9B02D44b7\"\n",
    "        }\n",
    "    ]\n",
    "}\n",
    "headers = {\n",
    "    \"accept\": \"application/json\",\n",
    "    \"content-type\": \"application/json\"\n",
    "}\n",
    "\n",
    "response = requests.post(transfers_url, json=payload, headers=headers)\n",
    "\n",
    "# print(response.text)\n",
    "\n",
    "# response = requests.post(base_url, json=payload, headers=headers)\n"
   ]
  },
  {
   "cell_type": "code",
   "execution_count": 69,
   "id": "ee7478b6-c117-4ea3-abef-1b7a37ef932c",
   "metadata": {},
   "outputs": [
    {
     "data": {
      "text/plain": [
       "dict_keys(['transfers'])"
      ]
     },
     "execution_count": 69,
     "metadata": {},
     "output_type": "execute_result"
    }
   ],
   "source": [
    "# TODO: web3 parse hex strings to decimal ints\n",
    "# response.json()['result']['transfers']"
   ]
  },
  {
   "cell_type": "code",
   "execution_count": null,
   "id": "5fd87179-33ba-4921-a5f8-0383ac0100c9",
   "metadata": {},
   "outputs": [],
   "source": []
  },
  {
   "cell_type": "code",
   "execution_count": null,
   "id": "916700b9-304f-403e-82d3-1eb2da8aa663",
   "metadata": {},
   "outputs": [],
   "source": []
  }
 ],
 "metadata": {
  "kernelspec": {
   "display_name": "Python 3",
   "language": "python",
   "name": "python3"
  },
  "language_info": {
   "codemirror_mode": {
    "name": "ipython",
    "version": 3
   },
   "file_extension": ".py",
   "mimetype": "text/x-python",
   "name": "python",
   "nbconvert_exporter": "python",
   "pygments_lexer": "ipython3",
   "version": "3.8.6"
  }
 },
 "nbformat": 4,
 "nbformat_minor": 5
}
