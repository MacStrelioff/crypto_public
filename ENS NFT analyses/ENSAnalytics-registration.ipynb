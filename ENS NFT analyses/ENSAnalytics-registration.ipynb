{
 "cells": [
  {
   "cell_type": "code",
   "execution_count": 3,
   "id": "9cb66205-c203-487d-8717-66f79fdbf376",
   "metadata": {},
   "outputs": [],
   "source": [
    "import time\n",
    "import requests\n",
    "import json\n",
    "from web3 import Web3\n",
    "from web3 import _utils # for error handling\n",
    "from multiprocessing.pool import ThreadPool\n",
    "from os import listdir\n",
    "from os.path import isfile, join\n",
    "\n",
    "import pandas as pd\n",
    "\n",
    "# saving dictionaries and pd dataFrames\n",
    "import pickle\n",
    "def save_obj(obj, name):\n",
    "    with open(name+'.pkl', 'wb') as f:\n",
    "        pickle.dump(obj, f, pickle.HIGHEST_PROTOCOL)\n",
    "def load_obj(name):\n",
    "    with open(name+'.pkl', 'rb') as f:\n",
    "        return pickle.load(f)"
   ]
  },
  {
   "cell_type": "code",
   "execution_count": 4,
   "id": "069f3de3-7257-442a-bf6f-2dfe9cfeef08",
   "metadata": {},
   "outputs": [],
   "source": [
    "# copy api key from https://dashboard.alchemy.com/\n",
    "apiKey=\"\""
   ]
  },
  {
   "cell_type": "markdown",
   "id": "0ef5ccfe-8b67-43d8-9bcb-87e06158d9dc",
   "metadata": {},
   "source": [
    "# Use Web3 to process registration & renewal transactions\n",
    "\n",
    "- I used web3 to get payments associated with registration and renewal events, which was used to estimate protocol revenue."
   ]
  },
  {
   "cell_type": "code",
   "execution_count": 5,
   "id": "c1bdb35a-04e7-4bb5-b8b1-8e9ca9ce5f08",
   "metadata": {},
   "outputs": [
    {
     "name": "stdout",
     "output_type": "stream",
     "text": [
      "True\n"
     ]
    }
   ],
   "source": [
    "# connect to an ethereum node\n",
    "alchemy_url = f\"https://eth-mainnet.g.alchemy.com/v2/{apiKey}\"\n",
    "w3 = Web3(Web3.HTTPProvider(alchemy_url))\n",
    "print(w3.isConnected())"
   ]
  },
  {
   "cell_type": "code",
   "execution_count": 6,
   "id": "5f256373-5c1c-40e3-9307-26740d5b4853",
   "metadata": {},
   "outputs": [],
   "source": [
    "# contracts, abis from etherscan\n",
    "ens_nft_address = Web3.toChecksumAddress(\"0x57f1887a8bf19b14fc0df6fd9b2acc9af147ea85\")\n",
    "ens_nft_abi = '[{\"inputs\":[{\"internalType\":\"contract ENS\",\"name\":\"_ens\",\"type\":\"address\"},{\"internalType\":\"bytes32\",\"name\":\"_baseNode\",\"type\":\"bytes32\"}],\"payable\":false,\"stateMutability\":\"nonpayable\",\"type\":\"constructor\"},{\"anonymous\":false,\"inputs\":[{\"indexed\":true,\"internalType\":\"address\",\"name\":\"owner\",\"type\":\"address\"},{\"indexed\":true,\"internalType\":\"address\",\"name\":\"approved\",\"type\":\"address\"},{\"indexed\":true,\"internalType\":\"uint256\",\"name\":\"tokenId\",\"type\":\"uint256\"}],\"name\":\"Approval\",\"type\":\"event\"},{\"anonymous\":false,\"inputs\":[{\"indexed\":true,\"internalType\":\"address\",\"name\":\"owner\",\"type\":\"address\"},{\"indexed\":true,\"internalType\":\"address\",\"name\":\"operator\",\"type\":\"address\"},{\"indexed\":false,\"internalType\":\"bool\",\"name\":\"approved\",\"type\":\"bool\"}],\"name\":\"ApprovalForAll\",\"type\":\"event\"},{\"anonymous\":false,\"inputs\":[{\"indexed\":true,\"internalType\":\"address\",\"name\":\"controller\",\"type\":\"address\"}],\"name\":\"ControllerAdded\",\"type\":\"event\"},{\"anonymous\":false,\"inputs\":[{\"indexed\":true,\"internalType\":\"address\",\"name\":\"controller\",\"type\":\"address\"}],\"name\":\"ControllerRemoved\",\"type\":\"event\"},{\"anonymous\":false,\"inputs\":[{\"indexed\":true,\"internalType\":\"uint256\",\"name\":\"id\",\"type\":\"uint256\"},{\"indexed\":true,\"internalType\":\"address\",\"name\":\"owner\",\"type\":\"address\"},{\"indexed\":false,\"internalType\":\"uint256\",\"name\":\"expires\",\"type\":\"uint256\"}],\"name\":\"NameMigrated\",\"type\":\"event\"},{\"anonymous\":false,\"inputs\":[{\"indexed\":true,\"internalType\":\"uint256\",\"name\":\"id\",\"type\":\"uint256\"},{\"indexed\":true,\"internalType\":\"address\",\"name\":\"owner\",\"type\":\"address\"},{\"indexed\":false,\"internalType\":\"uint256\",\"name\":\"expires\",\"type\":\"uint256\"}],\"name\":\"NameRegistered\",\"type\":\"event\"},{\"anonymous\":false,\"inputs\":[{\"indexed\":true,\"internalType\":\"uint256\",\"name\":\"id\",\"type\":\"uint256\"},{\"indexed\":false,\"internalType\":\"uint256\",\"name\":\"expires\",\"type\":\"uint256\"}],\"name\":\"NameRenewed\",\"type\":\"event\"},{\"anonymous\":false,\"inputs\":[{\"indexed\":true,\"internalType\":\"address\",\"name\":\"previousOwner\",\"type\":\"address\"},{\"indexed\":true,\"internalType\":\"address\",\"name\":\"newOwner\",\"type\":\"address\"}],\"name\":\"OwnershipTransferred\",\"type\":\"event\"},{\"anonymous\":false,\"inputs\":[{\"indexed\":true,\"internalType\":\"address\",\"name\":\"from\",\"type\":\"address\"},{\"indexed\":true,\"internalType\":\"address\",\"name\":\"to\",\"type\":\"address\"},{\"indexed\":true,\"internalType\":\"uint256\",\"name\":\"tokenId\",\"type\":\"uint256\"}],\"name\":\"Transfer\",\"type\":\"event\"},{\"constant\":true,\"inputs\":[],\"name\":\"GRACE_PERIOD\",\"outputs\":[{\"internalType\":\"uint256\",\"name\":\"\",\"type\":\"uint256\"}],\"payable\":false,\"stateMutability\":\"view\",\"type\":\"function\"},{\"constant\":false,\"inputs\":[{\"internalType\":\"address\",\"name\":\"controller\",\"type\":\"address\"}],\"name\":\"addController\",\"outputs\":[],\"payable\":false,\"stateMutability\":\"nonpayable\",\"type\":\"function\"},{\"constant\":false,\"inputs\":[{\"internalType\":\"address\",\"name\":\"to\",\"type\":\"address\"},{\"internalType\":\"uint256\",\"name\":\"tokenId\",\"type\":\"uint256\"}],\"name\":\"approve\",\"outputs\":[],\"payable\":false,\"stateMutability\":\"nonpayable\",\"type\":\"function\"},{\"constant\":true,\"inputs\":[{\"internalType\":\"uint256\",\"name\":\"id\",\"type\":\"uint256\"}],\"name\":\"available\",\"outputs\":[{\"internalType\":\"bool\",\"name\":\"\",\"type\":\"bool\"}],\"payable\":false,\"stateMutability\":\"view\",\"type\":\"function\"},{\"constant\":true,\"inputs\":[{\"internalType\":\"address\",\"name\":\"owner\",\"type\":\"address\"}],\"name\":\"balanceOf\",\"outputs\":[{\"internalType\":\"uint256\",\"name\":\"\",\"type\":\"uint256\"}],\"payable\":false,\"stateMutability\":\"view\",\"type\":\"function\"},{\"constant\":true,\"inputs\":[],\"name\":\"baseNode\",\"outputs\":[{\"internalType\":\"bytes32\",\"name\":\"\",\"type\":\"bytes32\"}],\"payable\":false,\"stateMutability\":\"view\",\"type\":\"function\"},{\"constant\":true,\"inputs\":[{\"internalType\":\"address\",\"name\":\"\",\"type\":\"address\"}],\"name\":\"controllers\",\"outputs\":[{\"internalType\":\"bool\",\"name\":\"\",\"type\":\"bool\"}],\"payable\":false,\"stateMutability\":\"view\",\"type\":\"function\"},{\"constant\":true,\"inputs\":[],\"name\":\"ens\",\"outputs\":[{\"internalType\":\"contract ENS\",\"name\":\"\",\"type\":\"address\"}],\"payable\":false,\"stateMutability\":\"view\",\"type\":\"function\"},{\"constant\":true,\"inputs\":[{\"internalType\":\"uint256\",\"name\":\"tokenId\",\"type\":\"uint256\"}],\"name\":\"getApproved\",\"outputs\":[{\"internalType\":\"address\",\"name\":\"\",\"type\":\"address\"}],\"payable\":false,\"stateMutability\":\"view\",\"type\":\"function\"},{\"constant\":true,\"inputs\":[{\"internalType\":\"address\",\"name\":\"owner\",\"type\":\"address\"},{\"internalType\":\"address\",\"name\":\"operator\",\"type\":\"address\"}],\"name\":\"isApprovedForAll\",\"outputs\":[{\"internalType\":\"bool\",\"name\":\"\",\"type\":\"bool\"}],\"payable\":false,\"stateMutability\":\"view\",\"type\":\"function\"},{\"constant\":true,\"inputs\":[],\"name\":\"isOwner\",\"outputs\":[{\"internalType\":\"bool\",\"name\":\"\",\"type\":\"bool\"}],\"payable\":false,\"stateMutability\":\"view\",\"type\":\"function\"},{\"constant\":true,\"inputs\":[{\"internalType\":\"uint256\",\"name\":\"id\",\"type\":\"uint256\"}],\"name\":\"nameExpires\",\"outputs\":[{\"internalType\":\"uint256\",\"name\":\"\",\"type\":\"uint256\"}],\"payable\":false,\"stateMutability\":\"view\",\"type\":\"function\"},{\"constant\":true,\"inputs\":[],\"name\":\"owner\",\"outputs\":[{\"internalType\":\"address\",\"name\":\"\",\"type\":\"address\"}],\"payable\":false,\"stateMutability\":\"view\",\"type\":\"function\"},{\"constant\":true,\"inputs\":[{\"internalType\":\"uint256\",\"name\":\"tokenId\",\"type\":\"uint256\"}],\"name\":\"ownerOf\",\"outputs\":[{\"internalType\":\"address\",\"name\":\"\",\"type\":\"address\"}],\"payable\":false,\"stateMutability\":\"view\",\"type\":\"function\"},{\"constant\":false,\"inputs\":[{\"internalType\":\"uint256\",\"name\":\"id\",\"type\":\"uint256\"},{\"internalType\":\"address\",\"name\":\"owner\",\"type\":\"address\"}],\"name\":\"reclaim\",\"outputs\":[],\"payable\":false,\"stateMutability\":\"nonpayable\",\"type\":\"function\"},{\"constant\":false,\"inputs\":[{\"internalType\":\"uint256\",\"name\":\"id\",\"type\":\"uint256\"},{\"internalType\":\"address\",\"name\":\"owner\",\"type\":\"address\"},{\"internalType\":\"uint256\",\"name\":\"duration\",\"type\":\"uint256\"}],\"name\":\"register\",\"outputs\":[{\"internalType\":\"uint256\",\"name\":\"\",\"type\":\"uint256\"}],\"payable\":false,\"stateMutability\":\"nonpayable\",\"type\":\"function\"},{\"constant\":false,\"inputs\":[{\"internalType\":\"uint256\",\"name\":\"id\",\"type\":\"uint256\"},{\"internalType\":\"address\",\"name\":\"owner\",\"type\":\"address\"},{\"internalType\":\"uint256\",\"name\":\"duration\",\"type\":\"uint256\"}],\"name\":\"registerOnly\",\"outputs\":[{\"internalType\":\"uint256\",\"name\":\"\",\"type\":\"uint256\"}],\"payable\":false,\"stateMutability\":\"nonpayable\",\"type\":\"function\"},{\"constant\":false,\"inputs\":[{\"internalType\":\"address\",\"name\":\"controller\",\"type\":\"address\"}],\"name\":\"removeController\",\"outputs\":[],\"payable\":false,\"stateMutability\":\"nonpayable\",\"type\":\"function\"},{\"constant\":false,\"inputs\":[{\"internalType\":\"uint256\",\"name\":\"id\",\"type\":\"uint256\"},{\"internalType\":\"uint256\",\"name\":\"duration\",\"type\":\"uint256\"}],\"name\":\"renew\",\"outputs\":[{\"internalType\":\"uint256\",\"name\":\"\",\"type\":\"uint256\"}],\"payable\":false,\"stateMutability\":\"nonpayable\",\"type\":\"function\"},{\"constant\":false,\"inputs\":[],\"name\":\"renounceOwnership\",\"outputs\":[],\"payable\":false,\"stateMutability\":\"nonpayable\",\"type\":\"function\"},{\"constant\":false,\"inputs\":[{\"internalType\":\"address\",\"name\":\"from\",\"type\":\"address\"},{\"internalType\":\"address\",\"name\":\"to\",\"type\":\"address\"},{\"internalType\":\"uint256\",\"name\":\"tokenId\",\"type\":\"uint256\"}],\"name\":\"safeTransferFrom\",\"outputs\":[],\"payable\":false,\"stateMutability\":\"nonpayable\",\"type\":\"function\"},{\"constant\":false,\"inputs\":[{\"internalType\":\"address\",\"name\":\"from\",\"type\":\"address\"},{\"internalType\":\"address\",\"name\":\"to\",\"type\":\"address\"},{\"internalType\":\"uint256\",\"name\":\"tokenId\",\"type\":\"uint256\"},{\"internalType\":\"bytes\",\"name\":\"_data\",\"type\":\"bytes\"}],\"name\":\"safeTransferFrom\",\"outputs\":[],\"payable\":false,\"stateMutability\":\"nonpayable\",\"type\":\"function\"},{\"constant\":false,\"inputs\":[{\"internalType\":\"address\",\"name\":\"to\",\"type\":\"address\"},{\"internalType\":\"bool\",\"name\":\"approved\",\"type\":\"bool\"}],\"name\":\"setApprovalForAll\",\"outputs\":[],\"payable\":false,\"stateMutability\":\"nonpayable\",\"type\":\"function\"},{\"constant\":false,\"inputs\":[{\"internalType\":\"address\",\"name\":\"resolver\",\"type\":\"address\"}],\"name\":\"setResolver\",\"outputs\":[],\"payable\":false,\"stateMutability\":\"nonpayable\",\"type\":\"function\"},{\"constant\":true,\"inputs\":[{\"internalType\":\"bytes4\",\"name\":\"interfaceID\",\"type\":\"bytes4\"}],\"name\":\"supportsInterface\",\"outputs\":[{\"internalType\":\"bool\",\"name\":\"\",\"type\":\"bool\"}],\"payable\":false,\"stateMutability\":\"view\",\"type\":\"function\"},{\"constant\":false,\"inputs\":[{\"internalType\":\"address\",\"name\":\"from\",\"type\":\"address\"},{\"internalType\":\"address\",\"name\":\"to\",\"type\":\"address\"},{\"internalType\":\"uint256\",\"name\":\"tokenId\",\"type\":\"uint256\"}],\"name\":\"transferFrom\",\"outputs\":[],\"payable\":false,\"stateMutability\":\"nonpayable\",\"type\":\"function\"},{\"constant\":false,\"inputs\":[{\"internalType\":\"address\",\"name\":\"newOwner\",\"type\":\"address\"}],\"name\":\"transferOwnership\",\"outputs\":[],\"payable\":false,\"stateMutability\":\"nonpayable\",\"type\":\"function\"}]'\n",
    "\n",
    "ens_token_address = Web3.toChecksumAddress(\"0xc18360217d8f7ab5e7c516566761ea12ce7f9d72\")\n",
    "ens_token_abi = '[{\"inputs\":[{\"internalType\":\"uint256\",\"name\":\"freeSupply\",\"type\":\"uint256\"},{\"internalType\":\"uint256\",\"name\":\"airdropSupply\",\"type\":\"uint256\"},{\"internalType\":\"uint256\",\"name\":\"_claimPeriodEnds\",\"type\":\"uint256\"}],\"stateMutability\":\"nonpayable\",\"type\":\"constructor\"},{\"anonymous\":false,\"inputs\":[{\"indexed\":true,\"internalType\":\"address\",\"name\":\"owner\",\"type\":\"address\"},{\"indexed\":true,\"internalType\":\"address\",\"name\":\"spender\",\"type\":\"address\"},{\"indexed\":false,\"internalType\":\"uint256\",\"name\":\"value\",\"type\":\"uint256\"}],\"name\":\"Approval\",\"type\":\"event\"},{\"anonymous\":false,\"inputs\":[{\"indexed\":true,\"internalType\":\"address\",\"name\":\"claimant\",\"type\":\"address\"},{\"indexed\":false,\"internalType\":\"uint256\",\"name\":\"amount\",\"type\":\"uint256\"}],\"name\":\"Claim\",\"type\":\"event\"},{\"anonymous\":false,\"inputs\":[{\"indexed\":true,\"internalType\":\"address\",\"name\":\"delegator\",\"type\":\"address\"},{\"indexed\":true,\"internalType\":\"address\",\"name\":\"fromDelegate\",\"type\":\"address\"},{\"indexed\":true,\"internalType\":\"address\",\"name\":\"toDelegate\",\"type\":\"address\"}],\"name\":\"DelegateChanged\",\"type\":\"event\"},{\"anonymous\":false,\"inputs\":[{\"indexed\":true,\"internalType\":\"address\",\"name\":\"delegate\",\"type\":\"address\"},{\"indexed\":false,\"internalType\":\"uint256\",\"name\":\"previousBalance\",\"type\":\"uint256\"},{\"indexed\":false,\"internalType\":\"uint256\",\"name\":\"newBalance\",\"type\":\"uint256\"}],\"name\":\"DelegateVotesChanged\",\"type\":\"event\"},{\"anonymous\":false,\"inputs\":[{\"indexed\":false,\"internalType\":\"bytes32\",\"name\":\"merkleRoot\",\"type\":\"bytes32\"}],\"name\":\"MerkleRootChanged\",\"type\":\"event\"},{\"anonymous\":false,\"inputs\":[{\"indexed\":true,\"internalType\":\"address\",\"name\":\"previousOwner\",\"type\":\"address\"},{\"indexed\":true,\"internalType\":\"address\",\"name\":\"newOwner\",\"type\":\"address\"}],\"name\":\"OwnershipTransferred\",\"type\":\"event\"},{\"anonymous\":false,\"inputs\":[{\"indexed\":true,\"internalType\":\"address\",\"name\":\"from\",\"type\":\"address\"},{\"indexed\":true,\"internalType\":\"address\",\"name\":\"to\",\"type\":\"address\"},{\"indexed\":false,\"internalType\":\"uint256\",\"name\":\"value\",\"type\":\"uint256\"}],\"name\":\"Transfer\",\"type\":\"event\"},{\"inputs\":[],\"name\":\"DOMAIN_SEPARATOR\",\"outputs\":[{\"internalType\":\"bytes32\",\"name\":\"\",\"type\":\"bytes32\"}],\"stateMutability\":\"view\",\"type\":\"function\"},{\"inputs\":[{\"internalType\":\"address\",\"name\":\"owner\",\"type\":\"address\"},{\"internalType\":\"address\",\"name\":\"spender\",\"type\":\"address\"}],\"name\":\"allowance\",\"outputs\":[{\"internalType\":\"uint256\",\"name\":\"\",\"type\":\"uint256\"}],\"stateMutability\":\"view\",\"type\":\"function\"},{\"inputs\":[{\"internalType\":\"address\",\"name\":\"spender\",\"type\":\"address\"},{\"internalType\":\"uint256\",\"name\":\"amount\",\"type\":\"uint256\"}],\"name\":\"approve\",\"outputs\":[{\"internalType\":\"bool\",\"name\":\"\",\"type\":\"bool\"}],\"stateMutability\":\"nonpayable\",\"type\":\"function\"},{\"inputs\":[{\"internalType\":\"address\",\"name\":\"account\",\"type\":\"address\"}],\"name\":\"balanceOf\",\"outputs\":[{\"internalType\":\"uint256\",\"name\":\"\",\"type\":\"uint256\"}],\"stateMutability\":\"view\",\"type\":\"function\"},{\"inputs\":[{\"internalType\":\"address\",\"name\":\"account\",\"type\":\"address\"},{\"internalType\":\"uint32\",\"name\":\"pos\",\"type\":\"uint32\"}],\"name\":\"checkpoints\",\"outputs\":[{\"components\":[{\"internalType\":\"uint32\",\"name\":\"fromBlock\",\"type\":\"uint32\"},{\"internalType\":\"uint224\",\"name\":\"votes\",\"type\":\"uint224\"}],\"internalType\":\"struct ERC20Votes.Checkpoint\",\"name\":\"\",\"type\":\"tuple\"}],\"stateMutability\":\"view\",\"type\":\"function\"},{\"inputs\":[],\"name\":\"claimPeriodEnds\",\"outputs\":[{\"internalType\":\"uint256\",\"name\":\"\",\"type\":\"uint256\"}],\"stateMutability\":\"view\",\"type\":\"function\"},{\"inputs\":[{\"internalType\":\"uint256\",\"name\":\"amount\",\"type\":\"uint256\"},{\"internalType\":\"address\",\"name\":\"delegate\",\"type\":\"address\"},{\"internalType\":\"bytes32[]\",\"name\":\"merkleProof\",\"type\":\"bytes32[]\"}],\"name\":\"claimTokens\",\"outputs\":[],\"stateMutability\":\"nonpayable\",\"type\":\"function\"},{\"inputs\":[],\"name\":\"decimals\",\"outputs\":[{\"internalType\":\"uint8\",\"name\":\"\",\"type\":\"uint8\"}],\"stateMutability\":\"view\",\"type\":\"function\"},{\"inputs\":[{\"internalType\":\"address\",\"name\":\"spender\",\"type\":\"address\"},{\"internalType\":\"uint256\",\"name\":\"subtractedValue\",\"type\":\"uint256\"}],\"name\":\"decreaseAllowance\",\"outputs\":[{\"internalType\":\"bool\",\"name\":\"\",\"type\":\"bool\"}],\"stateMutability\":\"nonpayable\",\"type\":\"function\"},{\"inputs\":[{\"internalType\":\"address\",\"name\":\"delegatee\",\"type\":\"address\"}],\"name\":\"delegate\",\"outputs\":[],\"stateMutability\":\"nonpayable\",\"type\":\"function\"},{\"inputs\":[{\"internalType\":\"address\",\"name\":\"delegatee\",\"type\":\"address\"},{\"internalType\":\"uint256\",\"name\":\"nonce\",\"type\":\"uint256\"},{\"internalType\":\"uint256\",\"name\":\"expiry\",\"type\":\"uint256\"},{\"internalType\":\"uint8\",\"name\":\"v\",\"type\":\"uint8\"},{\"internalType\":\"bytes32\",\"name\":\"r\",\"type\":\"bytes32\"},{\"internalType\":\"bytes32\",\"name\":\"s\",\"type\":\"bytes32\"}],\"name\":\"delegateBySig\",\"outputs\":[],\"stateMutability\":\"nonpayable\",\"type\":\"function\"},{\"inputs\":[{\"internalType\":\"address\",\"name\":\"account\",\"type\":\"address\"}],\"name\":\"delegates\",\"outputs\":[{\"internalType\":\"address\",\"name\":\"\",\"type\":\"address\"}],\"stateMutability\":\"view\",\"type\":\"function\"},{\"inputs\":[{\"internalType\":\"uint256\",\"name\":\"blockNumber\",\"type\":\"uint256\"}],\"name\":\"getPastTotalSupply\",\"outputs\":[{\"internalType\":\"uint256\",\"name\":\"\",\"type\":\"uint256\"}],\"stateMutability\":\"view\",\"type\":\"function\"},{\"inputs\":[{\"internalType\":\"address\",\"name\":\"account\",\"type\":\"address\"},{\"internalType\":\"uint256\",\"name\":\"blockNumber\",\"type\":\"uint256\"}],\"name\":\"getPastVotes\",\"outputs\":[{\"internalType\":\"uint256\",\"name\":\"\",\"type\":\"uint256\"}],\"stateMutability\":\"view\",\"type\":\"function\"},{\"inputs\":[{\"internalType\":\"address\",\"name\":\"account\",\"type\":\"address\"}],\"name\":\"getVotes\",\"outputs\":[{\"internalType\":\"uint256\",\"name\":\"\",\"type\":\"uint256\"}],\"stateMutability\":\"view\",\"type\":\"function\"},{\"inputs\":[{\"internalType\":\"address\",\"name\":\"spender\",\"type\":\"address\"},{\"internalType\":\"uint256\",\"name\":\"addedValue\",\"type\":\"uint256\"}],\"name\":\"increaseAllowance\",\"outputs\":[{\"internalType\":\"bool\",\"name\":\"\",\"type\":\"bool\"}],\"stateMutability\":\"nonpayable\",\"type\":\"function\"},{\"inputs\":[{\"internalType\":\"uint256\",\"name\":\"index\",\"type\":\"uint256\"}],\"name\":\"isClaimed\",\"outputs\":[{\"internalType\":\"bool\",\"name\":\"\",\"type\":\"bool\"}],\"stateMutability\":\"view\",\"type\":\"function\"},{\"inputs\":[],\"name\":\"merkleRoot\",\"outputs\":[{\"internalType\":\"bytes32\",\"name\":\"\",\"type\":\"bytes32\"}],\"stateMutability\":\"view\",\"type\":\"function\"},{\"inputs\":[],\"name\":\"minimumMintInterval\",\"outputs\":[{\"internalType\":\"uint256\",\"name\":\"\",\"type\":\"uint256\"}],\"stateMutability\":\"view\",\"type\":\"function\"},{\"inputs\":[{\"internalType\":\"address\",\"name\":\"dest\",\"type\":\"address\"},{\"internalType\":\"uint256\",\"name\":\"amount\",\"type\":\"uint256\"}],\"name\":\"mint\",\"outputs\":[],\"stateMutability\":\"nonpayable\",\"type\":\"function\"},{\"inputs\":[],\"name\":\"mintCap\",\"outputs\":[{\"internalType\":\"uint256\",\"name\":\"\",\"type\":\"uint256\"}],\"stateMutability\":\"view\",\"type\":\"function\"},{\"inputs\":[],\"name\":\"name\",\"outputs\":[{\"internalType\":\"string\",\"name\":\"\",\"type\":\"string\"}],\"stateMutability\":\"view\",\"type\":\"function\"},{\"inputs\":[],\"name\":\"nextMint\",\"outputs\":[{\"internalType\":\"uint256\",\"name\":\"\",\"type\":\"uint256\"}],\"stateMutability\":\"view\",\"type\":\"function\"},{\"inputs\":[{\"internalType\":\"address\",\"name\":\"owner\",\"type\":\"address\"}],\"name\":\"nonces\",\"outputs\":[{\"internalType\":\"uint256\",\"name\":\"\",\"type\":\"uint256\"}],\"stateMutability\":\"view\",\"type\":\"function\"},{\"inputs\":[{\"internalType\":\"address\",\"name\":\"account\",\"type\":\"address\"}],\"name\":\"numCheckpoints\",\"outputs\":[{\"internalType\":\"uint32\",\"name\":\"\",\"type\":\"uint32\"}],\"stateMutability\":\"view\",\"type\":\"function\"},{\"inputs\":[],\"name\":\"owner\",\"outputs\":[{\"internalType\":\"address\",\"name\":\"\",\"type\":\"address\"}],\"stateMutability\":\"view\",\"type\":\"function\"},{\"inputs\":[{\"internalType\":\"address\",\"name\":\"owner\",\"type\":\"address\"},{\"internalType\":\"address\",\"name\":\"spender\",\"type\":\"address\"},{\"internalType\":\"uint256\",\"name\":\"value\",\"type\":\"uint256\"},{\"internalType\":\"uint256\",\"name\":\"deadline\",\"type\":\"uint256\"},{\"internalType\":\"uint8\",\"name\":\"v\",\"type\":\"uint8\"},{\"internalType\":\"bytes32\",\"name\":\"r\",\"type\":\"bytes32\"},{\"internalType\":\"bytes32\",\"name\":\"s\",\"type\":\"bytes32\"}],\"name\":\"permit\",\"outputs\":[],\"stateMutability\":\"nonpayable\",\"type\":\"function\"},{\"inputs\":[],\"name\":\"renounceOwnership\",\"outputs\":[],\"stateMutability\":\"nonpayable\",\"type\":\"function\"},{\"inputs\":[{\"internalType\":\"bytes32\",\"name\":\"_merkleRoot\",\"type\":\"bytes32\"}],\"name\":\"setMerkleRoot\",\"outputs\":[],\"stateMutability\":\"nonpayable\",\"type\":\"function\"},{\"inputs\":[{\"internalType\":\"address\",\"name\":\"dest\",\"type\":\"address\"}],\"name\":\"sweep\",\"outputs\":[],\"stateMutability\":\"nonpayable\",\"type\":\"function\"},{\"inputs\":[],\"name\":\"symbol\",\"outputs\":[{\"internalType\":\"string\",\"name\":\"\",\"type\":\"string\"}],\"stateMutability\":\"view\",\"type\":\"function\"},{\"inputs\":[],\"name\":\"totalSupply\",\"outputs\":[{\"internalType\":\"uint256\",\"name\":\"\",\"type\":\"uint256\"}],\"stateMutability\":\"view\",\"type\":\"function\"},{\"inputs\":[{\"internalType\":\"address\",\"name\":\"recipient\",\"type\":\"address\"},{\"internalType\":\"uint256\",\"name\":\"amount\",\"type\":\"uint256\"}],\"name\":\"transfer\",\"outputs\":[{\"internalType\":\"bool\",\"name\":\"\",\"type\":\"bool\"}],\"stateMutability\":\"nonpayable\",\"type\":\"function\"},{\"inputs\":[{\"internalType\":\"address\",\"name\":\"sender\",\"type\":\"address\"},{\"internalType\":\"address\",\"name\":\"recipient\",\"type\":\"address\"},{\"internalType\":\"uint256\",\"name\":\"amount\",\"type\":\"uint256\"}],\"name\":\"transferFrom\",\"outputs\":[{\"internalType\":\"bool\",\"name\":\"\",\"type\":\"bool\"}],\"stateMutability\":\"nonpayable\",\"type\":\"function\"},{\"inputs\":[{\"internalType\":\"address\",\"name\":\"newOwner\",\"type\":\"address\"}],\"name\":\"transferOwnership\",\"outputs\":[],\"stateMutability\":\"nonpayable\",\"type\":\"function\"}]'\n",
    "\n",
    "ens_dao_treasury_address =  Web3.toChecksumAddress(\"0xfe89cc7abb2c4183683ab71653c4cdc9b02d44b7\")\n",
    "ens_dao_treasury_abi = '[{\"inputs\":[{\"internalType\":\"uint256\",\"name\":\"minDelay\",\"type\":\"uint256\"},{\"internalType\":\"address[]\",\"name\":\"proposers\",\"type\":\"address[]\"},{\"internalType\":\"address[]\",\"name\":\"executors\",\"type\":\"address[]\"}],\"stateMutability\":\"nonpayable\",\"type\":\"constructor\"},{\"anonymous\":false,\"inputs\":[{\"indexed\":true,\"internalType\":\"bytes32\",\"name\":\"id\",\"type\":\"bytes32\"},{\"indexed\":true,\"internalType\":\"uint256\",\"name\":\"index\",\"type\":\"uint256\"},{\"indexed\":false,\"internalType\":\"address\",\"name\":\"target\",\"type\":\"address\"},{\"indexed\":false,\"internalType\":\"uint256\",\"name\":\"value\",\"type\":\"uint256\"},{\"indexed\":false,\"internalType\":\"bytes\",\"name\":\"data\",\"type\":\"bytes\"}],\"name\":\"CallExecuted\",\"type\":\"event\"},{\"anonymous\":false,\"inputs\":[{\"indexed\":true,\"internalType\":\"bytes32\",\"name\":\"id\",\"type\":\"bytes32\"},{\"indexed\":true,\"internalType\":\"uint256\",\"name\":\"index\",\"type\":\"uint256\"},{\"indexed\":false,\"internalType\":\"address\",\"name\":\"target\",\"type\":\"address\"},{\"indexed\":false,\"internalType\":\"uint256\",\"name\":\"value\",\"type\":\"uint256\"},{\"indexed\":false,\"internalType\":\"bytes\",\"name\":\"data\",\"type\":\"bytes\"},{\"indexed\":false,\"internalType\":\"bytes32\",\"name\":\"predecessor\",\"type\":\"bytes32\"},{\"indexed\":false,\"internalType\":\"uint256\",\"name\":\"delay\",\"type\":\"uint256\"}],\"name\":\"CallScheduled\",\"type\":\"event\"},{\"anonymous\":false,\"inputs\":[{\"indexed\":true,\"internalType\":\"bytes32\",\"name\":\"id\",\"type\":\"bytes32\"}],\"name\":\"Cancelled\",\"type\":\"event\"},{\"anonymous\":false,\"inputs\":[{\"indexed\":false,\"internalType\":\"uint256\",\"name\":\"oldDuration\",\"type\":\"uint256\"},{\"indexed\":false,\"internalType\":\"uint256\",\"name\":\"newDuration\",\"type\":\"uint256\"}],\"name\":\"MinDelayChange\",\"type\":\"event\"},{\"anonymous\":false,\"inputs\":[{\"indexed\":true,\"internalType\":\"bytes32\",\"name\":\"role\",\"type\":\"bytes32\"},{\"indexed\":true,\"internalType\":\"bytes32\",\"name\":\"previousAdminRole\",\"type\":\"bytes32\"},{\"indexed\":true,\"internalType\":\"bytes32\",\"name\":\"newAdminRole\",\"type\":\"bytes32\"}],\"name\":\"RoleAdminChanged\",\"type\":\"event\"},{\"anonymous\":false,\"inputs\":[{\"indexed\":true,\"internalType\":\"bytes32\",\"name\":\"role\",\"type\":\"bytes32\"},{\"indexed\":true,\"internalType\":\"address\",\"name\":\"account\",\"type\":\"address\"},{\"indexed\":true,\"internalType\":\"address\",\"name\":\"sender\",\"type\":\"address\"}],\"name\":\"RoleGranted\",\"type\":\"event\"},{\"anonymous\":false,\"inputs\":[{\"indexed\":true,\"internalType\":\"bytes32\",\"name\":\"role\",\"type\":\"bytes32\"},{\"indexed\":true,\"internalType\":\"address\",\"name\":\"account\",\"type\":\"address\"},{\"indexed\":true,\"internalType\":\"address\",\"name\":\"sender\",\"type\":\"address\"}],\"name\":\"RoleRevoked\",\"type\":\"event\"},{\"inputs\":[],\"name\":\"DEFAULT_ADMIN_ROLE\",\"outputs\":[{\"internalType\":\"bytes32\",\"name\":\"\",\"type\":\"bytes32\"}],\"stateMutability\":\"view\",\"type\":\"function\"},{\"inputs\":[],\"name\":\"EXECUTOR_ROLE\",\"outputs\":[{\"internalType\":\"bytes32\",\"name\":\"\",\"type\":\"bytes32\"}],\"stateMutability\":\"view\",\"type\":\"function\"},{\"inputs\":[],\"name\":\"PROPOSER_ROLE\",\"outputs\":[{\"internalType\":\"bytes32\",\"name\":\"\",\"type\":\"bytes32\"}],\"stateMutability\":\"view\",\"type\":\"function\"},{\"inputs\":[],\"name\":\"TIMELOCK_ADMIN_ROLE\",\"outputs\":[{\"internalType\":\"bytes32\",\"name\":\"\",\"type\":\"bytes32\"}],\"stateMutability\":\"view\",\"type\":\"function\"},{\"inputs\":[{\"internalType\":\"bytes32\",\"name\":\"id\",\"type\":\"bytes32\"}],\"name\":\"cancel\",\"outputs\":[],\"stateMutability\":\"nonpayable\",\"type\":\"function\"},{\"inputs\":[{\"internalType\":\"address\",\"name\":\"target\",\"type\":\"address\"},{\"internalType\":\"uint256\",\"name\":\"value\",\"type\":\"uint256\"},{\"internalType\":\"bytes\",\"name\":\"data\",\"type\":\"bytes\"},{\"internalType\":\"bytes32\",\"name\":\"predecessor\",\"type\":\"bytes32\"},{\"internalType\":\"bytes32\",\"name\":\"salt\",\"type\":\"bytes32\"}],\"name\":\"execute\",\"outputs\":[],\"stateMutability\":\"payable\",\"type\":\"function\"},{\"inputs\":[{\"internalType\":\"address[]\",\"name\":\"targets\",\"type\":\"address[]\"},{\"internalType\":\"uint256[]\",\"name\":\"values\",\"type\":\"uint256[]\"},{\"internalType\":\"bytes[]\",\"name\":\"datas\",\"type\":\"bytes[]\"},{\"internalType\":\"bytes32\",\"name\":\"predecessor\",\"type\":\"bytes32\"},{\"internalType\":\"bytes32\",\"name\":\"salt\",\"type\":\"bytes32\"}],\"name\":\"executeBatch\",\"outputs\":[],\"stateMutability\":\"payable\",\"type\":\"function\"},{\"inputs\":[],\"name\":\"getMinDelay\",\"outputs\":[{\"internalType\":\"uint256\",\"name\":\"duration\",\"type\":\"uint256\"}],\"stateMutability\":\"view\",\"type\":\"function\"},{\"inputs\":[{\"internalType\":\"bytes32\",\"name\":\"role\",\"type\":\"bytes32\"}],\"name\":\"getRoleAdmin\",\"outputs\":[{\"internalType\":\"bytes32\",\"name\":\"\",\"type\":\"bytes32\"}],\"stateMutability\":\"view\",\"type\":\"function\"},{\"inputs\":[{\"internalType\":\"bytes32\",\"name\":\"id\",\"type\":\"bytes32\"}],\"name\":\"getTimestamp\",\"outputs\":[{\"internalType\":\"uint256\",\"name\":\"timestamp\",\"type\":\"uint256\"}],\"stateMutability\":\"view\",\"type\":\"function\"},{\"inputs\":[{\"internalType\":\"bytes32\",\"name\":\"role\",\"type\":\"bytes32\"},{\"internalType\":\"address\",\"name\":\"account\",\"type\":\"address\"}],\"name\":\"grantRole\",\"outputs\":[],\"stateMutability\":\"nonpayable\",\"type\":\"function\"},{\"inputs\":[{\"internalType\":\"bytes32\",\"name\":\"role\",\"type\":\"bytes32\"},{\"internalType\":\"address\",\"name\":\"account\",\"type\":\"address\"}],\"name\":\"hasRole\",\"outputs\":[{\"internalType\":\"bool\",\"name\":\"\",\"type\":\"bool\"}],\"stateMutability\":\"view\",\"type\":\"function\"},{\"inputs\":[{\"internalType\":\"address\",\"name\":\"target\",\"type\":\"address\"},{\"internalType\":\"uint256\",\"name\":\"value\",\"type\":\"uint256\"},{\"internalType\":\"bytes\",\"name\":\"data\",\"type\":\"bytes\"},{\"internalType\":\"bytes32\",\"name\":\"predecessor\",\"type\":\"bytes32\"},{\"internalType\":\"bytes32\",\"name\":\"salt\",\"type\":\"bytes32\"}],\"name\":\"hashOperation\",\"outputs\":[{\"internalType\":\"bytes32\",\"name\":\"hash\",\"type\":\"bytes32\"}],\"stateMutability\":\"pure\",\"type\":\"function\"},{\"inputs\":[{\"internalType\":\"address[]\",\"name\":\"targets\",\"type\":\"address[]\"},{\"internalType\":\"uint256[]\",\"name\":\"values\",\"type\":\"uint256[]\"},{\"internalType\":\"bytes[]\",\"name\":\"datas\",\"type\":\"bytes[]\"},{\"internalType\":\"bytes32\",\"name\":\"predecessor\",\"type\":\"bytes32\"},{\"internalType\":\"bytes32\",\"name\":\"salt\",\"type\":\"bytes32\"}],\"name\":\"hashOperationBatch\",\"outputs\":[{\"internalType\":\"bytes32\",\"name\":\"hash\",\"type\":\"bytes32\"}],\"stateMutability\":\"pure\",\"type\":\"function\"},{\"inputs\":[{\"internalType\":\"bytes32\",\"name\":\"id\",\"type\":\"bytes32\"}],\"name\":\"isOperation\",\"outputs\":[{\"internalType\":\"bool\",\"name\":\"pending\",\"type\":\"bool\"}],\"stateMutability\":\"view\",\"type\":\"function\"},{\"inputs\":[{\"internalType\":\"bytes32\",\"name\":\"id\",\"type\":\"bytes32\"}],\"name\":\"isOperationDone\",\"outputs\":[{\"internalType\":\"bool\",\"name\":\"done\",\"type\":\"bool\"}],\"stateMutability\":\"view\",\"type\":\"function\"},{\"inputs\":[{\"internalType\":\"bytes32\",\"name\":\"id\",\"type\":\"bytes32\"}],\"name\":\"isOperationPending\",\"outputs\":[{\"internalType\":\"bool\",\"name\":\"pending\",\"type\":\"bool\"}],\"stateMutability\":\"view\",\"type\":\"function\"},{\"inputs\":[{\"internalType\":\"bytes32\",\"name\":\"id\",\"type\":\"bytes32\"}],\"name\":\"isOperationReady\",\"outputs\":[{\"internalType\":\"bool\",\"name\":\"ready\",\"type\":\"bool\"}],\"stateMutability\":\"view\",\"type\":\"function\"},{\"inputs\":[{\"internalType\":\"bytes32\",\"name\":\"role\",\"type\":\"bytes32\"},{\"internalType\":\"address\",\"name\":\"account\",\"type\":\"address\"}],\"name\":\"renounceRole\",\"outputs\":[],\"stateMutability\":\"nonpayable\",\"type\":\"function\"},{\"inputs\":[{\"internalType\":\"bytes32\",\"name\":\"role\",\"type\":\"bytes32\"},{\"internalType\":\"address\",\"name\":\"account\",\"type\":\"address\"}],\"name\":\"revokeRole\",\"outputs\":[],\"stateMutability\":\"nonpayable\",\"type\":\"function\"},{\"inputs\":[{\"internalType\":\"address\",\"name\":\"target\",\"type\":\"address\"},{\"internalType\":\"uint256\",\"name\":\"value\",\"type\":\"uint256\"},{\"internalType\":\"bytes\",\"name\":\"data\",\"type\":\"bytes\"},{\"internalType\":\"bytes32\",\"name\":\"predecessor\",\"type\":\"bytes32\"},{\"internalType\":\"bytes32\",\"name\":\"salt\",\"type\":\"bytes32\"},{\"internalType\":\"uint256\",\"name\":\"delay\",\"type\":\"uint256\"}],\"name\":\"schedule\",\"outputs\":[],\"stateMutability\":\"nonpayable\",\"type\":\"function\"},{\"inputs\":[{\"internalType\":\"address[]\",\"name\":\"targets\",\"type\":\"address[]\"},{\"internalType\":\"uint256[]\",\"name\":\"values\",\"type\":\"uint256[]\"},{\"internalType\":\"bytes[]\",\"name\":\"datas\",\"type\":\"bytes[]\"},{\"internalType\":\"bytes32\",\"name\":\"predecessor\",\"type\":\"bytes32\"},{\"internalType\":\"bytes32\",\"name\":\"salt\",\"type\":\"bytes32\"},{\"internalType\":\"uint256\",\"name\":\"delay\",\"type\":\"uint256\"}],\"name\":\"scheduleBatch\",\"outputs\":[],\"stateMutability\":\"nonpayable\",\"type\":\"function\"},{\"inputs\":[{\"internalType\":\"bytes4\",\"name\":\"interfaceId\",\"type\":\"bytes4\"}],\"name\":\"supportsInterface\",\"outputs\":[{\"internalType\":\"bool\",\"name\":\"\",\"type\":\"bool\"}],\"stateMutability\":\"view\",\"type\":\"function\"},{\"inputs\":[{\"internalType\":\"uint256\",\"name\":\"newDelay\",\"type\":\"uint256\"}],\"name\":\"updateDelay\",\"outputs\":[],\"stateMutability\":\"nonpayable\",\"type\":\"function\"},{\"stateMutability\":\"payable\",\"type\":\"receive\"}]'\n",
    "\n",
    "ens_registrar_address = Web3.toChecksumAddress(\"0x283af0b28c62c092c9727f1ee09c02ca627eb7f5\")\n",
    "ens_registrar_abi = '[{\"inputs\":[{\"internalType\":\"contract BaseRegistrar\",\"name\":\"_base\",\"type\":\"address\"},{\"internalType\":\"contract PriceOracle\",\"name\":\"_prices\",\"type\":\"address\"},{\"internalType\":\"uint256\",\"name\":\"_minCommitmentAge\",\"type\":\"uint256\"},{\"internalType\":\"uint256\",\"name\":\"_maxCommitmentAge\",\"type\":\"uint256\"}],\"payable\":false,\"stateMutability\":\"nonpayable\",\"type\":\"constructor\"},{\"anonymous\":false,\"inputs\":[{\"indexed\":false,\"internalType\":\"string\",\"name\":\"name\",\"type\":\"string\"},{\"indexed\":true,\"internalType\":\"bytes32\",\"name\":\"label\",\"type\":\"bytes32\"},{\"indexed\":true,\"internalType\":\"address\",\"name\":\"owner\",\"type\":\"address\"},{\"indexed\":false,\"internalType\":\"uint256\",\"name\":\"cost\",\"type\":\"uint256\"},{\"indexed\":false,\"internalType\":\"uint256\",\"name\":\"expires\",\"type\":\"uint256\"}],\"name\":\"NameRegistered\",\"type\":\"event\"},{\"anonymous\":false,\"inputs\":[{\"indexed\":false,\"internalType\":\"string\",\"name\":\"name\",\"type\":\"string\"},{\"indexed\":true,\"internalType\":\"bytes32\",\"name\":\"label\",\"type\":\"bytes32\"},{\"indexed\":false,\"internalType\":\"uint256\",\"name\":\"cost\",\"type\":\"uint256\"},{\"indexed\":false,\"internalType\":\"uint256\",\"name\":\"expires\",\"type\":\"uint256\"}],\"name\":\"NameRenewed\",\"type\":\"event\"},{\"anonymous\":false,\"inputs\":[{\"indexed\":true,\"internalType\":\"address\",\"name\":\"oracle\",\"type\":\"address\"}],\"name\":\"NewPriceOracle\",\"type\":\"event\"},{\"anonymous\":false,\"inputs\":[{\"indexed\":true,\"internalType\":\"address\",\"name\":\"previousOwner\",\"type\":\"address\"},{\"indexed\":true,\"internalType\":\"address\",\"name\":\"newOwner\",\"type\":\"address\"}],\"name\":\"OwnershipTransferred\",\"type\":\"event\"},{\"constant\":true,\"inputs\":[],\"name\":\"MIN_REGISTRATION_DURATION\",\"outputs\":[{\"internalType\":\"uint256\",\"name\":\"\",\"type\":\"uint256\"}],\"payable\":false,\"stateMutability\":\"view\",\"type\":\"function\"},{\"constant\":true,\"inputs\":[{\"internalType\":\"string\",\"name\":\"name\",\"type\":\"string\"}],\"name\":\"available\",\"outputs\":[{\"internalType\":\"bool\",\"name\":\"\",\"type\":\"bool\"}],\"payable\":false,\"stateMutability\":\"view\",\"type\":\"function\"},{\"constant\":false,\"inputs\":[{\"internalType\":\"bytes32\",\"name\":\"commitment\",\"type\":\"bytes32\"}],\"name\":\"commit\",\"outputs\":[],\"payable\":false,\"stateMutability\":\"nonpayable\",\"type\":\"function\"},{\"constant\":true,\"inputs\":[{\"internalType\":\"bytes32\",\"name\":\"\",\"type\":\"bytes32\"}],\"name\":\"commitments\",\"outputs\":[{\"internalType\":\"uint256\",\"name\":\"\",\"type\":\"uint256\"}],\"payable\":false,\"stateMutability\":\"view\",\"type\":\"function\"},{\"constant\":true,\"inputs\":[],\"name\":\"isOwner\",\"outputs\":[{\"internalType\":\"bool\",\"name\":\"\",\"type\":\"bool\"}],\"payable\":false,\"stateMutability\":\"view\",\"type\":\"function\"},{\"constant\":true,\"inputs\":[{\"internalType\":\"string\",\"name\":\"name\",\"type\":\"string\"},{\"internalType\":\"address\",\"name\":\"owner\",\"type\":\"address\"},{\"internalType\":\"bytes32\",\"name\":\"secret\",\"type\":\"bytes32\"}],\"name\":\"makeCommitment\",\"outputs\":[{\"internalType\":\"bytes32\",\"name\":\"\",\"type\":\"bytes32\"}],\"payable\":false,\"stateMutability\":\"pure\",\"type\":\"function\"},{\"constant\":true,\"inputs\":[{\"internalType\":\"string\",\"name\":\"name\",\"type\":\"string\"},{\"internalType\":\"address\",\"name\":\"owner\",\"type\":\"address\"},{\"internalType\":\"bytes32\",\"name\":\"secret\",\"type\":\"bytes32\"},{\"internalType\":\"address\",\"name\":\"resolver\",\"type\":\"address\"},{\"internalType\":\"address\",\"name\":\"addr\",\"type\":\"address\"}],\"name\":\"makeCommitmentWithConfig\",\"outputs\":[{\"internalType\":\"bytes32\",\"name\":\"\",\"type\":\"bytes32\"}],\"payable\":false,\"stateMutability\":\"pure\",\"type\":\"function\"},{\"constant\":true,\"inputs\":[],\"name\":\"maxCommitmentAge\",\"outputs\":[{\"internalType\":\"uint256\",\"name\":\"\",\"type\":\"uint256\"}],\"payable\":false,\"stateMutability\":\"view\",\"type\":\"function\"},{\"constant\":true,\"inputs\":[],\"name\":\"minCommitmentAge\",\"outputs\":[{\"internalType\":\"uint256\",\"name\":\"\",\"type\":\"uint256\"}],\"payable\":false,\"stateMutability\":\"view\",\"type\":\"function\"},{\"constant\":true,\"inputs\":[],\"name\":\"owner\",\"outputs\":[{\"internalType\":\"address\",\"name\":\"\",\"type\":\"address\"}],\"payable\":false,\"stateMutability\":\"view\",\"type\":\"function\"},{\"constant\":false,\"inputs\":[{\"internalType\":\"string\",\"name\":\"name\",\"type\":\"string\"},{\"internalType\":\"address\",\"name\":\"owner\",\"type\":\"address\"},{\"internalType\":\"uint256\",\"name\":\"duration\",\"type\":\"uint256\"},{\"internalType\":\"bytes32\",\"name\":\"secret\",\"type\":\"bytes32\"}],\"name\":\"register\",\"outputs\":[],\"payable\":true,\"stateMutability\":\"payable\",\"type\":\"function\"},{\"constant\":false,\"inputs\":[{\"internalType\":\"string\",\"name\":\"name\",\"type\":\"string\"},{\"internalType\":\"address\",\"name\":\"owner\",\"type\":\"address\"},{\"internalType\":\"uint256\",\"name\":\"duration\",\"type\":\"uint256\"},{\"internalType\":\"bytes32\",\"name\":\"secret\",\"type\":\"bytes32\"},{\"internalType\":\"address\",\"name\":\"resolver\",\"type\":\"address\"},{\"internalType\":\"address\",\"name\":\"addr\",\"type\":\"address\"}],\"name\":\"registerWithConfig\",\"outputs\":[],\"payable\":true,\"stateMutability\":\"payable\",\"type\":\"function\"},{\"constant\":false,\"inputs\":[{\"internalType\":\"string\",\"name\":\"name\",\"type\":\"string\"},{\"internalType\":\"uint256\",\"name\":\"duration\",\"type\":\"uint256\"}],\"name\":\"renew\",\"outputs\":[],\"payable\":true,\"stateMutability\":\"payable\",\"type\":\"function\"},{\"constant\":false,\"inputs\":[],\"name\":\"renounceOwnership\",\"outputs\":[],\"payable\":false,\"stateMutability\":\"nonpayable\",\"type\":\"function\"},{\"constant\":true,\"inputs\":[{\"internalType\":\"string\",\"name\":\"name\",\"type\":\"string\"},{\"internalType\":\"uint256\",\"name\":\"duration\",\"type\":\"uint256\"}],\"name\":\"rentPrice\",\"outputs\":[{\"internalType\":\"uint256\",\"name\":\"\",\"type\":\"uint256\"}],\"payable\":false,\"stateMutability\":\"view\",\"type\":\"function\"},{\"constant\":false,\"inputs\":[{\"internalType\":\"uint256\",\"name\":\"_minCommitmentAge\",\"type\":\"uint256\"},{\"internalType\":\"uint256\",\"name\":\"_maxCommitmentAge\",\"type\":\"uint256\"}],\"name\":\"setCommitmentAges\",\"outputs\":[],\"payable\":false,\"stateMutability\":\"nonpayable\",\"type\":\"function\"},{\"constant\":false,\"inputs\":[{\"internalType\":\"contract PriceOracle\",\"name\":\"_prices\",\"type\":\"address\"}],\"name\":\"setPriceOracle\",\"outputs\":[],\"payable\":false,\"stateMutability\":\"nonpayable\",\"type\":\"function\"},{\"constant\":true,\"inputs\":[{\"internalType\":\"bytes4\",\"name\":\"interfaceID\",\"type\":\"bytes4\"}],\"name\":\"supportsInterface\",\"outputs\":[{\"internalType\":\"bool\",\"name\":\"\",\"type\":\"bool\"}],\"payable\":false,\"stateMutability\":\"pure\",\"type\":\"function\"},{\"constant\":false,\"inputs\":[{\"internalType\":\"address\",\"name\":\"newOwner\",\"type\":\"address\"}],\"name\":\"transferOwnership\",\"outputs\":[],\"payable\":false,\"stateMutability\":\"nonpayable\",\"type\":\"function\"},{\"constant\":true,\"inputs\":[{\"internalType\":\"string\",\"name\":\"name\",\"type\":\"string\"}],\"name\":\"valid\",\"outputs\":[{\"internalType\":\"bool\",\"name\":\"\",\"type\":\"bool\"}],\"payable\":false,\"stateMutability\":\"pure\",\"type\":\"function\"},{\"constant\":false,\"inputs\":[],\"name\":\"withdraw\",\"outputs\":[],\"payable\":false,\"stateMutability\":\"nonpayable\",\"type\":\"function\"}]'\n"
   ]
  },
  {
   "cell_type": "code",
   "execution_count": 7,
   "id": "50940801-eef3-4348-846a-8ae0bf07e915",
   "metadata": {},
   "outputs": [],
   "source": [
    "# initializing representations of contracts\n",
    "ens_token_contract = w3.eth.contract(address = ens_token_address, abi = ens_token_abi)\n",
    "ens_nft_contract = w3.eth.contract(address = ens_nft_address, abi = ens_nft_abi)\n",
    "ens_dao_treasury_wallet = w3.eth.contract(address = ens_dao_treasury_address, abi = ens_dao_treasury_abi)\n",
    "ens_registrar_contract = w3.eth.contract(address = ens_registrar_address, abi = ens_registrar_abi)"
   ]
  },
  {
   "cell_type": "code",
   "execution_count": 6,
   "id": "7ef10927-bd4c-4791-baf3-1cb07aa23b99",
   "metadata": {},
   "outputs": [],
   "source": [
    "# get transfers to an address?\n",
    "# https://ethereum.stackexchange.com/questions/80135/getting-tokens-transferred-from-web3-py?rq=1"
   ]
  },
  {
   "cell_type": "code",
   "execution_count": 86,
   "id": "933fc29a-cc3f-4713-9462-28858f925741",
   "metadata": {},
   "outputs": [],
   "source": [
    "# w3.eth.get_block('latest')"
   ]
  },
  {
   "cell_type": "code",
   "execution_count": 96,
   "id": "a53ee6a0-d343-408e-826d-00c1c597cb09",
   "metadata": {},
   "outputs": [
    {
     "data": {
      "text/plain": [
       "15643365"
      ]
     },
     "execution_count": 96,
     "metadata": {},
     "output_type": "execute_result"
    }
   ],
   "source": [
    "w3.eth.block_number"
   ]
  },
  {
   "cell_type": "code",
   "execution_count": 142,
   "id": "9878f83e-b882-4b53-88bf-a48f9a0bbc1d",
   "metadata": {},
   "outputs": [],
   "source": [
    "# # get contract events\n",
    "# # https://web3py.readthedocs.io/en/stable/contracts.html?highlight=decode%20transaction%20abi#events\n",
    "# # - registrations\n",
    "# logs = ens_nft_contract.events.NameRegistered().getLogs(fromBlock= 15643365-2000, toBlock= 15643365)\n",
    "\n",
    "# # - renewals\n",
    "# # ens_nft_contract.events.NameRenewed()\n",
    "\n",
    "# # # too general\n",
    "# # # web3.eth.get_logs(event_filter_params)\n",
    "# # fltr = w3.eth.filter({'fromBlock': 15636207-100, 'toBlock': 15636207, 'address': f'{ens_nft_address}'})\n",
    "# # tmp = w3.eth.get_filter_logs(fltr.filter_id)\n",
    "# # # if I can get all contract transactions --\n",
    "# # # w3.eth.get_transaction(tx_hash)"
   ]
  },
  {
   "cell_type": "code",
   "execution_count": 160,
   "id": "56206dda-30f7-4aa5-8fe9-42b803094cb2",
   "metadata": {},
   "outputs": [],
   "source": [
    "# # get all registration logs\n",
    "# end_block = w3.eth.block_number\n",
    "# start_block = end_block - 6000 * 365 # get one year assuming roughly 6k blocks/day\n",
    "\n",
    "# # dict keyed by block to make filling in chunks easier\n",
    "# logs_all=list()\n",
    "# block = start_block"
   ]
  },
  {
   "cell_type": "code",
   "execution_count": 163,
   "id": "6125a579-d08e-41c1-bd3a-f07d0723d3b0",
   "metadata": {},
   "outputs": [
    {
     "name": "stdout",
     "output_type": "stream",
     "text": [
      "14129900, 676338/2190000 (0.30883013698630135% done)\n",
      "14330000, 876438/2190000 (0.4002% done)\n",
      "14530100, 1076538/2190000 (0.49156986301369865% done)\n",
      "14730200, 1276638/2190000 (0.5829397260273973% done)\n",
      "14930300, 1476738/2190000 (0.6743095890410958% done)\n",
      "15130400, 1676838/2190000 (0.7656794520547945% done)\n",
      "15330500, 1876938/2190000 (0.8570493150684931% done)\n",
      "15530600, 2077038/2190000 (0.9484191780821918% done)\n"
     ]
    }
   ],
   "source": [
    "# while block <= end_block:\n",
    "#     logs_i = ens_nft_contract.events.NameRegistered().getLogs(fromBlock = block - 2000, toBlock = min(block,end_block+2001))\n",
    "#     logs_all+=list(logs_i)\n",
    "#     save_obj(logs_all, 'registration_logs')\n",
    "#     block+=2001\n",
    "#     if block%100==0:\n",
    "#         print(f'{block}, {block-start_block}/{end_block-start_block} ({(block-start_block)/(end_block-start_block)}% done)')"
   ]
  },
  {
   "cell_type": "code",
   "execution_count": 8,
   "id": "c5ee4019-8681-415b-8aa3-31c216b41f8f",
   "metadata": {},
   "outputs": [],
   "source": [
    "# process registration logs, save processed logs\n",
    "# load logs from loop above\n",
    "registration_logs=load_obj('registration_logs')"
   ]
  },
  {
   "cell_type": "code",
   "execution_count": 9,
   "id": "ed73b16b-7228-48eb-b177-6d064e9d4a39",
   "metadata": {},
   "outputs": [],
   "source": [
    "def get_registration_dicts(chunk):\n",
    "    # TODO: change path files save to\n",
    "    t1=time.time()\n",
    "    d=dict()\n",
    "    # get files for fast skipping\n",
    "    p='/Users/macstrelioff/Documents/git/crypto_public/ENS NFT analyses/registration_logs/'\n",
    "    finished_hashes = set([f.split('_')[-1].split('.')[0] for f in listdir(p) if isfile(join(p, f))])\n",
    "    if chunk[-1].transactionHash.hex() in finished_hashes: \n",
    "        print('chunk previously finished')\n",
    "        return # skip if the file alreadsy exists\n",
    "        \n",
    "    first_hash = chunk[0].transactionHash.hex()[0:7]\n",
    "    i=0\n",
    "    for log in chunk:\n",
    "        i+=1\n",
    "        tx_hash = log.transactionHash\n",
    "        if tx_hash.hex() in d.keys(): continue # skip if the tx was already logged recently\n",
    "        attempts = 0\n",
    "        while attempts<3:\n",
    "            try:\n",
    "                tx_receipt = w3.eth.get_transaction_receipt(tx_hash)\n",
    "                register_event = ens_registrar_contract.events.NameRegistered().processReceipt(tx_receipt,errors=_utils.events.EventLogErrorFlags.Discard)\n",
    "\n",
    "                d[register_event[0]['transactionHash'].hex()] = {\n",
    "                'blockNumber':register_event[0]['blockNumber'],\n",
    "                'owner': register_event[0]['args']['owner'], # not included in renew events\n",
    "                'name': register_event[0]['args']['name'],\n",
    "                'cost': register_event[0]['args']['cost'],\n",
    "                'expires': register_event[0]['args']['expires']\n",
    "                }\n",
    "                attempts=4 # just to exit the loop\n",
    "            except: \n",
    "                time.sleep(.5)\n",
    "                print(f'error with: {tx_hash}, attempt: {attempts}')\n",
    "                attempts+=1\n",
    "        if i%200==0: print(f'{first_hash}, {i},{len(d)} / {len(chunk)} (around {i/len(chunk)*100}% done)')\n",
    "    path = f'registration_logs_dict_{tx_hash.hex()}'\n",
    "    save_obj(d, path)\n",
    "    print(f'{first_hash} done in {time.time()-t1}')\n",
    "    return path"
   ]
  },
  {
   "cell_type": "code",
   "execution_count": 13,
   "id": "f0cd7639-2cfa-45a7-ad28-538bb91d09ea",
   "metadata": {},
   "outputs": [],
   "source": [
    "# TODO: run & monitor from terminal instances within jupyter\n",
    "# get index ranges\n",
    "\n",
    "# left off around 67000\n",
    "# ranges=[i for i in range(67000,int(len(registration_logs)),int(round(len(registration_logs)/1000)))]\n",
    "ranges=[i for i in range(0,67000,int(67000/100))]\n",
    "ranges.append(len(registration_logs))\n",
    "\n",
    "# get list of events to pass in each chunk\n",
    "chunks = [registration_logs[ranges[i]:ranges[i+1]] for i in range(len(ranges)-1)]"
   ]
  },
  {
   "cell_type": "code",
   "execution_count": 14,
   "id": "d2b058fa-081d-448d-ae51-db391647d9ff",
   "metadata": {},
   "outputs": [
    {
     "data": {
      "text/plain": [
       "100"
      ]
     },
     "execution_count": 14,
     "metadata": {},
     "output_type": "execute_result"
    }
   ],
   "source": [
    "len(chunks)"
   ]
  },
  {
   "cell_type": "code",
   "execution_count": 15,
   "id": "8a57618e-d700-4cdd-9322-2312c33efd3e",
   "metadata": {},
   "outputs": [
    {
     "data": {
      "text/plain": [
       "670"
      ]
     },
     "execution_count": 15,
     "metadata": {},
     "output_type": "execute_result"
    }
   ],
   "source": [
    "len(chunks[0])"
   ]
  },
  {
   "cell_type": "code",
   "execution_count": 16,
   "id": "b9f48aa9-fa07-4cd6-aa1d-21e95e253f31",
   "metadata": {},
   "outputs": [],
   "source": [
    "pool = ThreadPool()"
   ]
  },
  {
   "cell_type": "code",
   "execution_count": 17,
   "id": "a7e57e78-c9e7-447c-9a19-9c45a9404ed5",
   "metadata": {},
   "outputs": [
    {
     "name": "stdout",
     "output_type": "stream",
     "text": [
      "0xec362, 200,200 / 670 (around 29.850746268656714% done)\n",
      "0x3d4ca, 200,200 / 670 (around 29.850746268656714% done)\n",
      "0x05ee7, 200,200 / 670 (around 29.850746268656714% done)\n",
      "0xe4c4e, 200,200 / 670 (around 29.850746268656714% done)\n",
      "0x5cb55, 200,200 / 670 (around 29.850746268656714% done)\n",
      "0x5fa03, 200,200 / 670 (around 29.850746268656714% done)\n",
      "0xbd112, 200,200 / 670 (around 29.850746268656714% done)\n",
      "0x6f9c2, 200,200 / 670 (around 29.850746268656714% done)\n",
      "0xec362, 400,400 / 670 (around 59.70149253731343% done)\n",
      "0x3d4ca, 400,400 / 670 (around 59.70149253731343% done)\n",
      "0x5cb55, 400,400 / 670 (around 59.70149253731343% done)\n",
      "0x6f9c2, 400,400 / 670 (around 59.70149253731343% done)\n",
      "0x05ee7, 400,400 / 670 (around 59.70149253731343% done)\n",
      "0xe4c4e, 400,400 / 670 (around 59.70149253731343% done)\n",
      "0x5fa03, 400,400 / 670 (around 59.70149253731343% done)\n",
      "0xbd112, 400,400 / 670 (around 59.70149253731343% done)\n",
      "0xec362, 600,600 / 670 (around 89.55223880597015% done)\n",
      "0x3d4ca, 600,600 / 670 (around 89.55223880597015% done)\n",
      "0x5cb55, 600,600 / 670 (around 89.55223880597015% done)\n",
      "0x6f9c2, 600,600 / 670 (around 89.55223880597015% done)\n",
      "0x05ee7, 600,600 / 670 (around 89.55223880597015% done)\n",
      "0xe4c4e, 600,600 / 670 (around 89.55223880597015% done)\n",
      "0x5fa03, 600,600 / 670 (around 89.55223880597015% done)\n",
      "0xbd112, 600,600 / 670 (around 89.55223880597015% done)\n",
      "0xec362 done in 104.89197897911072\n",
      "0x3d4ca done in 106.3259928226471\n",
      "0x5cb55 done in 106.5976619720459\n",
      "0x6f9c2 done in 108.82277774810791\n",
      "0x05ee7 done in 109.21839690208435\n",
      "0xe4c4e done in 109.681391954422\n",
      "0x5fa03 done in 110.1042218208313\n",
      "0xbd112 done in 110.59189081192017\n",
      "0xb56f2, 200,200 / 670 (around 29.850746268656714% done)\n",
      "0x100c9, 200,200 / 670 (around 29.850746268656714% done)\n",
      "0xe63e6, 200,200 / 670 (around 29.850746268656714% done)\n",
      "0xb294e, 200,200 / 670 (around 29.850746268656714% done)\n",
      "0xea2e0, 200,200 / 670 (around 29.850746268656714% done)\n",
      "0x27250, 200,200 / 670 (around 29.850746268656714% done)\n",
      "0x0c0c3, 200,200 / 670 (around 29.850746268656714% done)\n",
      "0x0b2af, 200,200 / 670 (around 29.850746268656714% done)\n",
      "0xb56f2, 400,400 / 670 (around 59.70149253731343% done)\n",
      "0x100c9, 400,400 / 670 (around 59.70149253731343% done)\n",
      "0xe63e6, 400,400 / 670 (around 59.70149253731343% done)\n",
      "0xb294e, 400,400 / 670 (around 59.70149253731343% done)\n",
      "0xea2e0, 400,400 / 670 (around 59.70149253731343% done)\n",
      "0x27250, 400,400 / 670 (around 59.70149253731343% done)\n",
      "0x0c0c3, 400,400 / 670 (around 59.70149253731343% done)\n",
      "0x0b2af, 400,400 / 670 (around 59.70149253731343% done)\n",
      "0xb56f2, 600,600 / 670 (around 89.55223880597015% done)\n",
      "0x100c9, 600,600 / 670 (around 89.55223880597015% done)\n",
      "0xe63e6, 600,600 / 670 (around 89.55223880597015% done)\n",
      "0x27250, 600,600 / 670 (around 89.55223880597015% done)\n",
      "0xb294e, 600,600 / 670 (around 89.55223880597015% done)\n",
      "0x0c0c3, 600,600 / 670 (around 89.55223880597015% done)\n",
      "0xea2e0, 600,600 / 670 (around 89.55223880597015% done)\n",
      "0x0b2af, 600,600 / 670 (around 89.55223880597015% done)\n",
      "0xb56f2 done in 105.68919587135315\n",
      "0x100c9 done in 104.33931279182434\n",
      "0xe63e6 done in 105.41474604606628\n",
      "0x27250 done in 105.54885578155518\n",
      "0xb294e done in 107.23041820526123\n",
      "0x0c0c3 done in 106.37536907196045\n",
      "0xea2e0 done in 107.38584899902344\n",
      "0x0b2af done in 106.85817193984985\n",
      "0x677e8, 200,200 / 670 (around 29.850746268656714% done)\n",
      "0x3e62a, 200,200 / 670 (around 29.850746268656714% done)\n",
      "0x426ad, 200,200 / 670 (around 29.850746268656714% done)\n",
      "0x3cbe8, 200,200 / 670 (around 29.850746268656714% done)\n",
      "0x64951, 200,200 / 670 (around 29.850746268656714% done)\n",
      "0x350c2, 200,200 / 670 (around 29.850746268656714% done)\n",
      "0x59b2a, 200,200 / 670 (around 29.850746268656714% done)\n",
      "0xbd5d0, 200,200 / 670 (around 29.850746268656714% done)\n",
      "0x426ad, 400,400 / 670 (around 59.70149253731343% done)\n",
      "0x677e8, 400,400 / 670 (around 59.70149253731343% done)\n",
      "0x3e62a, 400,400 / 670 (around 59.70149253731343% done)\n",
      "0x3cbe8, 400,400 / 670 (around 59.70149253731343% done)\n",
      "0x350c2, 400,400 / 670 (around 59.70149253731343% done)\n",
      "0x64951, 400,400 / 670 (around 59.70149253731343% done)\n",
      "0x59b2a, 400,400 / 670 (around 59.70149253731343% done)\n",
      "0xbd5d0, 400,400 / 670 (around 59.70149253731343% done)\n",
      "0x3e62a, 600,600 / 670 (around 89.55223880597015% done)\n",
      "0x426ad, 600,600 / 670 (around 89.55223880597015% done)\n",
      "0x677e8, 600,600 / 670 (around 89.55223880597015% done)\n",
      "0x3cbe8, 600,600 / 670 (around 89.55223880597015% done)\n",
      "0x350c2, 600,600 / 670 (around 89.55223880597015% done)\n",
      "0xbd5d0, 600,600 / 670 (around 89.55223880597015% done)0x64951, 600,600 / 670 (around 89.55223880597015% done)\n",
      "\n",
      "0x59b2a, 600,600 / 670 (around 89.55223880597015% done)\n",
      "0x426ad done in 105.18305206298828\n",
      "0x3e62a done in 106.54856705665588\n",
      "0x677e8 done in 107.0929262638092\n",
      "0x3cbe8 done in 106.65683388710022\n",
      "0x350c2 done in 106.8924548625946\n",
      "0xbd5d0 done in 106.21241497993469\n",
      "0x64951 done in 107.83551597595215\n",
      "0x59b2a done in 108.85339188575745\n",
      "0x08c88, 200,200 / 670 (around 29.850746268656714% done)\n",
      "0xc238c, 200,200 / 670 (around 29.850746268656714% done)\n",
      "0x8bc19, 200,200 / 670 (around 29.850746268656714% done)\n",
      "0xd1b41, 200,200 / 670 (around 29.850746268656714% done)\n",
      "0xc8df2, 200,200 / 670 (around 29.850746268656714% done)\n",
      "0x6d6b9, 200,200 / 670 (around 29.850746268656714% done)\n",
      "0x9df1f, 200,200 / 670 (around 29.850746268656714% done)\n",
      "0xe48e4, 200,200 / 670 (around 29.850746268656714% done)\n",
      "0xc238c, 400,400 / 670 (around 59.70149253731343% done)\n",
      "0x08c88, 400,400 / 670 (around 59.70149253731343% done)\n",
      "0x8bc19, 400,400 / 670 (around 59.70149253731343% done)\n",
      "0xd1b41, 400,400 / 670 (around 59.70149253731343% done)\n",
      "0xc8df2, 400,400 / 670 (around 59.70149253731343% done)\n",
      "0x6d6b9, 400,400 / 670 (around 59.70149253731343% done)\n",
      "0x9df1f, 400,400 / 670 (around 59.70149253731343% done)\n",
      "0xe48e4, 400,400 / 670 (around 59.70149253731343% done)\n",
      "0xc238c, 600,600 / 670 (around 89.55223880597015% done)\n",
      "0x08c88, 600,600 / 670 (around 89.55223880597015% done)\n",
      "0x8bc19, 600,600 / 670 (around 89.55223880597015% done)\n",
      "0xd1b41, 600,600 / 670 (around 89.55223880597015% done)\n",
      "0xc8df2, 600,600 / 670 (around 89.55223880597015% done)\n",
      "0x6d6b9, 600,600 / 670 (around 89.55223880597015% done)\n",
      "0x9df1f, 600,600 / 670 (around 89.55223880597015% done)\n",
      "0xe48e4, 600,600 / 670 (around 89.55223880597015% done)\n",
      "0xc238c done in 107.20188283920288\n",
      "0x08c88 done in 108.1181287765503\n",
      "0x8bc19 done in 108.88127613067627\n",
      "0xd1b41 done in 104.675372838974\n",
      "0xc8df2 done in 108.88692808151245\n",
      "0x6d6b9 done in 108.75639700889587\n",
      "0x9df1f done in 108.3788480758667\n",
      "0xe48e4 done in 109.24042510986328\n",
      "0x9472f, 200,200 / 670 (around 29.850746268656714% done)\n",
      "0x18fc7, 200,200 / 670 (around 29.850746268656714% done)\n",
      "0xf5402, 200,200 / 670 (around 29.850746268656714% done)\n",
      "0xce947, 200,200 / 670 (around 29.850746268656714% done)\n",
      "0x2fbda, 200,200 / 670 (around 29.850746268656714% done)\n",
      "0x0cc91, 200,200 / 670 (around 29.850746268656714% done)\n",
      "0x4ed33, 200,200 / 670 (around 29.850746268656714% done)\n",
      "0x4c000, 200,200 / 670 (around 29.850746268656714% done)\n",
      "0x9472f, 400,400 / 670 (around 59.70149253731343% done)\n",
      "0xf5402, 400,400 / 670 (around 59.70149253731343% done)\n",
      "0x18fc7, 400,400 / 670 (around 59.70149253731343% done)\n",
      "0xce947, 400,400 / 670 (around 59.70149253731343% done)\n",
      "0x2fbda, 400,400 / 670 (around 59.70149253731343% done)\n",
      "0x4ed33, 400,400 / 670 (around 59.70149253731343% done)\n",
      "0x0cc91, 400,400 / 670 (around 59.70149253731343% done)\n",
      "0x4c000, 400,400 / 670 (around 59.70149253731343% done)\n",
      "0x9472f, 600,600 / 670 (around 89.55223880597015% done)\n",
      "0xf5402, 600,600 / 670 (around 89.55223880597015% done)\n",
      "0x18fc7, 600,600 / 670 (around 89.55223880597015% done)\n",
      "0xce947, 600,600 / 670 (around 89.55223880597015% done)\n",
      "0x2fbda, 600,600 / 670 (around 89.55223880597015% done)\n",
      "0x4ed33, 600,600 / 670 (around 89.55223880597015% done)\n",
      "0x4c000, 600,600 / 670 (around 89.55223880597015% done)\n",
      "0x9472f done in 108.61369299888611\n",
      "0xf5402 done in 107.18522691726685\n",
      "0x18fc7 done in 110.16987705230713\n",
      "0xce947 done in 108.95814800262451\n",
      "0x2fbda done in 108.94166088104248\n",
      "0x0cc91, 600,600 / 670 (around 89.55223880597015% done)\n",
      "0x4ed33 done in 110.31782007217407\n",
      "0x4c000 done in 110.7772626876831\n",
      "0x0cc91 done in 120.36580777168274\n",
      "0xf2910, 200,200 / 670 (around 29.850746268656714% done)\n",
      "0x6db28, 200,200 / 670 (around 29.850746268656714% done)\n",
      "0x242e4, 200,200 / 670 (around 29.850746268656714% done)\n",
      "0xed464, 200,200 / 670 (around 29.850746268656714% done)\n",
      "0x67e47, 200,200 / 670 (around 29.850746268656714% done)\n",
      "0x7b521, 200,200 / 670 (around 29.850746268656714% done)\n",
      "0xe3f70, 200,200 / 670 (around 29.850746268656714% done)\n",
      "0x0f730, 200,200 / 670 (around 29.850746268656714% done)\n",
      "0xf2910, 400,400 / 670 (around 59.70149253731343% done)\n",
      "0x6db28, 400,400 / 670 (around 59.70149253731343% done)\n",
      "0x242e4, 400,400 / 670 (around 59.70149253731343% done)\n",
      "0xed464, 400,400 / 670 (around 59.70149253731343% done)\n",
      "0x67e47, 400,400 / 670 (around 59.70149253731343% done)\n",
      "0x7b521, 400,400 / 670 (around 59.70149253731343% done)\n",
      "0xe3f70, 400,400 / 670 (around 59.70149253731343% done)\n",
      "0x0f730, 400,400 / 670 (around 59.70149253731343% done)\n",
      "0xf2910, 600,600 / 670 (around 89.55223880597015% done)\n",
      "0x6db28, 600,600 / 670 (around 89.55223880597015% done)\n",
      "0xed464, 600,600 / 670 (around 89.55223880597015% done)\n",
      "0x242e4, 600,600 / 670 (around 89.55223880597015% done)\n",
      "0x67e47, 600,600 / 670 (around 89.55223880597015% done)\n",
      "0x7b521, 600,600 / 670 (around 89.55223880597015% done)\n",
      "0xe3f70, 600,600 / 670 (around 89.55223880597015% done)\n",
      "0xf2910 done in 109.13528275489807\n",
      "0x6db28 done in 108.61871218681335\n",
      "0xed464 done in 105.83240604400635\n",
      "0x242e4 done in 108.30332493782043\n",
      "0x67e47 done in 108.14242267608643\n",
      "0x0f730, 600,600 / 670 (around 89.55223880597015% done)\n",
      "0x7b521 done in 107.64411807060242\n",
      "0xe3f70 done in 105.73653197288513\n",
      "0x0f730 done in 107.08599185943604\n",
      "0x975d4, 200,200 / 670 (around 29.850746268656714% done)\n",
      "0x58575, 200,200 / 670 (around 29.850746268656714% done)\n",
      "0x9af3d, 200,200 / 670 (around 29.850746268656714% done)\n",
      "0x4bd3c, 200,200 / 670 (around 29.850746268656714% done)\n",
      "0x56c7b, 200,200 / 670 (around 29.850746268656714% done)\n",
      "0x79dc2, 200,200 / 670 (around 29.850746268656714% done)\n",
      "0x65997, 200,200 / 670 (around 29.850746268656714% done)\n",
      "0xe5584, 200,200 / 670 (around 29.850746268656714% done)\n",
      "0x975d4, 400,400 / 670 (around 59.70149253731343% done)\n",
      "0x9af3d, 400,400 / 670 (around 59.70149253731343% done)\n",
      "0x58575, 400,400 / 670 (around 59.70149253731343% done)\n",
      "0x4bd3c, 400,400 / 670 (around 59.70149253731343% done)\n",
      "0x56c7b, 400,400 / 670 (around 59.70149253731343% done)\n",
      "0x79dc2, 400,400 / 670 (around 59.70149253731343% done)\n",
      "0x65997, 400,400 / 670 (around 59.70149253731343% done)\n",
      "0xe5584, 400,400 / 670 (around 59.70149253731343% done)\n",
      "0x975d4, 600,600 / 670 (around 89.55223880597015% done)\n",
      "0x9af3d, 600,600 / 670 (around 89.55223880597015% done)\n",
      "0x58575, 600,600 / 670 (around 89.55223880597015% done)\n",
      "0x4bd3c, 600,600 / 670 (around 89.55223880597015% done)\n",
      "0x56c7b, 600,600 / 670 (around 89.55223880597015% done)\n",
      "0x79dc2, 600,600 / 670 (around 89.55223880597015% done)\n",
      "0x65997, 600,600 / 670 (around 89.55223880597015% done)\n",
      "0x975d4 done in 106.0867531299591\n",
      "0x9af3d done in 107.02545499801636\n",
      "0x58575 done in 108.30198621749878\n",
      "0x4bd3c done in 109.01483106613159\n",
      "0x56c7b done in 107.79587292671204\n",
      "0xe5584, 600,600 / 670 (around 89.55223880597015% done)\n",
      "0x79dc2 done in 106.75463724136353\n",
      "0x65997 done in 108.29687595367432\n",
      "0xe5584 done in 108.9258861541748\n",
      "0xba6e0, 200,200 / 670 (around 29.850746268656714% done)\n",
      "0xfd8b7, 200,200 / 670 (around 29.850746268656714% done)\n",
      "0x4786f, 200,200 / 670 (around 29.850746268656714% done)\n",
      "0xaebb6, 200,200 / 670 (around 29.850746268656714% done)\n",
      "0xf9d06, 200,200 / 670 (around 29.850746268656714% done)\n",
      "0x57f52, 200,200 / 670 (around 29.850746268656714% done)\n",
      "0xe69c9, 200,200 / 670 (around 29.850746268656714% done)\n",
      "0xdd88c, 200,200 / 670 (around 29.850746268656714% done)\n",
      "0xba6e0, 400,400 / 670 (around 59.70149253731343% done)\n",
      "0xfd8b7, 400,400 / 670 (around 59.70149253731343% done)\n",
      "0x4786f, 400,400 / 670 (around 59.70149253731343% done)\n",
      "0xaebb6, 400,400 / 670 (around 59.70149253731343% done)\n",
      "0xf9d06, 400,400 / 670 (around 59.70149253731343% done)\n",
      "0x57f52, 400,400 / 670 (around 59.70149253731343% done)\n",
      "0xe69c9, 400,400 / 670 (around 59.70149253731343% done)\n",
      "0xdd88c, 400,400 / 670 (around 59.70149253731343% done)\n",
      "0xba6e0, 600,600 / 670 (around 89.55223880597015% done)\n",
      "0xfd8b7, 600,600 / 670 (around 89.55223880597015% done)\n",
      "0x4786f, 600,600 / 670 (around 89.55223880597015% done)\n",
      "0xaebb6, 600,600 / 670 (around 89.55223880597015% done)\n",
      "0x57f52, 600,600 / 670 (around 89.55223880597015% done)\n",
      "0xf9d06, 600,600 / 670 (around 89.55223880597015% done)\n",
      "0xe69c9, 600,600 / 670 (around 89.55223880597015% done)\n",
      "0xba6e0 done in 107.13671898841858\n",
      "0xfd8b7 done in 107.65021705627441\n",
      "0x4786f done in 109.17491698265076\n",
      "0xaebb6 done in 108.66743516921997\n",
      "0xdd88c, 600,600 / 670 (around 89.55223880597015% done)\n",
      "0x57f52 done in 106.70323610305786\n",
      "0xf9d06 done in 107.88026022911072\n",
      "0xe69c9 done in 107.15412306785583\n",
      "0xdd88c done in 106.24961996078491\n",
      "0xeb570, 200,200 / 670 (around 29.850746268656714% done)\n",
      "0xed012, 200,200 / 670 (around 29.850746268656714% done)\n",
      "0x36edb, 200,200 / 670 (around 29.850746268656714% done)\n",
      "0x79f05, 200,200 / 670 (around 29.850746268656714% done)\n",
      "0x1228d, 200,200 / 670 (around 29.850746268656714% done)\n",
      "0x24da8, 200,200 / 670 (around 29.850746268656714% done)\n",
      "0x45617, 200,200 / 670 (around 29.850746268656714% done)\n",
      "0x44779, 200,200 / 670 (around 29.850746268656714% done)\n",
      "0xeb570, 400,400 / 670 (around 59.70149253731343% done)\n",
      "0xed012, 400,400 / 670 (around 59.70149253731343% done)\n",
      "0x36edb, 400,400 / 670 (around 59.70149253731343% done)\n",
      "0x79f05, 400,400 / 670 (around 59.70149253731343% done)\n",
      "0x24da8, 400,400 / 670 (around 59.70149253731343% done)\n",
      "0x1228d, 400,400 / 670 (around 59.70149253731343% done)\n",
      "0x45617, 400,400 / 670 (around 59.70149253731343% done)\n",
      "0x44779, 400,400 / 670 (around 59.70149253731343% done)\n",
      "0xeb570, 600,600 / 670 (around 89.55223880597015% done)\n",
      "0xed012, 600,600 / 670 (around 89.55223880597015% done)\n",
      "0x36edb, 600,600 / 670 (around 89.55223880597015% done)\n",
      "0x79f05, 600,600 / 670 (around 89.55223880597015% done)\n",
      "0x24da8, 600,600 / 670 (around 89.55223880597015% done)\n",
      "0x1228d, 600,600 / 670 (around 89.55223880597015% done)\n",
      "0xeb570 done in 107.03395986557007\n",
      "0x45617, 600,600 / 670 (around 89.55223880597015% done)\n",
      "0xed012 done in 110.75425696372986\n",
      "0x36edb done in 111.00199294090271\n",
      "0x79f05 done in 111.127023935318\n",
      "0x24da8 done in 109.2775251865387\n",
      "0x1228d done in 109.71458601951599\n",
      "0x44779, 600,600 / 670 (around 89.55223880597015% done)\n",
      "0x45617 done in 109.90131187438965\n",
      "0x44779 done in 109.57599306106567\n",
      "0xc9b9d, 200,200 / 670 (around 29.850746268656714% done)\n",
      "0x9f5b4, 200,200 / 670 (around 29.850746268656714% done)\n",
      "0x3b212, 200,200 / 670 (around 29.850746268656714% done)\n",
      "0x5e6f7, 200,200 / 670 (around 29.850746268656714% done)\n",
      "0xcf48d, 200,200 / 670 (around 29.850746268656714% done)\n",
      "0xf83bb, 200,200 / 670 (around 29.850746268656714% done)\n",
      "0x797e3, 200,200 / 670 (around 29.850746268656714% done)\n",
      "0x211a7, 200,200 / 670 (around 29.850746268656714% done)\n",
      "0xc9b9d, 400,400 / 670 (around 59.70149253731343% done)\n",
      "0x9f5b4, 400,400 / 670 (around 59.70149253731343% done)\n",
      "0x3b212, 400,400 / 670 (around 59.70149253731343% done)\n",
      "0x5e6f7, 400,400 / 670 (around 59.70149253731343% done)\n",
      "0xcf48d, 400,400 / 670 (around 59.70149253731343% done)\n",
      "0xf83bb, 400,400 / 670 (around 59.70149253731343% done)\n",
      "0x797e3, 400,400 / 670 (around 59.70149253731343% done)\n",
      "0x211a7, 400,400 / 670 (around 59.70149253731343% done)\n",
      "0xc9b9d, 600,600 / 670 (around 89.55223880597015% done)\n",
      "0x9f5b4, 600,600 / 670 (around 89.55223880597015% done)\n",
      "0x3b212, 600,600 / 670 (around 89.55223880597015% done)\n",
      "0x5e6f7, 600,600 / 670 (around 89.55223880597015% done)\n",
      "0xcf48d, 600,600 / 670 (around 89.55223880597015% done)\n",
      "0xc9b9d done in 109.89252090454102\n",
      "0x797e3, 600,600 / 670 (around 89.55223880597015% done)\n",
      "0xf83bb, 600,600 / 670 (around 89.55223880597015% done)\n",
      "0x9f5b4 done in 110.54148888587952\n",
      "0x3b212 done in 108.45744705200195\n",
      "0x5e6f7 done in 109.17633390426636\n",
      "0x211a7, 600,600 / 670 (around 89.55223880597015% done)\n",
      "0xcf48d done in 110.7101309299469\n",
      "0x797e3 done in 108.30428910255432\n",
      "0xf83bb done in 111.73318076133728\n",
      "0x211a7 done in 109.15519905090332\n",
      "0x08e80, 200,200 / 670 (around 29.850746268656714% done)\n",
      "0x8fbfe, 200,200 / 670 (around 29.850746268656714% done)\n",
      "0x120b8, 200,200 / 670 (around 29.850746268656714% done)\n",
      "0x8a208, 200,200 / 670 (around 29.850746268656714% done)\n",
      "0x39276, 200,200 / 670 (around 29.850746268656714% done)\n",
      "0xc6b63, 200,200 / 670 (around 29.850746268656714% done)\n",
      "0x5d7d9, 200,200 / 670 (around 29.850746268656714% done)\n",
      "0x20605, 200,200 / 670 (around 29.850746268656714% done)\n",
      "0x08e80, 400,400 / 670 (around 59.70149253731343% done)\n",
      "0x8fbfe, 400,400 / 670 (around 59.70149253731343% done)\n",
      "0x8a208, 400,400 / 670 (around 59.70149253731343% done)\n",
      "0x39276, 400,400 / 670 (around 59.70149253731343% done)\n",
      "0x5d7d9, 400,400 / 670 (around 59.70149253731343% done)\n",
      "0xc6b63, 400,400 / 670 (around 59.70149253731343% done)\n",
      "0x120b8, 400,400 / 670 (around 59.70149253731343% done)\n",
      "0x20605, 400,400 / 670 (around 59.70149253731343% done)\n",
      "0x08e80, 600,600 / 670 (around 89.55223880597015% done)\n",
      "0x8fbfe, 600,600 / 670 (around 89.55223880597015% done)\n",
      "0x08e80 done in 110.32192087173462\n",
      "0x8a208, 600,600 / 670 (around 89.55223880597015% done)\n",
      "0x5d7d9, 600,600 / 670 (around 89.55223880597015% done)\n",
      "0xc6b63, 600,600 / 670 (around 89.55223880597015% done)\n",
      "0x39276, 600,600 / 670 (around 89.55223880597015% done)\n",
      "0x8fbfe done in 109.87616777420044\n",
      "0x120b8, 600,600 / 670 (around 89.55223880597015% done)\n",
      "0x20605, 600,600 / 670 (around 89.55223880597015% done)\n",
      "0x5d7d9 done in 110.149228811264040x8a208 done in 113.47133469581604\n",
      "\n",
      "0x39276 done in 111.72632670402527\n",
      "0xc6b63 done in 111.4447169303894\n",
      "0x120b8 done in 121.28415584564209\n",
      "0x20605 done in 111.96039915084839\n",
      "0xca20a, 200,200 / 670 (around 29.850746268656714% done)\n",
      "0x53820, 200,200 / 670 (around 29.850746268656714% done)\n",
      "0xf2f0f, 200,200 / 670 (around 29.850746268656714% done)\n",
      "0xbbdcf, 200,200 / 670 (around 29.850746268656714% done)\n",
      "0xd0140, 200,200 / 670 (around 29.850746268656714% done)\n",
      "0x5024c, 200,200 / 670 (around 29.850746268656714% done)\n",
      "0x6598b, 200,200 / 670 (around 29.850746268656714% done)\n",
      "0xea80d, 200,200 / 670 (around 29.850746268656714% done)\n",
      "0x53820, 400,400 / 670 (around 59.70149253731343% done)\n",
      "0xca20a, 400,400 / 670 (around 59.70149253731343% done)\n",
      "0xf2f0f, 400,400 / 670 (around 59.70149253731343% done)\n",
      "0xd0140, 400,400 / 670 (around 59.70149253731343% done)\n",
      "0xbbdcf, 400,400 / 670 (around 59.70149253731343% done)\n",
      "0x5024c, 400,400 / 670 (around 59.70149253731343% done)\n",
      "0x6598b, 400,400 / 670 (around 59.70149253731343% done)\n",
      "0xea80d, 400,400 / 670 (around 59.70149253731343% done)\n",
      "0x53820, 600,600 / 670 (around 89.55223880597015% done)\n",
      "0xca20a, 600,600 / 670 (around 89.55223880597015% done)\n",
      "0xd0140, 600,600 / 670 (around 89.55223880597015% done)\n",
      "0xf2f0f, 600,600 / 670 (around 89.55223880597015% done)\n",
      "0x5024c, 600,600 / 670 (around 89.55223880597015% done)\n",
      "0xbbdcf, 600,600 / 670 (around 89.55223880597015% done)\n",
      "0x53820 done in 116.87442994117737\n",
      "0x6598b, 600,600 / 670 (around 89.55223880597015% done)\n",
      "0xca20a done in 126.43480706214905\n",
      "0xea80d, 600,600 / 670 (around 89.55223880597015% done)\n",
      "0xf2f0f done in 117.92336225509644\n",
      "0xd0140 done in 118.00710105895996\n",
      "0x5024c done in 118.44262409210205\n",
      "0xbbdcf done in 119.13000321388245\n",
      "0x6598b done in 117.69657588005066\n",
      "0xea80d done in 115.6573839187622\n",
      "0x610c4, 200,200 / 670 (around 29.850746268656714% done)\n",
      "0x610c4, 400,400 / 670 (around 59.70149253731343% done)\n",
      "0x610c4, 600,600 / 670 (around 89.55223880597015% done)\n",
      "0x610c4 done in 102.81802797317505\n",
      "0x176bc, 200,200 / 670 (around 29.850746268656714% done)\n",
      "0x176bc, 400,400 / 670 (around 59.70149253731343% done)\n",
      "0x176bc, 600,600 / 670 (around 89.55223880597015% done)\n",
      "0x176bc done in 103.76325392723083\n",
      "0xff95b, 200,200 / 670 (around 29.850746268656714% done)\n",
      "0xff95b, 400,400 / 670 (around 59.70149253731343% done)\n",
      "0xff95b, 600,600 / 670 (around 89.55223880597015% done)\n",
      "0xff95b done in 106.21714210510254\n",
      "chunk previously finished\n"
     ]
    }
   ],
   "source": [
    "results = pool.map(get_registration_dicts, chunks)"
   ]
  },
  {
   "cell_type": "code",
   "execution_count": 18,
   "id": "1924f7f1-c333-4367-a420-991ea88862a9",
   "metadata": {},
   "outputs": [
    {
     "data": {
      "text/plain": [
       "1"
      ]
     },
     "execution_count": 18,
     "metadata": {},
     "output_type": "execute_result"
    }
   ],
   "source": [
    "1"
   ]
  },
  {
   "cell_type": "code",
   "execution_count": null,
   "id": "c44b9bc3-1085-42f1-b2f3-7294bf0cca23",
   "metadata": {},
   "outputs": [],
   "source": [
    "# 970 chunks\n",
    "# 350s, 6min/ chunk\n",
    "# 8 parallel chunks\n",
    "# 970 * 6 / 60 / 8 = around 10h\n",
    "save_obj(results,'registration_logs_dics_names')"
   ]
  },
  {
   "cell_type": "code",
   "execution_count": 63,
   "id": "2b7588f5-75d3-4ab1-951a-bd7c00f4c5d3",
   "metadata": {},
   "outputs": [],
   "source": [
    "# start where it left off\n",
    "# d=load_obj('registration_logs_dict') #dict()"
   ]
  },
  {
   "cell_type": "code",
   "execution_count": 64,
   "id": "c9fec567-dbfa-428a-90dc-70c2cbcb96ac",
   "metadata": {
    "tags": []
   },
   "outputs": [
    {
     "name": "stdout",
     "output_type": "stream",
     "text": [
      "1000,104466 / 2184885 (around 0.04576899928371516% done)\n",
      "2000,104466 / 2184885 (around 0.09153799856743032% done)\n",
      "3000,104466 / 2184885 (around 0.13730699785114547% done)\n",
      "4000,104466 / 2184885 (around 0.18307599713486064% done)\n",
      "5000,104466 / 2184885 (around 0.22884499641857584% done)\n",
      "6000,104466 / 2184885 (around 0.27461399570229095% done)\n",
      "7000,104466 / 2184885 (around 0.32038299498600614% done)\n",
      "8000,104466 / 2184885 (around 0.3661519942697213% done)\n",
      "9000,104466 / 2184885 (around 0.4119209935534365% done)\n",
      "10000,104466 / 2184885 (around 0.45768999283715167% done)\n",
      "11000,104466 / 2184885 (around 0.5034589921208668% done)\n",
      "12000,104466 / 2184885 (around 0.5492279914045819% done)\n",
      "13000,104466 / 2184885 (around 0.594996990688297% done)\n",
      "14000,104466 / 2184885 (around 0.6407659899720123% done)\n",
      "15000,104466 / 2184885 (around 0.6865349892557274% done)\n",
      "16000,104466 / 2184885 (around 0.7323039885394426% done)\n",
      "17000,104466 / 2184885 (around 0.7780729878231577% done)\n",
      "18000,104466 / 2184885 (around 0.823841987106873% done)\n",
      "19000,104466 / 2184885 (around 0.8696109863905881% done)\n",
      "20000,104466 / 2184885 (around 0.9153799856743033% done)\n",
      "21000,104466 / 2184885 (around 0.9611489849580183% done)\n",
      "22000,104466 / 2184885 (around 1.0069179842417335% done)\n",
      "23000,104466 / 2184885 (around 1.0526869835254486% done)\n",
      "24000,104466 / 2184885 (around 1.0984559828091638% done)\n",
      "25000,104466 / 2184885 (around 1.144224982092879% done)\n",
      "26000,104466 / 2184885 (around 1.189993981376594% done)\n",
      "27000,104466 / 2184885 (around 1.2357629806603094% done)\n",
      "28000,104466 / 2184885 (around 1.2815319799440246% done)\n",
      "29000,104466 / 2184885 (around 1.3273009792277397% done)\n",
      "30000,104466 / 2184885 (around 1.3730699785114548% done)\n",
      "31000,104466 / 2184885 (around 1.41883897779517% done)\n",
      "32000,104466 / 2184885 (around 1.4646079770788851% done)\n",
      "33000,104466 / 2184885 (around 1.5103769763626005% done)\n",
      "34000,104466 / 2184885 (around 1.5561459756463154% done)\n",
      "35000,104466 / 2184885 (around 1.6019149749300305% done)\n",
      "36000,104466 / 2184885 (around 1.647683974213746% done)\n",
      "37000,104466 / 2184885 (around 1.6934529734974608% done)\n",
      "38000,104466 / 2184885 (around 1.7392219727811762% done)\n",
      "39000,104466 / 2184885 (around 1.7849909720648913% done)\n",
      "40000,104466 / 2184885 (around 1.8307599713486067% done)\n",
      "41000,104466 / 2184885 (around 1.8765289706323216% done)\n",
      "42000,104466 / 2184885 (around 1.9222979699160365% done)\n",
      "43000,104466 / 2184885 (around 1.9680669691997519% done)\n",
      "44000,104466 / 2184885 (around 2.013835968483467% done)\n",
      "45000,104466 / 2184885 (around 2.059604967767182% done)\n",
      "46000,104466 / 2184885 (around 2.1053739670508973% done)\n",
      "47000,104466 / 2184885 (around 2.1511429663346124% done)\n",
      "48000,104466 / 2184885 (around 2.1969119656183276% done)\n",
      "49000,104466 / 2184885 (around 2.242680964902043% done)\n",
      "50000,104466 / 2184885 (around 2.288449964185758% done)\n",
      "51000,104466 / 2184885 (around 2.3342189634694734% done)\n",
      "52000,104466 / 2184885 (around 2.379987962753188% done)\n",
      "53000,104466 / 2184885 (around 2.4257569620369037% done)\n",
      "54000,104466 / 2184885 (around 2.471525961320619% done)\n",
      "55000,104466 / 2184885 (around 2.5172949606043336% done)\n",
      "56000,104466 / 2184885 (around 2.563063959888049% done)\n",
      "57000,104466 / 2184885 (around 2.608832959171764% done)\n",
      "58000,104466 / 2184885 (around 2.6546019584554794% done)\n",
      "59000,104466 / 2184885 (around 2.7003709577391946% done)\n",
      "60000,104466 / 2184885 (around 2.7461399570229097% done)\n",
      "61000,104466 / 2184885 (around 2.791908956306625% done)\n",
      "62000,104466 / 2184885 (around 2.83767795559034% done)\n",
      "63000,104466 / 2184885 (around 2.883446954874055% done)\n",
      "64000,104466 / 2184885 (around 2.9292159541577703% done)\n",
      "65000,104466 / 2184885 (around 2.9749849534414854% done)\n",
      "66000,104466 / 2184885 (around 3.020753952725201% done)\n",
      "67000,104466 / 2184885 (around 3.0665229520089157% done)\n"
     ]
    },
    {
     "ename": "KeyboardInterrupt",
     "evalue": "",
     "output_type": "error",
     "traceback": [
      "\u001b[0;31m---------------------------------------------------------------------------\u001b[0m",
      "\u001b[0;31mKeyboardInterrupt\u001b[0m                         Traceback (most recent call last)",
      "\u001b[0;32m<ipython-input-64-bbe1728f7daa>\u001b[0m in \u001b[0;36m<module>\u001b[0;34m\u001b[0m\n\u001b[1;32m     18\u001b[0m \u001b[0;34m\u001b[0m\u001b[0m\n\u001b[1;32m     19\u001b[0m         \u001b[0;31m# TODO: change to include index range in dict name\u001b[0m\u001b[0;34m\u001b[0m\u001b[0;34m\u001b[0m\u001b[0;34m\u001b[0m\u001b[0m\n\u001b[0;32m---> 20\u001b[0;31m         \u001b[0msave_obj\u001b[0m\u001b[0;34m(\u001b[0m\u001b[0md\u001b[0m\u001b[0;34m,\u001b[0m \u001b[0;34m'registration_logs_dict'\u001b[0m\u001b[0;34m)\u001b[0m\u001b[0;34m\u001b[0m\u001b[0;34m\u001b[0m\u001b[0m\n\u001b[0m\u001b[1;32m     21\u001b[0m \u001b[0;34m\u001b[0m\u001b[0m\n\u001b[1;32m     22\u001b[0m     \u001b[0;32mif\u001b[0m \u001b[0mi\u001b[0m\u001b[0;34m%\u001b[0m\u001b[0;36m1000\u001b[0m\u001b[0;34m==\u001b[0m\u001b[0;36m0\u001b[0m\u001b[0;34m:\u001b[0m \u001b[0mprint\u001b[0m\u001b[0;34m(\u001b[0m\u001b[0;34mf'{i},{len(d)} / {len(registration_logs)} (around {i/len(registration_logs)*100}% done)'\u001b[0m\u001b[0;34m)\u001b[0m\u001b[0;34m\u001b[0m\u001b[0;34m\u001b[0m\u001b[0m\n",
      "\u001b[0;32m<ipython-input-39-b2855846dfcb>\u001b[0m in \u001b[0;36msave_obj\u001b[0;34m(obj, name)\u001b[0m\n\u001b[1;32m     14\u001b[0m \u001b[0;32mdef\u001b[0m \u001b[0msave_obj\u001b[0m\u001b[0;34m(\u001b[0m\u001b[0mobj\u001b[0m\u001b[0;34m,\u001b[0m \u001b[0mname\u001b[0m\u001b[0;34m)\u001b[0m\u001b[0;34m:\u001b[0m\u001b[0;34m\u001b[0m\u001b[0;34m\u001b[0m\u001b[0m\n\u001b[1;32m     15\u001b[0m     \u001b[0;32mwith\u001b[0m \u001b[0mopen\u001b[0m\u001b[0;34m(\u001b[0m\u001b[0mname\u001b[0m\u001b[0;34m+\u001b[0m\u001b[0;34m'.pkl'\u001b[0m\u001b[0;34m,\u001b[0m \u001b[0;34m'wb'\u001b[0m\u001b[0;34m)\u001b[0m \u001b[0;32mas\u001b[0m \u001b[0mf\u001b[0m\u001b[0;34m:\u001b[0m\u001b[0;34m\u001b[0m\u001b[0;34m\u001b[0m\u001b[0m\n\u001b[0;32m---> 16\u001b[0;31m         \u001b[0mpickle\u001b[0m\u001b[0;34m.\u001b[0m\u001b[0mdump\u001b[0m\u001b[0;34m(\u001b[0m\u001b[0mobj\u001b[0m\u001b[0;34m,\u001b[0m \u001b[0mf\u001b[0m\u001b[0;34m,\u001b[0m \u001b[0mpickle\u001b[0m\u001b[0;34m.\u001b[0m\u001b[0mHIGHEST_PROTOCOL\u001b[0m\u001b[0;34m)\u001b[0m\u001b[0;34m\u001b[0m\u001b[0;34m\u001b[0m\u001b[0m\n\u001b[0m\u001b[1;32m     17\u001b[0m \u001b[0;32mdef\u001b[0m \u001b[0mload_obj\u001b[0m\u001b[0;34m(\u001b[0m\u001b[0mname\u001b[0m\u001b[0;34m)\u001b[0m\u001b[0;34m:\u001b[0m\u001b[0;34m\u001b[0m\u001b[0;34m\u001b[0m\u001b[0m\n\u001b[1;32m     18\u001b[0m     \u001b[0;32mwith\u001b[0m \u001b[0mopen\u001b[0m\u001b[0;34m(\u001b[0m\u001b[0mname\u001b[0m\u001b[0;34m+\u001b[0m\u001b[0;34m'.pkl'\u001b[0m\u001b[0;34m,\u001b[0m \u001b[0;34m'rb'\u001b[0m\u001b[0;34m)\u001b[0m \u001b[0;32mas\u001b[0m \u001b[0mf\u001b[0m\u001b[0;34m:\u001b[0m\u001b[0;34m\u001b[0m\u001b[0;34m\u001b[0m\u001b[0m\n",
      "\u001b[0;31mKeyboardInterrupt\u001b[0m: "
     ]
    }
   ],
   "source": [
    "# # TODO: second pass where it only runs for transactions not in d.keys()\n",
    "\n",
    "# i = 0\n",
    "# for log in registration_logs[36750:]:\n",
    "#     i+=1\n",
    "#     tx_hash = log.transactionHash\n",
    "#     if not tx_hash.hex() in d.keys():\n",
    "#         tx_receipt = w3.eth.get_transaction_receipt(tx_hash)\n",
    "#         register_event = ens_registrar_contract.events.NameRegistered().processReceipt(tx_receipt,errors=_utils.events.EventLogErrorFlags.Discard)\n",
    "\n",
    "#         d[register_event[0]['transactionHash'].hex()] = {\n",
    "#         'blockNumber':register_event[0]['blockNumber'],\n",
    "#         'owner': register_event[0]['args']['owner'], # not included in renew events\n",
    "#         'name': register_event[0]['args']['name'],\n",
    "#         'cost': register_event[0]['args']['cost'],\n",
    "#         'expires': register_event[0]['args']['expires']\n",
    "#         }\n",
    "        \n",
    "#         # TODO: change to include index range in dict name\n",
    "#         save_obj(d, 'registration_logs_dict')\n",
    "\n",
    "#     if i%1000==0: print(f'{i},{len(d)} / {len(registration_logs)} (around {i/len(registration_logs)*100}% done)')\n"
   ]
  },
  {
   "cell_type": "code",
   "execution_count": null,
   "id": "01b9b98e-23f5-44c5-af1b-d48713ced472",
   "metadata": {},
   "outputs": [],
   "source": []
  },
  {
   "cell_type": "code",
   "execution_count": null,
   "id": "457af6a6-595b-4b47-bc0a-79bf40938003",
   "metadata": {},
   "outputs": [],
   "source": []
  },
  {
   "cell_type": "code",
   "execution_count": null,
   "id": "14a5211f-3b83-441f-ae10-b3afcdf01e80",
   "metadata": {},
   "outputs": [],
   "source": []
  },
  {
   "cell_type": "code",
   "execution_count": null,
   "id": "fa331c78-03a5-4c66-a259-fb87ccfd7255",
   "metadata": {},
   "outputs": [],
   "source": []
  },
  {
   "cell_type": "code",
   "execution_count": null,
   "id": "9ad2af56-a0ac-4abb-8494-9944f080052c",
   "metadata": {},
   "outputs": [],
   "source": []
  },
  {
   "cell_type": "code",
   "execution_count": null,
   "id": "eb88a743-98f7-46f7-87e5-99e8f6ea6bd1",
   "metadata": {},
   "outputs": [],
   "source": []
  },
  {
   "cell_type": "code",
   "execution_count": null,
   "id": "dc00f751-32ab-4b34-b07a-d43d181f7b58",
   "metadata": {},
   "outputs": [],
   "source": []
  },
  {
   "cell_type": "code",
   "execution_count": null,
   "id": "f150e410-8ce3-4e37-a0c5-488b9f964193",
   "metadata": {},
   "outputs": [],
   "source": [
    "# get all renewal logs\n",
    "end_block = w3.eth.block_number\n",
    "start_block = end_block - 6000 * 365 # get one year assuming roughly 6k blocks/day\n",
    "\n",
    "# dict keyed by block to make filling in chunks easier\n",
    "logs_all=list()\n",
    "block = start_block\n",
    "while block <= end_block:\n",
    "    logs_i = ens_nft_contract.events.NameRenewed().getLogs(fromBlock = block - 2000, toBlock = min(block,end_block+2001))\n",
    "    logs_all+=list(logs_i)\n",
    "    save_obj(logs_all, 'registration_logs')\n",
    "    block+=2001\n",
    "    if block%10000==0:\n",
    "        print(f'{block}, {block-start_block}/{end_block-start_block} ({(block-start_block)/(end_block-start_block)}% done)')"
   ]
  },
  {
   "cell_type": "code",
   "execution_count": 155,
   "id": "92b027b3-70ff-4f5d-ba6e-f664a4ac4007",
   "metadata": {},
   "outputs": [],
   "source": [
    "# process registration logs"
   ]
  },
  {
   "cell_type": "code",
   "execution_count": 147,
   "id": "dd76d3f3-037c-4271-bc9b-0c19afb491af",
   "metadata": {},
   "outputs": [
    {
     "data": {
      "text/plain": [
       "AttributeDict({'args': AttributeDict({'id': 90686843223308778110240340079823273996694382536153700617243653590831757229679,\n",
       "  'owner': '0x4b2d9a6747C18f304b6db068c5607455C795f713',\n",
       "  'expires': 1696040051}),\n",
       " 'event': 'NameRegistered',\n",
       " 'logIndex': 79,\n",
       " 'transactionIndex': 43,\n",
       " 'transactionHash': HexBytes('0xb34ae67ad9e92d8ebbeb11ea25aabc1ec960bbee0cbfc9d6571db077b1f8e730'),\n",
       " 'address': '0x57f1887a8BF19b14fC0dF6Fd9B2acc9Af147eA85',\n",
       " 'blockHash': HexBytes('0xbbfcebf416d8556278e14b332f2ff5849ac17752464d6cc17608c26d42a0a318'),\n",
       " 'blockNumber': 15641365})"
      ]
     },
     "execution_count": 147,
     "metadata": {},
     "output_type": "execute_result"
    }
   ],
   "source": [
    "logs[0]"
   ]
  },
  {
   "cell_type": "code",
   "execution_count": null,
   "id": "dcdf9e75-9a87-43bc-9450-8c512dde1035",
   "metadata": {},
   "outputs": [],
   "source": [
    "# get registrations"
   ]
  },
  {
   "cell_type": "code",
   "execution_count": 148,
   "id": "4d4ce02b-e3c1-4005-a355-596998c16cc4",
   "metadata": {},
   "outputs": [],
   "source": [
    "tx_hash = logs[-1].transactionHash\n",
    "tx = w3.eth.get_transaction(tx_hash)"
   ]
  },
  {
   "cell_type": "code",
   "execution_count": 149,
   "id": "092aa624-ff75-4174-a212-95e75dc0d318",
   "metadata": {},
   "outputs": [],
   "source": [
    "tx_receipt = w3.eth.get_transaction_receipt(tx_hash)"
   ]
  },
  {
   "cell_type": "code",
   "execution_count": 153,
   "id": "0801d5b4-2017-4dcd-8aa4-0f481760267d",
   "metadata": {},
   "outputs": [],
   "source": [
    "register_event = ens_registrar_contract.events.NameRegistered().processReceipt(tx_receipt)"
   ]
  },
  {
   "cell_type": "code",
   "execution_count": 123,
   "id": "c6e6eca2-931f-45e8-8bab-537b0baa33c6",
   "metadata": {},
   "outputs": [],
   "source": [
    "# register_event#[0]['args']\n",
    "\n",
    "# dict of transactions\n",
    "d=dict()\n",
    "s\n",
    "d[register_event[0]['transactionHash'].hex()] = {\n",
    "'blockNumber':register_event[0]['blockNumber'],\n",
    "'owner': register_event[0]['args']['owner'],\n",
    "'name': register_event[0]['args']['name'],\n",
    "'cost': register_event[0]['args']['cost'],\n",
    "'expires': register_event[0]['args']['expires']\n",
    "}\n",
    "\n"
   ]
  },
  {
   "cell_type": "code",
   "execution_count": null,
   "id": "ac63f0a7-5b88-4f3c-a792-6e6a6a5fccca",
   "metadata": {},
   "outputs": [],
   "source": []
  },
  {
   "cell_type": "code",
   "execution_count": 12,
   "id": "6c8127db-a3f8-40fb-a501-edf472abf362",
   "metadata": {},
   "outputs": [],
   "source": [
    "# ens_nft_contract.all_functions\n",
    "# ens_nft_contract.decode_function_input(tx.input)"
   ]
  },
  {
   "cell_type": "code",
   "execution_count": 13,
   "id": "7c428851-fed1-46d2-9a4a-149cd1f79108",
   "metadata": {},
   "outputs": [],
   "source": [
    "# TODO: \n",
    "# check each alchamey function...\n",
    "\n",
    "# - change token balances to=true? and see what is returned?\n",
    "\n",
    "# - write function for getNFTsForCollection\n",
    "# - process output of getNFTsForCollection\n",
    "\n",
    "\n",
    "# revenue and income projections.. \n",
    "# revenue data from alchamey & knoeledge of registration costs;\n",
    "# name_length, registration date, & expiration date can be used to estimate future revenue?\n",
    "# assuming everyone re-registers at the same prices for the same duration ; \n",
    "# revenue = annual price|name_langth * (expiration date - registration date) in years\n",
    "\n",
    "# estimate\n",
    "# - new users / new registrations & project this with a regression model?\n",
    "# - historical re-registration rate\n",
    "# - quarterly profits from registrations, & from re-registrations?\n"
   ]
  },
  {
   "cell_type": "markdown",
   "id": "7d930931-b02c-4cd2-80b5-f08e55c9fd46",
   "metadata": {},
   "source": [
    "# Alchemy data curation"
   ]
  },
  {
   "cell_type": "code",
   "execution_count": 6,
   "id": "be4c33e8-dc94-4039-9746-b90ce95caa81",
   "metadata": {},
   "outputs": [],
   "source": [
    "# Alchamey requests api;\n",
    "\n",
    "base_url = f\"https://eth-mainnet.g.alchemy.com/nft/v2/{apiKey}\"\n",
    "\n",
    "# collection -> owners & owned tokens\n",
    "def getOwnersForCollection():\n",
    "    # docs: https://docs.alchemy.com/reference/getownersforcollection\n",
    "    # first page\n",
    "    first_page_url = base_url+ f\"/getOwnersForCollection?contractAddress={ens_nft_address}&withTokenBalances=true\"\n",
    "    headers = {\"accept\": \"application/json\"}\n",
    "    response = requests.get(first_page_url, headers=headers) \n",
    "\n",
    "    # response.json()['ownerAddresses'] is a list with len() usually around 50k\n",
    "    owner_addresses_page = response.json()['ownerAddresses']\n",
    "    owner_addresses_all = owner_addresses_page\n",
    "\n",
    "    # subsequent pages (todo:add more conditions avoid infinite loops)\n",
    "    while True:\n",
    "        page_key_old = response.json()['pageKey']\n",
    "        next_page_url = first_page_url + f\"&pageKey={page_key_old}\"\n",
    "        response = requests.get(next_page_url, headers=headers) \n",
    "        owner_addresses_page = response.json()['ownerAddresses']\n",
    "        owner_addresses_all+=owner_addresses_page\n",
    "        print(len(owner_addresses_all),page_key_old) # feedback to monitor\n",
    "        if 'pageKey' not in response.json():\n",
    "            print('no more page keys')\n",
    "            return owner_addresses_all\n",
    "\n",
    "# owner -> NFTs owned\n",
    "# https://docs.alchemy.com/reference/getnfts\n",
    "def getNFTs(owner):\n",
    "    first_page_url = base_url + f\"/getNFTs?owner={owner}&contractAddresses[]={ens_nft_address}&withMetadata=true\"\n",
    "    headers = {\"accept\": \"application/json\"}\n",
    "    response = requests.get(first_page_url, headers=headers)\n",
    "    response_json = response.json()\n",
    "\n",
    "    owner_nfts_all = response_json['ownedNfts']\n",
    "    while len(owner_nfts_all) < response_json['totalCount']:\n",
    "            page_key = response_json['pageKey']\n",
    "            next_page_url = first_page_url + f\"&pageKey={page_key}\"\n",
    "            response = requests.get(next_page_url, headers=headers) # introduces dupes bc of page size being 100, need to dedupe later\n",
    "            response_json=response.json()\n",
    "            owner_nfts_all += response_json['ownedNfts']\n",
    "            print(f\"{len(owner_nfts_all)} / {response_json['totalCount']}\",page_key) # feedback to monitor\n",
    "\n",
    "    return owner_nfts_all # may have dupes -- could dedupe by processing into a dict keyed by tokenId\n",
    "\n",
    "def process_nft_list(nft_list):\n",
    "    nfts_df = pd.DataFrame()\n",
    "    for nft in nft_list:\n",
    "        if 'metadata' in nft.keys():\n",
    "            if 'attributes' in nft['metadata'].keys():\n",
    "                if nft['metadata']['attributes']:\n",
    "                    tmp_df=pd.DataFrame(nft['metadata']['attributes']).set_index('trait_type')\n",
    "                    tmp_df=tmp_df.T.loc[['value']] # transpose for easier formatting\n",
    "                else: tmp_df=pd.DataFrame()\n",
    "            else: tmp_df=pd.DataFrame()\n",
    "        else: tmp_df=pd.DataFrame()\n",
    "\n",
    "        if 'title' in nft.keys(): \n",
    "            tmp_df['title'] = nft['title']\n",
    "        else: tmp_df['title'] = None\n",
    "\n",
    "        if 'id' in nft.keys():\n",
    "            if 'tokenId' in nft['id'].keys():\n",
    "                tmp_df['id'] = nft['id']['tokenId']\n",
    "        else: tmp_df['id'] = None\n",
    "\n",
    "        # if 'owner' in nft.keys():\n",
    "        #     tmp_df['owner']=owner\n",
    "        # else: tmp_df['owner']=owner\n",
    "\n",
    "        nfts_df=nfts_df.append(tmp_df)\n",
    "\n",
    "    nfts_df=nfts_df.drop_duplicates()\n",
    "    return nfts_df\n",
    "\n",
    "# process the list of nfts with metadata and dupes\n",
    "\n",
    "# collection -> NFT info\n",
    "# https://docs.alchemy.com/reference/getnftsforcollection\n",
    "# skipped bc relevant info was returned by getNFTs\n",
    "# # getNFTsForCollection\n",
    "# url = f\"https://eth-mainnet.g.alchemy.com/nft/v2/{apiKey}/getNFTsForCollection?contractAddress={ens_nft_address}&withMetadata=true\"\n",
    "# headers = {\"accept\": \"application/json\"}\n",
    "# response = requests.get(url, headers=headers)\n",
    "\n",
    "# NFT sales\n",
    "# https://docs.alchemy.com/reference/getnftsales\n"
   ]
  },
  {
   "cell_type": "markdown",
   "id": "7801b3d9-b960-4330-b201-e5f483360cec",
   "metadata": {},
   "source": [
    "## Owners and domains owned"
   ]
  },
  {
   "cell_type": "code",
   "execution_count": 15,
   "id": "cfe49f38-1188-4ba0-8838-ea7135b917d3",
   "metadata": {},
   "outputs": [
    {
     "name": "stdout",
     "output_type": "stream",
     "text": [
      "19926 MHgwM2QzMmY4OGZjOGIxMGFmMGNiYmJkZjNjOWE3NGEzNmMzNjhlZWZjOjB4N2U5NzMzNjQ1MzZhMmMwNjRjOTFiNjlkMzI3NWZjYWE3NzY4MzUwYTI0NmRhZGJiZTZmOGQyNTU4NzZhMTgxNDpmYWxzZQ==\n",
      "29783 MHgwOGNmOTk2MGM5Mjc3N2JkNmE1OTZhNGYzZGMzNDIxMGQxNjZjODdmOjB4NjAyYzA3NjgyZDg2Y2RkMmE2OTkwM2VjYWUxZjgzNWE0M2VmMjU1MmIwMTk2YWE2YWU0OTA2MGQ1NThlOGViYTpmYWxzZQ==\n",
      "41968 MHgwZDU1ZWE4OGIwYjc2OWY5Mzg3M2Y1Yjk3ODVhYjgwNGQzNzZiZjA4OjB4YTMxMjVkMzY5MDZmZDdiYzhjYjBlNDBkYzM3YjgyOTlhZDhiYTBhMzc4ODliYTI1ZDFjNjJkZTg5M2JlOTJmMDpmYWxzZQ==\n",
      "53778 MHgxMmYzZDU5MzJkMmZkZmJjNGQ2ODU3ZGE5OGIxNDNmNTRmZjVmYjMzOjB4OWI0OGUwYWNiNzg4YzhlNjQ5YTc4MWZhYmMxZmIxYjhlYjMzZGEzYzM0MzlmZjM0Y2ZiMjU2NzZiMjUxMjM4YzpmYWxzZQ==\n",
      "64844 MHgxODU1MWJlMmRiZGUwM2NhYjc1YzU4NWVkYmVkZDgwZmUxZTVlMWYzOjB4NjkwMmNmMDc4YWY4ZTExNWFjYjcwNjNlYWQ5NWEyODA3MzAxYTY2NzA1ZmRiNmFlMGJhOGJjZjA0ZmUxZTgyODpmYWxzZQ==\n",
      "76405 MHgxZDZmMmYwMzU2YjNkZWZhZGYxNGIxYTBmOGEzZGNkYTg5MzY3ZDY4OjB4Y2E4Nzc1YTJkYzhlNWFhZjBmNzZhYmZkZTRlYTgwMzNlOWM5Y2VhMDQ4ZTliMmI3YjJjYjU1MjljMzMxMTgxYjpmYWxzZQ==\n",
      "86700 MHgyMmRmMDA2N2EwOTYxZjhiYTJkMTViNzNiYWUyOWM0ODgyNWE5YWEzOjB4MzM4ZTU0ZmVlY2IyNjg3N2E4NDIzOTBmZDQ5OGQzNmQ1NjBjMTFjZTE1NzA5N2Q3ZmIzNzA0NDY4YTlhMWU2NzpmYWxzZQ==\n",
      "97307 MHgyNzljNGFjNTlmMDM4ZTAyZTc2OTBhOTYyYWI3Yjc0M2Q0NjY3N2ZhOjB4NmZmYjFjOTYxYTJhMzJjYzUyOTc0ZWJkYzZiY2VkODJmNmZmMTYzOTMwZDQ3N2JjYWFjZWQ1OWU5NTg1MDIwYTpmYWxzZQ==\n",
      "104199 MHgyYzczZWJiZjc4YmNlN2NjYzVhMzMzZDZkMTlhZGJmZTA2YWFjOWY1OjB4MjMyNTc5Mjc4ZjViODhiYWRhMzEzNDgyNzYwOTJhM2UyM2JlYzQxYjJmZTEyMTlkZjExODc4MzNhOWQ3ZjU3MzpmYWxzZQ==\n",
      "115253 MHgyZmFiMDI0OWM2YTYwZDcxNTEzNWYxMmU1MWRlN2MxMzBjMjYyODlkOjB4NWU4MDBiYzRmNWJkODdmMGJlNzZiOGQxNWRkODczZmRhNTlmNDFmYWE0YThiOGE1YjliYWJlMGJmZDFjNWMwYjpmYWxzZQ==\n",
      "126207 MHgzNGIzZmUxZjM0ZTNkZjk3Mzg1NDRiYmYyZGYzZDQ3NzI1MDAzNjAzOjB4NmIxMWRhOTMyYzNlNTdkODUyYzczMDMzZWFmNjM1MDM1ZDY0Yzk3NDQzMzVjNzgzNjM0MWUxN2EyNDMyMmI0ZTpmYWxzZQ==\n",
      "137005 MHgzOWQwNzkyYWQ4YTI3N2FmOTBiOTFjMzJlYWJjMmFlZjM3ZjhjMTUxOjB4NjRkZTkyMjE0ZDU2MjZlZDg4YmM5ZTI4OWJhYjE5YjA4OWY4Y2IwNTQ2MTU4MGU1ODIzMzFhZDcyYTE4OWQ3NjpmYWxzZQ==\n",
      "148190 MHgzZWQ3MDA5ZmEyYzJiNWJlOGNhMGVkZjJlZGJiNmY5MzJiYzlhMzk3OjB4NTY0NmQ5Njg3MzgzMTQyN2JiNDEwNDY1ZTYzM2FkODk3ZDZmMDczMWM2ZjE4N2QyNjYyMTkzYmU2ODE3ODJjODpmYWxzZQ==\n",
      "159423 MHg0NDA0MDkzNjllODgzOTNhNTYyZWY5NjhkMWU2MDQ3YjAwZDAzNDBmOjB4MjRkODRkZTVkY2FhYjllN2Y2ZjhkOGRmYWIyZDI5NzVmMmMwMWM3Y2I2YWE4YWE2NTExYTUwNzI3OTJhMGEzNjpmYWxzZQ==\n",
      "170247 MHg0OTI0NjBmNDk4NjM2MGQ1MTRlODdiYmZlMThhOTBlNDg1MThjOWQ3OjB4OTFhN2YyN2IyOTY2MGM1MzkyOWIyYTE2MjNkM2Y5MWRkZWUwZmY3NWQyZjVjOTYzZTk1NjM2YTZiNjg4Yzc0NjpmYWxzZQ==\n",
      "181825 MHg0ZTI0ODE3N2U0MjhiOTdiMTQ2MmEyMDU2YTgwMDBjNThjNGRhZTA1OjB4OGI0NTFjNWJmNzU5OWE2MGUwMjE1NjZhM2I4Yzk5Y2M4OTEyOGUyZmY4ODE5YjE0ZDMzZmJkODZmZWNiNTZjNDpmYWxzZQ==\n",
      "193730 MHg1MzcwYjNjYTU1YmI1NjFlN2JjMDUwYzgxODQ4ODczYjliY2ViYmVjOjB4MTcyMGM5NThjYzU1MDA3OWVlOTY3YWI1ZmQ2YjQ3NWE4NjBhOGExNWMzZGYwOTAxZTdkNjYyMGVhMjE2MjM3NzpmYWxzZQ==\n",
      "206517 MHg1OTA2NGQzNTYyZjI5YTZiZjQ1ZTA3NDI4ZWFkNWQzM2M2NjRlZGM1OjB4ZTY5MWU3MmVkZWZkOGUyYjM0MjBjZGM1NTcxZTBmYmFjNjUwMGE2NmQ2NjY0N2ZjNmQ5Nzk5NzU0NGU5OTFlYzpmYWxzZQ==\n",
      "217750 MHg1ZWZhNWU3MzZiY2JkMzlmYWI5ZDZhZTFkM2ZkNGNhNzBhODBhNjM3OjB4MjgyMzk2ZTk4ZDQ4OTI4ODc1MjNhYmYxOWJjYjEyYjA4ZjE2ZTc4MTBkODk5YjZmZTkxNTZjZWU3NGI4ODA0MzpmYWxzZQ==\n",
      "227898 MHg2NDM3MmRiNjQwNTg3OTIxNGEwYTc2YTdmMWU5YzAxM2ZkMmZkODRiOjB4NDk1YjhiY2NiZWQyMjczZmM3NDI1ZWZhNWRiODQzNjFhNjNlMzYzNmZmMmNmNGU2ODgwMmFjZTJjYzQyNDMzMjpmYWxzZQ==\n",
      "239469 MHg2OGRkYWY3MDMwM2UwNjY4YTYyNTlhM2VhZDA5MGQwYjBhNzc5ZmM4OjB4OTkyZDUwMmJjMDBlYzYzMThjMjQ3YTA1NjQ4Y2EzODFkODUyZDc2ZTRiODcxOTYxZjcxMGNjNjQyYWZkN2VjMDpmYWxzZQ==\n",
      "250925 MHg2ZTNhYTg1ZGI5NWJiYTM2Mjc2YTM3ZWQ5M2IxMmI3YWIwNzgyYWZiOjB4ZmFlODE5NWQwZjQwMWNiZjI0ZWRmZmI4Zjg3MmNlOTI1MzIxY2FlYzg3ZmFlMTljN2FhMDBlMzhiYWJjNmQzMjpmYWxzZQ==\n",
      "262226 MHg3MzgyZjg5MzU5NTY1OWY1NzdhN2VmY2YzYzllNmQ2NmQxMGZkMjdiOjB4MWJlMzFkMDE0ZjFhNzU5NjQxOGYxZDcwOTAzNWUyN2FhY2ExMjI1MGMwNWYxNmI0ZWU1MWZmMjEyMzczYWNhYjpmYWxzZQ==\n",
      "272633 MHg3OGE2YzI3OTAyNjYwYTQwN2QyZGZjZDZhZDJiMDE0ZmRiY2MzZDgxOjB4ODBiNDBhOGM0YjgwNjc1Zjg2NjhlMWYwMDNjM2RhNjlmODFlYjhjOTc4NjgwYjFmMTljODU4ZDZiOTM0OGQwZjpmYWxzZQ==\n",
      "282480 MHg3ZDY3ZmQzZDNjMWY0NTUyY2NiZTYxZmYzYzdiZTk1OTg4NmRhY2Y1OjB4ZmJkMjcyMzMxYzFiOGRkZjlkZWFiNWNkNGJhZGNjYWRhZTY0YzI3MTBmYmRkOWZhNGJlNjI3NjNkM2RlNWI2YzpmYWxzZQ==\n",
      "293613 MHg4MjA0ZWMzYjZiNzU5N2YzN2I5Y2RlYzQ0MGE5M2RjYWYxZjcxMWQ5OjB4ODJmOGQ5N2Q5Y2EzMDViZDg0MDNiMzIyZDdhMjBlMDUzNWEwNTE5ZmFlOWEzMjdmOTIzNzMxMjk0MjU3YjQwZjpmYWxzZQ==\n",
      "303862 MHg4NzMwM2NjYjZiNmNhZTdhZTIxM2E3YTQ1MjY4YmY1ZWVlMWVmMDhlOjB4YTk4Y2YzNzM2NmJkMGIwNzljZDhmMDFhOTFmMzgyZmEwYTk3ZmZjMDM0Njg1YTY2MGQ1ZDBmZmRhOGUwNmMzODpmYWxzZQ==\n",
      "315306 MHg4YmY0NDdiYjcyZTczN2ZjYmZiMzZjNTIyNWUyNDNjMjYyMWJmNWRlOjB4YjFlYmYzNmZmOTk4M2U0MjQxODQ3MmVhNGFjM2IzMWJmOGU0YmQyNDgzNWI3ZjBkY2JhYjJmY2Y4YjEzZjZlODpmYWxzZQ==\n",
      "324626 MHg5MTU5OWM2ZWZmNGEyY2E0YjExZjIwMDE4NDU0YzU1MWI1M2UyOTg4OjB4NDU3MmE5ZWMwZGNmYzMxMTJiNmQ5YjRmZTEwNmNiMTcwZjc3MDVmNDYyMDc0N2IyMGQ2MzhmZTBlMDVhZTVkMzpmYWxzZQ==\n",
      "335671 MHg5NWFmZjg3ZWY2MGQ1MTY2ODU4ZGY4MjVlYWQxNjNhNjYyNmUwM2FiOjB4ZTNiZjMxN2YwNjU4MTQ1NDM3ZTc2NWEzMmQ1Mzc1ZGEwZTgxNjIwZGQ5ZjBlMWZhYzFjNzhmNWY3MDc5ZmI0MjpmYWxzZQ==\n",
      "346968 MHg5YWNiNWU1YzhjNjhhYzk3OTYwZDVhY2E5OWU2NGExYTA3Yzk3NmEyOjB4NTc3ZTY2YzUxYzY4MzJhNTIzNDllYzJjNDEzMmNjZjYyNDJiMGJmZWMzZjM0YTVjNTUxZDg0NGFjYWZiNmYxYTpmYWxzZQ==\n",
      "357482 MHhhMDFkNjQ0ODEwYTcxNDlkZjg2ZGQ5MjY1YzdjMGY5NGZiNzVjNzE4OjB4YjBlNjQwMDEwOWJmMDg2N2Q0NDA5OGViMDY5NmZiZmRiODRjZWQ0YWE5ZWFhNmFmNzY4NmExOWY2MjE2OTYzNjpmYWxzZQ==\n",
      "365396 MHhhNGY4MmI5ZDZiOWVlMDY2ZDc5OTMwYzc0NTUzOWU4MGFlNmMxMmQ2OjB4NWNiOTAzMjBhMDI4M2MwY2M1Y2RkZTY2MTM1MDk2NzIzZDhlMGFmYjkyMmZmMDQwM2Q0OWE5YTEwOTU3MmRkYjpmYWxzZQ==\n",
      "375644 MHhhOGIwOWM2MmIwZGYxMTg3NGY2ZGQ5ZWIxOGUzOTVjNzc3ZWY0YzA1OjB4NTkzY2EwMWRiMTAxMDIzODI5ODgzMDgyZmRmYTZkNGY2NjAxNjk0MjNiZWE3NGQ4NzEzMTdiYzJiMzBiZWIyZTpmYWxzZQ==\n",
      "388208 MHhhZDYxOTc4NWI3NTAwYTBiNTdlYzYzNDZiOTMxMDUwZGFhNjEwODQwOjB4MWJhMTNjZTAwYmE2OTRjOGZmODhkOWJmMDM3YmUwY2U4MzZmYzFmZWMxY2RiOWVmNDkxNzYyMDU5ZTljZDdhZjpmYWxzZQ==\n",
      "399142 MHhiMzMxZjgyZmZhYWIwZDUzMjM5ODY2YzFiYTk5ZjYwNTVhNTFhMGUxOjB4NTlmMmMzMDE4NzA3NTA4OTkzNjRiYWNjMTgzYjdhYzdjM2YxZTc3YWQ0NGJlNTAyM2RkZGM5MmJmMGYxMzgxMjpmYWxzZQ==\n",
      "409951 MHhiODI5YTg5YzA1ODg5NWZlZmM5Y2VmM2Y5ZGEyNmJiYTE0OGIxOTcwOjB4NGZlZjEzZWFkNzYxMDE3ZDNhZjcyZDIwNmQzMGJmMzE4MjljOWZmNzRkZjMwZGEzNTAzNDE0YmU2NjFmZjZlNzpmYWxzZQ==\n",
      "416448 MHhiZDIxMTA5ZTJiZGNiMjRjNGZiY2RjMTZhNGM5MGYzNGU4MTIyOGUyOjB4MWJlZDgxZWM0OWY3MjZlMjRlZGMzYTZlMmM0NmIxM2Q2ZDNmM2ExNWNjYTc1MzU2ZGRlOTc4MzNhODExYzBhODpmYWxzZQ==\n",
      "428646 MHhjMDMxY2YwMmRjNmI1ZDUzZjA5MjY2OWIxMjQ2ZmQ4MTBiZDg1YjM1OjB4MzJjYWNmYTcyNWM2MmU4YjJkYzMzNDM3YzhhNWFkNWJlOTFiOTY4Zjk1YjNhODk4YWZiZjcyYjY4ZDRmOTM0YTpmYWxzZQ==\n",
      "440311 MHhjNWRhMzk4OTJmMjg3YmVlZDY2ODM0ZTFlZTQ0MDcwNmFlZGY5NzljOjB4ZGZjMjdiOWZkNmExN2I1ZGM5YTdkZmFhYWY4ZTkwMWQ3MDJjZGI5Mjk5YzNhZjg1YjkyMzI0NjUwYjU1MGFhODpmYWxzZQ==\n",
      "451677 MHhjYjNiMjgxYzJkMTBiYjYwMGVhZDJiZTJjNjNhNjAwN2Q2YTIyNjdkOjB4ODI1OGQyZjU2NDA5YWJjODRlYTRkMzFiYTE0YjgyYjE4Y2NkYzgxMWE2NGQwZDU3YWI0NjU3YTdlODljMDUyNTpmYWxzZQ==\n",
      "462075 MHhkMDZlZGI0MTEyMGEzYzhhNWJkMTE3MThmOGQ0YmYzN2RmNWQwOWU2OjB4MDNlYWZjMjNkNWIxODU3MmE3OWY2Mjc1NmEzZGM0ZjQ1NTY2YzU1OGUxM2NjZjA2OTNiNzZmODhjN2NkZDk4ZjpmYWxzZQ==\n",
      "473097 MHhkNTM2NzNjMDRhYzU1NzFjMDI1OTdiMmU3OGExYTZhYTA3N2UyZWFmOjB4ZGEzMWUxNmViZDdhMWFjYjJiMjkwM2IwYzU4NjcxMjI3OGIzNDcwMWIzYTA2ZDFiOTNkZjFkNzljOTZlNDYyODpmYWxzZQ==\n",
      "484197 MHhkYTRlNTRkMzY5YjUzZTFlMzRjOTQ4ZWFjNzFmNDgwMjg3MGI3YzMwOjB4YjI0ZTYzMzk3OTBmNTUyOWVmYmFhZmRlYjliMzUzNjAzZDk2MDFlZTVmNDNiYzg1YTlhYjQ5ZDRjYjgwY2RiMzpmYWxzZQ==\n",
      "496418 MHhkZjYxN2ZjMDcyMjE1YzYzODEzN2IzMDM4NjI4YjQyMDA2NGMwNmIyOjB4OTMxNDUwNzVmM2NiYjRmMzRjZjQ2YjU3NGQxZDFkMzExMjUyYmFmMjJkZjkxNzUwMDM5ZWUyMDEyNjFiYWI4MDpmYWxzZQ==\n",
      "507907 MHhlNTAxOGM0MjlhODNmMTkzYmZmOTc2YzM3YjFkMzdmYzJhNTY3YjZjOjB4ODNkNzQ1Y2U2NjkwMGJkNDZmOWIwYWIyMzIzNzc1MmU4M2UyYzlhN2QxNjI5MGJjZDEyMWZmYzZlYWMzYTUxMDpmYWxzZQ==\n",
      "518581 MHhlYTU3YmMyYmVlN2RhOWNiZGI5NmJiMGNkOGEzZmQzNWMzYWYwM2YxOjB4NDliMGU2OTU0MDNkNWEwZWNiMTNiNDEyNGVhZjU5ZmVkMzk3YWUzNDY4ZjljMjEzNjgzYWQ2ZDY2ODZkNTk2YTpmYWxzZQ==\n",
      "528012 MHhlZjRiMGU4YjBjZmE1OWVkM2JlNmMxZTgxNmU1MzYwMmIxNTQ1YTRiOjB4ZmU0MTliNTQ1YmRlMjcxYjZiMjE4ZTk4ZTFkZmJlODAzNDhmYzJiN2RhNDI1YmQ4MzFmOGQ2MTc5OWU2MjRlMTpmYWxzZQ==\n",
      "538498 MHhmM2I2M2Y4YmUzNjk0M2U5MGE0NDliYzhmYThjZGYzOTU1YWFkNjc5OjB4NzRmM2VlNWJjOWVlNjZlYzM4YmU1ZDcwZjFhMTliOTU1ZmJhYzI2MDQyMGQ2YzBmMjc2OGMyZDI2ZjUxMDVmNTpmYWxzZQ==\n",
      "549334 MHhmODg3YWY0YjNjYWRlY2Y4YWM3NGU3MWE5YTY5ZGZmNGQxNGYzYWYxOjB4NjBmOWFmNzdmNDlhZjkxN2NlMjg1MmY5NWUzOTIwNDljZDFjZTcxZWFkMDRmZTQyZjEyMzJhNjY5OGI4YWIxZTpmYWxzZQ==\n",
      "554770 MHhmZDkwMTM0MmViZGE3ZWQ2M2U1OWM0OTRjNDY4MWZhMzc1MWU2YjU4OjB4MGNmZGQ3ZTMwZDBiZmM3YmI4ODc3MDFlZWQ4MDFkMTkwOTY0ZTE0NzZmNjI3YWIwMzljOTIyYmYyNGNmMzQ1ZjpmYWxzZQ==\n",
      "no more page keys\n"
     ]
    }
   ],
   "source": [
    "owner_addresses_all = getOwnersForCollection()"
   ]
  },
  {
   "cell_type": "code",
   "execution_count": 16,
   "id": "bfa81913-0321-4e0a-b856-a67acc6c4a50",
   "metadata": {},
   "outputs": [
    {
     "name": "stdout",
     "output_type": "stream",
     "text": [
      "0/554770\n",
      "100000/554770\n",
      "200000/554770\n",
      "300000/554770\n",
      "400000/554770\n",
      "500000/554770\n",
      "done.\n"
     ]
    }
   ],
   "source": [
    "# efficiently process info into a long data frame;\n",
    "\n",
    "# step 1) convert to a dict with key:owner id, value: list of owned nfts\n",
    "all_dict = dict()\n",
    "i=-1\n",
    "for owner in owner_addresses_all:\n",
    "    i+=1\n",
    "    if i%100000==0: print(f'{i}/{len(owner_addresses_all)}')\n",
    "    all_dict[owner['ownerAddress']] = [[i['tokenId'] for i in owner['tokenBalances']]]\n",
    "print('done.')"
   ]
  },
  {
   "cell_type": "code",
   "execution_count": 17,
   "id": "be7ae8ce-c4aa-45ac-996f-59e9bb5c94e0",
   "metadata": {},
   "outputs": [
    {
     "data": {
      "text/plain": [
       "554649"
      ]
     },
     "execution_count": 17,
     "metadata": {},
     "output_type": "execute_result"
    }
   ],
   "source": [
    "len(all_dict.keys()) # verify number of owner addresses"
   ]
  },
  {
   "cell_type": "code",
   "execution_count": 18,
   "id": "984e403f-9668-4e64-84d3-ebe49d59088d",
   "metadata": {},
   "outputs": [],
   "source": [
    "# step 2) convert dict of lists into a df of lists\n",
    "tmp=pd.DataFrame.from_dict(all_dict,orient='index',columns=['nft_ids'])\n",
    "# step 3) explode the lists into rows for each (owner,nft id) pair, rename index coluumn\n",
    "tmp=tmp.explode('nft_ids').reset_index().rename(columns={'index':'address_owner'})\n",
    "# save for later usage\n",
    "tmp.to_pickle(path = '/Users/macstrelioff/Documents/git/crypto_public/ENS NFT analyses/owners_and_owned_nft_ids_df')"
   ]
  },
  {
   "cell_type": "code",
   "execution_count": 19,
   "id": "9a853223-e060-47b5-b676-a8cde4967a17",
   "metadata": {},
   "outputs": [],
   "source": [
    "# load the saved result instead of re-running code above\n",
    "owners_and_owned_nft_ids_df = pd.read_pickle('owners_and_owned_nft_ids_df')"
   ]
  },
  {
   "cell_type": "code",
   "execution_count": 22,
   "id": "a69f6671-1cbb-46dc-90f2-1d6f45749355",
   "metadata": {},
   "outputs": [
    {
     "data": {
      "text/html": [
       "<div>\n",
       "<style scoped>\n",
       "    .dataframe tbody tr th:only-of-type {\n",
       "        vertical-align: middle;\n",
       "    }\n",
       "\n",
       "    .dataframe tbody tr th {\n",
       "        vertical-align: top;\n",
       "    }\n",
       "\n",
       "    .dataframe thead th {\n",
       "        text-align: right;\n",
       "    }\n",
       "</style>\n",
       "<table border=\"1\" class=\"dataframe\">\n",
       "  <thead>\n",
       "    <tr style=\"text-align: right;\">\n",
       "      <th></th>\n",
       "      <th>address_owner</th>\n",
       "      <th>nft_ids</th>\n",
       "    </tr>\n",
       "  </thead>\n",
       "  <tbody>\n",
       "    <tr>\n",
       "      <th>0</th>\n",
       "      <td>0x0000000000000000000000000000000000000001</td>\n",
       "      <td>0x048fcb12e6268ffe230ec5cd4148909d78c83d66dd64...</td>\n",
       "    </tr>\n",
       "    <tr>\n",
       "      <th>1</th>\n",
       "      <td>0x0000000000000000000000000000000000000001</td>\n",
       "      <td>0x056ca2314f8a6e8efe226d76ed83647670d0f2cb0ed8...</td>\n",
       "    </tr>\n",
       "    <tr>\n",
       "      <th>2</th>\n",
       "      <td>0x0000000000000000000000000000000000000001</td>\n",
       "      <td>0x06f16259602eb8442dbf3aa9e163eec8557f643ec435...</td>\n",
       "    </tr>\n",
       "    <tr>\n",
       "      <th>3</th>\n",
       "      <td>0x0000000000000000000000000000000000000001</td>\n",
       "      <td>0x0d73a424a96fa74a63677d10aecefbe1d1573495ce66...</td>\n",
       "    </tr>\n",
       "    <tr>\n",
       "      <th>4</th>\n",
       "      <td>0x0000000000000000000000000000000000000001</td>\n",
       "      <td>0x0d9b90614509308bb0ce53096c8410e953af7ca492a1...</td>\n",
       "    </tr>\n",
       "  </tbody>\n",
       "</table>\n",
       "</div>"
      ],
      "text/plain": [
       "                                address_owner  \\\n",
       "0  0x0000000000000000000000000000000000000001   \n",
       "1  0x0000000000000000000000000000000000000001   \n",
       "2  0x0000000000000000000000000000000000000001   \n",
       "3  0x0000000000000000000000000000000000000001   \n",
       "4  0x0000000000000000000000000000000000000001   \n",
       "\n",
       "                                             nft_ids  \n",
       "0  0x048fcb12e6268ffe230ec5cd4148909d78c83d66dd64...  \n",
       "1  0x056ca2314f8a6e8efe226d76ed83647670d0f2cb0ed8...  \n",
       "2  0x06f16259602eb8442dbf3aa9e163eec8557f643ec435...  \n",
       "3  0x0d73a424a96fa74a63677d10aecefbe1d1573495ce66...  \n",
       "4  0x0d9b90614509308bb0ce53096c8410e953af7ca492a1...  "
      ]
     },
     "execution_count": 22,
     "metadata": {},
     "output_type": "execute_result"
    }
   ],
   "source": [
    "owners_and_owned_nft_ids_df.head()"
   ]
  },
  {
   "cell_type": "code",
   "execution_count": 21,
   "id": "20e99011-f0d4-495e-bd39-5f6f46119ae7",
   "metadata": {},
   "outputs": [
    {
     "data": {
      "text/plain": [
       "((2546310, 2), 554649)"
      ]
     },
     "execution_count": 21,
     "metadata": {},
     "output_type": "execute_result"
    }
   ],
   "source": [
    "# some check number of nfts and owners\n",
    "owners_and_owned_nft_ids_df.shape,owners_and_owned_nft_ids_df.address_owner.nunique()"
   ]
  },
  {
   "cell_type": "markdown",
   "id": "ac5b5306-963f-4e8a-b61a-5d3e0d2359fb",
   "metadata": {},
   "source": [
    "# get nfts by collection id (to be matched to owners later)"
   ]
  },
  {
   "cell_type": "code",
   "execution_count": 48,
   "id": "fcc07127-f1a7-41fb-be30-142b87081098",
   "metadata": {},
   "outputs": [],
   "source": [
    "# for getting metadata on all nfts in the collection\n",
    "\n",
    "first_page_url = base_url + f\"/getNFTsForCollection?contractAddress={ens_nft_address}&withMetadata=true\"\n",
    "headers = {\"accept\": \"application/json\"}\n",
    "response = requests.get(first_page_url, headers=headers)\n",
    "nfts_page = response.json()['nfts']\n",
    "\n",
    "nfts_all = nfts_page\n",
    "\n",
    "# for pagniation \n",
    "i=-1"
   ]
  },
  {
   "cell_type": "code",
   "execution_count": 62,
   "id": "2786f6f6-7a83-4dbd-920e-39628c65d47a",
   "metadata": {},
   "outputs": [],
   "source": [
    "startToken = nfts_all[-1]['id']['tokenId']"
   ]
  },
  {
   "cell_type": "code",
   "execution_count": null,
   "id": "ce128b17-397a-4ba5-bf29-dcf7859ddf7c",
   "metadata": {},
   "outputs": [
    {
     "name": "stdout",
     "output_type": "stream",
     "text": [
      "2150, 214700, 100, aprox. 8.431809166990666% done, 0x14e7988432518fb016a1a9081dc2336a42b48e4c66f00b32081b856a586490c6\n",
      "2153, 215000, 100, aprox. 8.443590921765221% done, 0x14eec6cdf54354c5769789a4d41f396ea21727328836a61f3e4314c12a23167f\n",
      "2160, 215700, 100, aprox. 8.471081682905853% done, 0x15014e872c4f1633fe77029bca85f084f082077a8f6c781e69f76c921fd18e5f\n",
      "2163, 216000, 100, aprox. 8.48286343768041% done, 0x150907766bf52e26a058d2a6c8090fbac7bc26faf97d9db45469f24a2710b69f\n",
      "2170, 216700, 100, aprox. 8.51035419882104% done, 0x151aa312afaf8903eb361504cc8f0e50b6d8deec18a7b964085be2b955993449\n",
      "2173, 217000, 100, aprox. 8.522135953595596% done, 0x1520d00f6480df95d6e6d586f11a93198ac497ff0009016b5629f50f6179268b\n",
      "2180, 217700, 100, aprox. 8.549626714736226% done, 0x1531ffbfb5aa6b0b6cc00d441b9da118cb698f53060521dbe21e562131f88228\n",
      "2183, 218000, 100, aprox. 8.561408469510782% done, 0x153953bb5b03c782d514a095146805d60a5435ceb7d806f3cfd4da2483274145\n",
      "2190, 218700, 100, aprox. 8.588899230651412% done, 0x154c6538e7dd3a35591049a5a993f96994fa7517a04be954d56adf29d1415dc4\n",
      "2193, 219000, 100, aprox. 8.600680985425969% done, 0x1553bb281709e385f17c6c0b0cb4e511924f175354fa16c4dc74a8bc4ac4fe40\n",
      "2200, 219700, 100, aprox. 8.6281717465666% done, 0x156693f0aef0d210b12a282f1b77c54438096d25034e15e2d8bde4664b440068\n",
      "2203, 220000, 100, aprox. 8.639953501341155% done, 0x156db5bfdc443d9c478e6bcf63a5882e8bbf0c7f691abe8af01342def0daccf9\n",
      "2210, 220700, 100, aprox. 8.667444262481787% done, 0x157e93f91626cb546d7a326d31d1b9b314e5c059cb3f7a1f29a24655683cf7b1\n",
      "2213, 221000, 100, aprox. 8.679226017256344% done, 0x15859524bd209d2791d244c8d332968948117b0de49e47df0b31373f735303ea\n",
      "2220, 221700, 100, aprox. 8.706716778396975% done, 0x1597b2324470304065420d7fc3bf8b94e84a23f3adf6beb1729107f717a00179\n",
      "2223, 222000, 100, aprox. 8.71849853317153% done, 0x159eed10b0bb9f7fa2aaf38ddd50058cd9f31954e6bd367a811b1431e1c35ac7\n",
      "2230, 222700, 100, aprox. 8.745989294312162% done, 0x15b1e5bfd6dd7fbdbbead476f424ab2d405903dc1376aefecd8bc4b013a2efa8\n",
      "2233, 223000, 100, aprox. 8.757771049086719% done, 0x15ba7ca880fc78f9f372b65897323d769171f9cf2c198923159e17043c5a4a3b\n",
      "2240, 223700, 100, aprox. 8.785261810227349% done, 0x15cc4f696a6beb655d0f4884766a3490aee49a339af5fe7946967392bb027f5c\n",
      "2243, 224000, 100, aprox. 8.797043565001905% done, 0x15d2dc2473c2d55dec58f98a89ca79db083a051956f57e38ffe3d5c6b23919b9\n",
      "2250, 224700, 100, aprox. 8.824534326142535% done, 0x15e303f721f1d9d281ba4b77253e117df47604043e8fe7aa22648a5eb3c41980\n",
      "2253, 225000, 100, aprox. 8.836316080917092% done, 0x15e9b2195f46ce222a67b2e152cb2f9667fc500913100840b9ba6cdb7d0c870e\n",
      "2260, 225700, 100, aprox. 8.863806842057723% done, 0x15fa76b894555524add56305f27b4ff8f5ad62113026bcb2d380f3487b453e71\n",
      "2263, 226000, 100, aprox. 8.875588596832278% done, 0x1601fb39e5c4c0fdca40a82d3604c4e39b67124ed90592566128f359da16248c\n",
      "2270, 226700, 100, aprox. 8.90307935797291% done, 0x16131a6a5699f42e1d33d0d4038e98e4a490b287f61c88b892323b8899918028\n",
      "2273, 227000, 100, aprox. 8.914861112747467% done, 0x1619ec9ca4ebce6075077afb76a81212d2ee2e0ce7a94baba4222eaba44f399d\n",
      "2280, 227700, 100, aprox. 8.942351873888096% done, 0x162b8a3e8dc52305f9492c40368babb1fc94488b5c06ecf67da2c5b0313e6830\n",
      "2283, 228000, 100, aprox. 8.954133628662653% done, 0x16334dad5e99a82825d40b1ac8de198203576f40623e48d584f350b192776cfc\n",
      "2290, 228700, 100, aprox. 8.981624389803285% done, 0x1644425180220c6dc7bda7d373f9fc6d2f1c0f4ddc03fd7bf0caf52005dfabf4\n",
      "2293, 229000, 100, aprox. 8.99340614457784% done, 0x164c3fa34cc86a4e71ddafe5c3de04aa0cb523775bb71252c41caa28f65b3a1a\n",
      "2300, 229700, 100, aprox. 9.020896905718471% done, 0x165d86e7cdb19bc81c0bc5127537b478321fe7b372a5b0b2ff5d2246a14348b8\n",
      "2303, 230000, 100, aprox. 9.032678660493026% done, 0x1665c34928466aaa61d58694e717c5765c936ecf1791087a9193a8d68537ae8e\n",
      "2310, 230700, 100, aprox. 9.060169421633658% done, 0x1676b9d1abe8fa47d1be1bceb3f55cfd2544a4df64284cd351002f190386c0d3\n",
      "2313, 231000, 100, aprox. 9.071951176408215% done, 0x167ead9d80de2022758d15fdcf667db326299c315db62ca47df98bf5ece7d12f\n",
      "2320, 231700, 100, aprox. 9.099441937548844% done, 0x169135376f62e7ae6e64b37b705389d3d0cc8d2e0fdf33fdc1dd0e73d4b66f77\n",
      "2323, 232000, 100, aprox. 9.111223692323401% done, 0x1698c44f6ca681ff8a75239721a171eb5c200211c281efb86c79a250220919f5\n",
      "2330, 232700, 100, aprox. 9.138714453464033% done, 0x16a9c2d6efbaa2c92160db7a7ef76ddaca6348af8b934e41c9a47ae590482700\n",
      "2333, 233000, 100, aprox. 9.150496208238588% done, 0x16b156d76d4a7068d63119c7cd1afadd43a0214d76440a43b670925799026257\n",
      "2340, 233700, 100, aprox. 9.17798696937922% done, 0x16c4267817efd745ac82c8c6129bf2cfe1bc0904fbd2318b1e60fe12c6fd65fb\n",
      "2343, 234000, 100, aprox. 9.189768724153776% done, 0x16cba577bf3b4ad72acff0c2b8dec7bc339f7beabb069046dc623ad48afc6be0\n",
      "2350, 234700, 100, aprox. 9.217259485294406% done, 0x16dd2d42726914f76b0b2e56a97b7a637e44331c5230e2e84834abc39a4d97fc\n",
      "2353, 235000, 100, aprox. 9.229041240068963% done, 0x16e3da3cc863b1cce54cb97580c170b60a8ff09d1fe9be7bd57233ae3b01f327\n"
     ]
    }
   ],
   "source": [
    "while True:\n",
    "    i+=1\n",
    "    if len(nfts_all)%1000==0 or i%10==0: \n",
    "        save_obj(nfts_all, 'nfts_all')\n",
    "        print(f'{i}, {len(nfts_all)}, {len(nfts_page)}, aprox. {len(nfts_all)/2546310*100}% done, {startToken}') # feedback to monitor\n",
    "    startToken = nfts_all[-1]['id']['tokenId'] # response.json()['nextToken']\n",
    "    next_page_url = first_page_url + f\"&startToken={startToken}\"\n",
    "    response = requests.get(next_page_url, headers=headers) \n",
    "    if response.status_code != 200: continue # try again if status cod isnt 200\n",
    "    nfts_page = response.json()['nfts']\n",
    "    nfts_all+=nfts_page\n",
    "    if 'nextToken' not in response.json():\n",
    "        print('no more page keys')\n",
    "        # return nfts_all"
   ]
  },
  {
   "cell_type": "code",
   "execution_count": null,
   "id": "140330aa-80fc-44fd-8e9b-14bd43f5d8c9",
   "metadata": {},
   "outputs": [],
   "source": []
  },
  {
   "cell_type": "code",
   "execution_count": null,
   "id": "cf8cd2c9-f7f9-4a4e-93d8-50e27282f7b0",
   "metadata": {},
   "outputs": [],
   "source": []
  },
  {
   "cell_type": "markdown",
   "id": "cb5c53bd-c0d2-4305-8ea0-1529c80bcf4b",
   "metadata": {},
   "source": [
    "# join owners and nft ids to nft metadata kyed by nft id"
   ]
  },
  {
   "cell_type": "code",
   "execution_count": null,
   "id": "b0fbecc0-efaf-4a2a-870c-9b282a9bbd0e",
   "metadata": {},
   "outputs": [],
   "source": []
  },
  {
   "cell_type": "code",
   "execution_count": null,
   "id": "f6caabc4-f76f-4b79-82a3-ff1f481c049d",
   "metadata": {},
   "outputs": [],
   "source": []
  },
  {
   "cell_type": "markdown",
   "id": "97b35c07-bdf8-438c-8eeb-74ea62663143",
   "metadata": {},
   "source": [
    "# get nfts by owner"
   ]
  },
  {
   "cell_type": "code",
   "execution_count": 336,
   "id": "723c6803-9629-4b5c-b3c9-d125f9fac50d",
   "metadata": {},
   "outputs": [],
   "source": [
    "# copied to clone of this nb to run...\n",
    "\n",
    "# # get all nfts owned by each owner & format into a pandas df\n",
    "# df = pd.DataFrame()\n",
    "# # i = 0\n",
    "# i=12000 # last printed id"
   ]
  },
  {
   "cell_type": "code",
   "execution_count": 25,
   "id": "96997e59-f8a7-4ea0-bd86-e6aea113d3e5",
   "metadata": {},
   "outputs": [],
   "source": [
    "# # TODO: \n",
    "# # - import pickle, \n",
    "# # - save df so it can be accessed quickly later\n",
    "\n",
    "# # - for faster loop, save each wallet's df, then later concatinate them all.\n",
    "\n",
    "# while i <= len(owner_addresses_all): # looping over indecies makes it easier to continue where i left off if there is an error\n",
    "#     owner_address = owner_addresses_all[i]\n",
    "#     if i%500 == 0: \n",
    "#         df.to_pickle(path = '/Users/macstrelioff/Documents/git/crypto_public/ENS NFT analyses/owners_and_their_nfts')\n",
    "#         print(f'{i} / {len(owner_addresses_all)}')\n",
    "#     if owner_address == '0x000000000000000000000000000000000000dead': continue # skip dead address\n",
    "#     try:\n",
    "#         nft_list = getNFTs(owner_address)\n",
    "#         nft_df = process_nft_list(nft_list) # dead address gave error\n",
    "#     except: \n",
    "#         nft_df = pd.DataFrame()\n",
    "#     nft_df['owner']=owner_address\n",
    "#     df=df.append(nft_df)\n",
    "#     i+=1\n",
    "#     df=df.drop_duplicates()\n"
   ]
  },
  {
   "cell_type": "code",
   "execution_count": null,
   "id": "31a85f45-4f76-4b90-9ed7-7624acb95c60",
   "metadata": {},
   "outputs": [],
   "source": [
    "# load resluts of loop above\n",
    "# owners_and_their_nfts = pd.read_pickle('owners_and_their_nfts')"
   ]
  },
  {
   "cell_type": "markdown",
   "id": "99f19e44-68b6-419b-b8c0-7cd07fb6eeeb",
   "metadata": {},
   "source": [
    "# get nft sales"
   ]
  },
  {
   "cell_type": "code",
   "execution_count": null,
   "id": "0498b6b9-36f1-41e6-a151-6bfc16388a38",
   "metadata": {},
   "outputs": [],
   "source": [
    "# # start about y ear ago, assuming about 6k blocks/day\n",
    "# startBlock = w3.eth.block_number - 6000 * 365 * 4 # should get all trades since ens was created may 2019 on opensea\n",
    "# print(f'startBlock = {startBlock}')\n",
    "# startLogIndex=0\n",
    "\n",
    "# latestBlock = w3.eth.block_number\n",
    "# print(f'latestBlock = {latestBlock}')\n",
    "\n",
    "# url = base_url + f\"/getNFTSales?startBlock={startBlock}&startLogIndex={startLogIndex}&startBundleIndex=0&ascendingOrder=true&marketplace=seaport&contractAddress={ens_nft_address}&buyerIsMaker=true\"\n",
    "# headers = {\"accept\": \"application/json\"}\n",
    "# response = requests.get(url, headers=headers)\n",
    "\n",
    "# returned_sales_df = pd.DataFrame(response.json()['nftSales'])\n",
    "# nft_sales_df = returned_sales_df\n",
    "\n",
    "# newBlockNumber = response.json()['nftSales'][-1]['blockNumber']\n",
    "# newLogIndex = response.json()['nftSales'][-1]['logIndex']\n",
    "\n",
    "# lastPrintBlock = newBlockNumber\n",
    "\n",
    "# while newBlockNumber < latestBlock and len(returned_sales_df)>1:\n",
    "    \n",
    "#     if newBlockNumber - lastPrintBlock > 6000*7: # print feedback for about each week worth of blocks\n",
    "#         lastPrintBlock = newBlockNumber\n",
    "#         print(f'block {newBlockNumber} / {latestBlock} ({(newBlockNumber-startBlock) / (latestBlock-startBlock) * 100}% done)')\n",
    "    \n",
    "#     url = base_url + f\"/getNFTSales?startBlock={newBlockNumber}&startLogIndex={newLogIndex}&startBundleIndex=0&ascendingOrder=true&marketplace=seaport&contractAddress={ens_nft_address}&buyerIsMaker=true\"\n",
    "#     headers = {\"accept\": \"application/json\"}\n",
    "#     response = requests.get(url, headers=headers)\n",
    "#     returned_sales_df = pd.DataFrame(response.json()['nftSales'])\n",
    "#     nft_sales_df = nft_sales_df.append(returned_sales_df)\n",
    "    \n",
    "#     newBlockNumber = response.json()['nftSales'][-1]['blockNumber']\n",
    "#     newLogIndex = response.json()['nftSales'][-1]['logIndex']\n",
    "# print('done.')\n"
   ]
  },
  {
   "cell_type": "code",
   "execution_count": null,
   "id": "70522f6e-6ab0-4ecc-8373-3a4b01ad61e7",
   "metadata": {},
   "outputs": [],
   "source": [
    "# # NOTE possibly missing earlier data\n",
    "# # startBlock = 6880054 # 4 years ago\n",
    "# # latestBlock = 15640054\n",
    "# # block 15009916 / 15640054 (92.80664383561644% done) # first finishd chunk of blocks, seems to skip ~90% of early blocks\n",
    "\n",
    "# save result of loop\n",
    "# nft_sales_df.to_pickle(path = '/Users/macstrelioff/Documents/git/crypto_public/ENS NFT analyses/nft_sales_df')"
   ]
  },
  {
   "cell_type": "code",
   "execution_count": null,
   "id": "66fdb5dd-ec60-4f8e-9123-a22bff98431a",
   "metadata": {},
   "outputs": [],
   "source": [
    "# load the saved result instead of re-running code above\n",
    "nft_sales_df = pd.read_pickle('nft_sales_df')"
   ]
  },
  {
   "cell_type": "code",
   "execution_count": null,
   "id": "fadd5c13-e54a-4d74-bb83-d0473f1b2564",
   "metadata": {},
   "outputs": [],
   "source": []
  },
  {
   "cell_type": "markdown",
   "id": "243583e8-abc1-4afe-a7ef-607b7065d7dd",
   "metadata": {},
   "source": [
    "# get treasury flows"
   ]
  },
  {
   "cell_type": "code",
   "execution_count": null,
   "id": "2edb3fcb-441f-402e-8f29-5cbcc58b7e14",
   "metadata": {},
   "outputs": [],
   "source": []
  },
  {
   "cell_type": "code",
   "execution_count": 57,
   "id": "c953b977-1458-4e13-809e-3942d80366cb",
   "metadata": {},
   "outputs": [],
   "source": [
    "ens_dao_treasury_address\n",
    "\n",
    "transfers_url = f\"https://eth-mainnet.alchemyapi.io/v2/{apiKey}/\"\n",
    "\n",
    "payload = {\n",
    "    \"id\": 1,\n",
    "    \"jsonrpc\": \"2.0\",\n",
    "    \"method\": \"alchemy_getAssetTransfers\",\n",
    "    \"params\": [\n",
    "        {\n",
    "            \"fromBlock\": \"0x0\",\n",
    "            \"toBlock\": \"latest\",\n",
    "            \"category\": [\"internal\", \"erc20\"],\n",
    "            \"withMetadata\": False,\n",
    "            \"excludeZeroValue\": True,\n",
    "            \"maxCount\": \"0x3e8\",\n",
    "            \"toAddress\": \"0xFe89cc7aBB2C4183683ab71653C4cdc9B02D44b7\"\n",
    "        }\n",
    "    ]\n",
    "}\n",
    "headers = {\n",
    "    \"accept\": \"application/json\",\n",
    "    \"content-type\": \"application/json\"\n",
    "}\n",
    "\n",
    "response = requests.post(transfers_url, json=payload, headers=headers)\n",
    "\n",
    "# print(response.text)\n",
    "\n",
    "# response = requests.post(base_url, json=payload, headers=headers)\n"
   ]
  },
  {
   "cell_type": "code",
   "execution_count": 69,
   "id": "ee7478b6-c117-4ea3-abef-1b7a37ef932c",
   "metadata": {},
   "outputs": [
    {
     "data": {
      "text/plain": [
       "dict_keys(['transfers'])"
      ]
     },
     "execution_count": 69,
     "metadata": {},
     "output_type": "execute_result"
    }
   ],
   "source": [
    "# TODO: web3 parse hex strings to decimal ints\n",
    "# response.json()['result']['transfers']"
   ]
  },
  {
   "cell_type": "code",
   "execution_count": null,
   "id": "5fd87179-33ba-4921-a5f8-0383ac0100c9",
   "metadata": {},
   "outputs": [],
   "source": []
  },
  {
   "cell_type": "code",
   "execution_count": null,
   "id": "916700b9-304f-403e-82d3-1eb2da8aa663",
   "metadata": {},
   "outputs": [],
   "source": []
  }
 ],
 "metadata": {
  "kernelspec": {
   "display_name": "Python 3",
   "language": "python",
   "name": "python3"
  },
  "language_info": {
   "codemirror_mode": {
    "name": "ipython",
    "version": 3
   },
   "file_extension": ".py",
   "mimetype": "text/x-python",
   "name": "python",
   "nbconvert_exporter": "python",
   "pygments_lexer": "ipython3",
   "version": "3.8.6"
  }
 },
 "nbformat": 4,
 "nbformat_minor": 5
}
