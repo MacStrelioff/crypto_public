{
 "cells": [
  {
   "cell_type": "code",
   "execution_count": 313,
   "id": "9cb66205-c203-487d-8717-66f79fdbf376",
   "metadata": {},
   "outputs": [],
   "source": [
    "import time\n",
    "import requests\n",
    "import json\n",
    "from web3 import Web3\n",
    "from web3 import _utils # for error handling\n",
    "from multiprocessing.pool import Pool,ThreadPool\n",
    "from os import listdir\n",
    "from os.path import isfile, join\n",
    "\n",
    "import pandas as pd\n",
    "import numpy as np\n",
    "\n",
    "# saving dictionaries and pd dataFrames\n",
    "import pickle\n",
    "def save_obj(obj, name):\n",
    "    with open(name+'.pkl', 'wb') as f:\n",
    "        pickle.dump(obj, f, pickle.HIGHEST_PROTOCOL)\n",
    "def load_obj(name):\n",
    "    with open(name+'.pkl', 'rb') as f:\n",
    "        return pickle.load(f)"
   ]
  },
  {
   "cell_type": "code",
   "execution_count": 2,
   "id": "069f3de3-7257-442a-bf6f-2dfe9cfeef08",
   "metadata": {},
   "outputs": [],
   "source": [
    "# copy api key from https://dashboard.alchemy.com/\n",
    "apiKey=\"\""
   ]
  },
  {
   "cell_type": "code",
   "execution_count": 3,
   "id": "ff8f7f3d-88be-4a24-9db9-4528759d4ada",
   "metadata": {},
   "outputs": [],
   "source": [
    "# helper function to map blocks -> timestamps using DefiLlama's spi\n",
    "# docs: https://defillama.com/docs/api\n",
    "\n",
    "def ts_to_block(ts):\n",
    "    url = f'https://coins.llama.fi/block/ethereum/{block}'\n",
    "    response = requests.get(url) \n",
    "    return response\n"
   ]
  },
  {
   "cell_type": "markdown",
   "id": "4cb166d6-362f-4f9d-82c4-ba4b86d92539",
   "metadata": {},
   "source": [
    "# Use Web3 to process registration & renewal transactions\n",
    "\n",
    "- I used web3 to get payments associated with registration and renewal events, which was used to estimate protocol revenue."
   ]
  },
  {
   "cell_type": "code",
   "execution_count": 4,
   "id": "c1bdb35a-04e7-4bb5-b8b1-8e9ca9ce5f08",
   "metadata": {},
   "outputs": [
    {
     "name": "stdout",
     "output_type": "stream",
     "text": [
      "True\n"
     ]
    }
   ],
   "source": [
    "# connect to an ethereum node\n",
    "alchemy_url = f\"https://eth-mainnet.g.alchemy.com/v2/{apiKey}\"\n",
    "w3 = Web3(Web3.HTTPProvider(alchemy_url))\n",
    "print(w3.isConnected())"
   ]
  },
  {
   "cell_type": "code",
   "execution_count": 5,
   "id": "5f256373-5c1c-40e3-9307-26740d5b4853",
   "metadata": {},
   "outputs": [],
   "source": [
    "# contracts, abis from etherscan\n",
    "ens_nft_address = Web3.toChecksumAddress(\"0x57f1887a8bf19b14fc0df6fd9b2acc9af147ea85\")\n",
    "ens_nft_abi = '[{\"inputs\":[{\"internalType\":\"contract ENS\",\"name\":\"_ens\",\"type\":\"address\"},{\"internalType\":\"bytes32\",\"name\":\"_baseNode\",\"type\":\"bytes32\"}],\"payable\":false,\"stateMutability\":\"nonpayable\",\"type\":\"constructor\"},{\"anonymous\":false,\"inputs\":[{\"indexed\":true,\"internalType\":\"address\",\"name\":\"owner\",\"type\":\"address\"},{\"indexed\":true,\"internalType\":\"address\",\"name\":\"approved\",\"type\":\"address\"},{\"indexed\":true,\"internalType\":\"uint256\",\"name\":\"tokenId\",\"type\":\"uint256\"}],\"name\":\"Approval\",\"type\":\"event\"},{\"anonymous\":false,\"inputs\":[{\"indexed\":true,\"internalType\":\"address\",\"name\":\"owner\",\"type\":\"address\"},{\"indexed\":true,\"internalType\":\"address\",\"name\":\"operator\",\"type\":\"address\"},{\"indexed\":false,\"internalType\":\"bool\",\"name\":\"approved\",\"type\":\"bool\"}],\"name\":\"ApprovalForAll\",\"type\":\"event\"},{\"anonymous\":false,\"inputs\":[{\"indexed\":true,\"internalType\":\"address\",\"name\":\"controller\",\"type\":\"address\"}],\"name\":\"ControllerAdded\",\"type\":\"event\"},{\"anonymous\":false,\"inputs\":[{\"indexed\":true,\"internalType\":\"address\",\"name\":\"controller\",\"type\":\"address\"}],\"name\":\"ControllerRemoved\",\"type\":\"event\"},{\"anonymous\":false,\"inputs\":[{\"indexed\":true,\"internalType\":\"uint256\",\"name\":\"id\",\"type\":\"uint256\"},{\"indexed\":true,\"internalType\":\"address\",\"name\":\"owner\",\"type\":\"address\"},{\"indexed\":false,\"internalType\":\"uint256\",\"name\":\"expires\",\"type\":\"uint256\"}],\"name\":\"NameMigrated\",\"type\":\"event\"},{\"anonymous\":false,\"inputs\":[{\"indexed\":true,\"internalType\":\"uint256\",\"name\":\"id\",\"type\":\"uint256\"},{\"indexed\":true,\"internalType\":\"address\",\"name\":\"owner\",\"type\":\"address\"},{\"indexed\":false,\"internalType\":\"uint256\",\"name\":\"expires\",\"type\":\"uint256\"}],\"name\":\"NameRegistered\",\"type\":\"event\"},{\"anonymous\":false,\"inputs\":[{\"indexed\":true,\"internalType\":\"uint256\",\"name\":\"id\",\"type\":\"uint256\"},{\"indexed\":false,\"internalType\":\"uint256\",\"name\":\"expires\",\"type\":\"uint256\"}],\"name\":\"NameRenewed\",\"type\":\"event\"},{\"anonymous\":false,\"inputs\":[{\"indexed\":true,\"internalType\":\"address\",\"name\":\"previousOwner\",\"type\":\"address\"},{\"indexed\":true,\"internalType\":\"address\",\"name\":\"newOwner\",\"type\":\"address\"}],\"name\":\"OwnershipTransferred\",\"type\":\"event\"},{\"anonymous\":false,\"inputs\":[{\"indexed\":true,\"internalType\":\"address\",\"name\":\"from\",\"type\":\"address\"},{\"indexed\":true,\"internalType\":\"address\",\"name\":\"to\",\"type\":\"address\"},{\"indexed\":true,\"internalType\":\"uint256\",\"name\":\"tokenId\",\"type\":\"uint256\"}],\"name\":\"Transfer\",\"type\":\"event\"},{\"constant\":true,\"inputs\":[],\"name\":\"GRACE_PERIOD\",\"outputs\":[{\"internalType\":\"uint256\",\"name\":\"\",\"type\":\"uint256\"}],\"payable\":false,\"stateMutability\":\"view\",\"type\":\"function\"},{\"constant\":false,\"inputs\":[{\"internalType\":\"address\",\"name\":\"controller\",\"type\":\"address\"}],\"name\":\"addController\",\"outputs\":[],\"payable\":false,\"stateMutability\":\"nonpayable\",\"type\":\"function\"},{\"constant\":false,\"inputs\":[{\"internalType\":\"address\",\"name\":\"to\",\"type\":\"address\"},{\"internalType\":\"uint256\",\"name\":\"tokenId\",\"type\":\"uint256\"}],\"name\":\"approve\",\"outputs\":[],\"payable\":false,\"stateMutability\":\"nonpayable\",\"type\":\"function\"},{\"constant\":true,\"inputs\":[{\"internalType\":\"uint256\",\"name\":\"id\",\"type\":\"uint256\"}],\"name\":\"available\",\"outputs\":[{\"internalType\":\"bool\",\"name\":\"\",\"type\":\"bool\"}],\"payable\":false,\"stateMutability\":\"view\",\"type\":\"function\"},{\"constant\":true,\"inputs\":[{\"internalType\":\"address\",\"name\":\"owner\",\"type\":\"address\"}],\"name\":\"balanceOf\",\"outputs\":[{\"internalType\":\"uint256\",\"name\":\"\",\"type\":\"uint256\"}],\"payable\":false,\"stateMutability\":\"view\",\"type\":\"function\"},{\"constant\":true,\"inputs\":[],\"name\":\"baseNode\",\"outputs\":[{\"internalType\":\"bytes32\",\"name\":\"\",\"type\":\"bytes32\"}],\"payable\":false,\"stateMutability\":\"view\",\"type\":\"function\"},{\"constant\":true,\"inputs\":[{\"internalType\":\"address\",\"name\":\"\",\"type\":\"address\"}],\"name\":\"controllers\",\"outputs\":[{\"internalType\":\"bool\",\"name\":\"\",\"type\":\"bool\"}],\"payable\":false,\"stateMutability\":\"view\",\"type\":\"function\"},{\"constant\":true,\"inputs\":[],\"name\":\"ens\",\"outputs\":[{\"internalType\":\"contract ENS\",\"name\":\"\",\"type\":\"address\"}],\"payable\":false,\"stateMutability\":\"view\",\"type\":\"function\"},{\"constant\":true,\"inputs\":[{\"internalType\":\"uint256\",\"name\":\"tokenId\",\"type\":\"uint256\"}],\"name\":\"getApproved\",\"outputs\":[{\"internalType\":\"address\",\"name\":\"\",\"type\":\"address\"}],\"payable\":false,\"stateMutability\":\"view\",\"type\":\"function\"},{\"constant\":true,\"inputs\":[{\"internalType\":\"address\",\"name\":\"owner\",\"type\":\"address\"},{\"internalType\":\"address\",\"name\":\"operator\",\"type\":\"address\"}],\"name\":\"isApprovedForAll\",\"outputs\":[{\"internalType\":\"bool\",\"name\":\"\",\"type\":\"bool\"}],\"payable\":false,\"stateMutability\":\"view\",\"type\":\"function\"},{\"constant\":true,\"inputs\":[],\"name\":\"isOwner\",\"outputs\":[{\"internalType\":\"bool\",\"name\":\"\",\"type\":\"bool\"}],\"payable\":false,\"stateMutability\":\"view\",\"type\":\"function\"},{\"constant\":true,\"inputs\":[{\"internalType\":\"uint256\",\"name\":\"id\",\"type\":\"uint256\"}],\"name\":\"nameExpires\",\"outputs\":[{\"internalType\":\"uint256\",\"name\":\"\",\"type\":\"uint256\"}],\"payable\":false,\"stateMutability\":\"view\",\"type\":\"function\"},{\"constant\":true,\"inputs\":[],\"name\":\"owner\",\"outputs\":[{\"internalType\":\"address\",\"name\":\"\",\"type\":\"address\"}],\"payable\":false,\"stateMutability\":\"view\",\"type\":\"function\"},{\"constant\":true,\"inputs\":[{\"internalType\":\"uint256\",\"name\":\"tokenId\",\"type\":\"uint256\"}],\"name\":\"ownerOf\",\"outputs\":[{\"internalType\":\"address\",\"name\":\"\",\"type\":\"address\"}],\"payable\":false,\"stateMutability\":\"view\",\"type\":\"function\"},{\"constant\":false,\"inputs\":[{\"internalType\":\"uint256\",\"name\":\"id\",\"type\":\"uint256\"},{\"internalType\":\"address\",\"name\":\"owner\",\"type\":\"address\"}],\"name\":\"reclaim\",\"outputs\":[],\"payable\":false,\"stateMutability\":\"nonpayable\",\"type\":\"function\"},{\"constant\":false,\"inputs\":[{\"internalType\":\"uint256\",\"name\":\"id\",\"type\":\"uint256\"},{\"internalType\":\"address\",\"name\":\"owner\",\"type\":\"address\"},{\"internalType\":\"uint256\",\"name\":\"duration\",\"type\":\"uint256\"}],\"name\":\"register\",\"outputs\":[{\"internalType\":\"uint256\",\"name\":\"\",\"type\":\"uint256\"}],\"payable\":false,\"stateMutability\":\"nonpayable\",\"type\":\"function\"},{\"constant\":false,\"inputs\":[{\"internalType\":\"uint256\",\"name\":\"id\",\"type\":\"uint256\"},{\"internalType\":\"address\",\"name\":\"owner\",\"type\":\"address\"},{\"internalType\":\"uint256\",\"name\":\"duration\",\"type\":\"uint256\"}],\"name\":\"registerOnly\",\"outputs\":[{\"internalType\":\"uint256\",\"name\":\"\",\"type\":\"uint256\"}],\"payable\":false,\"stateMutability\":\"nonpayable\",\"type\":\"function\"},{\"constant\":false,\"inputs\":[{\"internalType\":\"address\",\"name\":\"controller\",\"type\":\"address\"}],\"name\":\"removeController\",\"outputs\":[],\"payable\":false,\"stateMutability\":\"nonpayable\",\"type\":\"function\"},{\"constant\":false,\"inputs\":[{\"internalType\":\"uint256\",\"name\":\"id\",\"type\":\"uint256\"},{\"internalType\":\"uint256\",\"name\":\"duration\",\"type\":\"uint256\"}],\"name\":\"renew\",\"outputs\":[{\"internalType\":\"uint256\",\"name\":\"\",\"type\":\"uint256\"}],\"payable\":false,\"stateMutability\":\"nonpayable\",\"type\":\"function\"},{\"constant\":false,\"inputs\":[],\"name\":\"renounceOwnership\",\"outputs\":[],\"payable\":false,\"stateMutability\":\"nonpayable\",\"type\":\"function\"},{\"constant\":false,\"inputs\":[{\"internalType\":\"address\",\"name\":\"from\",\"type\":\"address\"},{\"internalType\":\"address\",\"name\":\"to\",\"type\":\"address\"},{\"internalType\":\"uint256\",\"name\":\"tokenId\",\"type\":\"uint256\"}],\"name\":\"safeTransferFrom\",\"outputs\":[],\"payable\":false,\"stateMutability\":\"nonpayable\",\"type\":\"function\"},{\"constant\":false,\"inputs\":[{\"internalType\":\"address\",\"name\":\"from\",\"type\":\"address\"},{\"internalType\":\"address\",\"name\":\"to\",\"type\":\"address\"},{\"internalType\":\"uint256\",\"name\":\"tokenId\",\"type\":\"uint256\"},{\"internalType\":\"bytes\",\"name\":\"_data\",\"type\":\"bytes\"}],\"name\":\"safeTransferFrom\",\"outputs\":[],\"payable\":false,\"stateMutability\":\"nonpayable\",\"type\":\"function\"},{\"constant\":false,\"inputs\":[{\"internalType\":\"address\",\"name\":\"to\",\"type\":\"address\"},{\"internalType\":\"bool\",\"name\":\"approved\",\"type\":\"bool\"}],\"name\":\"setApprovalForAll\",\"outputs\":[],\"payable\":false,\"stateMutability\":\"nonpayable\",\"type\":\"function\"},{\"constant\":false,\"inputs\":[{\"internalType\":\"address\",\"name\":\"resolver\",\"type\":\"address\"}],\"name\":\"setResolver\",\"outputs\":[],\"payable\":false,\"stateMutability\":\"nonpayable\",\"type\":\"function\"},{\"constant\":true,\"inputs\":[{\"internalType\":\"bytes4\",\"name\":\"interfaceID\",\"type\":\"bytes4\"}],\"name\":\"supportsInterface\",\"outputs\":[{\"internalType\":\"bool\",\"name\":\"\",\"type\":\"bool\"}],\"payable\":false,\"stateMutability\":\"view\",\"type\":\"function\"},{\"constant\":false,\"inputs\":[{\"internalType\":\"address\",\"name\":\"from\",\"type\":\"address\"},{\"internalType\":\"address\",\"name\":\"to\",\"type\":\"address\"},{\"internalType\":\"uint256\",\"name\":\"tokenId\",\"type\":\"uint256\"}],\"name\":\"transferFrom\",\"outputs\":[],\"payable\":false,\"stateMutability\":\"nonpayable\",\"type\":\"function\"},{\"constant\":false,\"inputs\":[{\"internalType\":\"address\",\"name\":\"newOwner\",\"type\":\"address\"}],\"name\":\"transferOwnership\",\"outputs\":[],\"payable\":false,\"stateMutability\":\"nonpayable\",\"type\":\"function\"}]'\n",
    "\n",
    "ens_token_address = Web3.toChecksumAddress(\"0xc18360217d8f7ab5e7c516566761ea12ce7f9d72\")\n",
    "ens_token_abi = '[{\"inputs\":[{\"internalType\":\"uint256\",\"name\":\"freeSupply\",\"type\":\"uint256\"},{\"internalType\":\"uint256\",\"name\":\"airdropSupply\",\"type\":\"uint256\"},{\"internalType\":\"uint256\",\"name\":\"_claimPeriodEnds\",\"type\":\"uint256\"}],\"stateMutability\":\"nonpayable\",\"type\":\"constructor\"},{\"anonymous\":false,\"inputs\":[{\"indexed\":true,\"internalType\":\"address\",\"name\":\"owner\",\"type\":\"address\"},{\"indexed\":true,\"internalType\":\"address\",\"name\":\"spender\",\"type\":\"address\"},{\"indexed\":false,\"internalType\":\"uint256\",\"name\":\"value\",\"type\":\"uint256\"}],\"name\":\"Approval\",\"type\":\"event\"},{\"anonymous\":false,\"inputs\":[{\"indexed\":true,\"internalType\":\"address\",\"name\":\"claimant\",\"type\":\"address\"},{\"indexed\":false,\"internalType\":\"uint256\",\"name\":\"amount\",\"type\":\"uint256\"}],\"name\":\"Claim\",\"type\":\"event\"},{\"anonymous\":false,\"inputs\":[{\"indexed\":true,\"internalType\":\"address\",\"name\":\"delegator\",\"type\":\"address\"},{\"indexed\":true,\"internalType\":\"address\",\"name\":\"fromDelegate\",\"type\":\"address\"},{\"indexed\":true,\"internalType\":\"address\",\"name\":\"toDelegate\",\"type\":\"address\"}],\"name\":\"DelegateChanged\",\"type\":\"event\"},{\"anonymous\":false,\"inputs\":[{\"indexed\":true,\"internalType\":\"address\",\"name\":\"delegate\",\"type\":\"address\"},{\"indexed\":false,\"internalType\":\"uint256\",\"name\":\"previousBalance\",\"type\":\"uint256\"},{\"indexed\":false,\"internalType\":\"uint256\",\"name\":\"newBalance\",\"type\":\"uint256\"}],\"name\":\"DelegateVotesChanged\",\"type\":\"event\"},{\"anonymous\":false,\"inputs\":[{\"indexed\":false,\"internalType\":\"bytes32\",\"name\":\"merkleRoot\",\"type\":\"bytes32\"}],\"name\":\"MerkleRootChanged\",\"type\":\"event\"},{\"anonymous\":false,\"inputs\":[{\"indexed\":true,\"internalType\":\"address\",\"name\":\"previousOwner\",\"type\":\"address\"},{\"indexed\":true,\"internalType\":\"address\",\"name\":\"newOwner\",\"type\":\"address\"}],\"name\":\"OwnershipTransferred\",\"type\":\"event\"},{\"anonymous\":false,\"inputs\":[{\"indexed\":true,\"internalType\":\"address\",\"name\":\"from\",\"type\":\"address\"},{\"indexed\":true,\"internalType\":\"address\",\"name\":\"to\",\"type\":\"address\"},{\"indexed\":false,\"internalType\":\"uint256\",\"name\":\"value\",\"type\":\"uint256\"}],\"name\":\"Transfer\",\"type\":\"event\"},{\"inputs\":[],\"name\":\"DOMAIN_SEPARATOR\",\"outputs\":[{\"internalType\":\"bytes32\",\"name\":\"\",\"type\":\"bytes32\"}],\"stateMutability\":\"view\",\"type\":\"function\"},{\"inputs\":[{\"internalType\":\"address\",\"name\":\"owner\",\"type\":\"address\"},{\"internalType\":\"address\",\"name\":\"spender\",\"type\":\"address\"}],\"name\":\"allowance\",\"outputs\":[{\"internalType\":\"uint256\",\"name\":\"\",\"type\":\"uint256\"}],\"stateMutability\":\"view\",\"type\":\"function\"},{\"inputs\":[{\"internalType\":\"address\",\"name\":\"spender\",\"type\":\"address\"},{\"internalType\":\"uint256\",\"name\":\"amount\",\"type\":\"uint256\"}],\"name\":\"approve\",\"outputs\":[{\"internalType\":\"bool\",\"name\":\"\",\"type\":\"bool\"}],\"stateMutability\":\"nonpayable\",\"type\":\"function\"},{\"inputs\":[{\"internalType\":\"address\",\"name\":\"account\",\"type\":\"address\"}],\"name\":\"balanceOf\",\"outputs\":[{\"internalType\":\"uint256\",\"name\":\"\",\"type\":\"uint256\"}],\"stateMutability\":\"view\",\"type\":\"function\"},{\"inputs\":[{\"internalType\":\"address\",\"name\":\"account\",\"type\":\"address\"},{\"internalType\":\"uint32\",\"name\":\"pos\",\"type\":\"uint32\"}],\"name\":\"checkpoints\",\"outputs\":[{\"components\":[{\"internalType\":\"uint32\",\"name\":\"fromBlock\",\"type\":\"uint32\"},{\"internalType\":\"uint224\",\"name\":\"votes\",\"type\":\"uint224\"}],\"internalType\":\"struct ERC20Votes.Checkpoint\",\"name\":\"\",\"type\":\"tuple\"}],\"stateMutability\":\"view\",\"type\":\"function\"},{\"inputs\":[],\"name\":\"claimPeriodEnds\",\"outputs\":[{\"internalType\":\"uint256\",\"name\":\"\",\"type\":\"uint256\"}],\"stateMutability\":\"view\",\"type\":\"function\"},{\"inputs\":[{\"internalType\":\"uint256\",\"name\":\"amount\",\"type\":\"uint256\"},{\"internalType\":\"address\",\"name\":\"delegate\",\"type\":\"address\"},{\"internalType\":\"bytes32[]\",\"name\":\"merkleProof\",\"type\":\"bytes32[]\"}],\"name\":\"claimTokens\",\"outputs\":[],\"stateMutability\":\"nonpayable\",\"type\":\"function\"},{\"inputs\":[],\"name\":\"decimals\",\"outputs\":[{\"internalType\":\"uint8\",\"name\":\"\",\"type\":\"uint8\"}],\"stateMutability\":\"view\",\"type\":\"function\"},{\"inputs\":[{\"internalType\":\"address\",\"name\":\"spender\",\"type\":\"address\"},{\"internalType\":\"uint256\",\"name\":\"subtractedValue\",\"type\":\"uint256\"}],\"name\":\"decreaseAllowance\",\"outputs\":[{\"internalType\":\"bool\",\"name\":\"\",\"type\":\"bool\"}],\"stateMutability\":\"nonpayable\",\"type\":\"function\"},{\"inputs\":[{\"internalType\":\"address\",\"name\":\"delegatee\",\"type\":\"address\"}],\"name\":\"delegate\",\"outputs\":[],\"stateMutability\":\"nonpayable\",\"type\":\"function\"},{\"inputs\":[{\"internalType\":\"address\",\"name\":\"delegatee\",\"type\":\"address\"},{\"internalType\":\"uint256\",\"name\":\"nonce\",\"type\":\"uint256\"},{\"internalType\":\"uint256\",\"name\":\"expiry\",\"type\":\"uint256\"},{\"internalType\":\"uint8\",\"name\":\"v\",\"type\":\"uint8\"},{\"internalType\":\"bytes32\",\"name\":\"r\",\"type\":\"bytes32\"},{\"internalType\":\"bytes32\",\"name\":\"s\",\"type\":\"bytes32\"}],\"name\":\"delegateBySig\",\"outputs\":[],\"stateMutability\":\"nonpayable\",\"type\":\"function\"},{\"inputs\":[{\"internalType\":\"address\",\"name\":\"account\",\"type\":\"address\"}],\"name\":\"delegates\",\"outputs\":[{\"internalType\":\"address\",\"name\":\"\",\"type\":\"address\"}],\"stateMutability\":\"view\",\"type\":\"function\"},{\"inputs\":[{\"internalType\":\"uint256\",\"name\":\"blockNumber\",\"type\":\"uint256\"}],\"name\":\"getPastTotalSupply\",\"outputs\":[{\"internalType\":\"uint256\",\"name\":\"\",\"type\":\"uint256\"}],\"stateMutability\":\"view\",\"type\":\"function\"},{\"inputs\":[{\"internalType\":\"address\",\"name\":\"account\",\"type\":\"address\"},{\"internalType\":\"uint256\",\"name\":\"blockNumber\",\"type\":\"uint256\"}],\"name\":\"getPastVotes\",\"outputs\":[{\"internalType\":\"uint256\",\"name\":\"\",\"type\":\"uint256\"}],\"stateMutability\":\"view\",\"type\":\"function\"},{\"inputs\":[{\"internalType\":\"address\",\"name\":\"account\",\"type\":\"address\"}],\"name\":\"getVotes\",\"outputs\":[{\"internalType\":\"uint256\",\"name\":\"\",\"type\":\"uint256\"}],\"stateMutability\":\"view\",\"type\":\"function\"},{\"inputs\":[{\"internalType\":\"address\",\"name\":\"spender\",\"type\":\"address\"},{\"internalType\":\"uint256\",\"name\":\"addedValue\",\"type\":\"uint256\"}],\"name\":\"increaseAllowance\",\"outputs\":[{\"internalType\":\"bool\",\"name\":\"\",\"type\":\"bool\"}],\"stateMutability\":\"nonpayable\",\"type\":\"function\"},{\"inputs\":[{\"internalType\":\"uint256\",\"name\":\"index\",\"type\":\"uint256\"}],\"name\":\"isClaimed\",\"outputs\":[{\"internalType\":\"bool\",\"name\":\"\",\"type\":\"bool\"}],\"stateMutability\":\"view\",\"type\":\"function\"},{\"inputs\":[],\"name\":\"merkleRoot\",\"outputs\":[{\"internalType\":\"bytes32\",\"name\":\"\",\"type\":\"bytes32\"}],\"stateMutability\":\"view\",\"type\":\"function\"},{\"inputs\":[],\"name\":\"minimumMintInterval\",\"outputs\":[{\"internalType\":\"uint256\",\"name\":\"\",\"type\":\"uint256\"}],\"stateMutability\":\"view\",\"type\":\"function\"},{\"inputs\":[{\"internalType\":\"address\",\"name\":\"dest\",\"type\":\"address\"},{\"internalType\":\"uint256\",\"name\":\"amount\",\"type\":\"uint256\"}],\"name\":\"mint\",\"outputs\":[],\"stateMutability\":\"nonpayable\",\"type\":\"function\"},{\"inputs\":[],\"name\":\"mintCap\",\"outputs\":[{\"internalType\":\"uint256\",\"name\":\"\",\"type\":\"uint256\"}],\"stateMutability\":\"view\",\"type\":\"function\"},{\"inputs\":[],\"name\":\"name\",\"outputs\":[{\"internalType\":\"string\",\"name\":\"\",\"type\":\"string\"}],\"stateMutability\":\"view\",\"type\":\"function\"},{\"inputs\":[],\"name\":\"nextMint\",\"outputs\":[{\"internalType\":\"uint256\",\"name\":\"\",\"type\":\"uint256\"}],\"stateMutability\":\"view\",\"type\":\"function\"},{\"inputs\":[{\"internalType\":\"address\",\"name\":\"owner\",\"type\":\"address\"}],\"name\":\"nonces\",\"outputs\":[{\"internalType\":\"uint256\",\"name\":\"\",\"type\":\"uint256\"}],\"stateMutability\":\"view\",\"type\":\"function\"},{\"inputs\":[{\"internalType\":\"address\",\"name\":\"account\",\"type\":\"address\"}],\"name\":\"numCheckpoints\",\"outputs\":[{\"internalType\":\"uint32\",\"name\":\"\",\"type\":\"uint32\"}],\"stateMutability\":\"view\",\"type\":\"function\"},{\"inputs\":[],\"name\":\"owner\",\"outputs\":[{\"internalType\":\"address\",\"name\":\"\",\"type\":\"address\"}],\"stateMutability\":\"view\",\"type\":\"function\"},{\"inputs\":[{\"internalType\":\"address\",\"name\":\"owner\",\"type\":\"address\"},{\"internalType\":\"address\",\"name\":\"spender\",\"type\":\"address\"},{\"internalType\":\"uint256\",\"name\":\"value\",\"type\":\"uint256\"},{\"internalType\":\"uint256\",\"name\":\"deadline\",\"type\":\"uint256\"},{\"internalType\":\"uint8\",\"name\":\"v\",\"type\":\"uint8\"},{\"internalType\":\"bytes32\",\"name\":\"r\",\"type\":\"bytes32\"},{\"internalType\":\"bytes32\",\"name\":\"s\",\"type\":\"bytes32\"}],\"name\":\"permit\",\"outputs\":[],\"stateMutability\":\"nonpayable\",\"type\":\"function\"},{\"inputs\":[],\"name\":\"renounceOwnership\",\"outputs\":[],\"stateMutability\":\"nonpayable\",\"type\":\"function\"},{\"inputs\":[{\"internalType\":\"bytes32\",\"name\":\"_merkleRoot\",\"type\":\"bytes32\"}],\"name\":\"setMerkleRoot\",\"outputs\":[],\"stateMutability\":\"nonpayable\",\"type\":\"function\"},{\"inputs\":[{\"internalType\":\"address\",\"name\":\"dest\",\"type\":\"address\"}],\"name\":\"sweep\",\"outputs\":[],\"stateMutability\":\"nonpayable\",\"type\":\"function\"},{\"inputs\":[],\"name\":\"symbol\",\"outputs\":[{\"internalType\":\"string\",\"name\":\"\",\"type\":\"string\"}],\"stateMutability\":\"view\",\"type\":\"function\"},{\"inputs\":[],\"name\":\"totalSupply\",\"outputs\":[{\"internalType\":\"uint256\",\"name\":\"\",\"type\":\"uint256\"}],\"stateMutability\":\"view\",\"type\":\"function\"},{\"inputs\":[{\"internalType\":\"address\",\"name\":\"recipient\",\"type\":\"address\"},{\"internalType\":\"uint256\",\"name\":\"amount\",\"type\":\"uint256\"}],\"name\":\"transfer\",\"outputs\":[{\"internalType\":\"bool\",\"name\":\"\",\"type\":\"bool\"}],\"stateMutability\":\"nonpayable\",\"type\":\"function\"},{\"inputs\":[{\"internalType\":\"address\",\"name\":\"sender\",\"type\":\"address\"},{\"internalType\":\"address\",\"name\":\"recipient\",\"type\":\"address\"},{\"internalType\":\"uint256\",\"name\":\"amount\",\"type\":\"uint256\"}],\"name\":\"transferFrom\",\"outputs\":[{\"internalType\":\"bool\",\"name\":\"\",\"type\":\"bool\"}],\"stateMutability\":\"nonpayable\",\"type\":\"function\"},{\"inputs\":[{\"internalType\":\"address\",\"name\":\"newOwner\",\"type\":\"address\"}],\"name\":\"transferOwnership\",\"outputs\":[],\"stateMutability\":\"nonpayable\",\"type\":\"function\"}]'\n",
    "\n",
    "ens_dao_treasury_address =  Web3.toChecksumAddress(\"0xfe89cc7abb2c4183683ab71653c4cdc9b02d44b7\")\n",
    "ens_dao_treasury_abi = '[{\"inputs\":[{\"internalType\":\"uint256\",\"name\":\"minDelay\",\"type\":\"uint256\"},{\"internalType\":\"address[]\",\"name\":\"proposers\",\"type\":\"address[]\"},{\"internalType\":\"address[]\",\"name\":\"executors\",\"type\":\"address[]\"}],\"stateMutability\":\"nonpayable\",\"type\":\"constructor\"},{\"anonymous\":false,\"inputs\":[{\"indexed\":true,\"internalType\":\"bytes32\",\"name\":\"id\",\"type\":\"bytes32\"},{\"indexed\":true,\"internalType\":\"uint256\",\"name\":\"index\",\"type\":\"uint256\"},{\"indexed\":false,\"internalType\":\"address\",\"name\":\"target\",\"type\":\"address\"},{\"indexed\":false,\"internalType\":\"uint256\",\"name\":\"value\",\"type\":\"uint256\"},{\"indexed\":false,\"internalType\":\"bytes\",\"name\":\"data\",\"type\":\"bytes\"}],\"name\":\"CallExecuted\",\"type\":\"event\"},{\"anonymous\":false,\"inputs\":[{\"indexed\":true,\"internalType\":\"bytes32\",\"name\":\"id\",\"type\":\"bytes32\"},{\"indexed\":true,\"internalType\":\"uint256\",\"name\":\"index\",\"type\":\"uint256\"},{\"indexed\":false,\"internalType\":\"address\",\"name\":\"target\",\"type\":\"address\"},{\"indexed\":false,\"internalType\":\"uint256\",\"name\":\"value\",\"type\":\"uint256\"},{\"indexed\":false,\"internalType\":\"bytes\",\"name\":\"data\",\"type\":\"bytes\"},{\"indexed\":false,\"internalType\":\"bytes32\",\"name\":\"predecessor\",\"type\":\"bytes32\"},{\"indexed\":false,\"internalType\":\"uint256\",\"name\":\"delay\",\"type\":\"uint256\"}],\"name\":\"CallScheduled\",\"type\":\"event\"},{\"anonymous\":false,\"inputs\":[{\"indexed\":true,\"internalType\":\"bytes32\",\"name\":\"id\",\"type\":\"bytes32\"}],\"name\":\"Cancelled\",\"type\":\"event\"},{\"anonymous\":false,\"inputs\":[{\"indexed\":false,\"internalType\":\"uint256\",\"name\":\"oldDuration\",\"type\":\"uint256\"},{\"indexed\":false,\"internalType\":\"uint256\",\"name\":\"newDuration\",\"type\":\"uint256\"}],\"name\":\"MinDelayChange\",\"type\":\"event\"},{\"anonymous\":false,\"inputs\":[{\"indexed\":true,\"internalType\":\"bytes32\",\"name\":\"role\",\"type\":\"bytes32\"},{\"indexed\":true,\"internalType\":\"bytes32\",\"name\":\"previousAdminRole\",\"type\":\"bytes32\"},{\"indexed\":true,\"internalType\":\"bytes32\",\"name\":\"newAdminRole\",\"type\":\"bytes32\"}],\"name\":\"RoleAdminChanged\",\"type\":\"event\"},{\"anonymous\":false,\"inputs\":[{\"indexed\":true,\"internalType\":\"bytes32\",\"name\":\"role\",\"type\":\"bytes32\"},{\"indexed\":true,\"internalType\":\"address\",\"name\":\"account\",\"type\":\"address\"},{\"indexed\":true,\"internalType\":\"address\",\"name\":\"sender\",\"type\":\"address\"}],\"name\":\"RoleGranted\",\"type\":\"event\"},{\"anonymous\":false,\"inputs\":[{\"indexed\":true,\"internalType\":\"bytes32\",\"name\":\"role\",\"type\":\"bytes32\"},{\"indexed\":true,\"internalType\":\"address\",\"name\":\"account\",\"type\":\"address\"},{\"indexed\":true,\"internalType\":\"address\",\"name\":\"sender\",\"type\":\"address\"}],\"name\":\"RoleRevoked\",\"type\":\"event\"},{\"inputs\":[],\"name\":\"DEFAULT_ADMIN_ROLE\",\"outputs\":[{\"internalType\":\"bytes32\",\"name\":\"\",\"type\":\"bytes32\"}],\"stateMutability\":\"view\",\"type\":\"function\"},{\"inputs\":[],\"name\":\"EXECUTOR_ROLE\",\"outputs\":[{\"internalType\":\"bytes32\",\"name\":\"\",\"type\":\"bytes32\"}],\"stateMutability\":\"view\",\"type\":\"function\"},{\"inputs\":[],\"name\":\"PROPOSER_ROLE\",\"outputs\":[{\"internalType\":\"bytes32\",\"name\":\"\",\"type\":\"bytes32\"}],\"stateMutability\":\"view\",\"type\":\"function\"},{\"inputs\":[],\"name\":\"TIMELOCK_ADMIN_ROLE\",\"outputs\":[{\"internalType\":\"bytes32\",\"name\":\"\",\"type\":\"bytes32\"}],\"stateMutability\":\"view\",\"type\":\"function\"},{\"inputs\":[{\"internalType\":\"bytes32\",\"name\":\"id\",\"type\":\"bytes32\"}],\"name\":\"cancel\",\"outputs\":[],\"stateMutability\":\"nonpayable\",\"type\":\"function\"},{\"inputs\":[{\"internalType\":\"address\",\"name\":\"target\",\"type\":\"address\"},{\"internalType\":\"uint256\",\"name\":\"value\",\"type\":\"uint256\"},{\"internalType\":\"bytes\",\"name\":\"data\",\"type\":\"bytes\"},{\"internalType\":\"bytes32\",\"name\":\"predecessor\",\"type\":\"bytes32\"},{\"internalType\":\"bytes32\",\"name\":\"salt\",\"type\":\"bytes32\"}],\"name\":\"execute\",\"outputs\":[],\"stateMutability\":\"payable\",\"type\":\"function\"},{\"inputs\":[{\"internalType\":\"address[]\",\"name\":\"targets\",\"type\":\"address[]\"},{\"internalType\":\"uint256[]\",\"name\":\"values\",\"type\":\"uint256[]\"},{\"internalType\":\"bytes[]\",\"name\":\"datas\",\"type\":\"bytes[]\"},{\"internalType\":\"bytes32\",\"name\":\"predecessor\",\"type\":\"bytes32\"},{\"internalType\":\"bytes32\",\"name\":\"salt\",\"type\":\"bytes32\"}],\"name\":\"executeBatch\",\"outputs\":[],\"stateMutability\":\"payable\",\"type\":\"function\"},{\"inputs\":[],\"name\":\"getMinDelay\",\"outputs\":[{\"internalType\":\"uint256\",\"name\":\"duration\",\"type\":\"uint256\"}],\"stateMutability\":\"view\",\"type\":\"function\"},{\"inputs\":[{\"internalType\":\"bytes32\",\"name\":\"role\",\"type\":\"bytes32\"}],\"name\":\"getRoleAdmin\",\"outputs\":[{\"internalType\":\"bytes32\",\"name\":\"\",\"type\":\"bytes32\"}],\"stateMutability\":\"view\",\"type\":\"function\"},{\"inputs\":[{\"internalType\":\"bytes32\",\"name\":\"id\",\"type\":\"bytes32\"}],\"name\":\"getTimestamp\",\"outputs\":[{\"internalType\":\"uint256\",\"name\":\"timestamp\",\"type\":\"uint256\"}],\"stateMutability\":\"view\",\"type\":\"function\"},{\"inputs\":[{\"internalType\":\"bytes32\",\"name\":\"role\",\"type\":\"bytes32\"},{\"internalType\":\"address\",\"name\":\"account\",\"type\":\"address\"}],\"name\":\"grantRole\",\"outputs\":[],\"stateMutability\":\"nonpayable\",\"type\":\"function\"},{\"inputs\":[{\"internalType\":\"bytes32\",\"name\":\"role\",\"type\":\"bytes32\"},{\"internalType\":\"address\",\"name\":\"account\",\"type\":\"address\"}],\"name\":\"hasRole\",\"outputs\":[{\"internalType\":\"bool\",\"name\":\"\",\"type\":\"bool\"}],\"stateMutability\":\"view\",\"type\":\"function\"},{\"inputs\":[{\"internalType\":\"address\",\"name\":\"target\",\"type\":\"address\"},{\"internalType\":\"uint256\",\"name\":\"value\",\"type\":\"uint256\"},{\"internalType\":\"bytes\",\"name\":\"data\",\"type\":\"bytes\"},{\"internalType\":\"bytes32\",\"name\":\"predecessor\",\"type\":\"bytes32\"},{\"internalType\":\"bytes32\",\"name\":\"salt\",\"type\":\"bytes32\"}],\"name\":\"hashOperation\",\"outputs\":[{\"internalType\":\"bytes32\",\"name\":\"hash\",\"type\":\"bytes32\"}],\"stateMutability\":\"pure\",\"type\":\"function\"},{\"inputs\":[{\"internalType\":\"address[]\",\"name\":\"targets\",\"type\":\"address[]\"},{\"internalType\":\"uint256[]\",\"name\":\"values\",\"type\":\"uint256[]\"},{\"internalType\":\"bytes[]\",\"name\":\"datas\",\"type\":\"bytes[]\"},{\"internalType\":\"bytes32\",\"name\":\"predecessor\",\"type\":\"bytes32\"},{\"internalType\":\"bytes32\",\"name\":\"salt\",\"type\":\"bytes32\"}],\"name\":\"hashOperationBatch\",\"outputs\":[{\"internalType\":\"bytes32\",\"name\":\"hash\",\"type\":\"bytes32\"}],\"stateMutability\":\"pure\",\"type\":\"function\"},{\"inputs\":[{\"internalType\":\"bytes32\",\"name\":\"id\",\"type\":\"bytes32\"}],\"name\":\"isOperation\",\"outputs\":[{\"internalType\":\"bool\",\"name\":\"pending\",\"type\":\"bool\"}],\"stateMutability\":\"view\",\"type\":\"function\"},{\"inputs\":[{\"internalType\":\"bytes32\",\"name\":\"id\",\"type\":\"bytes32\"}],\"name\":\"isOperationDone\",\"outputs\":[{\"internalType\":\"bool\",\"name\":\"done\",\"type\":\"bool\"}],\"stateMutability\":\"view\",\"type\":\"function\"},{\"inputs\":[{\"internalType\":\"bytes32\",\"name\":\"id\",\"type\":\"bytes32\"}],\"name\":\"isOperationPending\",\"outputs\":[{\"internalType\":\"bool\",\"name\":\"pending\",\"type\":\"bool\"}],\"stateMutability\":\"view\",\"type\":\"function\"},{\"inputs\":[{\"internalType\":\"bytes32\",\"name\":\"id\",\"type\":\"bytes32\"}],\"name\":\"isOperationReady\",\"outputs\":[{\"internalType\":\"bool\",\"name\":\"ready\",\"type\":\"bool\"}],\"stateMutability\":\"view\",\"type\":\"function\"},{\"inputs\":[{\"internalType\":\"bytes32\",\"name\":\"role\",\"type\":\"bytes32\"},{\"internalType\":\"address\",\"name\":\"account\",\"type\":\"address\"}],\"name\":\"renounceRole\",\"outputs\":[],\"stateMutability\":\"nonpayable\",\"type\":\"function\"},{\"inputs\":[{\"internalType\":\"bytes32\",\"name\":\"role\",\"type\":\"bytes32\"},{\"internalType\":\"address\",\"name\":\"account\",\"type\":\"address\"}],\"name\":\"revokeRole\",\"outputs\":[],\"stateMutability\":\"nonpayable\",\"type\":\"function\"},{\"inputs\":[{\"internalType\":\"address\",\"name\":\"target\",\"type\":\"address\"},{\"internalType\":\"uint256\",\"name\":\"value\",\"type\":\"uint256\"},{\"internalType\":\"bytes\",\"name\":\"data\",\"type\":\"bytes\"},{\"internalType\":\"bytes32\",\"name\":\"predecessor\",\"type\":\"bytes32\"},{\"internalType\":\"bytes32\",\"name\":\"salt\",\"type\":\"bytes32\"},{\"internalType\":\"uint256\",\"name\":\"delay\",\"type\":\"uint256\"}],\"name\":\"schedule\",\"outputs\":[],\"stateMutability\":\"nonpayable\",\"type\":\"function\"},{\"inputs\":[{\"internalType\":\"address[]\",\"name\":\"targets\",\"type\":\"address[]\"},{\"internalType\":\"uint256[]\",\"name\":\"values\",\"type\":\"uint256[]\"},{\"internalType\":\"bytes[]\",\"name\":\"datas\",\"type\":\"bytes[]\"},{\"internalType\":\"bytes32\",\"name\":\"predecessor\",\"type\":\"bytes32\"},{\"internalType\":\"bytes32\",\"name\":\"salt\",\"type\":\"bytes32\"},{\"internalType\":\"uint256\",\"name\":\"delay\",\"type\":\"uint256\"}],\"name\":\"scheduleBatch\",\"outputs\":[],\"stateMutability\":\"nonpayable\",\"type\":\"function\"},{\"inputs\":[{\"internalType\":\"bytes4\",\"name\":\"interfaceId\",\"type\":\"bytes4\"}],\"name\":\"supportsInterface\",\"outputs\":[{\"internalType\":\"bool\",\"name\":\"\",\"type\":\"bool\"}],\"stateMutability\":\"view\",\"type\":\"function\"},{\"inputs\":[{\"internalType\":\"uint256\",\"name\":\"newDelay\",\"type\":\"uint256\"}],\"name\":\"updateDelay\",\"outputs\":[],\"stateMutability\":\"nonpayable\",\"type\":\"function\"},{\"stateMutability\":\"payable\",\"type\":\"receive\"}]'\n",
    "\n",
    "ens_registrar_address = Web3.toChecksumAddress(\"0x283af0b28c62c092c9727f1ee09c02ca627eb7f5\")\n",
    "ens_registrar_abi = '[{\"inputs\":[{\"internalType\":\"contract BaseRegistrar\",\"name\":\"_base\",\"type\":\"address\"},{\"internalType\":\"contract PriceOracle\",\"name\":\"_prices\",\"type\":\"address\"},{\"internalType\":\"uint256\",\"name\":\"_minCommitmentAge\",\"type\":\"uint256\"},{\"internalType\":\"uint256\",\"name\":\"_maxCommitmentAge\",\"type\":\"uint256\"}],\"payable\":false,\"stateMutability\":\"nonpayable\",\"type\":\"constructor\"},{\"anonymous\":false,\"inputs\":[{\"indexed\":false,\"internalType\":\"string\",\"name\":\"name\",\"type\":\"string\"},{\"indexed\":true,\"internalType\":\"bytes32\",\"name\":\"label\",\"type\":\"bytes32\"},{\"indexed\":true,\"internalType\":\"address\",\"name\":\"owner\",\"type\":\"address\"},{\"indexed\":false,\"internalType\":\"uint256\",\"name\":\"cost\",\"type\":\"uint256\"},{\"indexed\":false,\"internalType\":\"uint256\",\"name\":\"expires\",\"type\":\"uint256\"}],\"name\":\"NameRegistered\",\"type\":\"event\"},{\"anonymous\":false,\"inputs\":[{\"indexed\":false,\"internalType\":\"string\",\"name\":\"name\",\"type\":\"string\"},{\"indexed\":true,\"internalType\":\"bytes32\",\"name\":\"label\",\"type\":\"bytes32\"},{\"indexed\":false,\"internalType\":\"uint256\",\"name\":\"cost\",\"type\":\"uint256\"},{\"indexed\":false,\"internalType\":\"uint256\",\"name\":\"expires\",\"type\":\"uint256\"}],\"name\":\"NameRenewed\",\"type\":\"event\"},{\"anonymous\":false,\"inputs\":[{\"indexed\":true,\"internalType\":\"address\",\"name\":\"oracle\",\"type\":\"address\"}],\"name\":\"NewPriceOracle\",\"type\":\"event\"},{\"anonymous\":false,\"inputs\":[{\"indexed\":true,\"internalType\":\"address\",\"name\":\"previousOwner\",\"type\":\"address\"},{\"indexed\":true,\"internalType\":\"address\",\"name\":\"newOwner\",\"type\":\"address\"}],\"name\":\"OwnershipTransferred\",\"type\":\"event\"},{\"constant\":true,\"inputs\":[],\"name\":\"MIN_REGISTRATION_DURATION\",\"outputs\":[{\"internalType\":\"uint256\",\"name\":\"\",\"type\":\"uint256\"}],\"payable\":false,\"stateMutability\":\"view\",\"type\":\"function\"},{\"constant\":true,\"inputs\":[{\"internalType\":\"string\",\"name\":\"name\",\"type\":\"string\"}],\"name\":\"available\",\"outputs\":[{\"internalType\":\"bool\",\"name\":\"\",\"type\":\"bool\"}],\"payable\":false,\"stateMutability\":\"view\",\"type\":\"function\"},{\"constant\":false,\"inputs\":[{\"internalType\":\"bytes32\",\"name\":\"commitment\",\"type\":\"bytes32\"}],\"name\":\"commit\",\"outputs\":[],\"payable\":false,\"stateMutability\":\"nonpayable\",\"type\":\"function\"},{\"constant\":true,\"inputs\":[{\"internalType\":\"bytes32\",\"name\":\"\",\"type\":\"bytes32\"}],\"name\":\"commitments\",\"outputs\":[{\"internalType\":\"uint256\",\"name\":\"\",\"type\":\"uint256\"}],\"payable\":false,\"stateMutability\":\"view\",\"type\":\"function\"},{\"constant\":true,\"inputs\":[],\"name\":\"isOwner\",\"outputs\":[{\"internalType\":\"bool\",\"name\":\"\",\"type\":\"bool\"}],\"payable\":false,\"stateMutability\":\"view\",\"type\":\"function\"},{\"constant\":true,\"inputs\":[{\"internalType\":\"string\",\"name\":\"name\",\"type\":\"string\"},{\"internalType\":\"address\",\"name\":\"owner\",\"type\":\"address\"},{\"internalType\":\"bytes32\",\"name\":\"secret\",\"type\":\"bytes32\"}],\"name\":\"makeCommitment\",\"outputs\":[{\"internalType\":\"bytes32\",\"name\":\"\",\"type\":\"bytes32\"}],\"payable\":false,\"stateMutability\":\"pure\",\"type\":\"function\"},{\"constant\":true,\"inputs\":[{\"internalType\":\"string\",\"name\":\"name\",\"type\":\"string\"},{\"internalType\":\"address\",\"name\":\"owner\",\"type\":\"address\"},{\"internalType\":\"bytes32\",\"name\":\"secret\",\"type\":\"bytes32\"},{\"internalType\":\"address\",\"name\":\"resolver\",\"type\":\"address\"},{\"internalType\":\"address\",\"name\":\"addr\",\"type\":\"address\"}],\"name\":\"makeCommitmentWithConfig\",\"outputs\":[{\"internalType\":\"bytes32\",\"name\":\"\",\"type\":\"bytes32\"}],\"payable\":false,\"stateMutability\":\"pure\",\"type\":\"function\"},{\"constant\":true,\"inputs\":[],\"name\":\"maxCommitmentAge\",\"outputs\":[{\"internalType\":\"uint256\",\"name\":\"\",\"type\":\"uint256\"}],\"payable\":false,\"stateMutability\":\"view\",\"type\":\"function\"},{\"constant\":true,\"inputs\":[],\"name\":\"minCommitmentAge\",\"outputs\":[{\"internalType\":\"uint256\",\"name\":\"\",\"type\":\"uint256\"}],\"payable\":false,\"stateMutability\":\"view\",\"type\":\"function\"},{\"constant\":true,\"inputs\":[],\"name\":\"owner\",\"outputs\":[{\"internalType\":\"address\",\"name\":\"\",\"type\":\"address\"}],\"payable\":false,\"stateMutability\":\"view\",\"type\":\"function\"},{\"constant\":false,\"inputs\":[{\"internalType\":\"string\",\"name\":\"name\",\"type\":\"string\"},{\"internalType\":\"address\",\"name\":\"owner\",\"type\":\"address\"},{\"internalType\":\"uint256\",\"name\":\"duration\",\"type\":\"uint256\"},{\"internalType\":\"bytes32\",\"name\":\"secret\",\"type\":\"bytes32\"}],\"name\":\"register\",\"outputs\":[],\"payable\":true,\"stateMutability\":\"payable\",\"type\":\"function\"},{\"constant\":false,\"inputs\":[{\"internalType\":\"string\",\"name\":\"name\",\"type\":\"string\"},{\"internalType\":\"address\",\"name\":\"owner\",\"type\":\"address\"},{\"internalType\":\"uint256\",\"name\":\"duration\",\"type\":\"uint256\"},{\"internalType\":\"bytes32\",\"name\":\"secret\",\"type\":\"bytes32\"},{\"internalType\":\"address\",\"name\":\"resolver\",\"type\":\"address\"},{\"internalType\":\"address\",\"name\":\"addr\",\"type\":\"address\"}],\"name\":\"registerWithConfig\",\"outputs\":[],\"payable\":true,\"stateMutability\":\"payable\",\"type\":\"function\"},{\"constant\":false,\"inputs\":[{\"internalType\":\"string\",\"name\":\"name\",\"type\":\"string\"},{\"internalType\":\"uint256\",\"name\":\"duration\",\"type\":\"uint256\"}],\"name\":\"renew\",\"outputs\":[],\"payable\":true,\"stateMutability\":\"payable\",\"type\":\"function\"},{\"constant\":false,\"inputs\":[],\"name\":\"renounceOwnership\",\"outputs\":[],\"payable\":false,\"stateMutability\":\"nonpayable\",\"type\":\"function\"},{\"constant\":true,\"inputs\":[{\"internalType\":\"string\",\"name\":\"name\",\"type\":\"string\"},{\"internalType\":\"uint256\",\"name\":\"duration\",\"type\":\"uint256\"}],\"name\":\"rentPrice\",\"outputs\":[{\"internalType\":\"uint256\",\"name\":\"\",\"type\":\"uint256\"}],\"payable\":false,\"stateMutability\":\"view\",\"type\":\"function\"},{\"constant\":false,\"inputs\":[{\"internalType\":\"uint256\",\"name\":\"_minCommitmentAge\",\"type\":\"uint256\"},{\"internalType\":\"uint256\",\"name\":\"_maxCommitmentAge\",\"type\":\"uint256\"}],\"name\":\"setCommitmentAges\",\"outputs\":[],\"payable\":false,\"stateMutability\":\"nonpayable\",\"type\":\"function\"},{\"constant\":false,\"inputs\":[{\"internalType\":\"contract PriceOracle\",\"name\":\"_prices\",\"type\":\"address\"}],\"name\":\"setPriceOracle\",\"outputs\":[],\"payable\":false,\"stateMutability\":\"nonpayable\",\"type\":\"function\"},{\"constant\":true,\"inputs\":[{\"internalType\":\"bytes4\",\"name\":\"interfaceID\",\"type\":\"bytes4\"}],\"name\":\"supportsInterface\",\"outputs\":[{\"internalType\":\"bool\",\"name\":\"\",\"type\":\"bool\"}],\"payable\":false,\"stateMutability\":\"pure\",\"type\":\"function\"},{\"constant\":false,\"inputs\":[{\"internalType\":\"address\",\"name\":\"newOwner\",\"type\":\"address\"}],\"name\":\"transferOwnership\",\"outputs\":[],\"payable\":false,\"stateMutability\":\"nonpayable\",\"type\":\"function\"},{\"constant\":true,\"inputs\":[{\"internalType\":\"string\",\"name\":\"name\",\"type\":\"string\"}],\"name\":\"valid\",\"outputs\":[{\"internalType\":\"bool\",\"name\":\"\",\"type\":\"bool\"}],\"payable\":false,\"stateMutability\":\"pure\",\"type\":\"function\"},{\"constant\":false,\"inputs\":[],\"name\":\"withdraw\",\"outputs\":[],\"payable\":false,\"stateMutability\":\"nonpayable\",\"type\":\"function\"}]'\n"
   ]
  },
  {
   "cell_type": "code",
   "execution_count": 6,
   "id": "50940801-eef3-4348-846a-8ae0bf07e915",
   "metadata": {},
   "outputs": [],
   "source": [
    "# initializing representations of contracts\n",
    "ens_token_contract = w3.eth.contract(address = ens_token_address, abi = ens_token_abi)\n",
    "ens_nft_contract = w3.eth.contract(address = ens_nft_address, abi = ens_nft_abi)\n",
    "ens_dao_treasury_wallet = w3.eth.contract(address = ens_dao_treasury_address, abi = ens_dao_treasury_abi)\n",
    "ens_registrar_contract = w3.eth.contract(address = ens_registrar_address, abi = ens_registrar_abi)"
   ]
  },
  {
   "cell_type": "markdown",
   "id": "abd01903-0468-496b-a066-6fee96fcbc25",
   "metadata": {},
   "source": [
    "#### Registration Events"
   ]
  },
  {
   "cell_type": "code",
   "execution_count": 8,
   "id": "9878f83e-b882-4b53-88bf-a48f9a0bbc1d",
   "metadata": {},
   "outputs": [],
   "source": [
    "# # get all registration logs\n",
    "# end_block = w3.eth.block_number\n",
    "# start_block = end_block - 6000 * 365 # get one year assuming roughly 6k blocks/day\n",
    "\n",
    "# # dict keyed by block to make filling in chunks easier\n",
    "# logs_all=list()\n",
    "# block = start_block"
   ]
  },
  {
   "cell_type": "code",
   "execution_count": null,
   "id": "98c23cdb-17ef-4555-b5a2-ac364f8190b5",
   "metadata": {},
   "outputs": [],
   "source": [
    "# # get all registration events\n",
    "# while block <= end_block:\n",
    "#     logs_i = ens_nft_contract.events.NameRegistered().getLogs(fromBlock = block - 2000, toBlock = min(block,end_block+2001))\n",
    "#     logs_all+=list(logs_i)\n",
    "#     save_obj(logs_all, 'registration_logs')\n",
    "#     block+=2001\n",
    "#     if block%100==0:\n",
    "#         print(f'{block}, {block-start_block}/{end_block-start_block} ({(block-start_block)/(end_block-start_block)}% done)')"
   ]
  },
  {
   "cell_type": "code",
   "execution_count": null,
   "id": "af63f21b-cef4-412c-b20d-de3160ccd0c9",
   "metadata": {},
   "outputs": [],
   "source": [
    "# # load the logs from loop above\n",
    "# registration_logs=load_obj('registration_logs')"
   ]
  },
  {
   "cell_type": "code",
   "execution_count": null,
   "id": "ab80dbd5-f325-45e3-aade-572a0e5ce5e0",
   "metadata": {},
   "outputs": [],
   "source": [
    "# start where it left off\n",
    "# d=load_obj('registration_logs_dict') #dict()"
   ]
  },
  {
   "cell_type": "code",
   "execution_count": null,
   "id": "f0d502f4-ee16-4892-b3d2-83486d804908",
   "metadata": {},
   "outputs": [],
   "source": [
    "# # get and decode all registration events (moved to a funuction that can be run for chunks in parallel)\n",
    "# for log in registration_logs:\n",
    "#     i+=1\n",
    "#     tx_hash = log.transactionHash\n",
    "#     if not tx_hash.hex() in d.keys():\n",
    "#         tx_receipt = w3.eth.get_transaction_receipt(tx_hash)\n",
    "#         register_event = ens_registrar_contract.events.NameRegistered().processReceipt(tx_receipt,errors=_utils.events.EventLogErrorFlags.Discard)\n",
    "\n",
    "#         d[register_event[0]['transactionHash'].hex()] = {\n",
    "#         'blockNumber':register_event[0]['blockNumber'],\n",
    "#         'owner': register_event[0]['args']['owner'], # not included in renew events\n",
    "#         'name': register_event[0]['args']['name'],\n",
    "#         'cost': register_event[0]['args']['cost'],\n",
    "#         'expires': register_event[0]['args']['expires']\n",
    "#         }\n",
    "        \n",
    "#         save_obj(d, 'registration_logs_dict')\n",
    "\n",
    "#     if i%1000==0: print(f'{i},{len(d)} / {len(registration_logs)} (around {i/len(registration_logs)*100}% done)')\n"
   ]
  },
  {
   "cell_type": "code",
   "execution_count": null,
   "id": "e4919601-233d-4461-b44e-53fb76e46925",
   "metadata": {},
   "outputs": [],
   "source": [
    "# # function to do this in parallel, code above was too slow\n",
    "# def get_registration_dicts(chunk):\n",
    "#     # TODO: change path files save to\n",
    "#     t1=time.time()\n",
    "#     d=dict()\n",
    "#     # get files for fast skipping\n",
    "#     p='/Users/macstrelioff/Documents/git/crypto_public/ENS NFT analyses/registration_logs/'\n",
    "#     finished_hashes = set([f.split('_')[-1].split('.')[0] for f in listdir(p) if isfile(join(p, f))])\n",
    "#     if chunk[-1].transactionHash.hex() in finished_hashes: \n",
    "#         print('chunk previously finished')\n",
    "#         return # skip if the file alreadsy exists\n",
    "        \n",
    "#     first_hash = chunk[0].transactionHash.hex()[0:7]\n",
    "#     i=0\n",
    "#     for log in chunk:\n",
    "#         i+=1\n",
    "#         tx_hash = log.transactionHash\n",
    "#         if tx_hash.hex() in d.keys(): continue # skip if the tx was already logged recently\n",
    "#         attempts = 0\n",
    "#         while attempts<3:\n",
    "#             try:\n",
    "#                 tx_receipt = w3.eth.get_transaction_receipt(tx_hash)\n",
    "#                 register_event = ens_registrar_contract.events.NameRegistered().processReceipt(tx_receipt,errors=_utils.events.EventLogErrorFlags.Discard)\n",
    "\n",
    "#                 d[register_event[0]['transactionHash'].hex()] = {\n",
    "#                 'blockNumber':register_event[0]['blockNumber'],\n",
    "#                 'owner': register_event[0]['args']['owner'], # not included in renew events\n",
    "#                 'name': register_event[0]['args']['name'],\n",
    "#                 'cost': register_event[0]['args']['cost'],\n",
    "#                 'expires': register_event[0]['args']['expires']\n",
    "#                 }\n",
    "#                 attempts=4 # just to exit the loop\n",
    "#             except: \n",
    "#                 time.sleep(.5)\n",
    "#                 print(f'error with: {tx_hash}, attempt: {attempts}')\n",
    "#                 attempts+=1\n",
    "#         if i%200==0: print(f'{first_hash}, {i},{len(d)} / {len(chunk)} (around {i/len(chunk)*100}% done)')\n",
    "#     path = f'registration_logs_dict_{tx_hash.hex()}'\n",
    "#     save_obj(d, path)\n",
    "#     print(f'{first_hash} done in {time.time()-t1}')\n",
    "#     return path"
   ]
  },
  {
   "cell_type": "code",
   "execution_count": null,
   "id": "bb1b6c25-5056-4621-973f-5af4f5fb0b56",
   "metadata": {},
   "outputs": [],
   "source": [
    "# # get index ranges\n",
    "\n",
    "# # left off around 67000\n",
    "# # ranges=[i for i in range(67000,int(len(registration_logs)),int(round(len(registration_logs)/1000)))]\n",
    "# ranges=[i for i in range(0,67000,int(67000/100))] # need to redo first logs bc file was currupt...\n",
    "# ranges.append(len(registration_logs))\n",
    "\n",
    "# # get list of events to pass in each chunk\n",
    "# chunks = [registration_logs[ranges[i]:ranges[i+1]] for i in range(len(ranges)-1)]"
   ]
  },
  {
   "cell_type": "code",
   "execution_count": null,
   "id": "0ee355be-2113-4fa5-a8eb-e6a8340c0937",
   "metadata": {},
   "outputs": [],
   "source": [
    "# pool = ThreadPool()"
   ]
  },
  {
   "cell_type": "code",
   "execution_count": null,
   "id": "f7c0eff1-cf0d-4c80-9582-249dc4c32f97",
   "metadata": {},
   "outputs": [],
   "source": [
    "# results = pool.map(get_registration_dicts, chunks)"
   ]
  },
  {
   "cell_type": "code",
   "execution_count": null,
   "id": "fd9db5bc-1fd6-4391-a84a-25c4d17b3045",
   "metadata": {},
   "outputs": [],
   "source": [
    "# # 970 chunks\n",
    "# # 350s, 6min/ chunk\n",
    "# # 8 parallel chunks\n",
    "# # 970 * 6 / 60 / 8 = around 10h"
   ]
  },
  {
   "cell_type": "markdown",
   "id": "724f6754-36fb-4dce-9258-0022905ecc13",
   "metadata": {
    "tags": []
   },
   "source": [
    "#### more processing of registration logs"
   ]
  },
  {
   "cell_type": "code",
   "execution_count": 60,
   "id": "38db15bb-5465-4d3c-83fb-ae7bd5e0d1af",
   "metadata": {},
   "outputs": [],
   "source": [
    "# # # get all dict files\n",
    "# p='./registration_logs/'\n",
    "# chunk_files = [f.split('.')[0] for f in listdir(p) if isfile(join(p, f))]"
   ]
  },
  {
   "cell_type": "code",
   "execution_count": 59,
   "id": "7a0c8fde-bb1a-4dc7-b7e4-ded8782f9ae0",
   "metadata": {},
   "outputs": [],
   "source": [
    "# # # join all dicts together\n",
    "# d = dict()\n",
    "# i=0\n",
    "# for c in chunk_files:\n",
    "#     i+=1\n",
    "#     if i % 100 == 0: print(f'{i}/{len(chunk_files)}')\n",
    "#     d_chunk = load_obj(p+c)\n",
    "#     d.update(d_chunk)"
   ]
  },
  {
   "cell_type": "code",
   "execution_count": 61,
   "id": "153a1823-c4e0-4c1f-9e2e-bcf176544164",
   "metadata": {},
   "outputs": [],
   "source": [
    "# len(d) # = 1712361, so might be missing some registration events"
   ]
  },
  {
   "cell_type": "code",
   "execution_count": 58,
   "id": "19f71a98-b872-4874-a068-8ec5c116111b",
   "metadata": {},
   "outputs": [],
   "source": [
    "# # save combined dicts for quicker access later\n",
    "# save_obj(d,'registration_logs_all_dict')"
   ]
  },
  {
   "cell_type": "code",
   "execution_count": 7,
   "id": "c3513de9-9b14-44df-a4c1-aec2c518b79c",
   "metadata": {},
   "outputs": [],
   "source": [
    "# # load output of loop above\n",
    "# registration_logs_all_dict = load_obj('registration_logs_all_dict')"
   ]
  },
  {
   "cell_type": "markdown",
   "id": "a7237d95-c436-4cd5-b66d-0a571c25433e",
   "metadata": {},
   "source": [
    "#### get block -> timestamp mappings"
   ]
  },
  {
   "cell_type": "code",
   "execution_count": 21,
   "id": "4b810d87-d8ea-4e01-b23d-439ff9f6ac4b",
   "metadata": {},
   "outputs": [],
   "source": [
    "# registration_logs_all_df=pd.DataFrame.from_dict(registration_logs_all_dict,orient='index')"
   ]
  },
  {
   "cell_type": "code",
   "execution_count": 9,
   "id": "1a8263e9-69fa-483a-a619-c26c0a049668",
   "metadata": {},
   "outputs": [],
   "source": [
    "# blocks = list(set(registration_logs_all_df.blockNumber.values))"
   ]
  },
  {
   "cell_type": "code",
   "execution_count": 17,
   "id": "9a22444f-9510-484d-9f21-db53d809dd3c",
   "metadata": {},
   "outputs": [],
   "source": [
    "# # get block ranges\n",
    "# ranges=[i for i in range(int(min(blocks)),int(max(blocks)),1000)]\n",
    "# ranges.append(max(blocks))\n",
    "# # get list of events to pass in each chunk\n",
    "# chunks = [list(range(ranges[i],ranges[i+1])) for i in range(len(ranges)-1)]"
   ]
  },
  {
   "cell_type": "code",
   "execution_count": 18,
   "id": "3b20b613-c467-4baf-8b55-2c4976dfb825",
   "metadata": {},
   "outputs": [
    {
     "data": {
      "text/plain": [
       "(2192, 1000)"
      ]
     },
     "execution_count": 18,
     "metadata": {},
     "output_type": "execute_result"
    }
   ],
   "source": [
    "# len(chunks),len(chunks[0])"
   ]
  },
  {
   "cell_type": "code",
   "execution_count": 19,
   "id": "49c284d9-0319-4bad-bbe4-04f7ae569e5e",
   "metadata": {},
   "outputs": [],
   "source": [
    "# def block_to_ts_helper(chunks):\n",
    "#     block_to_ts = dict()\n",
    "#     for b in chunks:\n",
    "#         attempts = 0\n",
    "#         while attempts < 3:\n",
    "#             try: \n",
    "#                 block_to_ts[b] = w3.eth.getBlock(int(b)).timestamp\n",
    "#                 attempts=4\n",
    "#             except:\n",
    "#                 attempts+=1\n",
    "#                 time.sleep(0.5)\n",
    "#     path = f'./block_to_ts/block_to_ts_{min(chunks)}_{max(chunks)}'\n",
    "#     save_obj(block_to_ts, path)"
   ]
  },
  {
   "cell_type": "code",
   "execution_count": 12,
   "id": "2dd70276-514c-4e4b-8b4f-9c208d79132f",
   "metadata": {},
   "outputs": [],
   "source": [
    "# pool = ThreadPool(processes=16)"
   ]
  },
  {
   "cell_type": "code",
   "execution_count": 20,
   "id": "e0cbcf10-7afd-45c0-b947-311a243aeed4",
   "metadata": {},
   "outputs": [],
   "source": [
    "# results = pool.map(block_to_ts_helper, chunks)"
   ]
  },
  {
   "cell_type": "code",
   "execution_count": 33,
   "id": "8742c501-b2cb-4eeb-b9e1-c4d4ce789f80",
   "metadata": {},
   "outputs": [],
   "source": [
    "# # combine to one dictionary\n",
    "# p='./block_to_ts/'\n",
    "# chunk_files = [f.split('.')[0] for f in listdir(p) if isfile(join(p, f))]\n",
    "# # # # join all dicts together\n",
    "# d = dict()\n",
    "# i=0\n",
    "# for c in chunk_files:\n",
    "#     i+=1\n",
    "#     if i % 100 == 0: print(f'{i}/{len(chunk_files)}')\n",
    "#     d_chunk = load_obj(p+c)\n",
    "#     d.update(d_chunk)\n",
    "# save_obj(d, 'block_to_ts_all_dict')"
   ]
  },
  {
   "cell_type": "code",
   "execution_count": 31,
   "id": "ae0b8af1-f468-4d1e-b3cc-894e3b3b140d",
   "metadata": {},
   "outputs": [],
   "source": [
    "# tmp=load_obj('block_to_ts_all_dict')"
   ]
  },
  {
   "cell_type": "markdown",
   "id": "1ee504e6-e98c-4afb-b874-ad88d2433a07",
   "metadata": {},
   "source": [
    "#### ENS names and their registered address"
   ]
  },
  {
   "cell_type": "code",
   "execution_count": null,
   "id": "2e94f440-2040-4925-b063-4c7b000e37b8",
   "metadata": {},
   "outputs": [],
   "source": [
    "# # load registered names\n",
    "# registration_logs_all_dict = load_obj('registration_logs_all_dict')\n",
    "# registration_logs_all_df = pd.DataFrame.from_dict(registration_logs_all_dict,orient='index')\n",
    "# # format names for the web3 function call\n",
    "# registration_logs_all_df['name_eth']=registration_logs_all_df.apply(lambda x: x['name'] + '.eth',axis=1)\n",
    "# # get and sort the list of names\n",
    "# names = list(registration_logs_all_df.name_eth.values)\n",
    "# names.sort()"
   ]
  },
  {
   "cell_type": "code",
   "execution_count": null,
   "id": "56dd7923-fe2b-469d-afa1-3646639397b8",
   "metadata": {},
   "outputs": [],
   "source": [
    "# # function to get a dict of name:address mappings in chunks\n",
    "# def name_to_address_helper(names):\n",
    "#     name_to_address = dict()\n",
    "#     for name in names:\n",
    "#         attempts = 0\n",
    "#         while attempts < 5:\n",
    "#             try: \n",
    "#                 name_to_address[name] = w3.ens.address(name=name)\n",
    "#                 attempts=6\n",
    "#             except Exception as e:\n",
    "#                 # print(e)\n",
    "#                 name_to_address[name] = None\n",
    "#                 attempts+=1\n",
    "#                 time.sleep(0.5 * attempts) # waits longer after more errors\n",
    "#     path = f'./name_to_address/name_to_address_{round(time.time()*10000)}' # timestamp since names have unusable characters\n",
    "#     save_obj(name_to_address, path)"
   ]
  },
  {
   "cell_type": "code",
   "execution_count": null,
   "id": "3c60615e-af66-4696-9fb2-10f5af68ca8b",
   "metadata": {},
   "outputs": [],
   "source": [
    "# # get block ranges\n",
    "# ranges=[i for i in range(0,len(names),500)]\n",
    "# ranges.append(len(names))\n",
    "# # get list of events to pass in each chunk\n",
    "# chunks = [names[ranges[i]:ranges[i+1]] for i in range(len(ranges)-1)]"
   ]
  },
  {
   "cell_type": "code",
   "execution_count": null,
   "id": "c94d7a5a-f536-4363-ba20-e3ff28dc5028",
   "metadata": {},
   "outputs": [],
   "source": [
    "# pool = ThreadPool(processes=8)\n",
    "# results = pool.map(name_to_address_helper, chunks)"
   ]
  },
  {
   "cell_type": "code",
   "execution_count": 413,
   "id": "85252f97-a5dc-46e9-b410-7a4aba50cc8d",
   "metadata": {},
   "outputs": [],
   "source": [
    "# # TODO: \n",
    "# # Re-run this code after fixing my bug in helper function that only returned 10 results per call instead of 500..\n",
    "\n",
    "# # combine to one dictionary\n",
    "# p='./name_to_address/'\n",
    "# chunk_files = [f.split('.')[0] for f in listdir(p) if isfile(join(p, f))]\n",
    "# # join all dicts together\n",
    "# d = dict()\n",
    "# i=0\n",
    "# for c in chunk_files:\n",
    "#     i+=1\n",
    "#     if i % 100 == 0: print(f'{i}/{len(chunk_files)}')\n",
    "#     d_chunk = load_obj(p+c)\n",
    "#     d.update(d_chunk)\n",
    "# save_obj(d, 'name_to_address_all_dict')"
   ]
  },
  {
   "cell_type": "code",
   "execution_count": 60,
   "id": "4f2fbde2-6413-4ec0-a62c-8e51a4eb7679",
   "metadata": {},
   "outputs": [],
   "source": [
    "# tmp=load_obj('name_to_address_all_dict')"
   ]
  },
  {
   "cell_type": "code",
   "execution_count": 49,
   "id": "dcd8d136-00af-4f62-81a8-b3abcf164e0b",
   "metadata": {},
   "outputs": [],
   "source": [
    "# some checks...\n",
    "# [k for k in tmp.keys() if tmp[k] is None]"
   ]
  },
  {
   "cell_type": "markdown",
   "id": "f6eef90e-854a-447e-b2fc-84279ccc0ac7",
   "metadata": {},
   "source": [
    "#### Renewal Events"
   ]
  },
  {
   "cell_type": "code",
   "execution_count": null,
   "id": "6ca081bd-4016-44b1-a3f2-0962d77eb831",
   "metadata": {},
   "outputs": [],
   "source": [
    "# # # get all NameRenewed logs\n",
    "\n",
    "# # params for getting registration and renewal events\n",
    "# # (run before either of the following blocks)\n",
    "# end_block = w3.eth.block_number\n",
    "# start_block = end_block - 6000 * 365 # get one year assuming roughly 6k blocks/day\n",
    "\n",
    "# # dict keyed by block to make filling in chunks easier\n",
    "# logs_all=list()\n",
    "# block = start_block\n",
    "\n",
    "# while block <= end_block:\n",
    "#     logs_i = ens_nft_contract.events.NameRenewed().getLogs(fromBlock = block - 2000, toBlock = min(block,end_block+2001))\n",
    "#     logs_all+=list(logs_i)\n",
    "#     save_obj(logs_all, 'renewal_logs')\n",
    "#     block+=2001\n",
    "#     if block%100==0:\n",
    "#         print(f'{block}, {block-start_block}/{end_block-start_block} ({(block-start_block)/(end_block-start_block)}% done)')"
   ]
  },
  {
   "cell_type": "code",
   "execution_count": null,
   "id": "da80a511-542e-4bfe-bed2-2ed42a0e5a3d",
   "metadata": {},
   "outputs": [],
   "source": [
    "# process renewal logs, save processed logs\n",
    "# load logs from loop above\n",
    "# renewal_logs=load_obj('renewal_logs')"
   ]
  },
  {
   "cell_type": "code",
   "execution_count": null,
   "id": "4d7e828a-899e-4c49-b4a5-0e534d386abe",
   "metadata": {},
   "outputs": [],
   "source": [
    "# # convert them to a dict\n",
    "\n",
    "# d=dict()\n",
    "# for log in renewal_logs:\n",
    "#     tx_hash = log.transactionHash\n",
    "#     tx_receipt = w3.eth.get_transaction_receipt(tx_hash)\n",
    "#     register_event = ens_registrar_contract.events.NameRenewed().processReceipt(tx_receipt)\n",
    "    \n",
    "#     d[register_event[0]['transactionHash'].hex()] = {\n",
    "#     'blockNumber':register_event[0]['blockNumber'],\n",
    "#     # 'owner': register_event[0]['args']['owner'], # not included in renew events\n",
    "#     'name': register_event[0]['args']['name'],\n",
    "#     'cost': register_event[0]['args']['cost'],\n",
    "#     'expires': register_event[0]['args']['expires']\n",
    "#     }\n",
    "\n",
    "# save_obj(d, 'renewal_logs_dict')"
   ]
  },
  {
   "cell_type": "code",
   "execution_count": null,
   "id": "753b1c90-39d0-40e2-81dc-2b8a40b0f8ea",
   "metadata": {},
   "outputs": [],
   "source": [
    "# load the dict created abve\n",
    "# tmp = load_obj('renewal_logs_dict')"
   ]
  },
  {
   "cell_type": "markdown",
   "id": "de992584-c949-45aa-bb2c-069de923f66a",
   "metadata": {},
   "source": [
    "## Registration & Renwal Analyses"
   ]
  },
  {
   "cell_type": "code",
   "execution_count": 67,
   "id": "26ecf5d9-a219-480f-9336-df9dc6632545",
   "metadata": {},
   "outputs": [],
   "source": [
    "# get block -> timestamp mappings\n",
    "block_to_ts_dict = load_obj('block_to_ts_all_dict')\n",
    "block_to_ts_df = pd.DataFrame.from_dict(block_to_ts_dict,orient='index')\n",
    "\n",
    "# process;\n",
    "block_to_ts_df=block_to_ts_df.rename(columns={0:'ts'}) # rename timestamp column to ts"
   ]
  },
  {
   "cell_type": "code",
   "execution_count": 188,
   "id": "60d0c49b-b943-4118-b908-3df69298a4d4",
   "metadata": {},
   "outputs": [],
   "source": [
    "# get registration logs with columns; \n",
    "# block number | timestamp | transaction | ens name | cost (wei and eth) | expiration timestamp\n",
    "registration_logs_all_dict = load_obj('registration_logs_all_dict')\n",
    "registration_logs_all_df=pd.DataFrame.from_dict(registration_logs_all_dict,orient='index')\n",
    "\n",
    "# process\n",
    "registration_logs_all_df = (registration_logs_all_df\n",
    "                                 .reset_index()\n",
    "                                 .set_index('blockNumber')\n",
    "                                 .join(block_to_ts_df) # get timestamps\n",
    "                                 .reset_index()\n",
    "                                 .rename(columns={'index':'tx','level_0':'block'})\n",
    "                           )\n",
    "registration_logs_all_df['ts_dt']=pd.to_datetime(registration_logs_all_df['ts']*10**9) # convert ts to datetime\n",
    "registration_logs_all_df['expires_dt']=pd.to_datetime(registration_logs_all_df['expires']*10**9) # convert to datetime\n",
    "registration_logs_all_df['cost_eth']=registration_logs_all_df['cost']/10**18 # convert wei -> eth\n",
    "registration_logs_all_df['quarter'] = registration_logs_all_df.ts_dt.apply(lambda x: pd.Timestamp(x)).apply(lambda x: str(x.year)+'-Q'+str(x.quarter))"
   ]
  },
  {
   "cell_type": "code",
   "execution_count": 190,
   "id": "e9fd52dd-d73a-4a93-a7ad-5ecc192537a3",
   "metadata": {},
   "outputs": [],
   "source": [
    "# get renewal logs, same columns as registration logs\n",
    "renewal_logs_dict = load_obj('renewal_logs_dict')\n",
    "renewal_logs_df = pd.DataFrame.from_dict(renewal_logs_dict,orient='index')\n",
    "\n",
    "# process, same as registration logs\n",
    "renewal_logs_df = (renewal_logs_df\n",
    "                                 .reset_index()\n",
    "                                 .set_index('blockNumber')\n",
    "                                 .join(block_to_ts_df) # get timestamps\n",
    "                                 .reset_index()\n",
    "                                 .rename(columns={'index':'tx','level_0':'block'})\n",
    "                           )\n",
    "renewal_logs_df['ts_dt']=pd.to_datetime(renewal_logs_df['ts']*10**9) # convert ts to datetime\n",
    "renewal_logs_df['expires_dt']=pd.to_datetime(renewal_logs_df['expires']*10**9) # convert to datetime\n",
    "renewal_logs_df['cost_eth']=renewal_logs_df['cost']/10**18 # convert wei -> eth\n",
    "renewal_logs_df['quarter'] = renewal_logs_df.ts_dt.apply(lambda x: pd.Timestamp(x)).apply(lambda x: str(x.year)+'-Q'+str(x.quarter))"
   ]
  },
  {
   "cell_type": "code",
   "execution_count": 394,
   "id": "efe0fa50-ba41-4eb2-8f4b-fb03fffc0d17",
   "metadata": {},
   "outputs": [],
   "source": [
    "# get ens name -> registered address mappings\n",
    "name_to_address_all_dict=load_obj('name_to_address_all_dict')\n",
    "name_to_address_all_df = pd.DataFrame.from_dict(name_to_address_all_dict,orient='index')\n",
    "\n",
    "# process;\n",
    "name_to_address_all_df=name_to_address_all_df.rename(columns={0:'address'}) # rename timestamp column to ts"
   ]
  },
  {
   "cell_type": "code",
   "execution_count": 395,
   "id": "60eb748e-1c57-4fa6-aefd-ae9af580006a",
   "metadata": {},
   "outputs": [
    {
     "data": {
      "text/plain": [
       "((366415, 1), 0.9270772211836306)"
      ]
     },
     "execution_count": 395,
     "metadata": {},
     "output_type": "execute_result"
    }
   ],
   "source": [
    "# - names assigned to wallets\n",
    "# 92%, of the 366k I have data on so far, are assigned to a wallet\n",
    "name_to_address_all_df.shape,1-name_to_address_all_df.isna().mean()[0]"
   ]
  },
  {
   "cell_type": "code",
   "execution_count": 187,
   "id": "e47f98e3-8bca-4d43-9cad-411f1296e9c2",
   "metadata": {},
   "outputs": [],
   "source": [
    "# quality check -- price per registered day should be about the same\n",
    "# (registration_logs_all_df.tail().cost_eth.values / [d.days for d in (registration_logs_all_df.tail()['expires_dt'] - registration_logs_all_df.tail()['ts_dt'])]) * 1200 * 365"
   ]
  },
  {
   "cell_type": "code",
   "execution_count": 192,
   "id": "a3a9b277-63cc-47f1-be53-96b6224cdfe1",
   "metadata": {},
   "outputs": [
    {
     "data": {
      "text/plain": [
       "((1712361, 11), 422669)"
      ]
     },
     "execution_count": 192,
     "metadata": {},
     "output_type": "execute_result"
    }
   ],
   "source": [
    "# - names registered (my data vs opensea, expected to be smaller bc of limited timeframe)\n",
    "# - 1.71M names, 422k addresses\n",
    "registration_logs_all_df.shape,registration_logs_all_df.owner.nunique()"
   ]
  },
  {
   "cell_type": "code",
   "execution_count": 263,
   "id": "703035fb-69e6-42e7-aaaa-d16f043a67d6",
   "metadata": {},
   "outputs": [
    {
     "data": {
      "text/html": [
       "<div>\n",
       "<style scoped>\n",
       "    .dataframe tbody tr th:only-of-type {\n",
       "        vertical-align: middle;\n",
       "    }\n",
       "\n",
       "    .dataframe tbody tr th {\n",
       "        vertical-align: top;\n",
       "    }\n",
       "\n",
       "    .dataframe thead th {\n",
       "        text-align: right;\n",
       "    }\n",
       "</style>\n",
       "<table border=\"1\" class=\"dataframe\">\n",
       "  <thead>\n",
       "    <tr style=\"text-align: right;\">\n",
       "      <th></th>\n",
       "      <th>Registering Addresss</th>\n",
       "      <th>Names</th>\n",
       "    </tr>\n",
       "    <tr>\n",
       "      <th>quarter</th>\n",
       "      <th></th>\n",
       "      <th></th>\n",
       "    </tr>\n",
       "  </thead>\n",
       "  <tbody>\n",
       "    <tr>\n",
       "      <th>2021-Q4</th>\n",
       "      <td>115266</td>\n",
       "      <td>206955</td>\n",
       "    </tr>\n",
       "    <tr>\n",
       "      <th>2022-Q1</th>\n",
       "      <td>106581</td>\n",
       "      <td>219317</td>\n",
       "    </tr>\n",
       "    <tr>\n",
       "      <th>2022-Q2</th>\n",
       "      <td>136237</td>\n",
       "      <td>617904</td>\n",
       "    </tr>\n",
       "    <tr>\n",
       "      <th>2022-Q3</th>\n",
       "      <td>138619</td>\n",
       "      <td>668184</td>\n",
       "    </tr>\n",
       "    <tr>\n",
       "      <th>nan-Qnan</th>\n",
       "      <td>1</td>\n",
       "      <td>1</td>\n",
       "    </tr>\n",
       "  </tbody>\n",
       "</table>\n",
       "</div>"
      ],
      "text/plain": [
       "          Registering Addresss   Names\n",
       "quarter                               \n",
       "2021-Q4                 115266  206955\n",
       "2022-Q1                 106581  219317\n",
       "2022-Q2                 136237  617904\n",
       "2022-Q3                 138619  668184\n",
       "nan-Qnan                     1       1"
      ]
     },
     "execution_count": 263,
     "metadata": {},
     "output_type": "execute_result"
    }
   ],
   "source": [
    "# addresses and names that register each quarter\n",
    "(registration_logs_all_df.groupby('quarter')[['owner','name']].nunique()\n",
    ".rename(columns={'owner':'Registering Addresss','name':'Names'}))"
   ]
  },
  {
   "cell_type": "code",
   "execution_count": 242,
   "id": "50302e97-b8d7-48fa-9171-82158040a9d8",
   "metadata": {},
   "outputs": [],
   "source": [
    "# retention -- \n",
    "# get names for which expiration < today\n",
    "# flag those that expire before today (little hacky since renewal data only go up to 9/30)\n",
    "expiration_eligable = registration_logs_all_df.loc[registration_logs_all_df['expires'] < time.time()]"
   ]
  },
  {
   "cell_type": "code",
   "execution_count": 243,
   "id": "cdefb985-57ba-47ac-a2c3-a4761d898899",
   "metadata": {},
   "outputs": [
    {
     "data": {
      "text/plain": [
       "(73389, 11)"
      ]
     },
     "execution_count": 243,
     "metadata": {},
     "output_type": "execute_result"
    }
   ],
   "source": [
    "# 73k need to have been renewed or lost\n",
    "expiration_eligable.shape "
   ]
  },
  {
   "cell_type": "code",
   "execution_count": 244,
   "id": "7007b07d-f1e5-432a-a05d-70d1b833b8a2",
   "metadata": {},
   "outputs": [],
   "source": [
    "eligable_and_renewed = expiration_eligable.set_index('name').merge(renewal_logs_df\n",
    "                                                        ,how='left'\n",
    "                                                        ,left_on='name'\n",
    "                                                        ,right_on='name'\n",
    "                                                        ,suffixes=('','_renewal'))\n",
    "# .join(renewal_logs_df.set_index('name'),rsuffix='_renewal',how='left')\n",
    "eligable_and_renewed['quarter'] = eligable_and_renewed.ts_dt.apply(lambda x: pd.Timestamp(x)).apply(lambda x: str(x.year)+'-Q'+str(x.quarter))"
   ]
  },
  {
   "cell_type": "code",
   "execution_count": 245,
   "id": "dae46ae1-c59e-45ca-a6ab-de6eab179ab7",
   "metadata": {},
   "outputs": [
    {
     "data": {
      "text/plain": [
       "0.21463062877451422"
      ]
     },
     "execution_count": 245,
     "metadata": {},
     "output_type": "execute_result"
    }
   ],
   "source": [
    "# 21.4% renewal rate for expiring names overall\n",
    "1-eligable_and_renewed['tx_renewal'].isna().mean()"
   ]
  },
  {
   "cell_type": "code",
   "execution_count": 246,
   "id": "d747e02b-d081-40f6-9427-93dccf0a9e7e",
   "metadata": {},
   "outputs": [
    {
     "data": {
      "text/html": [
       "<div>\n",
       "<style scoped>\n",
       "    .dataframe tbody tr th:only-of-type {\n",
       "        vertical-align: middle;\n",
       "    }\n",
       "\n",
       "    .dataframe tbody tr th {\n",
       "        vertical-align: top;\n",
       "    }\n",
       "\n",
       "    .dataframe thead th {\n",
       "        text-align: right;\n",
       "    }\n",
       "</style>\n",
       "<table border=\"1\" class=\"dataframe\">\n",
       "  <thead>\n",
       "    <tr style=\"text-align: right;\">\n",
       "      <th></th>\n",
       "      <th>tx_renewal</th>\n",
       "    </tr>\n",
       "    <tr>\n",
       "      <th>quarter</th>\n",
       "      <th></th>\n",
       "    </tr>\n",
       "  </thead>\n",
       "  <tbody>\n",
       "    <tr>\n",
       "      <th>2021-Q4</th>\n",
       "      <td>0.323232</td>\n",
       "    </tr>\n",
       "    <tr>\n",
       "      <th>2022-Q1</th>\n",
       "      <td>0.741379</td>\n",
       "    </tr>\n",
       "    <tr>\n",
       "      <th>2022-Q2</th>\n",
       "      <td>0.346364</td>\n",
       "    </tr>\n",
       "    <tr>\n",
       "      <th>2022-Q3</th>\n",
       "      <td>0.091239</td>\n",
       "    </tr>\n",
       "  </tbody>\n",
       "</table>\n",
       "</div>"
      ],
      "text/plain": [
       "         tx_renewal\n",
       "quarter            \n",
       "2021-Q4    0.323232\n",
       "2022-Q1    0.741379\n",
       "2022-Q2    0.346364\n",
       "2022-Q3    0.091239"
      ]
     },
     "execution_count": 246,
     "metadata": {},
     "output_type": "execute_result"
    }
   ],
   "source": [
    "# quarter brakdown;\n",
    "# It's strange that so many Q2/Q3 registrations are already expired...\n",
    "# TODO: check time until renewal or renewal rates based on registratiion duration?\n",
    "1-eligable_and_renewed.groupby('quarter')['tx_renewal'].apply(lambda x: x.isna().mean()).to_frame()"
   ]
  },
  {
   "cell_type": "code",
   "execution_count": 247,
   "id": "84fd2d6d-851e-4fff-91c2-dd973c37ccdd",
   "metadata": {},
   "outputs": [
    {
     "data": {
      "text/html": [
       "<div>\n",
       "<style scoped>\n",
       "    .dataframe tbody tr th:only-of-type {\n",
       "        vertical-align: middle;\n",
       "    }\n",
       "\n",
       "    .dataframe tbody tr th {\n",
       "        vertical-align: top;\n",
       "    }\n",
       "\n",
       "    .dataframe thead th {\n",
       "        text-align: right;\n",
       "    }\n",
       "</style>\n",
       "<table border=\"1\" class=\"dataframe\">\n",
       "  <thead>\n",
       "    <tr style=\"text-align: right;\">\n",
       "      <th></th>\n",
       "      <th>tx</th>\n",
       "      <th>tx_renewal</th>\n",
       "    </tr>\n",
       "    <tr>\n",
       "      <th>quarter</th>\n",
       "      <th></th>\n",
       "      <th></th>\n",
       "    </tr>\n",
       "  </thead>\n",
       "  <tbody>\n",
       "    <tr>\n",
       "      <th>2021-Q4</th>\n",
       "      <td>99</td>\n",
       "      <td>32</td>\n",
       "    </tr>\n",
       "    <tr>\n",
       "      <th>2022-Q1</th>\n",
       "      <td>58</td>\n",
       "      <td>43</td>\n",
       "    </tr>\n",
       "    <tr>\n",
       "      <th>2022-Q2</th>\n",
       "      <td>37322</td>\n",
       "      <td>12927</td>\n",
       "    </tr>\n",
       "    <tr>\n",
       "      <th>2022-Q3</th>\n",
       "      <td>40180</td>\n",
       "      <td>3666</td>\n",
       "    </tr>\n",
       "  </tbody>\n",
       "</table>\n",
       "</div>"
      ],
      "text/plain": [
       "            tx  tx_renewal\n",
       "quarter                   \n",
       "2021-Q4     99          32\n",
       "2022-Q1     58          43\n",
       "2022-Q2  37322       12927\n",
       "2022-Q3  40180        3666"
      ]
     },
     "execution_count": 247,
     "metadata": {},
     "output_type": "execute_result"
    }
   ],
   "source": [
    "eligable_and_renewed.groupby('quarter')[['tx','tx_renewal']].count()"
   ]
  },
  {
   "cell_type": "code",
   "execution_count": 248,
   "id": "d46c822e-0f67-42f2-96a4-8f29e656adea",
   "metadata": {},
   "outputs": [],
   "source": [
    "registered_and_renewed = registration_logs_all_df.merge(renewal_logs_df\n",
    "                                                        ,how='left'\n",
    "                                                        ,left_on='name'\n",
    "                                                        ,right_on='name'\n",
    "                                                        ,suffixes=('','_renewal'))\n",
    "registered_and_renewed['would_expire'] = registered_and_renewed.expires < time.time()"
   ]
  },
  {
   "cell_type": "code",
   "execution_count": 288,
   "id": "0146407b-1102-4313-972d-cbe3e8e47f04",
   "metadata": {},
   "outputs": [],
   "source": [
    "# # check for dupes -- didn't see any\n",
    "# tmp=registered_and_renewed[['quarter','would_expire','tx','tx_renewal']]\n",
    "# tmp.shape,tmp.drop_duplicates().shape"
   ]
  },
  {
   "cell_type": "code",
   "execution_count": 398,
   "id": "34489ff2-6bac-4535-a0f9-5a2001edac92",
   "metadata": {},
   "outputs": [
    {
     "data": {
      "text/html": [
       "<div>\n",
       "<style scoped>\n",
       "    .dataframe tbody tr th:only-of-type {\n",
       "        vertical-align: middle;\n",
       "    }\n",
       "\n",
       "    .dataframe tbody tr th {\n",
       "        vertical-align: top;\n",
       "    }\n",
       "\n",
       "    .dataframe thead th {\n",
       "        text-align: right;\n",
       "    }\n",
       "</style>\n",
       "<table border=\"1\" class=\"dataframe\">\n",
       "  <thead>\n",
       "    <tr style=\"text-align: right;\">\n",
       "      <th></th>\n",
       "      <th></th>\n",
       "      <th>Number of Registration Tx</th>\n",
       "      <th>Number of Renewal Tx</th>\n",
       "      <th>%</th>\n",
       "    </tr>\n",
       "    <tr>\n",
       "      <th>Registration Quarter</th>\n",
       "      <th>Would Expire by 10/4</th>\n",
       "      <th></th>\n",
       "      <th></th>\n",
       "      <th></th>\n",
       "    </tr>\n",
       "  </thead>\n",
       "  <tbody>\n",
       "    <tr>\n",
       "      <th rowspan=\"2\" valign=\"top\">2021-Q4</th>\n",
       "      <th>False</th>\n",
       "      <td>207120</td>\n",
       "      <td>5123</td>\n",
       "      <td>2.473445</td>\n",
       "    </tr>\n",
       "    <tr>\n",
       "      <th>True</th>\n",
       "      <td>99</td>\n",
       "      <td>32</td>\n",
       "      <td>32.323232</td>\n",
       "    </tr>\n",
       "    <tr>\n",
       "      <th rowspan=\"2\" valign=\"top\">2022-Q1</th>\n",
       "      <th>False</th>\n",
       "      <td>219448</td>\n",
       "      <td>2704</td>\n",
       "      <td>1.232183</td>\n",
       "    </tr>\n",
       "    <tr>\n",
       "      <th>True</th>\n",
       "      <td>58</td>\n",
       "      <td>43</td>\n",
       "      <td>74.137931</td>\n",
       "    </tr>\n",
       "    <tr>\n",
       "      <th rowspan=\"2\" valign=\"top\">2022-Q2</th>\n",
       "      <th>False</th>\n",
       "      <td>584966</td>\n",
       "      <td>6606</td>\n",
       "      <td>1.129296</td>\n",
       "    </tr>\n",
       "    <tr>\n",
       "      <th>True</th>\n",
       "      <td>37322</td>\n",
       "      <td>12927</td>\n",
       "      <td>34.636407</td>\n",
       "    </tr>\n",
       "    <tr>\n",
       "      <th rowspan=\"2\" valign=\"top\">2022-Q3</th>\n",
       "      <th>False</th>\n",
       "      <td>628768</td>\n",
       "      <td>4064</td>\n",
       "      <td>0.646343</td>\n",
       "    </tr>\n",
       "    <tr>\n",
       "      <th>True</th>\n",
       "      <td>40180</td>\n",
       "      <td>3666</td>\n",
       "      <td>9.123942</td>\n",
       "    </tr>\n",
       "    <tr>\n",
       "      <th>nan-Qnan</th>\n",
       "      <th>False</th>\n",
       "      <td>1</td>\n",
       "      <td>0</td>\n",
       "      <td>0.000000</td>\n",
       "    </tr>\n",
       "  </tbody>\n",
       "</table>\n",
       "</div>"
      ],
      "text/plain": [
       "                                           Number of Registration Tx  \\\n",
       "Registration Quarter Would Expire by 10/4                              \n",
       "2021-Q4              False                                    207120   \n",
       "                     True                                         99   \n",
       "2022-Q1              False                                    219448   \n",
       "                     True                                         58   \n",
       "2022-Q2              False                                    584966   \n",
       "                     True                                      37322   \n",
       "2022-Q3              False                                    628768   \n",
       "                     True                                      40180   \n",
       "nan-Qnan             False                                         1   \n",
       "\n",
       "                                           Number of Renewal Tx          %  \n",
       "Registration Quarter Would Expire by 10/4                                   \n",
       "2021-Q4              False                                 5123   2.473445  \n",
       "                     True                                    32  32.323232  \n",
       "2022-Q1              False                                 2704   1.232183  \n",
       "                     True                                    43  74.137931  \n",
       "2022-Q2              False                                 6606   1.129296  \n",
       "                     True                                 12927  34.636407  \n",
       "2022-Q3              False                                 4064   0.646343  \n",
       "                     True                                  3666   9.123942  \n",
       "nan-Qnan             False                                    0   0.000000  "
      ]
     },
     "execution_count": 398,
     "metadata": {},
     "output_type": "execute_result"
    }
   ],
   "source": [
    "# early renewal rates ~1-2.5%, renewal rates ~32-34%\n",
    "# WARNING: could dupe/overcount cases like a registration with multiple renewals in a short period of time\n",
    "t1=registered_and_renewed.groupby(['quarter','would_expire'])[['tx','tx_renewal']].count()\n",
    "t2=100-registered_and_renewed.groupby(['quarter','would_expire'])[['tx','tx_renewal']].apply(lambda x: x.isna().mean().multiply(100))\n",
    "\n",
    "# combine and format;\n",
    "(t1.join(t2[['tx_renewal']]\n",
    "         .rename(columns={'tx_renewal':'%'}))\n",
    " .reset_index()\n",
    " .rename(columns={'tx':'Number of Registration Tx'\n",
    "                 ,'tx_renewal':'Number of Renewal Tx'\n",
    "                 ,'would_expire':'Would Expire by 10/4'\n",
    "                 ,'quarter':'Registration Quarter'}\n",
    "        )\n",
    " .set_index(['Registration Quarter','Would Expire by 10/4'])\n",
    ")"
   ]
  },
  {
   "cell_type": "code",
   "execution_count": 401,
   "id": "42a558ff-7021-478f-b579-c3e650ca40a7",
   "metadata": {},
   "outputs": [
    {
     "data": {
      "text/html": [
       "<div>\n",
       "<style scoped>\n",
       "    .dataframe tbody tr th:only-of-type {\n",
       "        vertical-align: middle;\n",
       "    }\n",
       "\n",
       "    .dataframe tbody tr th {\n",
       "        vertical-align: top;\n",
       "    }\n",
       "\n",
       "    .dataframe thead th {\n",
       "        text-align: right;\n",
       "    }\n",
       "</style>\n",
       "<table border=\"1\" class=\"dataframe\">\n",
       "  <thead>\n",
       "    <tr style=\"text-align: right;\">\n",
       "      <th></th>\n",
       "      <th>Registration Revenue (ETH)</th>\n",
       "      <th>Renewal Revenue (ETH)</th>\n",
       "      <th>Total</th>\n",
       "      <th>% from Renewals</th>\n",
       "    </tr>\n",
       "    <tr>\n",
       "      <th>quarter</th>\n",
       "      <th></th>\n",
       "      <th></th>\n",
       "      <th></th>\n",
       "      <th></th>\n",
       "    </tr>\n",
       "  </thead>\n",
       "  <tbody>\n",
       "    <tr>\n",
       "      <th>2021-Q4</th>\n",
       "      <td>3064.585918</td>\n",
       "      <td>173.475188</td>\n",
       "      <td>3238.061106</td>\n",
       "      <td>5.357378</td>\n",
       "    </tr>\n",
       "    <tr>\n",
       "      <th>2022-Q1</th>\n",
       "      <td>3405.732260</td>\n",
       "      <td>278.100785</td>\n",
       "      <td>3683.833045</td>\n",
       "      <td>7.549223</td>\n",
       "    </tr>\n",
       "    <tr>\n",
       "      <th>2022-Q2</th>\n",
       "      <td>7798.914873</td>\n",
       "      <td>755.204066</td>\n",
       "      <td>8554.118939</td>\n",
       "      <td>8.828543</td>\n",
       "    </tr>\n",
       "    <tr>\n",
       "      <th>2022-Q3</th>\n",
       "      <td>8046.617231</td>\n",
       "      <td>1557.822345</td>\n",
       "      <td>9604.439576</td>\n",
       "      <td>16.219815</td>\n",
       "    </tr>\n",
       "    <tr>\n",
       "      <th>nan-Qnan</th>\n",
       "      <td>0.011271</td>\n",
       "      <td>0.128217</td>\n",
       "      <td>0.139488</td>\n",
       "      <td>91.919918</td>\n",
       "    </tr>\n",
       "  </tbody>\n",
       "</table>\n",
       "</div>"
      ],
      "text/plain": [
       "          Registration Revenue (ETH)  Renewal Revenue (ETH)        Total  \\\n",
       "quarter                                                                    \n",
       "2021-Q4                  3064.585918             173.475188  3238.061106   \n",
       "2022-Q1                  3405.732260             278.100785  3683.833045   \n",
       "2022-Q2                  7798.914873             755.204066  8554.118939   \n",
       "2022-Q3                  8046.617231            1557.822345  9604.439576   \n",
       "nan-Qnan                    0.011271               0.128217     0.139488   \n",
       "\n",
       "          % from Renewals  \n",
       "quarter                    \n",
       "2021-Q4          5.357378  \n",
       "2022-Q1          7.549223  \n",
       "2022-Q2          8.828543  \n",
       "2022-Q3         16.219815  \n",
       "nan-Qnan        91.919918  "
      ]
     },
     "execution_count": 401,
     "metadata": {},
     "output_type": "execute_result"
    }
   ],
   "source": [
    "# - Get revenue by registration vs renewal from web3\n",
    "t1=registration_logs_all_df.groupby('quarter')['cost_eth'].sum().to_frame()\n",
    "t2=renewal_logs_df.groupby('quarter')['cost_eth'].sum().to_frame()\n",
    "\n",
    "t=t1.join(t2.rename(columns={'cost_eth':'Renewal Revenue (ETH)'})).rename(columns={'cost_eth':'Registration Revenue (ETH)'})\n",
    "t['Total'] = t['Renewal Revenue (ETH)']+t['Registration Revenue (ETH)']\n",
    "t['% from Renewals'] = t['Renewal Revenue (ETH)']/t['Total']*100\n",
    "t"
   ]
  },
  {
   "cell_type": "code",
   "execution_count": null,
   "id": "ba3d5cca-27fd-467f-a206-24c22d9af1a4",
   "metadata": {},
   "outputs": [],
   "source": [
    "# - share of active wallets with ens names (above number / active wallets from a public dashboard)\n",
    "# 422k registrations / acive wallets?\n",
    "# how is active defined? need to apply definition of 'active' to the 422k ens wallets"
   ]
  },
  {
   "cell_type": "code",
   "execution_count": null,
   "id": "451ddada-6c64-49cf-802a-3fe0f7f70b25",
   "metadata": {},
   "outputs": [],
   "source": [
    "# P0\n",
    "\n",
    "# - names registered (my data vs opensea, explain missing data)\n",
    "# - names assigned to wallets (using w3.ens)\n",
    "# - share of active wallets with ens names (above number / active wallets from a public dashboard)\n",
    "# - renewal rates (renewed addresses / addresses with current time > expiration of registration event)\n",
    "# - Get revenue by registration vs renewal from web3\n",
    "\n",
    "# - retention rates?\n",
    "# \n",
    "\n",
    "# TODO: split this into its own notebook\n",
    "# names registered\n",
    "# registering wallets\n",
    "# "
   ]
  },
  {
   "cell_type": "code",
   "execution_count": 36,
   "id": "26a9c968-5ee7-45fc-9be6-691028c67c97",
   "metadata": {},
   "outputs": [],
   "source": [
    "# TODO;\n",
    "# -- payments for each\n",
    "# -- registration durations over time (expiration ts - ts of transaction)\n",
    "# -- other protocol revenue metrics in prompt..."
   ]
  },
  {
   "cell_type": "markdown",
   "id": "e4fdd824-8180-42f6-aef5-fdade9986ee9",
   "metadata": {},
   "source": [
    "# Use Alchemy for NFT transaction and holder data"
   ]
  },
  {
   "cell_type": "code",
   "execution_count": 13,
   "id": "7c428851-fed1-46d2-9a4a-149cd1f79108",
   "metadata": {},
   "outputs": [],
   "source": [
    "# TODO: \n",
    "# check each alchamey function...\n",
    "\n",
    "# - change token balances to=true? and see what is returned?\n",
    "\n",
    "# - write function for getNFTsForCollection\n",
    "# - process output of getNFTsForCollection\n",
    "\n",
    "\n",
    "# revenue and income projections.. \n",
    "# revenue data from alchamey & knoeledge of registration costs;\n",
    "# name_length, registration date, & expiration date can be used to estimate future revenue?\n",
    "# assuming everyone re-registers at the same prices for the same duration ; \n",
    "# revenue = annual price|name_langth * (expiration date - registration date) in years\n",
    "\n",
    "# estimate\n",
    "# - new users / new registrations & project this with a regression model?\n",
    "# - historical re-registration rate\n",
    "# - quarterly profits from registrations, & from re-registrations?\n"
   ]
  },
  {
   "cell_type": "code",
   "execution_count": 14,
   "id": "be4c33e8-dc94-4039-9746-b90ce95caa81",
   "metadata": {},
   "outputs": [],
   "source": [
    "# Alchamey requests api;\n",
    "\n",
    "base_url = f\"https://eth-mainnet.g.alchemy.com/nft/v2/{apiKey}\"\n",
    "\n",
    "# collection -> owners & owned tokens\n",
    "def getOwnersForCollection():\n",
    "    # docs: https://docs.alchemy.com/reference/getownersforcollection\n",
    "    # first page\n",
    "    first_page_url = base_url+ f\"/getOwnersForCollection?contractAddress={ens_nft_address}&withTokenBalances=true\"\n",
    "    headers = {\"accept\": \"application/json\"}\n",
    "    response = requests.get(first_page_url, headers=headers) \n",
    "\n",
    "    # response.json()['ownerAddresses'] is a list with len() usually around 50k\n",
    "    owner_addresses_page = response.json()['ownerAddresses']\n",
    "    owner_addresses_all = owner_addresses_page\n",
    "\n",
    "    # subsequent pages (todo:add more conditions avoid infinite loops)\n",
    "    while True:\n",
    "        page_key_old = response.json()['pageKey']\n",
    "        next_page_url = first_page_url + f\"&pageKey={page_key_old}\"\n",
    "        response = requests.get(next_page_url, headers=headers) \n",
    "        owner_addresses_page = response.json()['ownerAddresses']\n",
    "        owner_addresses_all+=owner_addresses_page\n",
    "        print(len(owner_addresses_all),page_key_old) # feedback to monitor\n",
    "        if 'pageKey' not in response.json():\n",
    "            print('no more page keys')\n",
    "            return owner_addresses_all\n",
    "\n",
    "# owner -> NFTs owned\n",
    "# https://docs.alchemy.com/reference/getnfts\n",
    "def getNFTs(owner):\n",
    "    first_page_url = base_url + f\"/getNFTs?owner={owner}&contractAddresses[]={ens_nft_address}&withMetadata=true\"\n",
    "    headers = {\"accept\": \"application/json\"}\n",
    "    response = requests.get(first_page_url, headers=headers)\n",
    "    response_json = response.json()\n",
    "\n",
    "    owner_nfts_all = response_json['ownedNfts']\n",
    "    while len(owner_nfts_all) < response_json['totalCount']:\n",
    "            page_key = response_json['pageKey']\n",
    "            next_page_url = first_page_url + f\"&pageKey={page_key}\"\n",
    "            response = requests.get(next_page_url, headers=headers) # introduces dupes bc of page size being 100, need to dedupe later\n",
    "            response_json=response.json()\n",
    "            owner_nfts_all += response_json['ownedNfts']\n",
    "            print(f\"{len(owner_nfts_all)} / {response_json['totalCount']}\",page_key) # feedback to monitor\n",
    "\n",
    "    return owner_nfts_all # may have dupes -- could dedupe by processing into a dict keyed by tokenId\n",
    "\n",
    "def process_nft_list(nft_list):\n",
    "    nfts_df = pd.DataFrame()\n",
    "    for nft in nft_list:\n",
    "        if 'metadata' in nft.keys():\n",
    "            if 'attributes' in nft['metadata'].keys():\n",
    "                if nft['metadata']['attributes']:\n",
    "                    tmp_df=pd.DataFrame(nft['metadata']['attributes']).set_index('trait_type')\n",
    "                    tmp_df=tmp_df.T.loc[['value']] # transpose for easier formatting\n",
    "                else: tmp_df=pd.DataFrame()\n",
    "            else: tmp_df=pd.DataFrame()\n",
    "        else: tmp_df=pd.DataFrame()\n",
    "\n",
    "        if 'title' in nft.keys(): \n",
    "            tmp_df['title'] = nft['title']\n",
    "        else: tmp_df['title'] = None\n",
    "\n",
    "        if 'id' in nft.keys():\n",
    "            if 'tokenId' in nft['id'].keys():\n",
    "                tmp_df['id'] = nft['id']['tokenId']\n",
    "        else: tmp_df['id'] = None\n",
    "\n",
    "        # if 'owner' in nft.keys():\n",
    "        #     tmp_df['owner']=owner\n",
    "        # else: tmp_df['owner']=owner\n",
    "\n",
    "        nfts_df=nfts_df.append(tmp_df)\n",
    "\n",
    "    nfts_df=nfts_df.drop_duplicates()\n",
    "    return nfts_df\n",
    "\n",
    "# process the list of nfts with metadata and dupes\n",
    "\n",
    "# collection -> NFT info\n",
    "# https://docs.alchemy.com/reference/getnftsforcollection\n",
    "# skipped bc relevant info was returned by getNFTs\n",
    "# # getNFTsForCollection\n",
    "# url = f\"https://eth-mainnet.g.alchemy.com/nft/v2/{apiKey}/getNFTsForCollection?contractAddress={ens_nft_address}&withMetadata=true\"\n",
    "# headers = {\"accept\": \"application/json\"}\n",
    "# response = requests.get(url, headers=headers)\n",
    "\n",
    "# NFT sales\n",
    "# https://docs.alchemy.com/reference/getnftsales\n"
   ]
  },
  {
   "cell_type": "markdown",
   "id": "7801b3d9-b960-4330-b201-e5f483360cec",
   "metadata": {},
   "source": [
    "## Owners and domains owned"
   ]
  },
  {
   "cell_type": "markdown",
   "id": "150c7270-9fb6-4f10-8435-36c5ee6e437c",
   "metadata": {},
   "source": [
    "## Method 1: owners -> NFTs -> metadata"
   ]
  },
  {
   "cell_type": "markdown",
   "id": "cd5002b6-d386-4b26-9243-ad6121cc7d60",
   "metadata": {},
   "source": [
    "### Get owners"
   ]
  },
  {
   "cell_type": "code",
   "execution_count": 407,
   "id": "cfe49f38-1188-4ba0-8838-ea7135b917d3",
   "metadata": {},
   "outputs": [],
   "source": [
    "# # get owners\n",
    "# owner_addresses_all = getOwnersForCollection()"
   ]
  },
  {
   "cell_type": "code",
   "execution_count": 408,
   "id": "bfa81913-0321-4e0a-b856-a67acc6c4a50",
   "metadata": {},
   "outputs": [],
   "source": [
    "# # efficiently process info into a long data frame;\n",
    "# # step 1) convert to a dict with key:owner id, value: list of owned nfts\n",
    "# all_dict = dict()\n",
    "# i=-1\n",
    "# for owner in owner_addresses_all:\n",
    "#     i+=1\n",
    "#     if i%100000==0: print(f'{i}/{len(owner_addresses_all)}')\n",
    "#     all_dict[owner['ownerAddress']] = [[i['tokenId'] for i in owner['tokenBalances']]]\n",
    "# print('done.')"
   ]
  },
  {
   "cell_type": "code",
   "execution_count": 409,
   "id": "be7ae8ce-c4aa-45ac-996f-59e9bb5c94e0",
   "metadata": {},
   "outputs": [],
   "source": [
    "#  len(all_dict.keys()) # verify number of owner addresses"
   ]
  },
  {
   "cell_type": "code",
   "execution_count": 410,
   "id": "984e403f-9668-4e64-84d3-ebe49d59088d",
   "metadata": {},
   "outputs": [],
   "source": [
    "# # step 2) convert dict of lists into a df of lists\n",
    "# tmp=pd.DataFrame.from_dict(all_dict,orient='index',columns=['nft_ids'])\n",
    "# # step 3) explode the lists into rows for each (owner,nft id) pair, rename index coluumn\n",
    "# tmp=tmp.explode('nft_ids').reset_index().rename(columns={'index':'address_owner'})\n",
    "# # save for later usage\n",
    "# tmp.to_pickle(path = '/Users/macstrelioff/Documents/git/crypto_public/ENS NFT analyses/owners_and_owned_nft_ids_df')"
   ]
  },
  {
   "cell_type": "code",
   "execution_count": 411,
   "id": "9a853223-e060-47b5-b676-a8cde4967a17",
   "metadata": {},
   "outputs": [],
   "source": [
    "# # load the saved result instead of re-running code above\n",
    "# owners_and_owned_nft_ids_df = pd.read_pickle('owners_and_owned_nft_ids_df')"
   ]
  },
  {
   "cell_type": "code",
   "execution_count": 412,
   "id": "20e99011-f0d4-495e-bd39-5f6f46119ae7",
   "metadata": {},
   "outputs": [],
   "source": [
    "# # some check number of nfts and owners\n",
    "# owners_and_owned_nft_ids_df.shape,owners_and_owned_nft_ids_df.address_owner.nunique()"
   ]
  },
  {
   "cell_type": "markdown",
   "id": "ac5b5306-963f-4e8a-b61a-5d3e0d2359fb",
   "metadata": {},
   "source": [
    "### Get nfts by collection id (to be matched to owners later)"
   ]
  },
  {
   "cell_type": "code",
   "execution_count": 48,
   "id": "fcc07127-f1a7-41fb-be30-142b87081098",
   "metadata": {},
   "outputs": [],
   "source": [
    "# # for getting metadata on all nfts in the collection\n",
    "\n",
    "# first_page_url = base_url + f\"/getNFTsForCollection?contractAddress={ens_nft_address}&withMetadata=true\"\n",
    "# headers = {\"accept\": \"application/json\"}\n",
    "# response = requests.get(first_page_url, headers=headers)\n",
    "# nfts_page = response.json()['nfts']\n",
    "\n",
    "# nfts_all = nfts_page\n",
    "\n",
    "# # for pagniation \n",
    "# i=-1"
   ]
  },
  {
   "cell_type": "code",
   "execution_count": 62,
   "id": "2786f6f6-7a83-4dbd-920e-39628c65d47a",
   "metadata": {},
   "outputs": [],
   "source": [
    "# startToken = nfts_all[-1]['id']['tokenId']"
   ]
  },
  {
   "cell_type": "code",
   "execution_count": 406,
   "id": "f7e82059-df22-4707-90e7-182f744facf1",
   "metadata": {},
   "outputs": [],
   "source": [
    "# len(nfts_all)"
   ]
  },
  {
   "cell_type": "code",
   "execution_count": 405,
   "id": "ce128b17-397a-4ba5-bf29-dcf7859ddf7c",
   "metadata": {},
   "outputs": [],
   "source": [
    "# errors = 0\n",
    "# while True:\n",
    "#     i+=1\n",
    "#     if len(nfts_all)%1000==0 or i%10==0: \n",
    "#         save_obj(nfts_all, 'nfts_all')\n",
    "#         print(f'{i} ({errors} errors), {len(nfts_all)}, {len(nfts_page)}, aprox. {len(nfts_all)/2546310*100}% done, {startToken}') # feedback to monitor\n",
    "#         errors=0\n",
    "#     startToken = nfts_all[-1]['id']['tokenId'] # response.json()['nextToken']\n",
    "#     next_page_url = first_page_url + f\"&startToken={startToken}\"\n",
    "#     response = requests.get(next_page_url, headers=headers) \n",
    "#     if response.status_code != 200: \n",
    "#         errors+=1\n",
    "#         time.sleep(0.5) # pause and try again\n",
    "#         continue # try again if status cod isnt 200\n",
    "#     nfts_page = response.json()['nfts']\n",
    "#     nfts_all+=nfts_page\n",
    "#     if 'nextToken' not in response.json():\n",
    "#         print('no more page keys')\n",
    "#         # return nfts_all"
   ]
  },
  {
   "cell_type": "markdown",
   "id": "cb5c53bd-c0d2-4305-8ea0-1529c80bcf4b",
   "metadata": {},
   "source": [
    "### join owners and nft ids to nft metadata kyed by nft id"
   ]
  },
  {
   "cell_type": "code",
   "execution_count": null,
   "id": "f6caabc4-f76f-4b79-82a3-ff1f481c049d",
   "metadata": {},
   "outputs": [],
   "source": []
  },
  {
   "cell_type": "markdown",
   "id": "bc1bb467-bf8c-40df-a27f-58e99fac9c73",
   "metadata": {},
   "source": [
    "## Method 2: Directly get owners and NFTs owned"
   ]
  },
  {
   "cell_type": "code",
   "execution_count": null,
   "id": "6dc48d80-980d-4461-a967-94cb1be758d2",
   "metadata": {},
   "outputs": [],
   "source": [
    "# # get all owner addresses\n",
    "# owner_addresses_all = getOwnersForCollection()"
   ]
  },
  {
   "cell_type": "code",
   "execution_count": null,
   "id": "d23e80cc-7eb1-47af-ab70-9ca857bb3171",
   "metadata": {},
   "outputs": [],
   "source": [
    "# # check number of owners\n",
    "# len(owner_addresses_all) # = 554110, vs 554080 on etherscan https://etherscan.io/token/0x57f1887a8bf19b14fc0df6fd9b2acc9af147ea85#balances"
   ]
  },
  {
   "cell_type": "code",
   "execution_count": null,
   "id": "3e2fdad5-956f-4d70-b0dd-231d74af23d9",
   "metadata": {},
   "outputs": [],
   "source": [
    "# # function for parallelizing\n",
    "# def get_nft_lists(chunk):\n",
    "#     t1=time.time()\n",
    "#     i=0\n",
    "#     for owner_address in chunk:\n",
    "#         i+=1\n",
    "#         if owner_address == '0x000000000000000000000000000000000000dead': continue # skip dead address\n",
    "#         attempts = 0\n",
    "#         while attempts<3:\n",
    "#             try:\n",
    "#                 nft_list = getNFTs(owner_address)\n",
    "#                 path = f'owner_nfts_dicts/nfts_owned_by_{owner_address}'\n",
    "#                 save_obj(nft_list, path)\n",
    "#                 attempts=4 # just to exit the loop\n",
    "#             except: \n",
    "#                 time.sleep(.5)\n",
    "#                 print(f'error with: {owner_address}, attempt: {attempts}')\n",
    "#                 attempts+=1\n",
    "#     print(f'chunk done in {time.time()-t1}')\n",
    "#     return path"
   ]
  },
  {
   "cell_type": "code",
   "execution_count": null,
   "id": "56cec096-0a7b-4c98-bc53-ae2138d96de8",
   "metadata": {},
   "outputs": [],
   "source": [
    "# # left off around 67000\n",
    "# ranges=[i for i in range(0,int(len(owner_addresses_all)),int(round(len(owner_addresses_all)/5550)))]\n",
    "# ranges.append(len(owner_addresses_all))\n",
    "\n",
    "# # get list of events to pass in each chunk\n",
    "# chunks = [owner_addresses_all[ranges[i]:ranges[i+1]] for i in range(len(ranges)-1)]\n"
   ]
  },
  {
   "cell_type": "code",
   "execution_count": null,
   "id": "ca17f17b-dee2-4a87-b1f6-0561091b774a",
   "metadata": {},
   "outputs": [],
   "source": [
    "# pool = ThreadPool()"
   ]
  },
  {
   "cell_type": "code",
   "execution_count": null,
   "id": "e2f21954-7d72-4197-956c-df44af13ad28",
   "metadata": {},
   "outputs": [],
   "source": [
    "# results = pool.map(get_nft_lists, chunks)"
   ]
  },
  {
   "cell_type": "code",
   "execution_count": null,
   "id": "907111b1-1458-4699-9e5c-1caed2011fe4",
   "metadata": {},
   "outputs": [],
   "source": [
    "# # get all nfts owned by each owner & format into a pandas df\n",
    "# # df = pd.DataFrame()\n",
    "# df = pd.read_pickle('owners_and_their_nfts') # to start where this left off...\n",
    "# # i = 0\n",
    "# # i=12000 # last printed id\n",
    "# i=62096"
   ]
  },
  {
   "cell_type": "code",
   "execution_count": null,
   "id": "56dd3a34-91f2-4258-8b6f-b07be1edf882",
   "metadata": {},
   "outputs": [],
   "source": [
    "# # old, unparallel way\n",
    "# # TODO: \n",
    "# # - import pickle, \n",
    "# # - save df so it can be accessed quickly later\n",
    "\n",
    "# # - for faster loop, save each wallet's df, then later concatinate them all.\n",
    "\n",
    "# while i <= len(owner_addresses_all): # looping over indecies makes it easier to continue where i left off if there is an error\n",
    "#     owner_address = owner_addresses_all[i]\n",
    "#     if i%500 == 0: \n",
    "#         df.to_pickle(path = '/Users/macstrelioff/Documents/git/crypto_public/ENS NFT analyses/owners_and_their_nfts')\n",
    "#         print(f'{i} / {len(owner_addresses_all)}')\n",
    "#     if owner_address == '0x000000000000000000000000000000000000dead': continue # skip dead address\n",
    "#     try:\n",
    "#         nft_list = getNFTs(owner_address)\n",
    "#         nft_df = process_nft_list(nft_list) # dead address gave error\n",
    "#     except: \n",
    "#         nft_df = pd.DataFrame()\n",
    "#     nft_df['owner']=owner_address\n",
    "#     df=df.append(nft_df)\n",
    "#     i+=1\n",
    "#     df=df.drop_duplicates()\n"
   ]
  },
  {
   "cell_type": "markdown",
   "id": "544187ed-68f8-44e6-88d8-2dd0127347d7",
   "metadata": {},
   "source": [
    "### Analyses of owned ENS NFTs"
   ]
  },
  {
   "cell_type": "code",
   "execution_count": 7,
   "id": "310ba127-e142-4d4c-b2a7-73abb84ccff6",
   "metadata": {},
   "outputs": [],
   "source": [
    "p='/Users/macstrelioff/Documents/git/crypto_public/ENS NFT analyses/owner_nfts_dicts/'"
   ]
  },
  {
   "cell_type": "code",
   "execution_count": 8,
   "id": "336f9383-51bd-481c-86b3-c8ea7c21b78e",
   "metadata": {},
   "outputs": [],
   "source": [
    "file_names = [f\"./owner_nfts_dicts/{f.split('.')[0]}\" for f in listdir(p) if isfile(join(p, f))]"
   ]
  },
  {
   "cell_type": "code",
   "execution_count": 9,
   "id": "3a89b172-feb9-41a2-9385-8cf8f0656a1f",
   "metadata": {},
   "outputs": [
    {
     "data": {
      "text/plain": [
       "'/owner_nfts_dicts/nfts_owned_by_0x62a48d25c509585ef1b94ada62e7eb16e0969c41'"
      ]
     },
     "execution_count": 9,
     "metadata": {},
     "output_type": "execute_result"
    }
   ],
   "source": [
    "file_names[0]"
   ]
  },
  {
   "cell_type": "code",
   "execution_count": 11,
   "id": "9f8d180e-89d0-40b4-a8c8-3cd46c323ec5",
   "metadata": {},
   "outputs": [],
   "source": [
    "tmp=load_obj(f'./{file_names[0]}')"
   ]
  },
  {
   "cell_type": "code",
   "execution_count": null,
   "id": "6d36ec03-3bd0-4278-a6a4-ff328a76e016",
   "metadata": {},
   "outputs": [],
   "source": []
  },
  {
   "cell_type": "code",
   "execution_count": null,
   "id": "1f633389-5c1f-4106-b971-166850296796",
   "metadata": {},
   "outputs": [],
   "source": []
  },
  {
   "cell_type": "markdown",
   "id": "99f19e44-68b6-419b-b8c0-7cd07fb6eeeb",
   "metadata": {},
   "source": [
    "# get nft sales"
   ]
  },
  {
   "cell_type": "code",
   "execution_count": null,
   "id": "0498b6b9-36f1-41e6-a151-6bfc16388a38",
   "metadata": {},
   "outputs": [],
   "source": [
    "# # start about y ear ago, assuming about 6k blocks/day\n",
    "# startBlock = w3.eth.block_number - 6000 * 365 * 4 # should get all trades since ens was created may 2019 on opensea\n",
    "# print(f'startBlock = {startBlock}')\n",
    "# startLogIndex=0\n",
    "\n",
    "# latestBlock = w3.eth.block_number\n",
    "# print(f'latestBlock = {latestBlock}')\n",
    "\n",
    "# url = base_url + f\"/getNFTSales?startBlock={startBlock}&startLogIndex={startLogIndex}&startBundleIndex=0&ascendingOrder=true&marketplace=seaport&contractAddress={ens_nft_address}&buyerIsMaker=true\"\n",
    "# headers = {\"accept\": \"application/json\"}\n",
    "# response = requests.get(url, headers=headers)\n",
    "\n",
    "# returned_sales_df = pd.DataFrame(response.json()['nftSales'])\n",
    "# nft_sales_df = returned_sales_df\n",
    "\n",
    "# newBlockNumber = response.json()['nftSales'][-1]['blockNumber']\n",
    "# newLogIndex = response.json()['nftSales'][-1]['logIndex']\n",
    "\n",
    "# lastPrintBlock = newBlockNumber\n",
    "\n",
    "# while newBlockNumber < latestBlock and len(returned_sales_df)>1:\n",
    "    \n",
    "#     if newBlockNumber - lastPrintBlock > 6000*7: # print feedback for about each week worth of blocks\n",
    "#         lastPrintBlock = newBlockNumber\n",
    "#         print(f'block {newBlockNumber} / {latestBlock} ({(newBlockNumber-startBlock) / (latestBlock-startBlock) * 100}% done)')\n",
    "    \n",
    "#     url = base_url + f\"/getNFTSales?startBlock={newBlockNumber}&startLogIndex={newLogIndex}&startBundleIndex=0&ascendingOrder=true&marketplace=seaport&contractAddress={ens_nft_address}&buyerIsMaker=true\"\n",
    "#     headers = {\"accept\": \"application/json\"}\n",
    "#     response = requests.get(url, headers=headers)\n",
    "#     returned_sales_df = pd.DataFrame(response.json()['nftSales'])\n",
    "#     nft_sales_df = nft_sales_df.append(returned_sales_df)\n",
    "    \n",
    "#     newBlockNumber = response.json()['nftSales'][-1]['blockNumber']\n",
    "#     newLogIndex = response.json()['nftSales'][-1]['logIndex']\n",
    "# print('done.')\n"
   ]
  },
  {
   "cell_type": "code",
   "execution_count": null,
   "id": "70522f6e-6ab0-4ecc-8373-3a4b01ad61e7",
   "metadata": {},
   "outputs": [],
   "source": [
    "# # NOTE possibly missing earlier data\n",
    "# # startBlock = 6880054 # 4 years ago\n",
    "# # latestBlock = 15640054\n",
    "# # block 15009916 / 15640054 (92.80664383561644% done) # first finishd chunk of blocks, seems to skip ~90% of early blocks\n",
    "\n",
    "# save result of loop\n",
    "# nft_sales_df.to_pickle(path = '/Users/macstrelioff/Documents/git/crypto_public/ENS NFT analyses/nft_sales_df')"
   ]
  },
  {
   "cell_type": "code",
   "execution_count": 302,
   "id": "043e0489-ea39-449b-97f0-867944effd75",
   "metadata": {},
   "outputs": [],
   "source": [
    "# get block -> timestamp mappings\n",
    "block_to_ts_dict = load_obj('block_to_ts_all_dict')\n",
    "block_to_ts_df = pd.DataFrame.from_dict(block_to_ts_dict,orient='index')\n",
    "\n",
    "# process;\n",
    "block_to_ts_df=block_to_ts_df.rename(columns={0:'ts'}) # rename timestamp column to ts"
   ]
  },
  {
   "cell_type": "code",
   "execution_count": 321,
   "id": "66fdb5dd-ec60-4f8e-9123-a22bff98431a",
   "metadata": {},
   "outputs": [
    {
     "data": {
      "text/plain": [
       "(151845, 17)"
      ]
     },
     "execution_count": 321,
     "metadata": {},
     "output_type": "execute_result"
    }
   ],
   "source": [
    "# load the saved result instead of re-running code above\n",
    "nft_sales_df = pd.read_pickle('nft_sales_df').drop_duplicates()\n",
    "nft_sales_df.shape"
   ]
  },
  {
   "cell_type": "code",
   "execution_count": 322,
   "id": "fadd5c13-e54a-4d74-bb83-d0473f1b2564",
   "metadata": {},
   "outputs": [
    {
     "data": {
      "text/plain": [
       "(151845, 20)"
      ]
     },
     "execution_count": 322,
     "metadata": {},
     "output_type": "execute_result"
    }
   ],
   "source": [
    "nft_sales_df=nft_sales_df.set_index('blockNumber').join(block_to_ts_df)\n",
    "nft_sales_df['ts_dt']=pd.to_datetime(nft_sales_df['ts']*10**9) # convert ts to datetime\n",
    "nft_sales_df['quarter'] = nft_sales_df.ts_dt.apply(lambda x: pd.Timestamp(x)).apply(lambda x: str(x.year)+'-Q'+str(x.quarter))\n",
    "nft_sales_df=nft_sales_df.reset_index().rename(columns={'index':'blockNumber'})\n",
    "nft_sales_df.shape"
   ]
  },
  {
   "cell_type": "code",
   "execution_count": 391,
   "id": "ca1b2090-7a72-497d-9ce4-14202ee7e446",
   "metadata": {},
   "outputs": [],
   "source": [
    "# NOTEs: \n",
    "# - DAI seemes to be irregularly adjusted/unuadjusted for decimals\n",
    "# - USDC seemed to be 0 too often (median was 0)\n",
    "\n",
    "t=nft_sales_df[[i in ('ETH','WETH') for i in nft_sales_df.priceCurrency]].groupby(['quarter','priceCurrency']).agg(\n",
    "    Count=('price',np.count_nonzero),\n",
    "    Median=('price',np.median),\n",
    "    Mean=('price', np.mean),\n",
    "    Total=('price', np.sum),\n",
    "    OS_Fees=('protocolFee', np.sum),\n",
    ")\n",
    "t['Revenue at 5% fees']=t['Total'] * .05"
   ]
  },
  {
   "cell_type": "code",
   "execution_count": 400,
   "id": "cd5e8f74-89aa-418d-a981-e15bf5d30bfd",
   "metadata": {},
   "outputs": [
    {
     "data": {
      "text/html": [
       "<style  type=\"text/css\" >\n",
       "</style><table id=\"T_e124b8c8_43f5_11ed_91ee_acde48001122\" ><thead>    <tr>        <th class=\"blank\" ></th>        <th class=\"blank level0\" ></th>        <th class=\"col_heading level0 col0\" >Count</th>        <th class=\"col_heading level0 col1\" >Median</th>        <th class=\"col_heading level0 col2\" >Mean</th>        <th class=\"col_heading level0 col3\" >Total</th>        <th class=\"col_heading level0 col4\" >OpenSea Fee</th>        <th class=\"col_heading level0 col5\" >Revenue at 5% fees</th>    </tr>    <tr>        <th class=\"index_name level0\" >quarter</th>        <th class=\"index_name level1\" >priceCurrency</th>        <th class=\"blank\" ></th>        <th class=\"blank\" ></th>        <th class=\"blank\" ></th>        <th class=\"blank\" ></th>        <th class=\"blank\" ></th>        <th class=\"blank\" ></th>    </tr></thead><tbody>\n",
       "                <tr>\n",
       "                        <th id=\"T_e124b8c8_43f5_11ed_91ee_acde48001122level0_row0\" class=\"row_heading level0 row0\" rowspan=2>2022-Q2</th>\n",
       "                        <th id=\"T_e124b8c8_43f5_11ed_91ee_acde48001122level1_row0\" class=\"row_heading level1 row0\" >ETH</th>\n",
       "                        <td id=\"T_e124b8c8_43f5_11ed_91ee_acde48001122row0_col0\" class=\"data row0 col0\" >7,383.00</td>\n",
       "                        <td id=\"T_e124b8c8_43f5_11ed_91ee_acde48001122row0_col1\" class=\"data row0 col1\" >0.03</td>\n",
       "                        <td id=\"T_e124b8c8_43f5_11ed_91ee_acde48001122row0_col2\" class=\"data row0 col2\" >0.32</td>\n",
       "                        <td id=\"T_e124b8c8_43f5_11ed_91ee_acde48001122row0_col3\" class=\"data row0 col3\" >2,360.06</td>\n",
       "                        <td id=\"T_e124b8c8_43f5_11ed_91ee_acde48001122row0_col4\" class=\"data row0 col4\" >60.51</td>\n",
       "                        <td id=\"T_e124b8c8_43f5_11ed_91ee_acde48001122row0_col5\" class=\"data row0 col5\" >118.00</td>\n",
       "            </tr>\n",
       "            <tr>\n",
       "                                <th id=\"T_e124b8c8_43f5_11ed_91ee_acde48001122level1_row1\" class=\"row_heading level1 row1\" >WETH</th>\n",
       "                        <td id=\"T_e124b8c8_43f5_11ed_91ee_acde48001122row1_col0\" class=\"data row1 col0\" >670.00</td>\n",
       "                        <td id=\"T_e124b8c8_43f5_11ed_91ee_acde48001122row1_col1\" class=\"data row1 col1\" >0.25</td>\n",
       "                        <td id=\"T_e124b8c8_43f5_11ed_91ee_acde48001122row1_col2\" class=\"data row1 col2\" >0.73</td>\n",
       "                        <td id=\"T_e124b8c8_43f5_11ed_91ee_acde48001122row1_col3\" class=\"data row1 col3\" >490.70</td>\n",
       "                        <td id=\"T_e124b8c8_43f5_11ed_91ee_acde48001122row1_col4\" class=\"data row1 col4\" >12.27</td>\n",
       "                        <td id=\"T_e124b8c8_43f5_11ed_91ee_acde48001122row1_col5\" class=\"data row1 col5\" >24.54</td>\n",
       "            </tr>\n",
       "            <tr>\n",
       "                        <th id=\"T_e124b8c8_43f5_11ed_91ee_acde48001122level0_row2\" class=\"row_heading level0 row2\" rowspan=2>2022-Q3</th>\n",
       "                        <th id=\"T_e124b8c8_43f5_11ed_91ee_acde48001122level1_row2\" class=\"row_heading level1 row2\" >ETH</th>\n",
       "                        <td id=\"T_e124b8c8_43f5_11ed_91ee_acde48001122row2_col0\" class=\"data row2 col0\" >129,452.00</td>\n",
       "                        <td id=\"T_e124b8c8_43f5_11ed_91ee_acde48001122row2_col1\" class=\"data row2 col1\" >0.02</td>\n",
       "                        <td id=\"T_e124b8c8_43f5_11ed_91ee_acde48001122row2_col2\" class=\"data row2 col2\" >0.19</td>\n",
       "                        <td id=\"T_e124b8c8_43f5_11ed_91ee_acde48001122row2_col3\" class=\"data row2 col3\" >24,046.35</td>\n",
       "                        <td id=\"T_e124b8c8_43f5_11ed_91ee_acde48001122row2_col4\" class=\"data row2 col4\" >574.56</td>\n",
       "                        <td id=\"T_e124b8c8_43f5_11ed_91ee_acde48001122row2_col5\" class=\"data row2 col5\" >1,202.32</td>\n",
       "            </tr>\n",
       "            <tr>\n",
       "                                <th id=\"T_e124b8c8_43f5_11ed_91ee_acde48001122level1_row3\" class=\"row_heading level1 row3\" >WETH</th>\n",
       "                        <td id=\"T_e124b8c8_43f5_11ed_91ee_acde48001122row3_col0\" class=\"data row3 col0\" >13,605.00</td>\n",
       "                        <td id=\"T_e124b8c8_43f5_11ed_91ee_acde48001122row3_col1\" class=\"data row3 col1\" >0.06</td>\n",
       "                        <td id=\"T_e124b8c8_43f5_11ed_91ee_acde48001122row3_col2\" class=\"data row3 col2\" >0.44</td>\n",
       "                        <td id=\"T_e124b8c8_43f5_11ed_91ee_acde48001122row3_col3\" class=\"data row3 col3\" >5,977.73</td>\n",
       "                        <td id=\"T_e124b8c8_43f5_11ed_91ee_acde48001122row3_col4\" class=\"data row3 col4\" >144.37</td>\n",
       "                        <td id=\"T_e124b8c8_43f5_11ed_91ee_acde48001122row3_col5\" class=\"data row3 col5\" >298.89</td>\n",
       "            </tr>\n",
       "    </tbody></table>"
      ],
      "text/plain": [
       "<pandas.io.formats.style.Styler at 0x7fc20bcff850>"
      ]
     },
     "execution_count": 400,
     "metadata": {},
     "output_type": "execute_result"
    }
   ],
   "source": [
    "t.rename(columns={'OS_Fees':'OpenSea Fee'}).style.format({\n",
    "'Count' : '{:,.2f}'.format,\n",
    "'Median' : '{:,.2f}'.format,\n",
    "'Mean' : '{:,.2f}'.format,\n",
    "'Total' : '{:,.2f}'.format,\n",
    "'OpenSea Fee' : '{:,.2f}'.format,\n",
    "'Revenue at 5% fees' : '{:,.2f}'.format\n",
    "})"
   ]
  }
 ],
 "metadata": {
  "kernelspec": {
   "display_name": "Python 3",
   "language": "python",
   "name": "python3"
  },
  "language_info": {
   "codemirror_mode": {
    "name": "ipython",
    "version": 3
   },
   "file_extension": ".py",
   "mimetype": "text/x-python",
   "name": "python",
   "nbconvert_exporter": "python",
   "pygments_lexer": "ipython3",
   "version": "3.8.6"
  }
 },
 "nbformat": 4,
 "nbformat_minor": 5
}
