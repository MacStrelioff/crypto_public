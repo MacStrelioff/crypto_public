{
 "cells": [
  {
   "cell_type": "code",
   "execution_count": 1,
   "id": "9cb66205-c203-487d-8717-66f79fdbf376",
   "metadata": {},
   "outputs": [],
   "source": [
    "import time\n",
    "import requests\n",
    "import json\n",
    "from web3 import Web3\n",
    "from web3 import _utils # for error handling\n",
    "from multiprocessing.pool import Pool,ThreadPool\n",
    "from os import listdir\n",
    "from os.path import isfile, join\n",
    "\n",
    "import pandas as pd\n",
    "\n",
    "# saving dictionaries and pd dataFrames\n",
    "import pickle\n",
    "def save_obj(obj, name):\n",
    "    with open(name+'.pkl', 'wb') as f:\n",
    "        pickle.dump(obj, f, pickle.HIGHEST_PROTOCOL)\n",
    "def load_obj(name):\n",
    "    with open(name+'.pkl', 'rb') as f:\n",
    "        return pickle.load(f)"
   ]
  },
  {
   "cell_type": "code",
   "execution_count": 2,
   "id": "069f3de3-7257-442a-bf6f-2dfe9cfeef08",
   "metadata": {},
   "outputs": [],
   "source": [
    "# copy api key from https://dashboard.alchemy.com/\n",
    "apiKey=\"\""
   ]
  },
  {
   "cell_type": "code",
   "execution_count": 3,
   "id": "ff8f7f3d-88be-4a24-9db9-4528759d4ada",
   "metadata": {},
   "outputs": [],
   "source": [
    "# helper function to map blocks -> timestamps using DefiLlama's spi\n",
    "# docs: https://defillama.com/docs/api\n",
    "\n",
    "def ts_to_block(ts):\n",
    "    url = f'https://coins.llama.fi/block/ethereum/{block}'\n",
    "    response = requests.get(url) \n",
    "    return response\n"
   ]
  },
  {
   "cell_type": "markdown",
   "id": "4cb166d6-362f-4f9d-82c4-ba4b86d92539",
   "metadata": {},
   "source": [
    "# Use Web3 to process registration & renewal transactions\n",
    "\n",
    "- I used web3 to get payments associated with registration and renewal events, which was used to estimate protocol revenue."
   ]
  },
  {
   "cell_type": "code",
   "execution_count": 4,
   "id": "c1bdb35a-04e7-4bb5-b8b1-8e9ca9ce5f08",
   "metadata": {},
   "outputs": [
    {
     "name": "stdout",
     "output_type": "stream",
     "text": [
      "True\n"
     ]
    }
   ],
   "source": [
    "# connect to an ethereum node\n",
    "alchemy_url = f\"https://eth-mainnet.g.alchemy.com/v2/{apiKey}\"\n",
    "w3 = Web3(Web3.HTTPProvider(alchemy_url))\n",
    "print(w3.isConnected())"
   ]
  },
  {
   "cell_type": "code",
   "execution_count": 5,
   "id": "5f256373-5c1c-40e3-9307-26740d5b4853",
   "metadata": {},
   "outputs": [],
   "source": [
    "# contracts, abis from etherscan\n",
    "ens_nft_address = Web3.toChecksumAddress(\"0x57f1887a8bf19b14fc0df6fd9b2acc9af147ea85\")\n",
    "ens_nft_abi = '[{\"inputs\":[{\"internalType\":\"contract ENS\",\"name\":\"_ens\",\"type\":\"address\"},{\"internalType\":\"bytes32\",\"name\":\"_baseNode\",\"type\":\"bytes32\"}],\"payable\":false,\"stateMutability\":\"nonpayable\",\"type\":\"constructor\"},{\"anonymous\":false,\"inputs\":[{\"indexed\":true,\"internalType\":\"address\",\"name\":\"owner\",\"type\":\"address\"},{\"indexed\":true,\"internalType\":\"address\",\"name\":\"approved\",\"type\":\"address\"},{\"indexed\":true,\"internalType\":\"uint256\",\"name\":\"tokenId\",\"type\":\"uint256\"}],\"name\":\"Approval\",\"type\":\"event\"},{\"anonymous\":false,\"inputs\":[{\"indexed\":true,\"internalType\":\"address\",\"name\":\"owner\",\"type\":\"address\"},{\"indexed\":true,\"internalType\":\"address\",\"name\":\"operator\",\"type\":\"address\"},{\"indexed\":false,\"internalType\":\"bool\",\"name\":\"approved\",\"type\":\"bool\"}],\"name\":\"ApprovalForAll\",\"type\":\"event\"},{\"anonymous\":false,\"inputs\":[{\"indexed\":true,\"internalType\":\"address\",\"name\":\"controller\",\"type\":\"address\"}],\"name\":\"ControllerAdded\",\"type\":\"event\"},{\"anonymous\":false,\"inputs\":[{\"indexed\":true,\"internalType\":\"address\",\"name\":\"controller\",\"type\":\"address\"}],\"name\":\"ControllerRemoved\",\"type\":\"event\"},{\"anonymous\":false,\"inputs\":[{\"indexed\":true,\"internalType\":\"uint256\",\"name\":\"id\",\"type\":\"uint256\"},{\"indexed\":true,\"internalType\":\"address\",\"name\":\"owner\",\"type\":\"address\"},{\"indexed\":false,\"internalType\":\"uint256\",\"name\":\"expires\",\"type\":\"uint256\"}],\"name\":\"NameMigrated\",\"type\":\"event\"},{\"anonymous\":false,\"inputs\":[{\"indexed\":true,\"internalType\":\"uint256\",\"name\":\"id\",\"type\":\"uint256\"},{\"indexed\":true,\"internalType\":\"address\",\"name\":\"owner\",\"type\":\"address\"},{\"indexed\":false,\"internalType\":\"uint256\",\"name\":\"expires\",\"type\":\"uint256\"}],\"name\":\"NameRegistered\",\"type\":\"event\"},{\"anonymous\":false,\"inputs\":[{\"indexed\":true,\"internalType\":\"uint256\",\"name\":\"id\",\"type\":\"uint256\"},{\"indexed\":false,\"internalType\":\"uint256\",\"name\":\"expires\",\"type\":\"uint256\"}],\"name\":\"NameRenewed\",\"type\":\"event\"},{\"anonymous\":false,\"inputs\":[{\"indexed\":true,\"internalType\":\"address\",\"name\":\"previousOwner\",\"type\":\"address\"},{\"indexed\":true,\"internalType\":\"address\",\"name\":\"newOwner\",\"type\":\"address\"}],\"name\":\"OwnershipTransferred\",\"type\":\"event\"},{\"anonymous\":false,\"inputs\":[{\"indexed\":true,\"internalType\":\"address\",\"name\":\"from\",\"type\":\"address\"},{\"indexed\":true,\"internalType\":\"address\",\"name\":\"to\",\"type\":\"address\"},{\"indexed\":true,\"internalType\":\"uint256\",\"name\":\"tokenId\",\"type\":\"uint256\"}],\"name\":\"Transfer\",\"type\":\"event\"},{\"constant\":true,\"inputs\":[],\"name\":\"GRACE_PERIOD\",\"outputs\":[{\"internalType\":\"uint256\",\"name\":\"\",\"type\":\"uint256\"}],\"payable\":false,\"stateMutability\":\"view\",\"type\":\"function\"},{\"constant\":false,\"inputs\":[{\"internalType\":\"address\",\"name\":\"controller\",\"type\":\"address\"}],\"name\":\"addController\",\"outputs\":[],\"payable\":false,\"stateMutability\":\"nonpayable\",\"type\":\"function\"},{\"constant\":false,\"inputs\":[{\"internalType\":\"address\",\"name\":\"to\",\"type\":\"address\"},{\"internalType\":\"uint256\",\"name\":\"tokenId\",\"type\":\"uint256\"}],\"name\":\"approve\",\"outputs\":[],\"payable\":false,\"stateMutability\":\"nonpayable\",\"type\":\"function\"},{\"constant\":true,\"inputs\":[{\"internalType\":\"uint256\",\"name\":\"id\",\"type\":\"uint256\"}],\"name\":\"available\",\"outputs\":[{\"internalType\":\"bool\",\"name\":\"\",\"type\":\"bool\"}],\"payable\":false,\"stateMutability\":\"view\",\"type\":\"function\"},{\"constant\":true,\"inputs\":[{\"internalType\":\"address\",\"name\":\"owner\",\"type\":\"address\"}],\"name\":\"balanceOf\",\"outputs\":[{\"internalType\":\"uint256\",\"name\":\"\",\"type\":\"uint256\"}],\"payable\":false,\"stateMutability\":\"view\",\"type\":\"function\"},{\"constant\":true,\"inputs\":[],\"name\":\"baseNode\",\"outputs\":[{\"internalType\":\"bytes32\",\"name\":\"\",\"type\":\"bytes32\"}],\"payable\":false,\"stateMutability\":\"view\",\"type\":\"function\"},{\"constant\":true,\"inputs\":[{\"internalType\":\"address\",\"name\":\"\",\"type\":\"address\"}],\"name\":\"controllers\",\"outputs\":[{\"internalType\":\"bool\",\"name\":\"\",\"type\":\"bool\"}],\"payable\":false,\"stateMutability\":\"view\",\"type\":\"function\"},{\"constant\":true,\"inputs\":[],\"name\":\"ens\",\"outputs\":[{\"internalType\":\"contract ENS\",\"name\":\"\",\"type\":\"address\"}],\"payable\":false,\"stateMutability\":\"view\",\"type\":\"function\"},{\"constant\":true,\"inputs\":[{\"internalType\":\"uint256\",\"name\":\"tokenId\",\"type\":\"uint256\"}],\"name\":\"getApproved\",\"outputs\":[{\"internalType\":\"address\",\"name\":\"\",\"type\":\"address\"}],\"payable\":false,\"stateMutability\":\"view\",\"type\":\"function\"},{\"constant\":true,\"inputs\":[{\"internalType\":\"address\",\"name\":\"owner\",\"type\":\"address\"},{\"internalType\":\"address\",\"name\":\"operator\",\"type\":\"address\"}],\"name\":\"isApprovedForAll\",\"outputs\":[{\"internalType\":\"bool\",\"name\":\"\",\"type\":\"bool\"}],\"payable\":false,\"stateMutability\":\"view\",\"type\":\"function\"},{\"constant\":true,\"inputs\":[],\"name\":\"isOwner\",\"outputs\":[{\"internalType\":\"bool\",\"name\":\"\",\"type\":\"bool\"}],\"payable\":false,\"stateMutability\":\"view\",\"type\":\"function\"},{\"constant\":true,\"inputs\":[{\"internalType\":\"uint256\",\"name\":\"id\",\"type\":\"uint256\"}],\"name\":\"nameExpires\",\"outputs\":[{\"internalType\":\"uint256\",\"name\":\"\",\"type\":\"uint256\"}],\"payable\":false,\"stateMutability\":\"view\",\"type\":\"function\"},{\"constant\":true,\"inputs\":[],\"name\":\"owner\",\"outputs\":[{\"internalType\":\"address\",\"name\":\"\",\"type\":\"address\"}],\"payable\":false,\"stateMutability\":\"view\",\"type\":\"function\"},{\"constant\":true,\"inputs\":[{\"internalType\":\"uint256\",\"name\":\"tokenId\",\"type\":\"uint256\"}],\"name\":\"ownerOf\",\"outputs\":[{\"internalType\":\"address\",\"name\":\"\",\"type\":\"address\"}],\"payable\":false,\"stateMutability\":\"view\",\"type\":\"function\"},{\"constant\":false,\"inputs\":[{\"internalType\":\"uint256\",\"name\":\"id\",\"type\":\"uint256\"},{\"internalType\":\"address\",\"name\":\"owner\",\"type\":\"address\"}],\"name\":\"reclaim\",\"outputs\":[],\"payable\":false,\"stateMutability\":\"nonpayable\",\"type\":\"function\"},{\"constant\":false,\"inputs\":[{\"internalType\":\"uint256\",\"name\":\"id\",\"type\":\"uint256\"},{\"internalType\":\"address\",\"name\":\"owner\",\"type\":\"address\"},{\"internalType\":\"uint256\",\"name\":\"duration\",\"type\":\"uint256\"}],\"name\":\"register\",\"outputs\":[{\"internalType\":\"uint256\",\"name\":\"\",\"type\":\"uint256\"}],\"payable\":false,\"stateMutability\":\"nonpayable\",\"type\":\"function\"},{\"constant\":false,\"inputs\":[{\"internalType\":\"uint256\",\"name\":\"id\",\"type\":\"uint256\"},{\"internalType\":\"address\",\"name\":\"owner\",\"type\":\"address\"},{\"internalType\":\"uint256\",\"name\":\"duration\",\"type\":\"uint256\"}],\"name\":\"registerOnly\",\"outputs\":[{\"internalType\":\"uint256\",\"name\":\"\",\"type\":\"uint256\"}],\"payable\":false,\"stateMutability\":\"nonpayable\",\"type\":\"function\"},{\"constant\":false,\"inputs\":[{\"internalType\":\"address\",\"name\":\"controller\",\"type\":\"address\"}],\"name\":\"removeController\",\"outputs\":[],\"payable\":false,\"stateMutability\":\"nonpayable\",\"type\":\"function\"},{\"constant\":false,\"inputs\":[{\"internalType\":\"uint256\",\"name\":\"id\",\"type\":\"uint256\"},{\"internalType\":\"uint256\",\"name\":\"duration\",\"type\":\"uint256\"}],\"name\":\"renew\",\"outputs\":[{\"internalType\":\"uint256\",\"name\":\"\",\"type\":\"uint256\"}],\"payable\":false,\"stateMutability\":\"nonpayable\",\"type\":\"function\"},{\"constant\":false,\"inputs\":[],\"name\":\"renounceOwnership\",\"outputs\":[],\"payable\":false,\"stateMutability\":\"nonpayable\",\"type\":\"function\"},{\"constant\":false,\"inputs\":[{\"internalType\":\"address\",\"name\":\"from\",\"type\":\"address\"},{\"internalType\":\"address\",\"name\":\"to\",\"type\":\"address\"},{\"internalType\":\"uint256\",\"name\":\"tokenId\",\"type\":\"uint256\"}],\"name\":\"safeTransferFrom\",\"outputs\":[],\"payable\":false,\"stateMutability\":\"nonpayable\",\"type\":\"function\"},{\"constant\":false,\"inputs\":[{\"internalType\":\"address\",\"name\":\"from\",\"type\":\"address\"},{\"internalType\":\"address\",\"name\":\"to\",\"type\":\"address\"},{\"internalType\":\"uint256\",\"name\":\"tokenId\",\"type\":\"uint256\"},{\"internalType\":\"bytes\",\"name\":\"_data\",\"type\":\"bytes\"}],\"name\":\"safeTransferFrom\",\"outputs\":[],\"payable\":false,\"stateMutability\":\"nonpayable\",\"type\":\"function\"},{\"constant\":false,\"inputs\":[{\"internalType\":\"address\",\"name\":\"to\",\"type\":\"address\"},{\"internalType\":\"bool\",\"name\":\"approved\",\"type\":\"bool\"}],\"name\":\"setApprovalForAll\",\"outputs\":[],\"payable\":false,\"stateMutability\":\"nonpayable\",\"type\":\"function\"},{\"constant\":false,\"inputs\":[{\"internalType\":\"address\",\"name\":\"resolver\",\"type\":\"address\"}],\"name\":\"setResolver\",\"outputs\":[],\"payable\":false,\"stateMutability\":\"nonpayable\",\"type\":\"function\"},{\"constant\":true,\"inputs\":[{\"internalType\":\"bytes4\",\"name\":\"interfaceID\",\"type\":\"bytes4\"}],\"name\":\"supportsInterface\",\"outputs\":[{\"internalType\":\"bool\",\"name\":\"\",\"type\":\"bool\"}],\"payable\":false,\"stateMutability\":\"view\",\"type\":\"function\"},{\"constant\":false,\"inputs\":[{\"internalType\":\"address\",\"name\":\"from\",\"type\":\"address\"},{\"internalType\":\"address\",\"name\":\"to\",\"type\":\"address\"},{\"internalType\":\"uint256\",\"name\":\"tokenId\",\"type\":\"uint256\"}],\"name\":\"transferFrom\",\"outputs\":[],\"payable\":false,\"stateMutability\":\"nonpayable\",\"type\":\"function\"},{\"constant\":false,\"inputs\":[{\"internalType\":\"address\",\"name\":\"newOwner\",\"type\":\"address\"}],\"name\":\"transferOwnership\",\"outputs\":[],\"payable\":false,\"stateMutability\":\"nonpayable\",\"type\":\"function\"}]'\n",
    "\n",
    "ens_token_address = Web3.toChecksumAddress(\"0xc18360217d8f7ab5e7c516566761ea12ce7f9d72\")\n",
    "ens_token_abi = '[{\"inputs\":[{\"internalType\":\"uint256\",\"name\":\"freeSupply\",\"type\":\"uint256\"},{\"internalType\":\"uint256\",\"name\":\"airdropSupply\",\"type\":\"uint256\"},{\"internalType\":\"uint256\",\"name\":\"_claimPeriodEnds\",\"type\":\"uint256\"}],\"stateMutability\":\"nonpayable\",\"type\":\"constructor\"},{\"anonymous\":false,\"inputs\":[{\"indexed\":true,\"internalType\":\"address\",\"name\":\"owner\",\"type\":\"address\"},{\"indexed\":true,\"internalType\":\"address\",\"name\":\"spender\",\"type\":\"address\"},{\"indexed\":false,\"internalType\":\"uint256\",\"name\":\"value\",\"type\":\"uint256\"}],\"name\":\"Approval\",\"type\":\"event\"},{\"anonymous\":false,\"inputs\":[{\"indexed\":true,\"internalType\":\"address\",\"name\":\"claimant\",\"type\":\"address\"},{\"indexed\":false,\"internalType\":\"uint256\",\"name\":\"amount\",\"type\":\"uint256\"}],\"name\":\"Claim\",\"type\":\"event\"},{\"anonymous\":false,\"inputs\":[{\"indexed\":true,\"internalType\":\"address\",\"name\":\"delegator\",\"type\":\"address\"},{\"indexed\":true,\"internalType\":\"address\",\"name\":\"fromDelegate\",\"type\":\"address\"},{\"indexed\":true,\"internalType\":\"address\",\"name\":\"toDelegate\",\"type\":\"address\"}],\"name\":\"DelegateChanged\",\"type\":\"event\"},{\"anonymous\":false,\"inputs\":[{\"indexed\":true,\"internalType\":\"address\",\"name\":\"delegate\",\"type\":\"address\"},{\"indexed\":false,\"internalType\":\"uint256\",\"name\":\"previousBalance\",\"type\":\"uint256\"},{\"indexed\":false,\"internalType\":\"uint256\",\"name\":\"newBalance\",\"type\":\"uint256\"}],\"name\":\"DelegateVotesChanged\",\"type\":\"event\"},{\"anonymous\":false,\"inputs\":[{\"indexed\":false,\"internalType\":\"bytes32\",\"name\":\"merkleRoot\",\"type\":\"bytes32\"}],\"name\":\"MerkleRootChanged\",\"type\":\"event\"},{\"anonymous\":false,\"inputs\":[{\"indexed\":true,\"internalType\":\"address\",\"name\":\"previousOwner\",\"type\":\"address\"},{\"indexed\":true,\"internalType\":\"address\",\"name\":\"newOwner\",\"type\":\"address\"}],\"name\":\"OwnershipTransferred\",\"type\":\"event\"},{\"anonymous\":false,\"inputs\":[{\"indexed\":true,\"internalType\":\"address\",\"name\":\"from\",\"type\":\"address\"},{\"indexed\":true,\"internalType\":\"address\",\"name\":\"to\",\"type\":\"address\"},{\"indexed\":false,\"internalType\":\"uint256\",\"name\":\"value\",\"type\":\"uint256\"}],\"name\":\"Transfer\",\"type\":\"event\"},{\"inputs\":[],\"name\":\"DOMAIN_SEPARATOR\",\"outputs\":[{\"internalType\":\"bytes32\",\"name\":\"\",\"type\":\"bytes32\"}],\"stateMutability\":\"view\",\"type\":\"function\"},{\"inputs\":[{\"internalType\":\"address\",\"name\":\"owner\",\"type\":\"address\"},{\"internalType\":\"address\",\"name\":\"spender\",\"type\":\"address\"}],\"name\":\"allowance\",\"outputs\":[{\"internalType\":\"uint256\",\"name\":\"\",\"type\":\"uint256\"}],\"stateMutability\":\"view\",\"type\":\"function\"},{\"inputs\":[{\"internalType\":\"address\",\"name\":\"spender\",\"type\":\"address\"},{\"internalType\":\"uint256\",\"name\":\"amount\",\"type\":\"uint256\"}],\"name\":\"approve\",\"outputs\":[{\"internalType\":\"bool\",\"name\":\"\",\"type\":\"bool\"}],\"stateMutability\":\"nonpayable\",\"type\":\"function\"},{\"inputs\":[{\"internalType\":\"address\",\"name\":\"account\",\"type\":\"address\"}],\"name\":\"balanceOf\",\"outputs\":[{\"internalType\":\"uint256\",\"name\":\"\",\"type\":\"uint256\"}],\"stateMutability\":\"view\",\"type\":\"function\"},{\"inputs\":[{\"internalType\":\"address\",\"name\":\"account\",\"type\":\"address\"},{\"internalType\":\"uint32\",\"name\":\"pos\",\"type\":\"uint32\"}],\"name\":\"checkpoints\",\"outputs\":[{\"components\":[{\"internalType\":\"uint32\",\"name\":\"fromBlock\",\"type\":\"uint32\"},{\"internalType\":\"uint224\",\"name\":\"votes\",\"type\":\"uint224\"}],\"internalType\":\"struct ERC20Votes.Checkpoint\",\"name\":\"\",\"type\":\"tuple\"}],\"stateMutability\":\"view\",\"type\":\"function\"},{\"inputs\":[],\"name\":\"claimPeriodEnds\",\"outputs\":[{\"internalType\":\"uint256\",\"name\":\"\",\"type\":\"uint256\"}],\"stateMutability\":\"view\",\"type\":\"function\"},{\"inputs\":[{\"internalType\":\"uint256\",\"name\":\"amount\",\"type\":\"uint256\"},{\"internalType\":\"address\",\"name\":\"delegate\",\"type\":\"address\"},{\"internalType\":\"bytes32[]\",\"name\":\"merkleProof\",\"type\":\"bytes32[]\"}],\"name\":\"claimTokens\",\"outputs\":[],\"stateMutability\":\"nonpayable\",\"type\":\"function\"},{\"inputs\":[],\"name\":\"decimals\",\"outputs\":[{\"internalType\":\"uint8\",\"name\":\"\",\"type\":\"uint8\"}],\"stateMutability\":\"view\",\"type\":\"function\"},{\"inputs\":[{\"internalType\":\"address\",\"name\":\"spender\",\"type\":\"address\"},{\"internalType\":\"uint256\",\"name\":\"subtractedValue\",\"type\":\"uint256\"}],\"name\":\"decreaseAllowance\",\"outputs\":[{\"internalType\":\"bool\",\"name\":\"\",\"type\":\"bool\"}],\"stateMutability\":\"nonpayable\",\"type\":\"function\"},{\"inputs\":[{\"internalType\":\"address\",\"name\":\"delegatee\",\"type\":\"address\"}],\"name\":\"delegate\",\"outputs\":[],\"stateMutability\":\"nonpayable\",\"type\":\"function\"},{\"inputs\":[{\"internalType\":\"address\",\"name\":\"delegatee\",\"type\":\"address\"},{\"internalType\":\"uint256\",\"name\":\"nonce\",\"type\":\"uint256\"},{\"internalType\":\"uint256\",\"name\":\"expiry\",\"type\":\"uint256\"},{\"internalType\":\"uint8\",\"name\":\"v\",\"type\":\"uint8\"},{\"internalType\":\"bytes32\",\"name\":\"r\",\"type\":\"bytes32\"},{\"internalType\":\"bytes32\",\"name\":\"s\",\"type\":\"bytes32\"}],\"name\":\"delegateBySig\",\"outputs\":[],\"stateMutability\":\"nonpayable\",\"type\":\"function\"},{\"inputs\":[{\"internalType\":\"address\",\"name\":\"account\",\"type\":\"address\"}],\"name\":\"delegates\",\"outputs\":[{\"internalType\":\"address\",\"name\":\"\",\"type\":\"address\"}],\"stateMutability\":\"view\",\"type\":\"function\"},{\"inputs\":[{\"internalType\":\"uint256\",\"name\":\"blockNumber\",\"type\":\"uint256\"}],\"name\":\"getPastTotalSupply\",\"outputs\":[{\"internalType\":\"uint256\",\"name\":\"\",\"type\":\"uint256\"}],\"stateMutability\":\"view\",\"type\":\"function\"},{\"inputs\":[{\"internalType\":\"address\",\"name\":\"account\",\"type\":\"address\"},{\"internalType\":\"uint256\",\"name\":\"blockNumber\",\"type\":\"uint256\"}],\"name\":\"getPastVotes\",\"outputs\":[{\"internalType\":\"uint256\",\"name\":\"\",\"type\":\"uint256\"}],\"stateMutability\":\"view\",\"type\":\"function\"},{\"inputs\":[{\"internalType\":\"address\",\"name\":\"account\",\"type\":\"address\"}],\"name\":\"getVotes\",\"outputs\":[{\"internalType\":\"uint256\",\"name\":\"\",\"type\":\"uint256\"}],\"stateMutability\":\"view\",\"type\":\"function\"},{\"inputs\":[{\"internalType\":\"address\",\"name\":\"spender\",\"type\":\"address\"},{\"internalType\":\"uint256\",\"name\":\"addedValue\",\"type\":\"uint256\"}],\"name\":\"increaseAllowance\",\"outputs\":[{\"internalType\":\"bool\",\"name\":\"\",\"type\":\"bool\"}],\"stateMutability\":\"nonpayable\",\"type\":\"function\"},{\"inputs\":[{\"internalType\":\"uint256\",\"name\":\"index\",\"type\":\"uint256\"}],\"name\":\"isClaimed\",\"outputs\":[{\"internalType\":\"bool\",\"name\":\"\",\"type\":\"bool\"}],\"stateMutability\":\"view\",\"type\":\"function\"},{\"inputs\":[],\"name\":\"merkleRoot\",\"outputs\":[{\"internalType\":\"bytes32\",\"name\":\"\",\"type\":\"bytes32\"}],\"stateMutability\":\"view\",\"type\":\"function\"},{\"inputs\":[],\"name\":\"minimumMintInterval\",\"outputs\":[{\"internalType\":\"uint256\",\"name\":\"\",\"type\":\"uint256\"}],\"stateMutability\":\"view\",\"type\":\"function\"},{\"inputs\":[{\"internalType\":\"address\",\"name\":\"dest\",\"type\":\"address\"},{\"internalType\":\"uint256\",\"name\":\"amount\",\"type\":\"uint256\"}],\"name\":\"mint\",\"outputs\":[],\"stateMutability\":\"nonpayable\",\"type\":\"function\"},{\"inputs\":[],\"name\":\"mintCap\",\"outputs\":[{\"internalType\":\"uint256\",\"name\":\"\",\"type\":\"uint256\"}],\"stateMutability\":\"view\",\"type\":\"function\"},{\"inputs\":[],\"name\":\"name\",\"outputs\":[{\"internalType\":\"string\",\"name\":\"\",\"type\":\"string\"}],\"stateMutability\":\"view\",\"type\":\"function\"},{\"inputs\":[],\"name\":\"nextMint\",\"outputs\":[{\"internalType\":\"uint256\",\"name\":\"\",\"type\":\"uint256\"}],\"stateMutability\":\"view\",\"type\":\"function\"},{\"inputs\":[{\"internalType\":\"address\",\"name\":\"owner\",\"type\":\"address\"}],\"name\":\"nonces\",\"outputs\":[{\"internalType\":\"uint256\",\"name\":\"\",\"type\":\"uint256\"}],\"stateMutability\":\"view\",\"type\":\"function\"},{\"inputs\":[{\"internalType\":\"address\",\"name\":\"account\",\"type\":\"address\"}],\"name\":\"numCheckpoints\",\"outputs\":[{\"internalType\":\"uint32\",\"name\":\"\",\"type\":\"uint32\"}],\"stateMutability\":\"view\",\"type\":\"function\"},{\"inputs\":[],\"name\":\"owner\",\"outputs\":[{\"internalType\":\"address\",\"name\":\"\",\"type\":\"address\"}],\"stateMutability\":\"view\",\"type\":\"function\"},{\"inputs\":[{\"internalType\":\"address\",\"name\":\"owner\",\"type\":\"address\"},{\"internalType\":\"address\",\"name\":\"spender\",\"type\":\"address\"},{\"internalType\":\"uint256\",\"name\":\"value\",\"type\":\"uint256\"},{\"internalType\":\"uint256\",\"name\":\"deadline\",\"type\":\"uint256\"},{\"internalType\":\"uint8\",\"name\":\"v\",\"type\":\"uint8\"},{\"internalType\":\"bytes32\",\"name\":\"r\",\"type\":\"bytes32\"},{\"internalType\":\"bytes32\",\"name\":\"s\",\"type\":\"bytes32\"}],\"name\":\"permit\",\"outputs\":[],\"stateMutability\":\"nonpayable\",\"type\":\"function\"},{\"inputs\":[],\"name\":\"renounceOwnership\",\"outputs\":[],\"stateMutability\":\"nonpayable\",\"type\":\"function\"},{\"inputs\":[{\"internalType\":\"bytes32\",\"name\":\"_merkleRoot\",\"type\":\"bytes32\"}],\"name\":\"setMerkleRoot\",\"outputs\":[],\"stateMutability\":\"nonpayable\",\"type\":\"function\"},{\"inputs\":[{\"internalType\":\"address\",\"name\":\"dest\",\"type\":\"address\"}],\"name\":\"sweep\",\"outputs\":[],\"stateMutability\":\"nonpayable\",\"type\":\"function\"},{\"inputs\":[],\"name\":\"symbol\",\"outputs\":[{\"internalType\":\"string\",\"name\":\"\",\"type\":\"string\"}],\"stateMutability\":\"view\",\"type\":\"function\"},{\"inputs\":[],\"name\":\"totalSupply\",\"outputs\":[{\"internalType\":\"uint256\",\"name\":\"\",\"type\":\"uint256\"}],\"stateMutability\":\"view\",\"type\":\"function\"},{\"inputs\":[{\"internalType\":\"address\",\"name\":\"recipient\",\"type\":\"address\"},{\"internalType\":\"uint256\",\"name\":\"amount\",\"type\":\"uint256\"}],\"name\":\"transfer\",\"outputs\":[{\"internalType\":\"bool\",\"name\":\"\",\"type\":\"bool\"}],\"stateMutability\":\"nonpayable\",\"type\":\"function\"},{\"inputs\":[{\"internalType\":\"address\",\"name\":\"sender\",\"type\":\"address\"},{\"internalType\":\"address\",\"name\":\"recipient\",\"type\":\"address\"},{\"internalType\":\"uint256\",\"name\":\"amount\",\"type\":\"uint256\"}],\"name\":\"transferFrom\",\"outputs\":[{\"internalType\":\"bool\",\"name\":\"\",\"type\":\"bool\"}],\"stateMutability\":\"nonpayable\",\"type\":\"function\"},{\"inputs\":[{\"internalType\":\"address\",\"name\":\"newOwner\",\"type\":\"address\"}],\"name\":\"transferOwnership\",\"outputs\":[],\"stateMutability\":\"nonpayable\",\"type\":\"function\"}]'\n",
    "\n",
    "ens_dao_treasury_address =  Web3.toChecksumAddress(\"0xfe89cc7abb2c4183683ab71653c4cdc9b02d44b7\")\n",
    "ens_dao_treasury_abi = '[{\"inputs\":[{\"internalType\":\"uint256\",\"name\":\"minDelay\",\"type\":\"uint256\"},{\"internalType\":\"address[]\",\"name\":\"proposers\",\"type\":\"address[]\"},{\"internalType\":\"address[]\",\"name\":\"executors\",\"type\":\"address[]\"}],\"stateMutability\":\"nonpayable\",\"type\":\"constructor\"},{\"anonymous\":false,\"inputs\":[{\"indexed\":true,\"internalType\":\"bytes32\",\"name\":\"id\",\"type\":\"bytes32\"},{\"indexed\":true,\"internalType\":\"uint256\",\"name\":\"index\",\"type\":\"uint256\"},{\"indexed\":false,\"internalType\":\"address\",\"name\":\"target\",\"type\":\"address\"},{\"indexed\":false,\"internalType\":\"uint256\",\"name\":\"value\",\"type\":\"uint256\"},{\"indexed\":false,\"internalType\":\"bytes\",\"name\":\"data\",\"type\":\"bytes\"}],\"name\":\"CallExecuted\",\"type\":\"event\"},{\"anonymous\":false,\"inputs\":[{\"indexed\":true,\"internalType\":\"bytes32\",\"name\":\"id\",\"type\":\"bytes32\"},{\"indexed\":true,\"internalType\":\"uint256\",\"name\":\"index\",\"type\":\"uint256\"},{\"indexed\":false,\"internalType\":\"address\",\"name\":\"target\",\"type\":\"address\"},{\"indexed\":false,\"internalType\":\"uint256\",\"name\":\"value\",\"type\":\"uint256\"},{\"indexed\":false,\"internalType\":\"bytes\",\"name\":\"data\",\"type\":\"bytes\"},{\"indexed\":false,\"internalType\":\"bytes32\",\"name\":\"predecessor\",\"type\":\"bytes32\"},{\"indexed\":false,\"internalType\":\"uint256\",\"name\":\"delay\",\"type\":\"uint256\"}],\"name\":\"CallScheduled\",\"type\":\"event\"},{\"anonymous\":false,\"inputs\":[{\"indexed\":true,\"internalType\":\"bytes32\",\"name\":\"id\",\"type\":\"bytes32\"}],\"name\":\"Cancelled\",\"type\":\"event\"},{\"anonymous\":false,\"inputs\":[{\"indexed\":false,\"internalType\":\"uint256\",\"name\":\"oldDuration\",\"type\":\"uint256\"},{\"indexed\":false,\"internalType\":\"uint256\",\"name\":\"newDuration\",\"type\":\"uint256\"}],\"name\":\"MinDelayChange\",\"type\":\"event\"},{\"anonymous\":false,\"inputs\":[{\"indexed\":true,\"internalType\":\"bytes32\",\"name\":\"role\",\"type\":\"bytes32\"},{\"indexed\":true,\"internalType\":\"bytes32\",\"name\":\"previousAdminRole\",\"type\":\"bytes32\"},{\"indexed\":true,\"internalType\":\"bytes32\",\"name\":\"newAdminRole\",\"type\":\"bytes32\"}],\"name\":\"RoleAdminChanged\",\"type\":\"event\"},{\"anonymous\":false,\"inputs\":[{\"indexed\":true,\"internalType\":\"bytes32\",\"name\":\"role\",\"type\":\"bytes32\"},{\"indexed\":true,\"internalType\":\"address\",\"name\":\"account\",\"type\":\"address\"},{\"indexed\":true,\"internalType\":\"address\",\"name\":\"sender\",\"type\":\"address\"}],\"name\":\"RoleGranted\",\"type\":\"event\"},{\"anonymous\":false,\"inputs\":[{\"indexed\":true,\"internalType\":\"bytes32\",\"name\":\"role\",\"type\":\"bytes32\"},{\"indexed\":true,\"internalType\":\"address\",\"name\":\"account\",\"type\":\"address\"},{\"indexed\":true,\"internalType\":\"address\",\"name\":\"sender\",\"type\":\"address\"}],\"name\":\"RoleRevoked\",\"type\":\"event\"},{\"inputs\":[],\"name\":\"DEFAULT_ADMIN_ROLE\",\"outputs\":[{\"internalType\":\"bytes32\",\"name\":\"\",\"type\":\"bytes32\"}],\"stateMutability\":\"view\",\"type\":\"function\"},{\"inputs\":[],\"name\":\"EXECUTOR_ROLE\",\"outputs\":[{\"internalType\":\"bytes32\",\"name\":\"\",\"type\":\"bytes32\"}],\"stateMutability\":\"view\",\"type\":\"function\"},{\"inputs\":[],\"name\":\"PROPOSER_ROLE\",\"outputs\":[{\"internalType\":\"bytes32\",\"name\":\"\",\"type\":\"bytes32\"}],\"stateMutability\":\"view\",\"type\":\"function\"},{\"inputs\":[],\"name\":\"TIMELOCK_ADMIN_ROLE\",\"outputs\":[{\"internalType\":\"bytes32\",\"name\":\"\",\"type\":\"bytes32\"}],\"stateMutability\":\"view\",\"type\":\"function\"},{\"inputs\":[{\"internalType\":\"bytes32\",\"name\":\"id\",\"type\":\"bytes32\"}],\"name\":\"cancel\",\"outputs\":[],\"stateMutability\":\"nonpayable\",\"type\":\"function\"},{\"inputs\":[{\"internalType\":\"address\",\"name\":\"target\",\"type\":\"address\"},{\"internalType\":\"uint256\",\"name\":\"value\",\"type\":\"uint256\"},{\"internalType\":\"bytes\",\"name\":\"data\",\"type\":\"bytes\"},{\"internalType\":\"bytes32\",\"name\":\"predecessor\",\"type\":\"bytes32\"},{\"internalType\":\"bytes32\",\"name\":\"salt\",\"type\":\"bytes32\"}],\"name\":\"execute\",\"outputs\":[],\"stateMutability\":\"payable\",\"type\":\"function\"},{\"inputs\":[{\"internalType\":\"address[]\",\"name\":\"targets\",\"type\":\"address[]\"},{\"internalType\":\"uint256[]\",\"name\":\"values\",\"type\":\"uint256[]\"},{\"internalType\":\"bytes[]\",\"name\":\"datas\",\"type\":\"bytes[]\"},{\"internalType\":\"bytes32\",\"name\":\"predecessor\",\"type\":\"bytes32\"},{\"internalType\":\"bytes32\",\"name\":\"salt\",\"type\":\"bytes32\"}],\"name\":\"executeBatch\",\"outputs\":[],\"stateMutability\":\"payable\",\"type\":\"function\"},{\"inputs\":[],\"name\":\"getMinDelay\",\"outputs\":[{\"internalType\":\"uint256\",\"name\":\"duration\",\"type\":\"uint256\"}],\"stateMutability\":\"view\",\"type\":\"function\"},{\"inputs\":[{\"internalType\":\"bytes32\",\"name\":\"role\",\"type\":\"bytes32\"}],\"name\":\"getRoleAdmin\",\"outputs\":[{\"internalType\":\"bytes32\",\"name\":\"\",\"type\":\"bytes32\"}],\"stateMutability\":\"view\",\"type\":\"function\"},{\"inputs\":[{\"internalType\":\"bytes32\",\"name\":\"id\",\"type\":\"bytes32\"}],\"name\":\"getTimestamp\",\"outputs\":[{\"internalType\":\"uint256\",\"name\":\"timestamp\",\"type\":\"uint256\"}],\"stateMutability\":\"view\",\"type\":\"function\"},{\"inputs\":[{\"internalType\":\"bytes32\",\"name\":\"role\",\"type\":\"bytes32\"},{\"internalType\":\"address\",\"name\":\"account\",\"type\":\"address\"}],\"name\":\"grantRole\",\"outputs\":[],\"stateMutability\":\"nonpayable\",\"type\":\"function\"},{\"inputs\":[{\"internalType\":\"bytes32\",\"name\":\"role\",\"type\":\"bytes32\"},{\"internalType\":\"address\",\"name\":\"account\",\"type\":\"address\"}],\"name\":\"hasRole\",\"outputs\":[{\"internalType\":\"bool\",\"name\":\"\",\"type\":\"bool\"}],\"stateMutability\":\"view\",\"type\":\"function\"},{\"inputs\":[{\"internalType\":\"address\",\"name\":\"target\",\"type\":\"address\"},{\"internalType\":\"uint256\",\"name\":\"value\",\"type\":\"uint256\"},{\"internalType\":\"bytes\",\"name\":\"data\",\"type\":\"bytes\"},{\"internalType\":\"bytes32\",\"name\":\"predecessor\",\"type\":\"bytes32\"},{\"internalType\":\"bytes32\",\"name\":\"salt\",\"type\":\"bytes32\"}],\"name\":\"hashOperation\",\"outputs\":[{\"internalType\":\"bytes32\",\"name\":\"hash\",\"type\":\"bytes32\"}],\"stateMutability\":\"pure\",\"type\":\"function\"},{\"inputs\":[{\"internalType\":\"address[]\",\"name\":\"targets\",\"type\":\"address[]\"},{\"internalType\":\"uint256[]\",\"name\":\"values\",\"type\":\"uint256[]\"},{\"internalType\":\"bytes[]\",\"name\":\"datas\",\"type\":\"bytes[]\"},{\"internalType\":\"bytes32\",\"name\":\"predecessor\",\"type\":\"bytes32\"},{\"internalType\":\"bytes32\",\"name\":\"salt\",\"type\":\"bytes32\"}],\"name\":\"hashOperationBatch\",\"outputs\":[{\"internalType\":\"bytes32\",\"name\":\"hash\",\"type\":\"bytes32\"}],\"stateMutability\":\"pure\",\"type\":\"function\"},{\"inputs\":[{\"internalType\":\"bytes32\",\"name\":\"id\",\"type\":\"bytes32\"}],\"name\":\"isOperation\",\"outputs\":[{\"internalType\":\"bool\",\"name\":\"pending\",\"type\":\"bool\"}],\"stateMutability\":\"view\",\"type\":\"function\"},{\"inputs\":[{\"internalType\":\"bytes32\",\"name\":\"id\",\"type\":\"bytes32\"}],\"name\":\"isOperationDone\",\"outputs\":[{\"internalType\":\"bool\",\"name\":\"done\",\"type\":\"bool\"}],\"stateMutability\":\"view\",\"type\":\"function\"},{\"inputs\":[{\"internalType\":\"bytes32\",\"name\":\"id\",\"type\":\"bytes32\"}],\"name\":\"isOperationPending\",\"outputs\":[{\"internalType\":\"bool\",\"name\":\"pending\",\"type\":\"bool\"}],\"stateMutability\":\"view\",\"type\":\"function\"},{\"inputs\":[{\"internalType\":\"bytes32\",\"name\":\"id\",\"type\":\"bytes32\"}],\"name\":\"isOperationReady\",\"outputs\":[{\"internalType\":\"bool\",\"name\":\"ready\",\"type\":\"bool\"}],\"stateMutability\":\"view\",\"type\":\"function\"},{\"inputs\":[{\"internalType\":\"bytes32\",\"name\":\"role\",\"type\":\"bytes32\"},{\"internalType\":\"address\",\"name\":\"account\",\"type\":\"address\"}],\"name\":\"renounceRole\",\"outputs\":[],\"stateMutability\":\"nonpayable\",\"type\":\"function\"},{\"inputs\":[{\"internalType\":\"bytes32\",\"name\":\"role\",\"type\":\"bytes32\"},{\"internalType\":\"address\",\"name\":\"account\",\"type\":\"address\"}],\"name\":\"revokeRole\",\"outputs\":[],\"stateMutability\":\"nonpayable\",\"type\":\"function\"},{\"inputs\":[{\"internalType\":\"address\",\"name\":\"target\",\"type\":\"address\"},{\"internalType\":\"uint256\",\"name\":\"value\",\"type\":\"uint256\"},{\"internalType\":\"bytes\",\"name\":\"data\",\"type\":\"bytes\"},{\"internalType\":\"bytes32\",\"name\":\"predecessor\",\"type\":\"bytes32\"},{\"internalType\":\"bytes32\",\"name\":\"salt\",\"type\":\"bytes32\"},{\"internalType\":\"uint256\",\"name\":\"delay\",\"type\":\"uint256\"}],\"name\":\"schedule\",\"outputs\":[],\"stateMutability\":\"nonpayable\",\"type\":\"function\"},{\"inputs\":[{\"internalType\":\"address[]\",\"name\":\"targets\",\"type\":\"address[]\"},{\"internalType\":\"uint256[]\",\"name\":\"values\",\"type\":\"uint256[]\"},{\"internalType\":\"bytes[]\",\"name\":\"datas\",\"type\":\"bytes[]\"},{\"internalType\":\"bytes32\",\"name\":\"predecessor\",\"type\":\"bytes32\"},{\"internalType\":\"bytes32\",\"name\":\"salt\",\"type\":\"bytes32\"},{\"internalType\":\"uint256\",\"name\":\"delay\",\"type\":\"uint256\"}],\"name\":\"scheduleBatch\",\"outputs\":[],\"stateMutability\":\"nonpayable\",\"type\":\"function\"},{\"inputs\":[{\"internalType\":\"bytes4\",\"name\":\"interfaceId\",\"type\":\"bytes4\"}],\"name\":\"supportsInterface\",\"outputs\":[{\"internalType\":\"bool\",\"name\":\"\",\"type\":\"bool\"}],\"stateMutability\":\"view\",\"type\":\"function\"},{\"inputs\":[{\"internalType\":\"uint256\",\"name\":\"newDelay\",\"type\":\"uint256\"}],\"name\":\"updateDelay\",\"outputs\":[],\"stateMutability\":\"nonpayable\",\"type\":\"function\"},{\"stateMutability\":\"payable\",\"type\":\"receive\"}]'\n",
    "\n",
    "ens_registrar_address = Web3.toChecksumAddress(\"0x283af0b28c62c092c9727f1ee09c02ca627eb7f5\")\n",
    "ens_registrar_abi = '[{\"inputs\":[{\"internalType\":\"contract BaseRegistrar\",\"name\":\"_base\",\"type\":\"address\"},{\"internalType\":\"contract PriceOracle\",\"name\":\"_prices\",\"type\":\"address\"},{\"internalType\":\"uint256\",\"name\":\"_minCommitmentAge\",\"type\":\"uint256\"},{\"internalType\":\"uint256\",\"name\":\"_maxCommitmentAge\",\"type\":\"uint256\"}],\"payable\":false,\"stateMutability\":\"nonpayable\",\"type\":\"constructor\"},{\"anonymous\":false,\"inputs\":[{\"indexed\":false,\"internalType\":\"string\",\"name\":\"name\",\"type\":\"string\"},{\"indexed\":true,\"internalType\":\"bytes32\",\"name\":\"label\",\"type\":\"bytes32\"},{\"indexed\":true,\"internalType\":\"address\",\"name\":\"owner\",\"type\":\"address\"},{\"indexed\":false,\"internalType\":\"uint256\",\"name\":\"cost\",\"type\":\"uint256\"},{\"indexed\":false,\"internalType\":\"uint256\",\"name\":\"expires\",\"type\":\"uint256\"}],\"name\":\"NameRegistered\",\"type\":\"event\"},{\"anonymous\":false,\"inputs\":[{\"indexed\":false,\"internalType\":\"string\",\"name\":\"name\",\"type\":\"string\"},{\"indexed\":true,\"internalType\":\"bytes32\",\"name\":\"label\",\"type\":\"bytes32\"},{\"indexed\":false,\"internalType\":\"uint256\",\"name\":\"cost\",\"type\":\"uint256\"},{\"indexed\":false,\"internalType\":\"uint256\",\"name\":\"expires\",\"type\":\"uint256\"}],\"name\":\"NameRenewed\",\"type\":\"event\"},{\"anonymous\":false,\"inputs\":[{\"indexed\":true,\"internalType\":\"address\",\"name\":\"oracle\",\"type\":\"address\"}],\"name\":\"NewPriceOracle\",\"type\":\"event\"},{\"anonymous\":false,\"inputs\":[{\"indexed\":true,\"internalType\":\"address\",\"name\":\"previousOwner\",\"type\":\"address\"},{\"indexed\":true,\"internalType\":\"address\",\"name\":\"newOwner\",\"type\":\"address\"}],\"name\":\"OwnershipTransferred\",\"type\":\"event\"},{\"constant\":true,\"inputs\":[],\"name\":\"MIN_REGISTRATION_DURATION\",\"outputs\":[{\"internalType\":\"uint256\",\"name\":\"\",\"type\":\"uint256\"}],\"payable\":false,\"stateMutability\":\"view\",\"type\":\"function\"},{\"constant\":true,\"inputs\":[{\"internalType\":\"string\",\"name\":\"name\",\"type\":\"string\"}],\"name\":\"available\",\"outputs\":[{\"internalType\":\"bool\",\"name\":\"\",\"type\":\"bool\"}],\"payable\":false,\"stateMutability\":\"view\",\"type\":\"function\"},{\"constant\":false,\"inputs\":[{\"internalType\":\"bytes32\",\"name\":\"commitment\",\"type\":\"bytes32\"}],\"name\":\"commit\",\"outputs\":[],\"payable\":false,\"stateMutability\":\"nonpayable\",\"type\":\"function\"},{\"constant\":true,\"inputs\":[{\"internalType\":\"bytes32\",\"name\":\"\",\"type\":\"bytes32\"}],\"name\":\"commitments\",\"outputs\":[{\"internalType\":\"uint256\",\"name\":\"\",\"type\":\"uint256\"}],\"payable\":false,\"stateMutability\":\"view\",\"type\":\"function\"},{\"constant\":true,\"inputs\":[],\"name\":\"isOwner\",\"outputs\":[{\"internalType\":\"bool\",\"name\":\"\",\"type\":\"bool\"}],\"payable\":false,\"stateMutability\":\"view\",\"type\":\"function\"},{\"constant\":true,\"inputs\":[{\"internalType\":\"string\",\"name\":\"name\",\"type\":\"string\"},{\"internalType\":\"address\",\"name\":\"owner\",\"type\":\"address\"},{\"internalType\":\"bytes32\",\"name\":\"secret\",\"type\":\"bytes32\"}],\"name\":\"makeCommitment\",\"outputs\":[{\"internalType\":\"bytes32\",\"name\":\"\",\"type\":\"bytes32\"}],\"payable\":false,\"stateMutability\":\"pure\",\"type\":\"function\"},{\"constant\":true,\"inputs\":[{\"internalType\":\"string\",\"name\":\"name\",\"type\":\"string\"},{\"internalType\":\"address\",\"name\":\"owner\",\"type\":\"address\"},{\"internalType\":\"bytes32\",\"name\":\"secret\",\"type\":\"bytes32\"},{\"internalType\":\"address\",\"name\":\"resolver\",\"type\":\"address\"},{\"internalType\":\"address\",\"name\":\"addr\",\"type\":\"address\"}],\"name\":\"makeCommitmentWithConfig\",\"outputs\":[{\"internalType\":\"bytes32\",\"name\":\"\",\"type\":\"bytes32\"}],\"payable\":false,\"stateMutability\":\"pure\",\"type\":\"function\"},{\"constant\":true,\"inputs\":[],\"name\":\"maxCommitmentAge\",\"outputs\":[{\"internalType\":\"uint256\",\"name\":\"\",\"type\":\"uint256\"}],\"payable\":false,\"stateMutability\":\"view\",\"type\":\"function\"},{\"constant\":true,\"inputs\":[],\"name\":\"minCommitmentAge\",\"outputs\":[{\"internalType\":\"uint256\",\"name\":\"\",\"type\":\"uint256\"}],\"payable\":false,\"stateMutability\":\"view\",\"type\":\"function\"},{\"constant\":true,\"inputs\":[],\"name\":\"owner\",\"outputs\":[{\"internalType\":\"address\",\"name\":\"\",\"type\":\"address\"}],\"payable\":false,\"stateMutability\":\"view\",\"type\":\"function\"},{\"constant\":false,\"inputs\":[{\"internalType\":\"string\",\"name\":\"name\",\"type\":\"string\"},{\"internalType\":\"address\",\"name\":\"owner\",\"type\":\"address\"},{\"internalType\":\"uint256\",\"name\":\"duration\",\"type\":\"uint256\"},{\"internalType\":\"bytes32\",\"name\":\"secret\",\"type\":\"bytes32\"}],\"name\":\"register\",\"outputs\":[],\"payable\":true,\"stateMutability\":\"payable\",\"type\":\"function\"},{\"constant\":false,\"inputs\":[{\"internalType\":\"string\",\"name\":\"name\",\"type\":\"string\"},{\"internalType\":\"address\",\"name\":\"owner\",\"type\":\"address\"},{\"internalType\":\"uint256\",\"name\":\"duration\",\"type\":\"uint256\"},{\"internalType\":\"bytes32\",\"name\":\"secret\",\"type\":\"bytes32\"},{\"internalType\":\"address\",\"name\":\"resolver\",\"type\":\"address\"},{\"internalType\":\"address\",\"name\":\"addr\",\"type\":\"address\"}],\"name\":\"registerWithConfig\",\"outputs\":[],\"payable\":true,\"stateMutability\":\"payable\",\"type\":\"function\"},{\"constant\":false,\"inputs\":[{\"internalType\":\"string\",\"name\":\"name\",\"type\":\"string\"},{\"internalType\":\"uint256\",\"name\":\"duration\",\"type\":\"uint256\"}],\"name\":\"renew\",\"outputs\":[],\"payable\":true,\"stateMutability\":\"payable\",\"type\":\"function\"},{\"constant\":false,\"inputs\":[],\"name\":\"renounceOwnership\",\"outputs\":[],\"payable\":false,\"stateMutability\":\"nonpayable\",\"type\":\"function\"},{\"constant\":true,\"inputs\":[{\"internalType\":\"string\",\"name\":\"name\",\"type\":\"string\"},{\"internalType\":\"uint256\",\"name\":\"duration\",\"type\":\"uint256\"}],\"name\":\"rentPrice\",\"outputs\":[{\"internalType\":\"uint256\",\"name\":\"\",\"type\":\"uint256\"}],\"payable\":false,\"stateMutability\":\"view\",\"type\":\"function\"},{\"constant\":false,\"inputs\":[{\"internalType\":\"uint256\",\"name\":\"_minCommitmentAge\",\"type\":\"uint256\"},{\"internalType\":\"uint256\",\"name\":\"_maxCommitmentAge\",\"type\":\"uint256\"}],\"name\":\"setCommitmentAges\",\"outputs\":[],\"payable\":false,\"stateMutability\":\"nonpayable\",\"type\":\"function\"},{\"constant\":false,\"inputs\":[{\"internalType\":\"contract PriceOracle\",\"name\":\"_prices\",\"type\":\"address\"}],\"name\":\"setPriceOracle\",\"outputs\":[],\"payable\":false,\"stateMutability\":\"nonpayable\",\"type\":\"function\"},{\"constant\":true,\"inputs\":[{\"internalType\":\"bytes4\",\"name\":\"interfaceID\",\"type\":\"bytes4\"}],\"name\":\"supportsInterface\",\"outputs\":[{\"internalType\":\"bool\",\"name\":\"\",\"type\":\"bool\"}],\"payable\":false,\"stateMutability\":\"pure\",\"type\":\"function\"},{\"constant\":false,\"inputs\":[{\"internalType\":\"address\",\"name\":\"newOwner\",\"type\":\"address\"}],\"name\":\"transferOwnership\",\"outputs\":[],\"payable\":false,\"stateMutability\":\"nonpayable\",\"type\":\"function\"},{\"constant\":true,\"inputs\":[{\"internalType\":\"string\",\"name\":\"name\",\"type\":\"string\"}],\"name\":\"valid\",\"outputs\":[{\"internalType\":\"bool\",\"name\":\"\",\"type\":\"bool\"}],\"payable\":false,\"stateMutability\":\"pure\",\"type\":\"function\"},{\"constant\":false,\"inputs\":[],\"name\":\"withdraw\",\"outputs\":[],\"payable\":false,\"stateMutability\":\"nonpayable\",\"type\":\"function\"}]'\n"
   ]
  },
  {
   "cell_type": "code",
   "execution_count": 6,
   "id": "50940801-eef3-4348-846a-8ae0bf07e915",
   "metadata": {},
   "outputs": [],
   "source": [
    "# initializing representations of contracts\n",
    "ens_token_contract = w3.eth.contract(address = ens_token_address, abi = ens_token_abi)\n",
    "ens_nft_contract = w3.eth.contract(address = ens_nft_address, abi = ens_nft_abi)\n",
    "ens_dao_treasury_wallet = w3.eth.contract(address = ens_dao_treasury_address, abi = ens_dao_treasury_abi)\n",
    "ens_registrar_contract = w3.eth.contract(address = ens_registrar_address, abi = ens_registrar_abi)"
   ]
  },
  {
   "cell_type": "markdown",
   "id": "abd01903-0468-496b-a066-6fee96fcbc25",
   "metadata": {},
   "source": [
    "#### Registration Events"
   ]
  },
  {
   "cell_type": "code",
   "execution_count": 8,
   "id": "9878f83e-b882-4b53-88bf-a48f9a0bbc1d",
   "metadata": {},
   "outputs": [],
   "source": [
    "# # get all registration logs\n",
    "# end_block = w3.eth.block_number\n",
    "# start_block = end_block - 6000 * 365 # get one year assuming roughly 6k blocks/day\n",
    "\n",
    "# # dict keyed by block to make filling in chunks easier\n",
    "# logs_all=list()\n",
    "# block = start_block"
   ]
  },
  {
   "cell_type": "code",
   "execution_count": null,
   "id": "98c23cdb-17ef-4555-b5a2-ac364f8190b5",
   "metadata": {},
   "outputs": [],
   "source": [
    "# # get all registration events\n",
    "# while block <= end_block:\n",
    "#     logs_i = ens_nft_contract.events.NameRegistered().getLogs(fromBlock = block - 2000, toBlock = min(block,end_block+2001))\n",
    "#     logs_all+=list(logs_i)\n",
    "#     save_obj(logs_all, 'registration_logs')\n",
    "#     block+=2001\n",
    "#     if block%100==0:\n",
    "#         print(f'{block}, {block-start_block}/{end_block-start_block} ({(block-start_block)/(end_block-start_block)}% done)')"
   ]
  },
  {
   "cell_type": "code",
   "execution_count": null,
   "id": "af63f21b-cef4-412c-b20d-de3160ccd0c9",
   "metadata": {},
   "outputs": [],
   "source": [
    "# # load the logs from loop above\n",
    "# registration_logs=load_obj('registration_logs')"
   ]
  },
  {
   "cell_type": "code",
   "execution_count": null,
   "id": "ab80dbd5-f325-45e3-aade-572a0e5ce5e0",
   "metadata": {},
   "outputs": [],
   "source": [
    "# start where it left off\n",
    "# d=load_obj('registration_logs_dict') #dict()"
   ]
  },
  {
   "cell_type": "code",
   "execution_count": null,
   "id": "f0d502f4-ee16-4892-b3d2-83486d804908",
   "metadata": {},
   "outputs": [],
   "source": [
    "# # get and decode all registration events (moved to a funuction that can be run for chunks in parallel)\n",
    "# for log in registration_logs:\n",
    "#     i+=1\n",
    "#     tx_hash = log.transactionHash\n",
    "#     if not tx_hash.hex() in d.keys():\n",
    "#         tx_receipt = w3.eth.get_transaction_receipt(tx_hash)\n",
    "#         register_event = ens_registrar_contract.events.NameRegistered().processReceipt(tx_receipt,errors=_utils.events.EventLogErrorFlags.Discard)\n",
    "\n",
    "#         d[register_event[0]['transactionHash'].hex()] = {\n",
    "#         'blockNumber':register_event[0]['blockNumber'],\n",
    "#         'owner': register_event[0]['args']['owner'], # not included in renew events\n",
    "#         'name': register_event[0]['args']['name'],\n",
    "#         'cost': register_event[0]['args']['cost'],\n",
    "#         'expires': register_event[0]['args']['expires']\n",
    "#         }\n",
    "        \n",
    "#         save_obj(d, 'registration_logs_dict')\n",
    "\n",
    "#     if i%1000==0: print(f'{i},{len(d)} / {len(registration_logs)} (around {i/len(registration_logs)*100}% done)')\n"
   ]
  },
  {
   "cell_type": "code",
   "execution_count": null,
   "id": "e4919601-233d-4461-b44e-53fb76e46925",
   "metadata": {},
   "outputs": [],
   "source": [
    "# # function to do this in parallel, code above was too slow\n",
    "# def get_registration_dicts(chunk):\n",
    "#     # TODO: change path files save to\n",
    "#     t1=time.time()\n",
    "#     d=dict()\n",
    "#     # get files for fast skipping\n",
    "#     p='/Users/macstrelioff/Documents/git/crypto_public/ENS NFT analyses/registration_logs/'\n",
    "#     finished_hashes = set([f.split('_')[-1].split('.')[0] for f in listdir(p) if isfile(join(p, f))])\n",
    "#     if chunk[-1].transactionHash.hex() in finished_hashes: \n",
    "#         print('chunk previously finished')\n",
    "#         return # skip if the file alreadsy exists\n",
    "        \n",
    "#     first_hash = chunk[0].transactionHash.hex()[0:7]\n",
    "#     i=0\n",
    "#     for log in chunk:\n",
    "#         i+=1\n",
    "#         tx_hash = log.transactionHash\n",
    "#         if tx_hash.hex() in d.keys(): continue # skip if the tx was already logged recently\n",
    "#         attempts = 0\n",
    "#         while attempts<3:\n",
    "#             try:\n",
    "#                 tx_receipt = w3.eth.get_transaction_receipt(tx_hash)\n",
    "#                 register_event = ens_registrar_contract.events.NameRegistered().processReceipt(tx_receipt,errors=_utils.events.EventLogErrorFlags.Discard)\n",
    "\n",
    "#                 d[register_event[0]['transactionHash'].hex()] = {\n",
    "#                 'blockNumber':register_event[0]['blockNumber'],\n",
    "#                 'owner': register_event[0]['args']['owner'], # not included in renew events\n",
    "#                 'name': register_event[0]['args']['name'],\n",
    "#                 'cost': register_event[0]['args']['cost'],\n",
    "#                 'expires': register_event[0]['args']['expires']\n",
    "#                 }\n",
    "#                 attempts=4 # just to exit the loop\n",
    "#             except: \n",
    "#                 time.sleep(.5)\n",
    "#                 print(f'error with: {tx_hash}, attempt: {attempts}')\n",
    "#                 attempts+=1\n",
    "#         if i%200==0: print(f'{first_hash}, {i},{len(d)} / {len(chunk)} (around {i/len(chunk)*100}% done)')\n",
    "#     path = f'registration_logs_dict_{tx_hash.hex()}'\n",
    "#     save_obj(d, path)\n",
    "#     print(f'{first_hash} done in {time.time()-t1}')\n",
    "#     return path"
   ]
  },
  {
   "cell_type": "code",
   "execution_count": null,
   "id": "bb1b6c25-5056-4621-973f-5af4f5fb0b56",
   "metadata": {},
   "outputs": [],
   "source": [
    "# # get index ranges\n",
    "\n",
    "# # left off around 67000\n",
    "# # ranges=[i for i in range(67000,int(len(registration_logs)),int(round(len(registration_logs)/1000)))]\n",
    "# ranges=[i for i in range(0,67000,int(67000/100))] # need to redo first logs bc file was currupt...\n",
    "# ranges.append(len(registration_logs))\n",
    "\n",
    "# # get list of events to pass in each chunk\n",
    "# chunks = [registration_logs[ranges[i]:ranges[i+1]] for i in range(len(ranges)-1)]"
   ]
  },
  {
   "cell_type": "code",
   "execution_count": null,
   "id": "0ee355be-2113-4fa5-a8eb-e6a8340c0937",
   "metadata": {},
   "outputs": [],
   "source": [
    "# pool = ThreadPool()"
   ]
  },
  {
   "cell_type": "code",
   "execution_count": null,
   "id": "f7c0eff1-cf0d-4c80-9582-249dc4c32f97",
   "metadata": {},
   "outputs": [],
   "source": [
    "# results = pool.map(get_registration_dicts, chunks)"
   ]
  },
  {
   "cell_type": "code",
   "execution_count": null,
   "id": "fd9db5bc-1fd6-4391-a84a-25c4d17b3045",
   "metadata": {},
   "outputs": [],
   "source": [
    "# # 970 chunks\n",
    "# # 350s, 6min/ chunk\n",
    "# # 8 parallel chunks\n",
    "# # 970 * 6 / 60 / 8 = around 10h"
   ]
  },
  {
   "cell_type": "markdown",
   "id": "724f6754-36fb-4dce-9258-0022905ecc13",
   "metadata": {
    "tags": []
   },
   "source": [
    "# TODO: process registration log dicts!!"
   ]
  },
  {
   "cell_type": "code",
   "execution_count": 60,
   "id": "38db15bb-5465-4d3c-83fb-ae7bd5e0d1af",
   "metadata": {},
   "outputs": [],
   "source": [
    "# # # get all dict files\n",
    "# p='./registration_logs/'\n",
    "# chunk_files = [f.split('.')[0] for f in listdir(p) if isfile(join(p, f))]"
   ]
  },
  {
   "cell_type": "code",
   "execution_count": 59,
   "id": "7a0c8fde-bb1a-4dc7-b7e4-ded8782f9ae0",
   "metadata": {},
   "outputs": [],
   "source": [
    "# # # join all dicts together\n",
    "# d = dict()\n",
    "# i=0\n",
    "# for c in chunk_files:\n",
    "#     i+=1\n",
    "#     if i % 100 == 0: print(f'{i}/{len(chunk_files)}')\n",
    "#     d_chunk = load_obj(p+c)\n",
    "#     d.update(d_chunk)"
   ]
  },
  {
   "cell_type": "code",
   "execution_count": 61,
   "id": "153a1823-c4e0-4c1f-9e2e-bcf176544164",
   "metadata": {},
   "outputs": [],
   "source": [
    "# len(d) # = 1712361, so might be missing some registration events"
   ]
  },
  {
   "cell_type": "code",
   "execution_count": 58,
   "id": "19f71a98-b872-4874-a068-8ec5c116111b",
   "metadata": {},
   "outputs": [],
   "source": [
    "# # save combined dicts for quicker access later\n",
    "# save_obj(d,'registration_logs_all_dict')"
   ]
  },
  {
   "cell_type": "code",
   "execution_count": 7,
   "id": "c3513de9-9b14-44df-a4c1-aec2c518b79c",
   "metadata": {},
   "outputs": [],
   "source": [
    "# # load ouutput of loop above\n",
    "registration_logs_all_dict = load_obj('registration_logs_all_dict')"
   ]
  },
  {
   "cell_type": "code",
   "execution_count": null,
   "id": "4b810d87-d8ea-4e01-b23d-439ff9f6ac4b",
   "metadata": {},
   "outputs": [],
   "source": [
    "registration_logs_all_df=pd.DataFrame.from_dict(registration_logs_all_dict,orient='index')"
   ]
  },
  {
   "cell_type": "code",
   "execution_count": 9,
   "id": "1a8263e9-69fa-483a-a619-c26c0a049668",
   "metadata": {},
   "outputs": [],
   "source": [
    "blocks = list(set(registration_logs_all_df.blockNumber.values))"
   ]
  },
  {
   "cell_type": "code",
   "execution_count": 17,
   "id": "9a22444f-9510-484d-9f21-db53d809dd3c",
   "metadata": {},
   "outputs": [],
   "source": [
    "# get block ranges\n",
    "ranges=[i for i in range(int(min(blocks)),int(max(blocks)),1000)]\n",
    "ranges.append(max(blocks))\n",
    "# get list of events to pass in each chunk\n",
    "chunks = [list(range(ranges[i],ranges[i+1])) for i in range(len(ranges)-1)]"
   ]
  },
  {
   "cell_type": "code",
   "execution_count": 18,
   "id": "3b20b613-c467-4baf-8b55-2c4976dfb825",
   "metadata": {},
   "outputs": [
    {
     "data": {
      "text/plain": [
       "(2192, 1000)"
      ]
     },
     "execution_count": 18,
     "metadata": {},
     "output_type": "execute_result"
    }
   ],
   "source": [
    "len(chunks),len(chunks[0])"
   ]
  },
  {
   "cell_type": "code",
   "execution_count": 19,
   "id": "49c284d9-0319-4bad-bbe4-04f7ae569e5e",
   "metadata": {},
   "outputs": [],
   "source": [
    "def block_to_ts_helper(chunks):\n",
    "    block_to_ts = dict()\n",
    "    for b in chunks:\n",
    "        attempts = 0\n",
    "        while attempts < 3:\n",
    "            try: \n",
    "                block_to_ts[b] = w3.eth.getBlock(int(b)).timestamp\n",
    "                attempts=4\n",
    "            except:\n",
    "                attempts+=1\n",
    "                time.sleep(0.5)\n",
    "    path = f'./block_to_ts/block_to_ts_{min(chunks)}_{max(chunks)}'\n",
    "    save_obj(block_to_ts, path)"
   ]
  },
  {
   "cell_type": "code",
   "execution_count": 12,
   "id": "2dd70276-514c-4e4b-8b4f-9c208d79132f",
   "metadata": {},
   "outputs": [],
   "source": [
    "pool = ThreadPool(processes=16)"
   ]
  },
  {
   "cell_type": "code",
   "execution_count": null,
   "id": "e0cbcf10-7afd-45c0-b947-311a243aeed4",
   "metadata": {},
   "outputs": [],
   "source": [
    "results = pool.map(block_to_ts_helper, chunks)"
   ]
  },
  {
   "cell_type": "code",
   "execution_count": null,
   "id": "8742c501-b2cb-4eeb-b9e1-c4d4ce789f80",
   "metadata": {},
   "outputs": [],
   "source": [
    "# # # get all dict files\n",
    "p='./block_to_ts/'\n",
    "chunk_files = [f.split('.')[0] for f in listdir(p) if isfile(join(p, f))]\n",
    "# # # join all dicts together\n",
    "d = dict()\n",
    "i=0\n",
    "for c in chunk_files:\n",
    "    i+=1\n",
    "    if i % 100 == 0: print(f'{i}/{len(chunk_files)}')\n",
    "    d_chunk = load_obj(p+c)\n",
    "    d.update(d_chunk)\n",
    "save_obj(d, 'block_to_ts_all_dict')"
   ]
  },
  {
   "cell_type": "code",
   "execution_count": null,
   "id": "ae0b8af1-f468-4d1e-b3cc-894e3b3b140d",
   "metadata": {},
   "outputs": [],
   "source": []
  },
  {
   "cell_type": "markdown",
   "id": "f6eef90e-854a-447e-b2fc-84279ccc0ac7",
   "metadata": {},
   "source": [
    "#### Renewal Events"
   ]
  },
  {
   "cell_type": "code",
   "execution_count": null,
   "id": "6ca081bd-4016-44b1-a3f2-0962d77eb831",
   "metadata": {},
   "outputs": [],
   "source": [
    "# # # get all NameRenewed logs\n",
    "\n",
    "# # params for getting registration and renewal events\n",
    "# # (run before either of the following blocks)\n",
    "# end_block = w3.eth.block_number\n",
    "# start_block = end_block - 6000 * 365 # get one year assuming roughly 6k blocks/day\n",
    "\n",
    "# # dict keyed by block to make filling in chunks easier\n",
    "# logs_all=list()\n",
    "# block = start_block\n",
    "\n",
    "# while block <= end_block:\n",
    "#     logs_i = ens_nft_contract.events.NameRenewed().getLogs(fromBlock = block - 2000, toBlock = min(block,end_block+2001))\n",
    "#     logs_all+=list(logs_i)\n",
    "#     save_obj(logs_all, 'renewal_logs')\n",
    "#     block+=2001\n",
    "#     if block%100==0:\n",
    "#         print(f'{block}, {block-start_block}/{end_block-start_block} ({(block-start_block)/(end_block-start_block)}% done)')"
   ]
  },
  {
   "cell_type": "code",
   "execution_count": null,
   "id": "da80a511-542e-4bfe-bed2-2ed42a0e5a3d",
   "metadata": {},
   "outputs": [],
   "source": [
    "# process renewal logs, save processed logs\n",
    "# load logs from loop above\n",
    "# renewal_logs=load_obj('renewal_logs')"
   ]
  },
  {
   "cell_type": "code",
   "execution_count": null,
   "id": "4d7e828a-899e-4c49-b4a5-0e534d386abe",
   "metadata": {},
   "outputs": [],
   "source": [
    "# # convert them to a dict\n",
    "\n",
    "# d=dict()\n",
    "# for log in renewal_logs:\n",
    "#     tx_hash = log.transactionHash\n",
    "#     tx_receipt = w3.eth.get_transaction_receipt(tx_hash)\n",
    "#     register_event = ens_registrar_contract.events.NameRenewed().processReceipt(tx_receipt)\n",
    "    \n",
    "#     d[register_event[0]['transactionHash'].hex()] = {\n",
    "#     'blockNumber':register_event[0]['blockNumber'],\n",
    "#     # 'owner': register_event[0]['args']['owner'], # not included in renew events\n",
    "#     'name': register_event[0]['args']['name'],\n",
    "#     'cost': register_event[0]['args']['cost'],\n",
    "#     'expires': register_event[0]['args']['expires']\n",
    "#     }\n",
    "\n",
    "# save_obj(d, 'renewal_logs_dict')"
   ]
  },
  {
   "cell_type": "code",
   "execution_count": null,
   "id": "753b1c90-39d0-40e2-81dc-2b8a40b0f8ea",
   "metadata": {},
   "outputs": [],
   "source": [
    "# load the dict created abve\n",
    "# tmp = load_obj('renewal_logs_dict')"
   ]
  },
  {
   "cell_type": "markdown",
   "id": "de992584-c949-45aa-bb2c-069de923f66a",
   "metadata": {},
   "source": [
    "## Registration & Renwal Analyses"
   ]
  },
  {
   "cell_type": "code",
   "execution_count": null,
   "id": "60d0c49b-b943-4118-b908-3df69298a4d4",
   "metadata": {},
   "outputs": [],
   "source": [
    "registration_logs_all_dict = load_obj('registration_logs_all_dict')\n",
    "registration_logs_all_df=pd.DataFrame.from_dict(registration_logs_all_dict,orient='index')"
   ]
  },
  {
   "cell_type": "code",
   "execution_count": null,
   "id": "a86308dd-5291-47d4-aad2-5ddee5555374",
   "metadata": {},
   "outputs": [],
   "source": [
    "block_to_ts_dict = load_obj('block_to_ts_all_dict')\n",
    "block_to_ts_df = pd.DataFrame.from_dict(block_to_ts_dict,orient='index')"
   ]
  },
  {
   "cell_type": "code",
   "execution_count": null,
   "id": "cdb081ad-2571-4b89-8201-ea75fcc8d4fe",
   "metadata": {},
   "outputs": [],
   "source": [
    "renewal_logs_dict = load_obj('renewal_logs_dict')"
   ]
  },
  {
   "cell_type": "code",
   "execution_count": null,
   "id": "8f8ee17b-0ccb-445a-a10d-dbdbf5e093f8",
   "metadata": {},
   "outputs": [],
   "source": []
  },
  {
   "cell_type": "code",
   "execution_count": null,
   "id": "abc8edad-ebbe-4620-a58a-bde226337ca8",
   "metadata": {},
   "outputs": [],
   "source": [
    "# TODO: \n",
    "# join and/or merge to get registrations, renewals, and timestamps\n",
    "\n",
    "# aggregate over months and quarters (June-Sept, ...)\n",
    "# https://stackoverflow.com/questions/1406131/is-there-a-function-to-determine-which-quarter-of-the-year-a-date-is-in\n",
    "\n",
    "# import datetime as dt\n",
    "# import pandas as pd\n",
    "\n",
    "# quarter = pd.Timestamp(dt.date(2016, 2, 29)).quarter\n"
   ]
  },
  {
   "cell_type": "code",
   "execution_count": null,
   "id": "451ddada-6c64-49cf-802a-3fe0f7f70b25",
   "metadata": {},
   "outputs": [],
   "source": []
  },
  {
   "cell_type": "code",
   "execution_count": 36,
   "id": "26a9c968-5ee7-45fc-9be6-691028c67c97",
   "metadata": {},
   "outputs": [],
   "source": [
    "# TODO;\n",
    "# - process registration and renewal logs into dicts\n",
    "# - process them into dfs\n",
    "# - analyses!\n",
    "# -- payments for each\n",
    "# -- registration durations over time (might need nft metadata from below for this)\n",
    "# -- other protocol revenue metrics in prompt..."
   ]
  },
  {
   "cell_type": "markdown",
   "id": "e4fdd824-8180-42f6-aef5-fdade9986ee9",
   "metadata": {},
   "source": [
    "# Use Alchemy for NFT transaction and holder data"
   ]
  },
  {
   "cell_type": "code",
   "execution_count": 13,
   "id": "7c428851-fed1-46d2-9a4a-149cd1f79108",
   "metadata": {},
   "outputs": [],
   "source": [
    "# TODO: \n",
    "# check each alchamey function...\n",
    "\n",
    "# - change token balances to=true? and see what is returned?\n",
    "\n",
    "# - write function for getNFTsForCollection\n",
    "# - process output of getNFTsForCollection\n",
    "\n",
    "\n",
    "# revenue and income projections.. \n",
    "# revenue data from alchamey & knoeledge of registration costs;\n",
    "# name_length, registration date, & expiration date can be used to estimate future revenue?\n",
    "# assuming everyone re-registers at the same prices for the same duration ; \n",
    "# revenue = annual price|name_langth * (expiration date - registration date) in years\n",
    "\n",
    "# estimate\n",
    "# - new users / new registrations & project this with a regression model?\n",
    "# - historical re-registration rate\n",
    "# - quarterly profits from registrations, & from re-registrations?\n"
   ]
  },
  {
   "cell_type": "code",
   "execution_count": 14,
   "id": "be4c33e8-dc94-4039-9746-b90ce95caa81",
   "metadata": {},
   "outputs": [],
   "source": [
    "# Alchamey requests api;\n",
    "\n",
    "base_url = f\"https://eth-mainnet.g.alchemy.com/nft/v2/{apiKey}\"\n",
    "\n",
    "# collection -> owners & owned tokens\n",
    "def getOwnersForCollection():\n",
    "    # docs: https://docs.alchemy.com/reference/getownersforcollection\n",
    "    # first page\n",
    "    first_page_url = base_url+ f\"/getOwnersForCollection?contractAddress={ens_nft_address}&withTokenBalances=true\"\n",
    "    headers = {\"accept\": \"application/json\"}\n",
    "    response = requests.get(first_page_url, headers=headers) \n",
    "\n",
    "    # response.json()['ownerAddresses'] is a list with len() usually around 50k\n",
    "    owner_addresses_page = response.json()['ownerAddresses']\n",
    "    owner_addresses_all = owner_addresses_page\n",
    "\n",
    "    # subsequent pages (todo:add more conditions avoid infinite loops)\n",
    "    while True:\n",
    "        page_key_old = response.json()['pageKey']\n",
    "        next_page_url = first_page_url + f\"&pageKey={page_key_old}\"\n",
    "        response = requests.get(next_page_url, headers=headers) \n",
    "        owner_addresses_page = response.json()['ownerAddresses']\n",
    "        owner_addresses_all+=owner_addresses_page\n",
    "        print(len(owner_addresses_all),page_key_old) # feedback to monitor\n",
    "        if 'pageKey' not in response.json():\n",
    "            print('no more page keys')\n",
    "            return owner_addresses_all\n",
    "\n",
    "# owner -> NFTs owned\n",
    "# https://docs.alchemy.com/reference/getnfts\n",
    "def getNFTs(owner):\n",
    "    first_page_url = base_url + f\"/getNFTs?owner={owner}&contractAddresses[]={ens_nft_address}&withMetadata=true\"\n",
    "    headers = {\"accept\": \"application/json\"}\n",
    "    response = requests.get(first_page_url, headers=headers)\n",
    "    response_json = response.json()\n",
    "\n",
    "    owner_nfts_all = response_json['ownedNfts']\n",
    "    while len(owner_nfts_all) < response_json['totalCount']:\n",
    "            page_key = response_json['pageKey']\n",
    "            next_page_url = first_page_url + f\"&pageKey={page_key}\"\n",
    "            response = requests.get(next_page_url, headers=headers) # introduces dupes bc of page size being 100, need to dedupe later\n",
    "            response_json=response.json()\n",
    "            owner_nfts_all += response_json['ownedNfts']\n",
    "            print(f\"{len(owner_nfts_all)} / {response_json['totalCount']}\",page_key) # feedback to monitor\n",
    "\n",
    "    return owner_nfts_all # may have dupes -- could dedupe by processing into a dict keyed by tokenId\n",
    "\n",
    "def process_nft_list(nft_list):\n",
    "    nfts_df = pd.DataFrame()\n",
    "    for nft in nft_list:\n",
    "        if 'metadata' in nft.keys():\n",
    "            if 'attributes' in nft['metadata'].keys():\n",
    "                if nft['metadata']['attributes']:\n",
    "                    tmp_df=pd.DataFrame(nft['metadata']['attributes']).set_index('trait_type')\n",
    "                    tmp_df=tmp_df.T.loc[['value']] # transpose for easier formatting\n",
    "                else: tmp_df=pd.DataFrame()\n",
    "            else: tmp_df=pd.DataFrame()\n",
    "        else: tmp_df=pd.DataFrame()\n",
    "\n",
    "        if 'title' in nft.keys(): \n",
    "            tmp_df['title'] = nft['title']\n",
    "        else: tmp_df['title'] = None\n",
    "\n",
    "        if 'id' in nft.keys():\n",
    "            if 'tokenId' in nft['id'].keys():\n",
    "                tmp_df['id'] = nft['id']['tokenId']\n",
    "        else: tmp_df['id'] = None\n",
    "\n",
    "        # if 'owner' in nft.keys():\n",
    "        #     tmp_df['owner']=owner\n",
    "        # else: tmp_df['owner']=owner\n",
    "\n",
    "        nfts_df=nfts_df.append(tmp_df)\n",
    "\n",
    "    nfts_df=nfts_df.drop_duplicates()\n",
    "    return nfts_df\n",
    "\n",
    "# process the list of nfts with metadata and dupes\n",
    "\n",
    "# collection -> NFT info\n",
    "# https://docs.alchemy.com/reference/getnftsforcollection\n",
    "# skipped bc relevant info was returned by getNFTs\n",
    "# # getNFTsForCollection\n",
    "# url = f\"https://eth-mainnet.g.alchemy.com/nft/v2/{apiKey}/getNFTsForCollection?contractAddress={ens_nft_address}&withMetadata=true\"\n",
    "# headers = {\"accept\": \"application/json\"}\n",
    "# response = requests.get(url, headers=headers)\n",
    "\n",
    "# NFT sales\n",
    "# https://docs.alchemy.com/reference/getnftsales\n"
   ]
  },
  {
   "cell_type": "markdown",
   "id": "7801b3d9-b960-4330-b201-e5f483360cec",
   "metadata": {},
   "source": [
    "## Owners and domains owned"
   ]
  },
  {
   "cell_type": "markdown",
   "id": "150c7270-9fb6-4f10-8435-36c5ee6e437c",
   "metadata": {},
   "source": [
    "## Method 1: owners -> NFTs -> metadata"
   ]
  },
  {
   "cell_type": "markdown",
   "id": "cd5002b6-d386-4b26-9243-ad6121cc7d60",
   "metadata": {},
   "source": [
    "### Get owners"
   ]
  },
  {
   "cell_type": "code",
   "execution_count": 15,
   "id": "cfe49f38-1188-4ba0-8838-ea7135b917d3",
   "metadata": {},
   "outputs": [
    {
     "name": "stdout",
     "output_type": "stream",
     "text": [
      "19926 MHgwM2QzMmY4OGZjOGIxMGFmMGNiYmJkZjNjOWE3NGEzNmMzNjhlZWZjOjB4N2U5NzMzNjQ1MzZhMmMwNjRjOTFiNjlkMzI3NWZjYWE3NzY4MzUwYTI0NmRhZGJiZTZmOGQyNTU4NzZhMTgxNDpmYWxzZQ==\n",
      "29783 MHgwOGNmOTk2MGM5Mjc3N2JkNmE1OTZhNGYzZGMzNDIxMGQxNjZjODdmOjB4NjAyYzA3NjgyZDg2Y2RkMmE2OTkwM2VjYWUxZjgzNWE0M2VmMjU1MmIwMTk2YWE2YWU0OTA2MGQ1NThlOGViYTpmYWxzZQ==\n",
      "41968 MHgwZDU1ZWE4OGIwYjc2OWY5Mzg3M2Y1Yjk3ODVhYjgwNGQzNzZiZjA4OjB4YTMxMjVkMzY5MDZmZDdiYzhjYjBlNDBkYzM3YjgyOTlhZDhiYTBhMzc4ODliYTI1ZDFjNjJkZTg5M2JlOTJmMDpmYWxzZQ==\n",
      "53778 MHgxMmYzZDU5MzJkMmZkZmJjNGQ2ODU3ZGE5OGIxNDNmNTRmZjVmYjMzOjB4OWI0OGUwYWNiNzg4YzhlNjQ5YTc4MWZhYmMxZmIxYjhlYjMzZGEzYzM0MzlmZjM0Y2ZiMjU2NzZiMjUxMjM4YzpmYWxzZQ==\n",
      "64844 MHgxODU1MWJlMmRiZGUwM2NhYjc1YzU4NWVkYmVkZDgwZmUxZTVlMWYzOjB4NjkwMmNmMDc4YWY4ZTExNWFjYjcwNjNlYWQ5NWEyODA3MzAxYTY2NzA1ZmRiNmFlMGJhOGJjZjA0ZmUxZTgyODpmYWxzZQ==\n",
      "76405 MHgxZDZmMmYwMzU2YjNkZWZhZGYxNGIxYTBmOGEzZGNkYTg5MzY3ZDY4OjB4Y2E4Nzc1YTJkYzhlNWFhZjBmNzZhYmZkZTRlYTgwMzNlOWM5Y2VhMDQ4ZTliMmI3YjJjYjU1MjljMzMxMTgxYjpmYWxzZQ==\n",
      "86700 MHgyMmRmMDA2N2EwOTYxZjhiYTJkMTViNzNiYWUyOWM0ODgyNWE5YWEzOjB4MzM4ZTU0ZmVlY2IyNjg3N2E4NDIzOTBmZDQ5OGQzNmQ1NjBjMTFjZTE1NzA5N2Q3ZmIzNzA0NDY4YTlhMWU2NzpmYWxzZQ==\n",
      "97307 MHgyNzljNGFjNTlmMDM4ZTAyZTc2OTBhOTYyYWI3Yjc0M2Q0NjY3N2ZhOjB4NmZmYjFjOTYxYTJhMzJjYzUyOTc0ZWJkYzZiY2VkODJmNmZmMTYzOTMwZDQ3N2JjYWFjZWQ1OWU5NTg1MDIwYTpmYWxzZQ==\n",
      "104199 MHgyYzczZWJiZjc4YmNlN2NjYzVhMzMzZDZkMTlhZGJmZTA2YWFjOWY1OjB4MjMyNTc5Mjc4ZjViODhiYWRhMzEzNDgyNzYwOTJhM2UyM2JlYzQxYjJmZTEyMTlkZjExODc4MzNhOWQ3ZjU3MzpmYWxzZQ==\n",
      "115253 MHgyZmFiMDI0OWM2YTYwZDcxNTEzNWYxMmU1MWRlN2MxMzBjMjYyODlkOjB4NWU4MDBiYzRmNWJkODdmMGJlNzZiOGQxNWRkODczZmRhNTlmNDFmYWE0YThiOGE1YjliYWJlMGJmZDFjNWMwYjpmYWxzZQ==\n",
      "126207 MHgzNGIzZmUxZjM0ZTNkZjk3Mzg1NDRiYmYyZGYzZDQ3NzI1MDAzNjAzOjB4NmIxMWRhOTMyYzNlNTdkODUyYzczMDMzZWFmNjM1MDM1ZDY0Yzk3NDQzMzVjNzgzNjM0MWUxN2EyNDMyMmI0ZTpmYWxzZQ==\n",
      "137005 MHgzOWQwNzkyYWQ4YTI3N2FmOTBiOTFjMzJlYWJjMmFlZjM3ZjhjMTUxOjB4NjRkZTkyMjE0ZDU2MjZlZDg4YmM5ZTI4OWJhYjE5YjA4OWY4Y2IwNTQ2MTU4MGU1ODIzMzFhZDcyYTE4OWQ3NjpmYWxzZQ==\n",
      "148190 MHgzZWQ3MDA5ZmEyYzJiNWJlOGNhMGVkZjJlZGJiNmY5MzJiYzlhMzk3OjB4NTY0NmQ5Njg3MzgzMTQyN2JiNDEwNDY1ZTYzM2FkODk3ZDZmMDczMWM2ZjE4N2QyNjYyMTkzYmU2ODE3ODJjODpmYWxzZQ==\n",
      "159423 MHg0NDA0MDkzNjllODgzOTNhNTYyZWY5NjhkMWU2MDQ3YjAwZDAzNDBmOjB4MjRkODRkZTVkY2FhYjllN2Y2ZjhkOGRmYWIyZDI5NzVmMmMwMWM3Y2I2YWE4YWE2NTExYTUwNzI3OTJhMGEzNjpmYWxzZQ==\n",
      "170247 MHg0OTI0NjBmNDk4NjM2MGQ1MTRlODdiYmZlMThhOTBlNDg1MThjOWQ3OjB4OTFhN2YyN2IyOTY2MGM1MzkyOWIyYTE2MjNkM2Y5MWRkZWUwZmY3NWQyZjVjOTYzZTk1NjM2YTZiNjg4Yzc0NjpmYWxzZQ==\n",
      "181825 MHg0ZTI0ODE3N2U0MjhiOTdiMTQ2MmEyMDU2YTgwMDBjNThjNGRhZTA1OjB4OGI0NTFjNWJmNzU5OWE2MGUwMjE1NjZhM2I4Yzk5Y2M4OTEyOGUyZmY4ODE5YjE0ZDMzZmJkODZmZWNiNTZjNDpmYWxzZQ==\n",
      "193730 MHg1MzcwYjNjYTU1YmI1NjFlN2JjMDUwYzgxODQ4ODczYjliY2ViYmVjOjB4MTcyMGM5NThjYzU1MDA3OWVlOTY3YWI1ZmQ2YjQ3NWE4NjBhOGExNWMzZGYwOTAxZTdkNjYyMGVhMjE2MjM3NzpmYWxzZQ==\n",
      "206517 MHg1OTA2NGQzNTYyZjI5YTZiZjQ1ZTA3NDI4ZWFkNWQzM2M2NjRlZGM1OjB4ZTY5MWU3MmVkZWZkOGUyYjM0MjBjZGM1NTcxZTBmYmFjNjUwMGE2NmQ2NjY0N2ZjNmQ5Nzk5NzU0NGU5OTFlYzpmYWxzZQ==\n",
      "217750 MHg1ZWZhNWU3MzZiY2JkMzlmYWI5ZDZhZTFkM2ZkNGNhNzBhODBhNjM3OjB4MjgyMzk2ZTk4ZDQ4OTI4ODc1MjNhYmYxOWJjYjEyYjA4ZjE2ZTc4MTBkODk5YjZmZTkxNTZjZWU3NGI4ODA0MzpmYWxzZQ==\n",
      "227898 MHg2NDM3MmRiNjQwNTg3OTIxNGEwYTc2YTdmMWU5YzAxM2ZkMmZkODRiOjB4NDk1YjhiY2NiZWQyMjczZmM3NDI1ZWZhNWRiODQzNjFhNjNlMzYzNmZmMmNmNGU2ODgwMmFjZTJjYzQyNDMzMjpmYWxzZQ==\n",
      "239469 MHg2OGRkYWY3MDMwM2UwNjY4YTYyNTlhM2VhZDA5MGQwYjBhNzc5ZmM4OjB4OTkyZDUwMmJjMDBlYzYzMThjMjQ3YTA1NjQ4Y2EzODFkODUyZDc2ZTRiODcxOTYxZjcxMGNjNjQyYWZkN2VjMDpmYWxzZQ==\n",
      "250925 MHg2ZTNhYTg1ZGI5NWJiYTM2Mjc2YTM3ZWQ5M2IxMmI3YWIwNzgyYWZiOjB4ZmFlODE5NWQwZjQwMWNiZjI0ZWRmZmI4Zjg3MmNlOTI1MzIxY2FlYzg3ZmFlMTljN2FhMDBlMzhiYWJjNmQzMjpmYWxzZQ==\n",
      "262226 MHg3MzgyZjg5MzU5NTY1OWY1NzdhN2VmY2YzYzllNmQ2NmQxMGZkMjdiOjB4MWJlMzFkMDE0ZjFhNzU5NjQxOGYxZDcwOTAzNWUyN2FhY2ExMjI1MGMwNWYxNmI0ZWU1MWZmMjEyMzczYWNhYjpmYWxzZQ==\n",
      "272633 MHg3OGE2YzI3OTAyNjYwYTQwN2QyZGZjZDZhZDJiMDE0ZmRiY2MzZDgxOjB4ODBiNDBhOGM0YjgwNjc1Zjg2NjhlMWYwMDNjM2RhNjlmODFlYjhjOTc4NjgwYjFmMTljODU4ZDZiOTM0OGQwZjpmYWxzZQ==\n",
      "282480 MHg3ZDY3ZmQzZDNjMWY0NTUyY2NiZTYxZmYzYzdiZTk1OTg4NmRhY2Y1OjB4ZmJkMjcyMzMxYzFiOGRkZjlkZWFiNWNkNGJhZGNjYWRhZTY0YzI3MTBmYmRkOWZhNGJlNjI3NjNkM2RlNWI2YzpmYWxzZQ==\n",
      "293613 MHg4MjA0ZWMzYjZiNzU5N2YzN2I5Y2RlYzQ0MGE5M2RjYWYxZjcxMWQ5OjB4ODJmOGQ5N2Q5Y2EzMDViZDg0MDNiMzIyZDdhMjBlMDUzNWEwNTE5ZmFlOWEzMjdmOTIzNzMxMjk0MjU3YjQwZjpmYWxzZQ==\n",
      "303862 MHg4NzMwM2NjYjZiNmNhZTdhZTIxM2E3YTQ1MjY4YmY1ZWVlMWVmMDhlOjB4YTk4Y2YzNzM2NmJkMGIwNzljZDhmMDFhOTFmMzgyZmEwYTk3ZmZjMDM0Njg1YTY2MGQ1ZDBmZmRhOGUwNmMzODpmYWxzZQ==\n",
      "315306 MHg4YmY0NDdiYjcyZTczN2ZjYmZiMzZjNTIyNWUyNDNjMjYyMWJmNWRlOjB4YjFlYmYzNmZmOTk4M2U0MjQxODQ3MmVhNGFjM2IzMWJmOGU0YmQyNDgzNWI3ZjBkY2JhYjJmY2Y4YjEzZjZlODpmYWxzZQ==\n",
      "324626 MHg5MTU5OWM2ZWZmNGEyY2E0YjExZjIwMDE4NDU0YzU1MWI1M2UyOTg4OjB4NDU3MmE5ZWMwZGNmYzMxMTJiNmQ5YjRmZTEwNmNiMTcwZjc3MDVmNDYyMDc0N2IyMGQ2MzhmZTBlMDVhZTVkMzpmYWxzZQ==\n",
      "335671 MHg5NWFmZjg3ZWY2MGQ1MTY2ODU4ZGY4MjVlYWQxNjNhNjYyNmUwM2FiOjB4ZTNiZjMxN2YwNjU4MTQ1NDM3ZTc2NWEzMmQ1Mzc1ZGEwZTgxNjIwZGQ5ZjBlMWZhYzFjNzhmNWY3MDc5ZmI0MjpmYWxzZQ==\n",
      "346968 MHg5YWNiNWU1YzhjNjhhYzk3OTYwZDVhY2E5OWU2NGExYTA3Yzk3NmEyOjB4NTc3ZTY2YzUxYzY4MzJhNTIzNDllYzJjNDEzMmNjZjYyNDJiMGJmZWMzZjM0YTVjNTUxZDg0NGFjYWZiNmYxYTpmYWxzZQ==\n",
      "357482 MHhhMDFkNjQ0ODEwYTcxNDlkZjg2ZGQ5MjY1YzdjMGY5NGZiNzVjNzE4OjB4YjBlNjQwMDEwOWJmMDg2N2Q0NDA5OGViMDY5NmZiZmRiODRjZWQ0YWE5ZWFhNmFmNzY4NmExOWY2MjE2OTYzNjpmYWxzZQ==\n",
      "365396 MHhhNGY4MmI5ZDZiOWVlMDY2ZDc5OTMwYzc0NTUzOWU4MGFlNmMxMmQ2OjB4NWNiOTAzMjBhMDI4M2MwY2M1Y2RkZTY2MTM1MDk2NzIzZDhlMGFmYjkyMmZmMDQwM2Q0OWE5YTEwOTU3MmRkYjpmYWxzZQ==\n",
      "375644 MHhhOGIwOWM2MmIwZGYxMTg3NGY2ZGQ5ZWIxOGUzOTVjNzc3ZWY0YzA1OjB4NTkzY2EwMWRiMTAxMDIzODI5ODgzMDgyZmRmYTZkNGY2NjAxNjk0MjNiZWE3NGQ4NzEzMTdiYzJiMzBiZWIyZTpmYWxzZQ==\n",
      "388208 MHhhZDYxOTc4NWI3NTAwYTBiNTdlYzYzNDZiOTMxMDUwZGFhNjEwODQwOjB4MWJhMTNjZTAwYmE2OTRjOGZmODhkOWJmMDM3YmUwY2U4MzZmYzFmZWMxY2RiOWVmNDkxNzYyMDU5ZTljZDdhZjpmYWxzZQ==\n",
      "399142 MHhiMzMxZjgyZmZhYWIwZDUzMjM5ODY2YzFiYTk5ZjYwNTVhNTFhMGUxOjB4NTlmMmMzMDE4NzA3NTA4OTkzNjRiYWNjMTgzYjdhYzdjM2YxZTc3YWQ0NGJlNTAyM2RkZGM5MmJmMGYxMzgxMjpmYWxzZQ==\n",
      "409951 MHhiODI5YTg5YzA1ODg5NWZlZmM5Y2VmM2Y5ZGEyNmJiYTE0OGIxOTcwOjB4NGZlZjEzZWFkNzYxMDE3ZDNhZjcyZDIwNmQzMGJmMzE4MjljOWZmNzRkZjMwZGEzNTAzNDE0YmU2NjFmZjZlNzpmYWxzZQ==\n",
      "416448 MHhiZDIxMTA5ZTJiZGNiMjRjNGZiY2RjMTZhNGM5MGYzNGU4MTIyOGUyOjB4MWJlZDgxZWM0OWY3MjZlMjRlZGMzYTZlMmM0NmIxM2Q2ZDNmM2ExNWNjYTc1MzU2ZGRlOTc4MzNhODExYzBhODpmYWxzZQ==\n",
      "428646 MHhjMDMxY2YwMmRjNmI1ZDUzZjA5MjY2OWIxMjQ2ZmQ4MTBiZDg1YjM1OjB4MzJjYWNmYTcyNWM2MmU4YjJkYzMzNDM3YzhhNWFkNWJlOTFiOTY4Zjk1YjNhODk4YWZiZjcyYjY4ZDRmOTM0YTpmYWxzZQ==\n",
      "440311 MHhjNWRhMzk4OTJmMjg3YmVlZDY2ODM0ZTFlZTQ0MDcwNmFlZGY5NzljOjB4ZGZjMjdiOWZkNmExN2I1ZGM5YTdkZmFhYWY4ZTkwMWQ3MDJjZGI5Mjk5YzNhZjg1YjkyMzI0NjUwYjU1MGFhODpmYWxzZQ==\n",
      "451677 MHhjYjNiMjgxYzJkMTBiYjYwMGVhZDJiZTJjNjNhNjAwN2Q2YTIyNjdkOjB4ODI1OGQyZjU2NDA5YWJjODRlYTRkMzFiYTE0YjgyYjE4Y2NkYzgxMWE2NGQwZDU3YWI0NjU3YTdlODljMDUyNTpmYWxzZQ==\n",
      "462075 MHhkMDZlZGI0MTEyMGEzYzhhNWJkMTE3MThmOGQ0YmYzN2RmNWQwOWU2OjB4MDNlYWZjMjNkNWIxODU3MmE3OWY2Mjc1NmEzZGM0ZjQ1NTY2YzU1OGUxM2NjZjA2OTNiNzZmODhjN2NkZDk4ZjpmYWxzZQ==\n",
      "473097 MHhkNTM2NzNjMDRhYzU1NzFjMDI1OTdiMmU3OGExYTZhYTA3N2UyZWFmOjB4ZGEzMWUxNmViZDdhMWFjYjJiMjkwM2IwYzU4NjcxMjI3OGIzNDcwMWIzYTA2ZDFiOTNkZjFkNzljOTZlNDYyODpmYWxzZQ==\n",
      "484197 MHhkYTRlNTRkMzY5YjUzZTFlMzRjOTQ4ZWFjNzFmNDgwMjg3MGI3YzMwOjB4YjI0ZTYzMzk3OTBmNTUyOWVmYmFhZmRlYjliMzUzNjAzZDk2MDFlZTVmNDNiYzg1YTlhYjQ5ZDRjYjgwY2RiMzpmYWxzZQ==\n",
      "496418 MHhkZjYxN2ZjMDcyMjE1YzYzODEzN2IzMDM4NjI4YjQyMDA2NGMwNmIyOjB4OTMxNDUwNzVmM2NiYjRmMzRjZjQ2YjU3NGQxZDFkMzExMjUyYmFmMjJkZjkxNzUwMDM5ZWUyMDEyNjFiYWI4MDpmYWxzZQ==\n",
      "507907 MHhlNTAxOGM0MjlhODNmMTkzYmZmOTc2YzM3YjFkMzdmYzJhNTY3YjZjOjB4ODNkNzQ1Y2U2NjkwMGJkNDZmOWIwYWIyMzIzNzc1MmU4M2UyYzlhN2QxNjI5MGJjZDEyMWZmYzZlYWMzYTUxMDpmYWxzZQ==\n",
      "518581 MHhlYTU3YmMyYmVlN2RhOWNiZGI5NmJiMGNkOGEzZmQzNWMzYWYwM2YxOjB4NDliMGU2OTU0MDNkNWEwZWNiMTNiNDEyNGVhZjU5ZmVkMzk3YWUzNDY4ZjljMjEzNjgzYWQ2ZDY2ODZkNTk2YTpmYWxzZQ==\n",
      "528012 MHhlZjRiMGU4YjBjZmE1OWVkM2JlNmMxZTgxNmU1MzYwMmIxNTQ1YTRiOjB4ZmU0MTliNTQ1YmRlMjcxYjZiMjE4ZTk4ZTFkZmJlODAzNDhmYzJiN2RhNDI1YmQ4MzFmOGQ2MTc5OWU2MjRlMTpmYWxzZQ==\n",
      "538498 MHhmM2I2M2Y4YmUzNjk0M2U5MGE0NDliYzhmYThjZGYzOTU1YWFkNjc5OjB4NzRmM2VlNWJjOWVlNjZlYzM4YmU1ZDcwZjFhMTliOTU1ZmJhYzI2MDQyMGQ2YzBmMjc2OGMyZDI2ZjUxMDVmNTpmYWxzZQ==\n",
      "549334 MHhmODg3YWY0YjNjYWRlY2Y4YWM3NGU3MWE5YTY5ZGZmNGQxNGYzYWYxOjB4NjBmOWFmNzdmNDlhZjkxN2NlMjg1MmY5NWUzOTIwNDljZDFjZTcxZWFkMDRmZTQyZjEyMzJhNjY5OGI4YWIxZTpmYWxzZQ==\n",
      "554770 MHhmZDkwMTM0MmViZGE3ZWQ2M2U1OWM0OTRjNDY4MWZhMzc1MWU2YjU4OjB4MGNmZGQ3ZTMwZDBiZmM3YmI4ODc3MDFlZWQ4MDFkMTkwOTY0ZTE0NzZmNjI3YWIwMzljOTIyYmYyNGNmMzQ1ZjpmYWxzZQ==\n",
      "no more page keys\n"
     ]
    }
   ],
   "source": [
    "# get owners\n",
    "owner_addresses_all = getOwnersForCollection()"
   ]
  },
  {
   "cell_type": "code",
   "execution_count": 16,
   "id": "bfa81913-0321-4e0a-b856-a67acc6c4a50",
   "metadata": {},
   "outputs": [
    {
     "name": "stdout",
     "output_type": "stream",
     "text": [
      "0/554770\n",
      "100000/554770\n",
      "200000/554770\n",
      "300000/554770\n",
      "400000/554770\n",
      "500000/554770\n",
      "done.\n"
     ]
    }
   ],
   "source": [
    "# efficiently process info into a long data frame;\n",
    "# step 1) convert to a dict with key:owner id, value: list of owned nfts\n",
    "all_dict = dict()\n",
    "i=-1\n",
    "for owner in owner_addresses_all:\n",
    "    i+=1\n",
    "    if i%100000==0: print(f'{i}/{len(owner_addresses_all)}')\n",
    "    all_dict[owner['ownerAddress']] = [[i['tokenId'] for i in owner['tokenBalances']]]\n",
    "print('done.')"
   ]
  },
  {
   "cell_type": "code",
   "execution_count": 17,
   "id": "be7ae8ce-c4aa-45ac-996f-59e9bb5c94e0",
   "metadata": {},
   "outputs": [
    {
     "data": {
      "text/plain": [
       "554649"
      ]
     },
     "execution_count": 17,
     "metadata": {},
     "output_type": "execute_result"
    }
   ],
   "source": [
    "len(all_dict.keys()) # verify number of owner addresses"
   ]
  },
  {
   "cell_type": "code",
   "execution_count": 18,
   "id": "984e403f-9668-4e64-84d3-ebe49d59088d",
   "metadata": {},
   "outputs": [],
   "source": [
    "# step 2) convert dict of lists into a df of lists\n",
    "tmp=pd.DataFrame.from_dict(all_dict,orient='index',columns=['nft_ids'])\n",
    "# step 3) explode the lists into rows for each (owner,nft id) pair, rename index coluumn\n",
    "tmp=tmp.explode('nft_ids').reset_index().rename(columns={'index':'address_owner'})\n",
    "# save for later usage\n",
    "tmp.to_pickle(path = '/Users/macstrelioff/Documents/git/crypto_public/ENS NFT analyses/owners_and_owned_nft_ids_df')"
   ]
  },
  {
   "cell_type": "code",
   "execution_count": 19,
   "id": "9a853223-e060-47b5-b676-a8cde4967a17",
   "metadata": {},
   "outputs": [],
   "source": [
    "# load the saved result instead of re-running code above\n",
    "owners_and_owned_nft_ids_df = pd.read_pickle('owners_and_owned_nft_ids_df')"
   ]
  },
  {
   "cell_type": "code",
   "execution_count": 22,
   "id": "a69f6671-1cbb-46dc-90f2-1d6f45749355",
   "metadata": {},
   "outputs": [
    {
     "data": {
      "text/html": [
       "<div>\n",
       "<style scoped>\n",
       "    .dataframe tbody tr th:only-of-type {\n",
       "        vertical-align: middle;\n",
       "    }\n",
       "\n",
       "    .dataframe tbody tr th {\n",
       "        vertical-align: top;\n",
       "    }\n",
       "\n",
       "    .dataframe thead th {\n",
       "        text-align: right;\n",
       "    }\n",
       "</style>\n",
       "<table border=\"1\" class=\"dataframe\">\n",
       "  <thead>\n",
       "    <tr style=\"text-align: right;\">\n",
       "      <th></th>\n",
       "      <th>address_owner</th>\n",
       "      <th>nft_ids</th>\n",
       "    </tr>\n",
       "  </thead>\n",
       "  <tbody>\n",
       "    <tr>\n",
       "      <th>0</th>\n",
       "      <td>0x0000000000000000000000000000000000000001</td>\n",
       "      <td>0x048fcb12e6268ffe230ec5cd4148909d78c83d66dd64...</td>\n",
       "    </tr>\n",
       "    <tr>\n",
       "      <th>1</th>\n",
       "      <td>0x0000000000000000000000000000000000000001</td>\n",
       "      <td>0x056ca2314f8a6e8efe226d76ed83647670d0f2cb0ed8...</td>\n",
       "    </tr>\n",
       "    <tr>\n",
       "      <th>2</th>\n",
       "      <td>0x0000000000000000000000000000000000000001</td>\n",
       "      <td>0x06f16259602eb8442dbf3aa9e163eec8557f643ec435...</td>\n",
       "    </tr>\n",
       "    <tr>\n",
       "      <th>3</th>\n",
       "      <td>0x0000000000000000000000000000000000000001</td>\n",
       "      <td>0x0d73a424a96fa74a63677d10aecefbe1d1573495ce66...</td>\n",
       "    </tr>\n",
       "    <tr>\n",
       "      <th>4</th>\n",
       "      <td>0x0000000000000000000000000000000000000001</td>\n",
       "      <td>0x0d9b90614509308bb0ce53096c8410e953af7ca492a1...</td>\n",
       "    </tr>\n",
       "  </tbody>\n",
       "</table>\n",
       "</div>"
      ],
      "text/plain": [
       "                                address_owner  \\\n",
       "0  0x0000000000000000000000000000000000000001   \n",
       "1  0x0000000000000000000000000000000000000001   \n",
       "2  0x0000000000000000000000000000000000000001   \n",
       "3  0x0000000000000000000000000000000000000001   \n",
       "4  0x0000000000000000000000000000000000000001   \n",
       "\n",
       "                                             nft_ids  \n",
       "0  0x048fcb12e6268ffe230ec5cd4148909d78c83d66dd64...  \n",
       "1  0x056ca2314f8a6e8efe226d76ed83647670d0f2cb0ed8...  \n",
       "2  0x06f16259602eb8442dbf3aa9e163eec8557f643ec435...  \n",
       "3  0x0d73a424a96fa74a63677d10aecefbe1d1573495ce66...  \n",
       "4  0x0d9b90614509308bb0ce53096c8410e953af7ca492a1...  "
      ]
     },
     "execution_count": 22,
     "metadata": {},
     "output_type": "execute_result"
    }
   ],
   "source": [
    "owners_and_owned_nft_ids_df.head()"
   ]
  },
  {
   "cell_type": "code",
   "execution_count": 21,
   "id": "20e99011-f0d4-495e-bd39-5f6f46119ae7",
   "metadata": {},
   "outputs": [
    {
     "data": {
      "text/plain": [
       "((2546310, 2), 554649)"
      ]
     },
     "execution_count": 21,
     "metadata": {},
     "output_type": "execute_result"
    }
   ],
   "source": [
    "# some check number of nfts and owners\n",
    "owners_and_owned_nft_ids_df.shape,owners_and_owned_nft_ids_df.address_owner.nunique()"
   ]
  },
  {
   "cell_type": "markdown",
   "id": "ac5b5306-963f-4e8a-b61a-5d3e0d2359fb",
   "metadata": {},
   "source": [
    "### Get nfts by collection id (to be matched to owners later)"
   ]
  },
  {
   "cell_type": "code",
   "execution_count": 48,
   "id": "fcc07127-f1a7-41fb-be30-142b87081098",
   "metadata": {},
   "outputs": [],
   "source": [
    "# # for getting metadata on all nfts in the collection\n",
    "\n",
    "# first_page_url = base_url + f\"/getNFTsForCollection?contractAddress={ens_nft_address}&withMetadata=true\"\n",
    "# headers = {\"accept\": \"application/json\"}\n",
    "# response = requests.get(first_page_url, headers=headers)\n",
    "# nfts_page = response.json()['nfts']\n",
    "\n",
    "# nfts_all = nfts_page\n",
    "\n",
    "# # for pagniation \n",
    "# i=-1"
   ]
  },
  {
   "cell_type": "code",
   "execution_count": 62,
   "id": "2786f6f6-7a83-4dbd-920e-39628c65d47a",
   "metadata": {},
   "outputs": [],
   "source": [
    "startToken = nfts_all[-1]['id']['tokenId']"
   ]
  },
  {
   "cell_type": "code",
   "execution_count": 75,
   "id": "f7e82059-df22-4707-90e7-182f744facf1",
   "metadata": {},
   "outputs": [
    {
     "data": {
      "text/plain": [
       "1791300"
      ]
     },
     "execution_count": 75,
     "metadata": {},
     "output_type": "execute_result"
    }
   ],
   "source": [
    "len(nfts_all)"
   ]
  },
  {
   "cell_type": "code",
   "execution_count": null,
   "id": "ce128b17-397a-4ba5-bf29-dcf7859ddf7c",
   "metadata": {},
   "outputs": [
    {
     "name": "stdout",
     "output_type": "stream",
     "text": [
      "18080 (3 errors), 1791800, 100, aprox. 70.3684940168322% done, 0xaf61fa632fe3de380150d1d0b61a4106206e9bb867f152a530a799f869e23376\n",
      "18083 (1 errors), 1792000, 100, aprox. 70.37634852001524% done, 0xaf64c45c4e0235c369f98c659191421b46ba5b89ec8fda35c7c5006d108d7a90\n",
      "18084 (1 errors), 1792000, 100, aprox. 70.37634852001524% done, 0xaf6757bae7a7713f508d027df42fe27454182a68e6c3a93494407fb8b37e61b5\n",
      "18085 (1 errors), 1792000, 100, aprox. 70.37634852001524% done, 0xaf6757bae7a7713f508d027df42fe27454182a68e6c3a93494407fb8b37e61b5\n",
      "18086 (1 errors), 1792000, 100, aprox. 70.37634852001524% done, 0xaf6757bae7a7713f508d027df42fe27454182a68e6c3a93494407fb8b37e61b5\n",
      "18090 (2 errors), 1792200, 100, aprox. 70.38420302319828% done, 0xaf6a3aeaf7b30fcd0b608944f9c3d1534a61710fc44eacb2a2d2b0e2f2d6e085\n",
      "18100 (5 errors), 1792700, 100, aprox. 70.40383928115587% done, 0xaf76ed1b7a6404c718239588772083caef6eba6f6dd8a6a03d3464c5cc17c614\n",
      "18105 (2 errors), 1793000, 100, aprox. 70.41562103593041% done, 0xaf7f1f15e200326bbb4d353c86e72d7c2b711f1613bdfee6e5509153aa52035d\n",
      "18106 (1 errors), 1793000, 100, aprox. 70.41562103593041% done, 0xaf81b697ca9c8a6e7d12978be5ca025f3683aecdca7dad55efe73620c20d5d6b\n",
      "18107 (1 errors), 1793000, 100, aprox. 70.41562103593041% done, 0xaf81b697ca9c8a6e7d12978be5ca025f3683aecdca7dad55efe73620c20d5d6b\n",
      "18108 (1 errors), 1793000, 100, aprox. 70.41562103593041% done, 0xaf81b697ca9c8a6e7d12978be5ca025f3683aecdca7dad55efe73620c20d5d6b\n",
      "18110 (1 errors), 1793100, 100, aprox. 70.41954828752193% done, 0xaf84bd373d38dd73b3313a0bdc8e94e61f31a33da3ce795debb54d68e9a11f22\n",
      "18120 (4 errors), 1793700, 100, aprox. 70.44311179707105% done, 0xaf913fd72ca889bdbdc3b2f99248f223e06f8069ff30e71ff49046a7b393f3f4\n",
      "18124 (1 errors), 1794000, 100, aprox. 70.45489355184561% done, 0xaf98aee80c15827f78ee5c7fe3c1e806320427a55926fb5e5ee226a7cbec6512\n",
      "18130 (2 errors), 1794400, 100, aprox. 70.47060255821168% done, 0xafa2bf6bcea09a0accaaa61f067cbc8ba00a05f07cb856a125f9de7741444fe7\n",
      "18139 (3 errors), 1795000, 100, aprox. 70.4941660677608% done, 0xafb1696c3ad90a3e2ba1c845a68bc051d1534a96129692e65918ea16b6a8d667\n",
      "18140 (1 errors), 1795000, 100, aprox. 70.4941660677608% done, 0xafb455bae762e3f050382ec1c3c59fa7f1c2a7527d43510f117de054bfc4137e\n",
      "18141 (1 errors), 1795000, 100, aprox. 70.4941660677608% done, 0xafb455bae762e3f050382ec1c3c59fa7f1c2a7527d43510f117de054bfc4137e\n",
      "18142 (1 errors), 1795000, 100, aprox. 70.4941660677608% done, 0xafb455bae762e3f050382ec1c3c59fa7f1c2a7527d43510f117de054bfc4137e\n",
      "18150 (4 errors), 1795400, 100, aprox. 70.50987507412687% done, 0xafbef3a13c12d3aab5d89186f2e162880c85d96d11f2e97a43bc16a77aa0bad6\n",
      "18160 (4 errors), 1796000, 100, aprox. 70.53343858367599% done, 0xafcb68c926ce82017ab84cc5db93c990f3d2f1a045249119d8b59ad18c2e382f\n",
      "18170 (2 errors), 1796800, 100, aprox. 70.56485659640813% done, 0xafdf6fdf182ce5644e4758970384b42f0663a5347f730c9139ae218095da65f2\n",
      "18173 (1 errors), 1797000, 100, aprox. 70.57271109959117% done, 0xafe4395c7d0ad8644cca531f117e67a4787aa9123088e3286cf68c9844cfd0e9\n",
      "18180 (3 errors), 1797400, 100, aprox. 70.58842010595725% done, 0xaff0da768a21441a99a85c3ff8750338291c1a489e41d1286c6c106b9b188dcf\n",
      "18190 (4 errors), 1798000, 100, aprox. 70.61198361550636% done, 0xaffc8bf31bf9cc2746380dccdc3c7405ea5fa666ca4a236739076326577a1c3e\n",
      "18191 (1 errors), 1798000, 100, aprox. 70.61198361550636% done, 0xafff2c4e379cef5f186cbf977a30f4b4950d48f5b9dfcfd76524974a23fcfa6c\n",
      "18200 (2 errors), 1798700, 100, aprox. 70.63947437664699% done, 0xb00f1a9f31526fe7b351071c8b35ceadc54154cef9d7bda9f536542fcdff5c25\n",
      "18203 (0 errors), 1799000, 100, aprox. 70.65125613142155% done, 0xb01789c52ce646def34e4c249c08890ded77d4f340b0f191b0c17d97777867bb\n",
      "18210 (3 errors), 1799400, 100, aprox. 70.66696513778761% done, 0xb023f8352eab482c5572309e7b10ad5a70e1bb07c282546b358e40708becad49\n",
      "18219 (3 errors), 1800000, 100, aprox. 70.69052864733673% done, 0xb03005f2b29a6584cdfedab264cc96a0d62925f78f70118591114f5917282326\n",
      "18220 (1 errors), 1800000, 100, aprox. 70.69052864733673% done, 0xb032aa7a1529cea3b2c07fb819d89625c45c6d86debce982c72497241cb41b72\n",
      "18230 (5 errors), 1800500, 100, aprox. 70.71016490529432% done, 0xb03c99cb4f46446fd9b360cbccda5e816d1fd47811716cae1a2e60fcfbfb85a3\n",
      "18235 (0 errors), 1801000, 100, aprox. 70.72980116325192% done, 0xb049e43080b055e7edbfccbd5a0993086ffe4fb506c1af9c769b7588261b7e19\n",
      "18240 (1 errors), 1801400, 100, aprox. 70.745510169618% done, 0xb053e436f236bde4dba92856a036f19d42041c262bb3da8e7fd311a0a3f8b4ba\n",
      "18249 (3 errors), 1802000, 100, aprox. 70.76907367916711% done, 0xb0637c94ee23d123969e3839b909583e55cd87e1b6e36752d439844b7207ffc8\n",
      "18250 (0 errors), 1802100, 100, aprox. 70.77300093075863% done, 0xb0666c8e6844e1b1fdac893a64b4ef021f5ae9c7aefaccea582185318899d759\n",
      "18260 (1 errors), 1803000, 100, aprox. 70.8083461950823% done, 0xb07c0c94fa78b40d91161ac05114df46b3b9337e490de7ef65d23648aa3ef570\n",
      "18270 (5 errors), 1803500, 100, aprox. 70.82798245303988% done, 0xb08a69c978da3c2c2dceab63fd6723a32675156458f7df83aaefd78ed4dcbf3d\n",
      "18280 (7 errors), 1803800, 100, aprox. 70.83976420781445% done, 0xb0902401aa9dac7e70e406ff4fec69e77d2269d4c725ab41a6576da3d2ffbc92\n",
      "18283 (1 errors), 1804000, 100, aprox. 70.84761871099748% done, 0xb094f3ffb66c4746a56488ae921870d6fe122a64dacfa2f21ccf6c1720788aff\n",
      "18290 (3 errors), 1804400, 100, aprox. 70.86332771736356% done, 0xb0a0f6f23983f06289eb8c6ca3140938c6bd2f26cfcd05f4ea58240c22736248\n",
      "18298 (2 errors), 1805000, 100, aprox. 70.88689122691267% done, 0xb0ad678f21c353f79b975e5e70528e6a832ce1faee92f26839a78c4ee8e53f45\n",
      "18299 (1 errors), 1805000, 100, aprox. 70.88689122691267% done, 0xb0afdbfa1157ff2c2a595b68ddf7b4bae7fbc5028faae6e414d50617399d5baa\n",
      "18300 (1 errors), 1805000, 100, aprox. 70.88689122691267% done, 0xb0afdbfa1157ff2c2a595b68ddf7b4bae7fbc5028faae6e414d50617399d5baa\n",
      "18310 (1 errors), 1805900, 100, aprox. 70.92223649123633% done, 0xb0c3c0ad934e81204d4e849ab0f41a3487d38f0beed8fe7322931d5026e2fce0\n",
      "18312 (1 errors), 1806000, 100, aprox. 70.92616374282785% done, 0xb0c6248d632ed7dcd30488be795b0363ad60591bb7ff5b128814be3b774a66e8\n",
      "18320 (1 errors), 1806700, 100, aprox. 70.9536545039685% done, 0xb0d80aaf1d3af9c2785b23ee4799f7b617a99396d52b12416780f4f0d84f00d8\n",
      "18323 (0 errors), 1807000, 100, aprox. 70.96543625874304% done, 0xb0e01c1d4ddbae59030426a97c0b37685ac91c9fa56d024ecbd1dea492e200bc\n",
      "18324 (1 errors), 1807000, 100, aprox. 70.96543625874304% done, 0xb0e2eabc94fc97d537e4a9a884ec45f13a6d49c7f681cc43dee8fd9ba28e0c42\n",
      "18325 (1 errors), 1807000, 100, aprox. 70.96543625874304% done, 0xb0e2eabc94fc97d537e4a9a884ec45f13a6d49c7f681cc43dee8fd9ba28e0c42\n",
      "18326 (1 errors), 1807000, 100, aprox. 70.96543625874304% done, 0xb0e2eabc94fc97d537e4a9a884ec45f13a6d49c7f681cc43dee8fd9ba28e0c42\n",
      "18330 (3 errors), 1807100, 100, aprox. 70.96936351033456% done, 0xb0e571c182977cdb74b5e888a57f65b79579bca1d0c3609ec7fdfbdc61b95e50\n",
      "18340 (3 errors), 1807800, 100, aprox. 70.9968542714752% done, 0xb0f539e87cf04225e0c7f30e0cc52e698128914225be1f889275e0fbbd8781fd\n",
      "18343 (1 errors), 1808000, 100, aprox. 71.00470877465823% done, 0xb0fa51a36199d90d6dc97fbef477e918afa58cdfe5d3ee7146195989d3c04ce1\n",
      "18350 (2 errors), 1808500, 100, aprox. 71.02434503261583% done, 0xb106827b2004d9a878dc48530332632ae3109185b29efe3b691f5ba33852fc93\n",
      "18357 (2 errors), 1809000, 100, aprox. 71.04398129057343% done, 0xb1125d209ce860e4c9e2d65000841c3228c08293fe6baad260e240bc7171623f\n",
      "18360 (1 errors), 1809200, 100, aprox. 71.05183579375645% done, 0xb1176918d273a219431f2aa7c3d0d485b113cc86cebd06377292c18e42da032f\n",
      "18370 (5 errors), 1809700, 100, aprox. 71.07147205171404% done, 0xb12465a91b83d751aae896bebdad9ebaa1cd77d5ab651c8822630d1d16d88eed\n",
      "18374 (1 errors), 1810000, 100, aprox. 71.0832538064886% done, 0xb12b5513809aa7328a935d50f4a5a0d34c8e7241f6ed888856e76dbb58e12308\n",
      "18380 (1 errors), 1810500, 100, aprox. 71.1028900644462% done, 0xb137e651d839f6ffb1622bc498b7dc2ae1eaa62e294f9f773c72a40ec5fc895d\n",
      "18389 (4 errors), 1811000, 100, aprox. 71.12252632240379% done, 0xb144eb5f34f7a9268f2b29f4dbf6ec730bc9d7ef80f6091fdff38761161b90d9\n",
      "18390 (0 errors), 1811100, 100, aprox. 71.1264535739953% done, 0xb1474e7a73ed1f97316d680bdef3909e1060df04c80f043fe42e8bcd3847cefe\n",
      "18400 (4 errors), 1811700, 100, aprox. 71.15001708354443% done, 0xb1584cd2aafbbeb16835e1e7aa30fc36afd0980518d8105bd6dbed2af0ab4a9d\n",
      "18405 (2 errors), 1812000, 100, aprox. 71.16179883831897% done, 0xb15d9e3948863a1c5d366f4b2ef655f1052e7b914d2d849b737d60326f1bdeea\n",
      "18406 (1 errors), 1812000, 100, aprox. 71.16179883831897% done, 0xb1609034310ba7fc72703ead378c2ff7d7fe83686bd334bca524775cdfe2f165\n",
      "18407 (1 errors), 1812000, 100, aprox. 71.16179883831897% done, 0xb1609034310ba7fc72703ead378c2ff7d7fe83686bd334bca524775cdfe2f165\n",
      "18410 (2 errors), 1812100, 100, aprox. 71.16572608991049% done, 0xb163179ad1b966ebc51d444dac1ca8ae1efdbf373e7661c489fa5be5e8a98925\n",
      "18420 (5 errors), 1812600, 100, aprox. 71.1853623478681% done, 0xb16d6f9dd4bd95b69c90b927741c73405dcc1b33acdf2ef35247682b22b581da\n",
      "18426 (2 errors), 1813000, 100, aprox. 71.20107135423417% done, 0xb177c4b1947162ac5d398905399f2c5d8a89a7e083679a371c8e56be5bbd25e2\n",
      "18427 (1 errors), 1813000, 100, aprox. 71.20107135423417% done, 0xb17a776d82ef3664cb80637fbe74cf4efc2385d017017108b4a23acd9c2250b3\n",
      "18430 (0 errors), 1813300, 100, aprox. 71.21285310900872% done, 0xb17f4cedcbbd5b7974d7d8de32f67177fc85fa1579da1970a9949fa70f6498b5\n",
      "18440 (3 errors), 1814000, 100, aprox. 71.24034387014936% done, 0xb191984bbee2a731ce9ec3c16abe4dd23453e1397ad731858a4672ceb20aaa6c\n",
      "18441 (1 errors), 1814000, 100, aprox. 71.24034387014936% done, 0xb193a432c3ca69a3a85fe81d7dff3baa7eacd39d826640963f285b16fb91172f\n",
      "18442 (1 errors), 1814000, 100, aprox. 71.24034387014936% done, 0xb193a432c3ca69a3a85fe81d7dff3baa7eacd39d826640963f285b16fb91172f\n",
      "18450 (2 errors), 1814600, 100, aprox. 71.26390737969847% done, 0xb1a03f93653a8e884e02e3e717df1a414fcc7a192f1b3670e438baa6bbdb2aa2\n",
      "18457 (3 errors), 1815000, 100, aprox. 71.27961638606453% done, 0xb1a9d8bd4df0e4a2d399c2f591b5ff4adbfd35c7233e90531fd0831cb17c54ba\n",
      "18458 (1 errors), 1815000, 100, aprox. 71.27961638606453% done, 0xb1ac9022c6b7cb8a77041c30da3038a25c05ad227f8249538c3556f817f36a52\n",
      "18460 (1 errors), 1815100, 100, aprox. 71.28354363765605% done, 0xb1af1dff5a28d01f69ddb3eeca6046ae61dbe54827f240925f88727db77396a4\n",
      "18470 (2 errors), 1815900, 100, aprox. 71.31496165038821% done, 0xb1c0c8f648062993c95c30aad78c01e9a1e53888ecb9f5ab0ea6faa6f9edde8c\n",
      "18471 (0 errors), 1816000, 100, aprox. 71.31888890197973% done, 0xb1c3c700252411a3b7a2f3afc27cbf22190d7ed355ddf07a264545613d1fc4d6\n",
      "18472 (1 errors), 1816000, 100, aprox. 71.31888890197973% done, 0xb1c63f72e95b5f021a319f65ef2055e02a9f8af18403fc53d1b424978ab48937\n",
      "18473 (1 errors), 1816000, 100, aprox. 71.31888890197973% done, 0xb1c63f72e95b5f021a319f65ef2055e02a9f8af18403fc53d1b424978ab48937\n",
      "18480 (3 errors), 1816400, 100, aprox. 71.3345979083458% done, 0xb1cdd346e4c5d93b11996764d68bb395a735cedfc2024e812c757003c80b26a6\n",
      "18488 (2 errors), 1817000, 100, aprox. 71.35816141789492% done, 0xb1dc9bf56274fe967ef500a4674262e0fe2af1b1cb607823fe09ade37dd1e9c2\n",
      "18490 (0 errors), 1817200, 100, aprox. 71.36601592107795% done, 0xb1e1b98b857c2d638e09a9306f2288321019d53916024b5afbdd54086966232f\n",
      "18500 (5 errors), 1817700, 100, aprox. 71.38565217903555% done, 0xb1eda29eda5f72e3943fc2b62000953f12a667950526a25f4162da14cec7367f\n",
      "18504 (1 errors), 1818000, 100, aprox. 71.3974339338101% done, 0xb1f57c984fe5aab83d36ecc7d19d3a602f9b7a2874acf5c7d354d8de50e85598\n",
      "18510 (3 errors), 1818300, 100, aprox. 71.40921568858467% done, 0xb1ff9b5173c5a4a859256ece51b5f3898878a5d37487e38e1298aa301f8155d5\n",
      "18520 (6 errors), 1818700, 100, aprox. 71.42492469495073% done, 0xb208d3918e4b6863e881227ed3d812a3c6a2a8a824a57d44f27b8ab8a4f0e2b7\n",
      "18525 (2 errors), 1819000, 100, aprox. 71.43670644972528% done, 0xb20d6a2280c9b5ea59626846b1784d159fd72a039cb1714249c5e65bcc7ce852\n",
      "18526 (1 errors), 1819000, 100, aprox. 71.43670644972528% done, 0xb20ff4d4627738369612ff0b1f8e6c37882e7074a339366478e44c545efe3593\n",
      "18530 (1 errors), 1819300, 100, aprox. 71.44848820449985% done, 0xb21447848166a1b6375cddf832cd5e3d179f97d27dd83aff2353a433b6200209\n",
      "18540 (3 errors), 1820000, 100, aprox. 71.47597896564048% done, 0xb224921bf387f69e53e660db8e3d81c2f7818ab6fbe29ff11bf55e27d058184d\n",
      "18541 (1 errors), 1820000, 100, aprox. 71.47597896564048% done, 0xb226cf1a8949079c0048875456cb6742af814816b7fd3b453d9b96015ac6cb8d\n",
      "18550 (4 errors), 1820500, 100, aprox. 71.49561522359808% done, 0xb233d22a4e7be6043242b9ee6946c6a33b2cdcc91e14b1d2bab8c692a59db25f\n",
      "18559 (4 errors), 1821000, 100, aprox. 71.51525148155567% done, 0xb23df065d8fbc28be4985a05d557dc4d50a0cdb19812453118abe08cc423f50b\n",
      "18560 (1 errors), 1821000, 100, aprox. 71.51525148155567% done, 0xb2403d416b0491809baf0a333fbe6b29ba1339cc703eb0fcdc810846669199c6\n",
      "18570 (3 errors), 1821700, 100, aprox. 71.54274224269629% done, 0xb25212fc50597c80acf16b4c19525d736f8e2fce458268d40030b9077db489f2\n",
      "18574 (1 errors), 1822000, 100, aprox. 71.55452399747085% done, 0xb25726121454abc2d8c7792d560148918c8cac7dc4f8990c97661e486266166e\n",
      "18580 (4 errors), 1822200, 100, aprox. 71.56237850065389% done, 0xb25e9311ee0e79ac7a9925ea4e1ee156feb4718d3babcd750d0ad03c74da8b7b\n",
      "18590 (3 errors), 1822900, 100, aprox. 71.58986926179452% done, 0xb26dc5286b4aa3e52edca8d8839fb2b265d7659a83337a67e408acc576368583\n",
      "18591 (0 errors), 1823000, 100, aprox. 71.59379651338604% done, 0xb270465175446952d59a9957abc261e63355082eb7200a784a0a980521ee3c46\n",
      "18600 (5 errors), 1823400, 100, aprox. 71.60950551975212% done, 0xb27bdac9ef347242ba7a21595d8f77e1f204ece579522f5ca55d622e47ccd293\n",
      "18609 (3 errors), 1824000, 100, aprox. 71.63306902930123% done, 0xb2893ecf2e76a2fe132350b941b68ce90af2bcb0c234468df8d7cf303ffccafd\n",
      "18610 (0 errors), 1824100, 100, aprox. 71.63699628089275% done, 0xb28ba1267baa3cdddc4c92569f6e168961330aa2e268dc56729aff74997423af\n",
      "18620 (5 errors), 1824600, 100, aprox. 71.65663253885035% done, 0xb29847270ffaa101b4ec0b83dc8125bdc1b2bcb5c0c84260068fda2a9ff18b08\n",
      "18629 (5 errors), 1825000, 100, aprox. 71.67234154521641% done, 0xb2a2e9533ad1ada9e400c15512b2147fb9fb4a1194e4579b963c5f78a6f67568\n",
      "18630 (0 errors), 1825100, 100, aprox. 71.67626879680793% done, 0xb2a57ef2036f76a8bad69dec5cbbc74f369975ecef51ac741ab403085a6ed9c0\n",
      "18640 (4 errors), 1825700, 100, aprox. 71.69983230635705% done, 0xb2b781e1279e02ca13bf654d1e2f15c2f760de39062f74450e6755a5439b8dfe\n",
      "18645 (2 errors), 1826000, 100, aprox. 71.7116140611316% done, 0xb2bc4d5fd73b3c7ba7bfd07a652848674d7b0c7e6cc3e593accee1a708e219d5\n",
      "18650 (1 errors), 1826400, 100, aprox. 71.72732306749768% done, 0xb2c6e0b32cab6395d457792a8569d39ef8d071cce85ea4f98f66b499008cf717\n",
      "18658 (2 errors), 1827000, 100, aprox. 71.75088657704678% done, 0xb2d666ef9b4ee8d295141acd253cd8958bc100d9596422f704ac5725ed9533a5\n",
      "18659 (1 errors), 1827000, 100, aprox. 71.75088657704678% done, 0xb2d8e03c643735183af058e118ec9c5c7926bac4776cfc23378d279da12b6ee3\n",
      "18660 (1 errors), 1827000, 100, aprox. 71.75088657704678% done, 0xb2d8e03c643735183af058e118ec9c5c7926bac4776cfc23378d279da12b6ee3\n",
      "18661 (1 errors), 1827000, 100, aprox. 71.75088657704678% done, 0xb2d8e03c643735183af058e118ec9c5c7926bac4776cfc23378d279da12b6ee3\n",
      "18670 (4 errors), 1827500, 100, aprox. 71.77052283500439% done, 0xb2e30e67ca8e35e4dc9163708007b93354819ec005daf334b12c4ef071a29389\n",
      "18678 (3 errors), 1828000, 100, aprox. 71.79015909296197% done, 0xb2ef88ec873d7f592098c3899ffa8243e33a6d41939e07bcb3b9c7c24ddaa03e\n",
      "18680 (1 errors), 1828100, 100, aprox. 71.79408634455349% done, 0xb2f4ba1f3be81dadce4eb698c89ab833eb2e9d99e6386f7787e0e49d8398c433\n",
      "18690 (6 errors), 1828500, 100, aprox. 71.80979535091957% done, 0xb2ff1636aa4b9ec3a46d73164cf1230c1ec3a808f7a9a516e527197dd464c29b\n",
      "18698 (3 errors), 1829000, 100, aprox. 71.82943160887716% done, 0xb3089153b623e5c3a9bf9d05c0823054a59bfc75140a282f4e8a69dcd6e13a52\n",
      "18699 (1 errors), 1829000, 100, aprox. 71.82943160887716% done, 0xb30ae4d5da5c7de6b156878cc6daaf476a473ae5e8a2231fecbb0492430b097b\n",
      "18700 (0 errors), 1829100, 100, aprox. 71.83335886046868% done, 0xb30ae4d5da5c7de6b156878cc6daaf476a473ae5e8a2231fecbb0492430b097b\n",
      "18710 (5 errors), 1829600, 100, aprox. 71.85299511842628% done, 0xb317b4079b78c71c576fb88709c5dab71dd7d72ac9b39fbbc966768a1a6d261f\n",
      "18717 (3 errors), 1830000, 100, aprox. 71.86870412479234% done, 0xb322b1b21bd10bb51a5796017889a6f8a5eecc43f6722ad632d4b5c3a30db515\n",
      "18718 (1 errors), 1830000, 100, aprox. 71.86870412479234% done, 0xb325297059247981d6de4d11c9115d1ae04aee37336a277fe559ad9978cb8b00\n",
      "18720 (1 errors), 1830100, 100, aprox. 71.87263137638386% done, 0xb327c64fdfe917db53508cbdce3fa85f7d993b70200c4961f1c4490a64e3b6fa\n",
      "18730 (5 errors), 1830600, 100, aprox. 71.89226763434145% done, 0xb331772e9055f5da821f38f0778403c35126b3597bb62c19c7c9e4097ebe30c2\n",
      "18740 (6 errors), 1831000, 100, aprox. 71.90797664070755% done, 0xb33c5e0488450d8e0555e1c191768218998295ff25393e4a8bd2be6ab1063106\n",
      "18750 (6 errors), 1831400, 100, aprox. 71.92368564707361% done, 0xb3487cdb46af51b03db07a86c88065a3400e22ae65a304ace8dc2f1efb7169ad\n",
      "18760 (6 errors), 1831800, 100, aprox. 71.93939465343968% done, 0xb35366ed2cf52c26f53ede6f1b86aa822c316a501db62b3bc895c20736c05577\n",
      "18764 (2 errors), 1832000, 100, aprox. 71.94724915662272% done, 0xb355df4082efee2880acfafda74cd6e5cc528c585f29c7a3fa1fdf3ce9da18db\n",
      "18770 (3 errors), 1832300, 100, aprox. 71.95903091139728% done, 0xb36005c16b3feaaf5a1435d3b2ea4ff9e813c525dafb25d643086a3b627f870b\n",
      "18780 (4 errors), 1832900, 100, aprox. 71.98259442094638% done, 0xb36da3db68265bbe63ea59c8bc6a0cf13ecdd8035e4e2de3c01fe45187c072be\n",
      "18781 (0 errors), 1833000, 100, aprox. 71.9865216725379% done, 0xb3705a1b4bb03aa851b31534e12820cd6eb15eacaa4f9f75fa591c70b6b74e8a\n",
      "18790 (3 errors), 1833600, 100, aprox. 72.01008518208702% done, 0xb3824ba8429c44dd07d1499b3b6fd2d5c2fa2892ea8cee954550798606a079e8\n",
      "18794 (0 errors), 1834000, 100, aprox. 72.02579418845309% done, 0xb389981c4ceec416dee684564fa520c06d1d300aa8a1af45c68cc760adec8fb8\n",
      "18795 (1 errors), 1834000, 100, aprox. 72.02579418845309% done, 0xb38c5394216dda7911a59e391c149dc4ddf7ade7a018437dc159b1e3b34f18c6\n",
      "18800 (3 errors), 1834200, 100, aprox. 72.03364869163613% done, 0xb391e003ef2e201305b6ad538fb82d9066931feecbe395abb90d35b58a6e39da\n"
     ]
    }
   ],
   "source": [
    "errors = 0\n",
    "while True:\n",
    "    i+=1\n",
    "    if len(nfts_all)%1000==0 or i%10==0: \n",
    "        save_obj(nfts_all, 'nfts_all')\n",
    "        print(f'{i} ({errors} errors), {len(nfts_all)}, {len(nfts_page)}, aprox. {len(nfts_all)/2546310*100}% done, {startToken}') # feedback to monitor\n",
    "        errors=0\n",
    "    startToken = nfts_all[-1]['id']['tokenId'] # response.json()['nextToken']\n",
    "    next_page_url = first_page_url + f\"&startToken={startToken}\"\n",
    "    response = requests.get(next_page_url, headers=headers) \n",
    "    if response.status_code != 200: \n",
    "        errors+=1\n",
    "        time.sleep(0.5) # pause and try again\n",
    "        continue # try again if status cod isnt 200\n",
    "    nfts_page = response.json()['nfts']\n",
    "    nfts_all+=nfts_page\n",
    "    if 'nextToken' not in response.json():\n",
    "        print('no more page keys')\n",
    "        # return nfts_all"
   ]
  },
  {
   "cell_type": "code",
   "execution_count": null,
   "id": "140330aa-80fc-44fd-8e9b-14bd43f5d8c9",
   "metadata": {},
   "outputs": [],
   "source": []
  },
  {
   "cell_type": "markdown",
   "id": "cb5c53bd-c0d2-4305-8ea0-1529c80bcf4b",
   "metadata": {},
   "source": [
    "### join owners and nft ids to nft metadata kyed by nft id"
   ]
  },
  {
   "cell_type": "code",
   "execution_count": null,
   "id": "cf8cd2c9-f7f9-4a4e-93d8-50e27282f7b0",
   "metadata": {},
   "outputs": [],
   "source": []
  },
  {
   "cell_type": "code",
   "execution_count": null,
   "id": "b0fbecc0-efaf-4a2a-870c-9b282a9bbd0e",
   "metadata": {},
   "outputs": [],
   "source": []
  },
  {
   "cell_type": "code",
   "execution_count": null,
   "id": "f6caabc4-f76f-4b79-82a3-ff1f481c049d",
   "metadata": {},
   "outputs": [],
   "source": []
  },
  {
   "cell_type": "markdown",
   "id": "bc1bb467-bf8c-40df-a27f-58e99fac9c73",
   "metadata": {},
   "source": [
    "## Method 2: Directly get owners and NFTs owned"
   ]
  },
  {
   "cell_type": "code",
   "execution_count": null,
   "id": "6dc48d80-980d-4461-a967-94cb1be758d2",
   "metadata": {},
   "outputs": [],
   "source": [
    "# # get all owner addresses\n",
    "# owner_addresses_all = getOwnersForCollection()"
   ]
  },
  {
   "cell_type": "code",
   "execution_count": null,
   "id": "d23e80cc-7eb1-47af-ab70-9ca857bb3171",
   "metadata": {},
   "outputs": [],
   "source": [
    "# # check number of owners\n",
    "# len(owner_addresses_all) # = 554110, vs 554080 on etherscan https://etherscan.io/token/0x57f1887a8bf19b14fc0df6fd9b2acc9af147ea85#balances"
   ]
  },
  {
   "cell_type": "code",
   "execution_count": null,
   "id": "3e2fdad5-956f-4d70-b0dd-231d74af23d9",
   "metadata": {},
   "outputs": [],
   "source": [
    "# # function for parallelizing\n",
    "# def get_nft_lists(chunk):\n",
    "#     t1=time.time()\n",
    "#     i=0\n",
    "#     for owner_address in chunk:\n",
    "#         i+=1\n",
    "#         if owner_address == '0x000000000000000000000000000000000000dead': continue # skip dead address\n",
    "#         attempts = 0\n",
    "#         while attempts<3:\n",
    "#             try:\n",
    "#                 nft_list = getNFTs(owner_address)\n",
    "#                 path = f'owner_nfts_dicts/nfts_owned_by_{owner_address}'\n",
    "#                 save_obj(nft_list, path)\n",
    "#                 attempts=4 # just to exit the loop\n",
    "#             except: \n",
    "#                 time.sleep(.5)\n",
    "#                 print(f'error with: {owner_address}, attempt: {attempts}')\n",
    "#                 attempts+=1\n",
    "#     print(f'chunk done in {time.time()-t1}')\n",
    "#     return path"
   ]
  },
  {
   "cell_type": "code",
   "execution_count": null,
   "id": "56cec096-0a7b-4c98-bc53-ae2138d96de8",
   "metadata": {},
   "outputs": [],
   "source": [
    "# # left off around 67000\n",
    "# ranges=[i for i in range(0,int(len(owner_addresses_all)),int(round(len(owner_addresses_all)/5550)))]\n",
    "# ranges.append(len(owner_addresses_all))\n",
    "\n",
    "# # get list of events to pass in each chunk\n",
    "# chunks = [owner_addresses_all[ranges[i]:ranges[i+1]] for i in range(len(ranges)-1)]\n"
   ]
  },
  {
   "cell_type": "code",
   "execution_count": null,
   "id": "ca17f17b-dee2-4a87-b1f6-0561091b774a",
   "metadata": {},
   "outputs": [],
   "source": [
    "# pool = ThreadPool()"
   ]
  },
  {
   "cell_type": "code",
   "execution_count": null,
   "id": "e2f21954-7d72-4197-956c-df44af13ad28",
   "metadata": {},
   "outputs": [],
   "source": [
    "# results = pool.map(get_nft_lists, chunks)"
   ]
  },
  {
   "cell_type": "code",
   "execution_count": null,
   "id": "907111b1-1458-4699-9e5c-1caed2011fe4",
   "metadata": {},
   "outputs": [],
   "source": [
    "# # get all nfts owned by each owner & format into a pandas df\n",
    "# # df = pd.DataFrame()\n",
    "# df = pd.read_pickle('owners_and_their_nfts') # to start where this left off...\n",
    "# # i = 0\n",
    "# # i=12000 # last printed id\n",
    "# i=62096"
   ]
  },
  {
   "cell_type": "code",
   "execution_count": null,
   "id": "56dd3a34-91f2-4258-8b6f-b07be1edf882",
   "metadata": {},
   "outputs": [],
   "source": [
    "# # old, unparallel way\n",
    "# # TODO: \n",
    "# # - import pickle, \n",
    "# # - save df so it can be accessed quickly later\n",
    "\n",
    "# # - for faster loop, save each wallet's df, then later concatinate them all.\n",
    "\n",
    "# while i <= len(owner_addresses_all): # looping over indecies makes it easier to continue where i left off if there is an error\n",
    "#     owner_address = owner_addresses_all[i]\n",
    "#     if i%500 == 0: \n",
    "#         df.to_pickle(path = '/Users/macstrelioff/Documents/git/crypto_public/ENS NFT analyses/owners_and_their_nfts')\n",
    "#         print(f'{i} / {len(owner_addresses_all)}')\n",
    "#     if owner_address == '0x000000000000000000000000000000000000dead': continue # skip dead address\n",
    "#     try:\n",
    "#         nft_list = getNFTs(owner_address)\n",
    "#         nft_df = process_nft_list(nft_list) # dead address gave error\n",
    "#     except: \n",
    "#         nft_df = pd.DataFrame()\n",
    "#     nft_df['owner']=owner_address\n",
    "#     df=df.append(nft_df)\n",
    "#     i+=1\n",
    "#     df=df.drop_duplicates()\n"
   ]
  },
  {
   "cell_type": "markdown",
   "id": "544187ed-68f8-44e6-88d8-2dd0127347d7",
   "metadata": {},
   "source": [
    "### Analyses of owned ENS NFTs"
   ]
  },
  {
   "cell_type": "code",
   "execution_count": 7,
   "id": "310ba127-e142-4d4c-b2a7-73abb84ccff6",
   "metadata": {},
   "outputs": [],
   "source": [
    "p='/Users/macstrelioff/Documents/git/crypto_public/ENS NFT analyses/owner_nfts_dicts/'"
   ]
  },
  {
   "cell_type": "code",
   "execution_count": 8,
   "id": "336f9383-51bd-481c-86b3-c8ea7c21b78e",
   "metadata": {},
   "outputs": [],
   "source": [
    "file_names = [f\"./owner_nfts_dicts/{f.split('.')[0]}\" for f in listdir(p) if isfile(join(p, f))]"
   ]
  },
  {
   "cell_type": "code",
   "execution_count": 9,
   "id": "3a89b172-feb9-41a2-9385-8cf8f0656a1f",
   "metadata": {},
   "outputs": [
    {
     "data": {
      "text/plain": [
       "'/owner_nfts_dicts/nfts_owned_by_0x62a48d25c509585ef1b94ada62e7eb16e0969c41'"
      ]
     },
     "execution_count": 9,
     "metadata": {},
     "output_type": "execute_result"
    }
   ],
   "source": [
    "file_names[0]"
   ]
  },
  {
   "cell_type": "code",
   "execution_count": 11,
   "id": "9f8d180e-89d0-40b4-a8c8-3cd46c323ec5",
   "metadata": {},
   "outputs": [],
   "source": [
    "tmp=load_obj(f'./{file_names[0]}')"
   ]
  },
  {
   "cell_type": "code",
   "execution_count": 12,
   "id": "42c7376c-9066-4a13-927b-6f8ef19c445c",
   "metadata": {},
   "outputs": [
    {
     "data": {
      "text/plain": [
       "[{'contract': {'address': '0x57f1887a8bf19b14fc0df6fd9b2acc9af147ea85'},\n",
       "  'id': {'tokenId': '0xb39ec870c831ea5e9d1ee87ad75c0576b582a9c717a5968d5ba4bca1ede1316f',\n",
       "   'tokenMetadata': {'tokenType': 'ERC721'}},\n",
       "  'balance': '1',\n",
       "  'title': 'dvnci.eth',\n",
       "  'description': 'dvnci.eth, an ENS name.',\n",
       "  'tokenUri': {'raw': 'https://metadata.ens.domains/mainnet/0x57f1887a8bf19b14fc0df6fd9b2acc9af147ea85/0xb39ec870c831ea5e9d1ee87ad75c0576b582a9c717a5968d5ba4bca1ede1316f',\n",
       "   'gateway': 'https://metadata.ens.domains/mainnet/0x57f1887a8bf19b14fc0df6fd9b2acc9af147ea85/0xb39ec870c831ea5e9d1ee87ad75c0576b582a9c717a5968d5ba4bca1ede1316f'},\n",
       "  'media': [{'raw': 'https://metadata.ens.domains/mainnet/0x57f1887a8bf19b14fc0df6fd9b2acc9af147ea85/0xb39ec870c831ea5e9d1ee87ad75c0576b582a9c717a5968d5ba4bca1ede1316f/image',\n",
       "    'gateway': 'https://metadata.ens.domains/mainnet/0x57f1887a8bf19b14fc0df6fd9b2acc9af147ea85/0xb39ec870c831ea5e9d1ee87ad75c0576b582a9c717a5968d5ba4bca1ede1316f/image'}],\n",
       "  'metadata': {'background_image': 'https://metadata.ens.domains/mainnet/avatar/dvnci.eth',\n",
       "   'image': 'https://metadata.ens.domains/mainnet/0x57f1887a8bf19b14fc0df6fd9b2acc9af147ea85/0xb39ec870c831ea5e9d1ee87ad75c0576b582a9c717a5968d5ba4bca1ede1316f/image',\n",
       "   'is_normalized': True,\n",
       "   'segment_length': 5,\n",
       "   'image_url': 'https://metadata.ens.domains/mainnet/0x57f1887a8bf19b14fc0df6fd9b2acc9af147ea85/0xb39ec870c831ea5e9d1ee87ad75c0576b582a9c717a5968d5ba4bca1ede1316f/image',\n",
       "   'name': 'dvnci.eth',\n",
       "   'description': 'dvnci.eth, an ENS name.',\n",
       "   'attributes': [{'display_type': 'date',\n",
       "     'value': 1661289067000,\n",
       "     'trait_type': 'Created Date'},\n",
       "    {'display_type': 'number', 'value': 5, 'trait_type': 'Length'},\n",
       "    {'display_type': 'number', 'value': 5, 'trait_type': 'Segment Length'},\n",
       "    {'display_type': 'string',\n",
       "     'value': 'letter',\n",
       "     'trait_type': 'Character Set'},\n",
       "    {'display_type': 'date',\n",
       "     'value': 1661289067000,\n",
       "     'trait_type': 'Registration Date'},\n",
       "    {'display_type': 'date',\n",
       "     'value': 1724402971000,\n",
       "     'trait_type': 'Expiration Date'}],\n",
       "   'name_length': 5,\n",
       "   'version': 0,\n",
       "   'url': 'https://app.ens.domains/name/dvnci.eth'},\n",
       "  'timeLastUpdated': '2022-09-26T09:03:14.982Z'}]"
      ]
     },
     "execution_count": 12,
     "metadata": {},
     "output_type": "execute_result"
    }
   ],
   "source": [
    "tmp"
   ]
  },
  {
   "cell_type": "code",
   "execution_count": null,
   "id": "6d36ec03-3bd0-4278-a6a4-ff328a76e016",
   "metadata": {},
   "outputs": [],
   "source": []
  },
  {
   "cell_type": "code",
   "execution_count": null,
   "id": "1f633389-5c1f-4106-b971-166850296796",
   "metadata": {},
   "outputs": [],
   "source": []
  },
  {
   "cell_type": "markdown",
   "id": "99f19e44-68b6-419b-b8c0-7cd07fb6eeeb",
   "metadata": {},
   "source": [
    "# get nft sales"
   ]
  },
  {
   "cell_type": "code",
   "execution_count": null,
   "id": "0498b6b9-36f1-41e6-a151-6bfc16388a38",
   "metadata": {},
   "outputs": [],
   "source": [
    "# # start about y ear ago, assuming about 6k blocks/day\n",
    "# startBlock = w3.eth.block_number - 6000 * 365 * 4 # should get all trades since ens was created may 2019 on opensea\n",
    "# print(f'startBlock = {startBlock}')\n",
    "# startLogIndex=0\n",
    "\n",
    "# latestBlock = w3.eth.block_number\n",
    "# print(f'latestBlock = {latestBlock}')\n",
    "\n",
    "# url = base_url + f\"/getNFTSales?startBlock={startBlock}&startLogIndex={startLogIndex}&startBundleIndex=0&ascendingOrder=true&marketplace=seaport&contractAddress={ens_nft_address}&buyerIsMaker=true\"\n",
    "# headers = {\"accept\": \"application/json\"}\n",
    "# response = requests.get(url, headers=headers)\n",
    "\n",
    "# returned_sales_df = pd.DataFrame(response.json()['nftSales'])\n",
    "# nft_sales_df = returned_sales_df\n",
    "\n",
    "# newBlockNumber = response.json()['nftSales'][-1]['blockNumber']\n",
    "# newLogIndex = response.json()['nftSales'][-1]['logIndex']\n",
    "\n",
    "# lastPrintBlock = newBlockNumber\n",
    "\n",
    "# while newBlockNumber < latestBlock and len(returned_sales_df)>1:\n",
    "    \n",
    "#     if newBlockNumber - lastPrintBlock > 6000*7: # print feedback for about each week worth of blocks\n",
    "#         lastPrintBlock = newBlockNumber\n",
    "#         print(f'block {newBlockNumber} / {latestBlock} ({(newBlockNumber-startBlock) / (latestBlock-startBlock) * 100}% done)')\n",
    "    \n",
    "#     url = base_url + f\"/getNFTSales?startBlock={newBlockNumber}&startLogIndex={newLogIndex}&startBundleIndex=0&ascendingOrder=true&marketplace=seaport&contractAddress={ens_nft_address}&buyerIsMaker=true\"\n",
    "#     headers = {\"accept\": \"application/json\"}\n",
    "#     response = requests.get(url, headers=headers)\n",
    "#     returned_sales_df = pd.DataFrame(response.json()['nftSales'])\n",
    "#     nft_sales_df = nft_sales_df.append(returned_sales_df)\n",
    "    \n",
    "#     newBlockNumber = response.json()['nftSales'][-1]['blockNumber']\n",
    "#     newLogIndex = response.json()['nftSales'][-1]['logIndex']\n",
    "# print('done.')\n"
   ]
  },
  {
   "cell_type": "code",
   "execution_count": null,
   "id": "70522f6e-6ab0-4ecc-8373-3a4b01ad61e7",
   "metadata": {},
   "outputs": [],
   "source": [
    "# # NOTE possibly missing earlier data\n",
    "# # startBlock = 6880054 # 4 years ago\n",
    "# # latestBlock = 15640054\n",
    "# # block 15009916 / 15640054 (92.80664383561644% done) # first finishd chunk of blocks, seems to skip ~90% of early blocks\n",
    "\n",
    "# save result of loop\n",
    "# nft_sales_df.to_pickle(path = '/Users/macstrelioff/Documents/git/crypto_public/ENS NFT analyses/nft_sales_df')"
   ]
  },
  {
   "cell_type": "code",
   "execution_count": null,
   "id": "66fdb5dd-ec60-4f8e-9123-a22bff98431a",
   "metadata": {},
   "outputs": [],
   "source": [
    "# load the saved result instead of re-running code above\n",
    "nft_sales_df = pd.read_pickle('nft_sales_df')"
   ]
  },
  {
   "cell_type": "code",
   "execution_count": null,
   "id": "fadd5c13-e54a-4d74-bb83-d0473f1b2564",
   "metadata": {},
   "outputs": [],
   "source": []
  }
 ],
 "metadata": {
  "kernelspec": {
   "display_name": "Python 3",
   "language": "python",
   "name": "python3"
  },
  "language_info": {
   "codemirror_mode": {
    "name": "ipython",
    "version": 3
   },
   "file_extension": ".py",
   "mimetype": "text/x-python",
   "name": "python",
   "nbconvert_exporter": "python",
   "pygments_lexer": "ipython3",
   "version": "3.8.6"
  }
 },
 "nbformat": 4,
 "nbformat_minor": 5
}
