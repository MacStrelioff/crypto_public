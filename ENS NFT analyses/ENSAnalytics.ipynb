{
 "cells": [
  {
   "cell_type": "code",
   "execution_count": null,
   "id": "9cb66205-c203-487d-8717-66f79fdbf376",
   "metadata": {},
   "outputs": [],
   "source": [
    "import requests\n",
    "import json\n",
    "from web3 import Web3\n",
    "from web3 import _utils # for error handling\n",
    "\n",
    "import pandas as pd\n",
    "\n",
    "# saving dictionaries and pd dataFrames\n",
    "import pickle\n",
    "def save_obj(obj, name):\n",
    "    with open(name+'.pkl', 'wb') as f:\n",
    "        pickle.dump(obj, f, pickle.HIGHEST_PROTOCOL)\n",
    "def load_obj(name):\n",
    "    with open(name+'.pkl', 'rb') as f:\n",
    "        return pickle.load(f)"
   ]
  },
  {
   "cell_type": "code",
   "execution_count": 2,
   "id": "069f3de3-7257-442a-bf6f-2dfe9cfeef08",
   "metadata": {},
   "outputs": [],
   "source": [
    "# copy api key from https://dashboard.alchemy.com/\n",
    "apiKey=\"\""
   ]
  },
  {
   "cell_type": "markdown",
   "id": "4cb166d6-362f-4f9d-82c4-ba4b86d92539",
   "metadata": {},
   "source": [
    "# Web3 to process registration & renewal transactions\n",
    "\n",
    "- I used web3 to get payments associated with registration and renewal events, which was used to estimate protocol revenue."
   ]
  },
  {
   "cell_type": "code",
   "execution_count": 4,
   "id": "c1bdb35a-04e7-4bb5-b8b1-8e9ca9ce5f08",
   "metadata": {},
   "outputs": [
    {
     "name": "stdout",
     "output_type": "stream",
     "text": [
      "True\n"
     ]
    }
   ],
   "source": [
    "# connect to an ethereum node\n",
    "alchemy_url = f\"https://eth-mainnet.g.alchemy.com/v2/{apiKey}\"\n",
    "w3 = Web3(Web3.HTTPProvider(alchemy_url))\n",
    "print(w3.isConnected())"
   ]
  },
  {
   "cell_type": "code",
   "execution_count": 3,
   "id": "5f256373-5c1c-40e3-9307-26740d5b4853",
   "metadata": {},
   "outputs": [],
   "source": [
    "# contracts, abis from etherscan\n",
    "ens_nft_address = Web3.toChecksumAddress(\"0x57f1887a8bf19b14fc0df6fd9b2acc9af147ea85\")\n",
    "ens_nft_abi = '[{\"inputs\":[{\"internalType\":\"contract ENS\",\"name\":\"_ens\",\"type\":\"address\"},{\"internalType\":\"bytes32\",\"name\":\"_baseNode\",\"type\":\"bytes32\"}],\"payable\":false,\"stateMutability\":\"nonpayable\",\"type\":\"constructor\"},{\"anonymous\":false,\"inputs\":[{\"indexed\":true,\"internalType\":\"address\",\"name\":\"owner\",\"type\":\"address\"},{\"indexed\":true,\"internalType\":\"address\",\"name\":\"approved\",\"type\":\"address\"},{\"indexed\":true,\"internalType\":\"uint256\",\"name\":\"tokenId\",\"type\":\"uint256\"}],\"name\":\"Approval\",\"type\":\"event\"},{\"anonymous\":false,\"inputs\":[{\"indexed\":true,\"internalType\":\"address\",\"name\":\"owner\",\"type\":\"address\"},{\"indexed\":true,\"internalType\":\"address\",\"name\":\"operator\",\"type\":\"address\"},{\"indexed\":false,\"internalType\":\"bool\",\"name\":\"approved\",\"type\":\"bool\"}],\"name\":\"ApprovalForAll\",\"type\":\"event\"},{\"anonymous\":false,\"inputs\":[{\"indexed\":true,\"internalType\":\"address\",\"name\":\"controller\",\"type\":\"address\"}],\"name\":\"ControllerAdded\",\"type\":\"event\"},{\"anonymous\":false,\"inputs\":[{\"indexed\":true,\"internalType\":\"address\",\"name\":\"controller\",\"type\":\"address\"}],\"name\":\"ControllerRemoved\",\"type\":\"event\"},{\"anonymous\":false,\"inputs\":[{\"indexed\":true,\"internalType\":\"uint256\",\"name\":\"id\",\"type\":\"uint256\"},{\"indexed\":true,\"internalType\":\"address\",\"name\":\"owner\",\"type\":\"address\"},{\"indexed\":false,\"internalType\":\"uint256\",\"name\":\"expires\",\"type\":\"uint256\"}],\"name\":\"NameMigrated\",\"type\":\"event\"},{\"anonymous\":false,\"inputs\":[{\"indexed\":true,\"internalType\":\"uint256\",\"name\":\"id\",\"type\":\"uint256\"},{\"indexed\":true,\"internalType\":\"address\",\"name\":\"owner\",\"type\":\"address\"},{\"indexed\":false,\"internalType\":\"uint256\",\"name\":\"expires\",\"type\":\"uint256\"}],\"name\":\"NameRegistered\",\"type\":\"event\"},{\"anonymous\":false,\"inputs\":[{\"indexed\":true,\"internalType\":\"uint256\",\"name\":\"id\",\"type\":\"uint256\"},{\"indexed\":false,\"internalType\":\"uint256\",\"name\":\"expires\",\"type\":\"uint256\"}],\"name\":\"NameRenewed\",\"type\":\"event\"},{\"anonymous\":false,\"inputs\":[{\"indexed\":true,\"internalType\":\"address\",\"name\":\"previousOwner\",\"type\":\"address\"},{\"indexed\":true,\"internalType\":\"address\",\"name\":\"newOwner\",\"type\":\"address\"}],\"name\":\"OwnershipTransferred\",\"type\":\"event\"},{\"anonymous\":false,\"inputs\":[{\"indexed\":true,\"internalType\":\"address\",\"name\":\"from\",\"type\":\"address\"},{\"indexed\":true,\"internalType\":\"address\",\"name\":\"to\",\"type\":\"address\"},{\"indexed\":true,\"internalType\":\"uint256\",\"name\":\"tokenId\",\"type\":\"uint256\"}],\"name\":\"Transfer\",\"type\":\"event\"},{\"constant\":true,\"inputs\":[],\"name\":\"GRACE_PERIOD\",\"outputs\":[{\"internalType\":\"uint256\",\"name\":\"\",\"type\":\"uint256\"}],\"payable\":false,\"stateMutability\":\"view\",\"type\":\"function\"},{\"constant\":false,\"inputs\":[{\"internalType\":\"address\",\"name\":\"controller\",\"type\":\"address\"}],\"name\":\"addController\",\"outputs\":[],\"payable\":false,\"stateMutability\":\"nonpayable\",\"type\":\"function\"},{\"constant\":false,\"inputs\":[{\"internalType\":\"address\",\"name\":\"to\",\"type\":\"address\"},{\"internalType\":\"uint256\",\"name\":\"tokenId\",\"type\":\"uint256\"}],\"name\":\"approve\",\"outputs\":[],\"payable\":false,\"stateMutability\":\"nonpayable\",\"type\":\"function\"},{\"constant\":true,\"inputs\":[{\"internalType\":\"uint256\",\"name\":\"id\",\"type\":\"uint256\"}],\"name\":\"available\",\"outputs\":[{\"internalType\":\"bool\",\"name\":\"\",\"type\":\"bool\"}],\"payable\":false,\"stateMutability\":\"view\",\"type\":\"function\"},{\"constant\":true,\"inputs\":[{\"internalType\":\"address\",\"name\":\"owner\",\"type\":\"address\"}],\"name\":\"balanceOf\",\"outputs\":[{\"internalType\":\"uint256\",\"name\":\"\",\"type\":\"uint256\"}],\"payable\":false,\"stateMutability\":\"view\",\"type\":\"function\"},{\"constant\":true,\"inputs\":[],\"name\":\"baseNode\",\"outputs\":[{\"internalType\":\"bytes32\",\"name\":\"\",\"type\":\"bytes32\"}],\"payable\":false,\"stateMutability\":\"view\",\"type\":\"function\"},{\"constant\":true,\"inputs\":[{\"internalType\":\"address\",\"name\":\"\",\"type\":\"address\"}],\"name\":\"controllers\",\"outputs\":[{\"internalType\":\"bool\",\"name\":\"\",\"type\":\"bool\"}],\"payable\":false,\"stateMutability\":\"view\",\"type\":\"function\"},{\"constant\":true,\"inputs\":[],\"name\":\"ens\",\"outputs\":[{\"internalType\":\"contract ENS\",\"name\":\"\",\"type\":\"address\"}],\"payable\":false,\"stateMutability\":\"view\",\"type\":\"function\"},{\"constant\":true,\"inputs\":[{\"internalType\":\"uint256\",\"name\":\"tokenId\",\"type\":\"uint256\"}],\"name\":\"getApproved\",\"outputs\":[{\"internalType\":\"address\",\"name\":\"\",\"type\":\"address\"}],\"payable\":false,\"stateMutability\":\"view\",\"type\":\"function\"},{\"constant\":true,\"inputs\":[{\"internalType\":\"address\",\"name\":\"owner\",\"type\":\"address\"},{\"internalType\":\"address\",\"name\":\"operator\",\"type\":\"address\"}],\"name\":\"isApprovedForAll\",\"outputs\":[{\"internalType\":\"bool\",\"name\":\"\",\"type\":\"bool\"}],\"payable\":false,\"stateMutability\":\"view\",\"type\":\"function\"},{\"constant\":true,\"inputs\":[],\"name\":\"isOwner\",\"outputs\":[{\"internalType\":\"bool\",\"name\":\"\",\"type\":\"bool\"}],\"payable\":false,\"stateMutability\":\"view\",\"type\":\"function\"},{\"constant\":true,\"inputs\":[{\"internalType\":\"uint256\",\"name\":\"id\",\"type\":\"uint256\"}],\"name\":\"nameExpires\",\"outputs\":[{\"internalType\":\"uint256\",\"name\":\"\",\"type\":\"uint256\"}],\"payable\":false,\"stateMutability\":\"view\",\"type\":\"function\"},{\"constant\":true,\"inputs\":[],\"name\":\"owner\",\"outputs\":[{\"internalType\":\"address\",\"name\":\"\",\"type\":\"address\"}],\"payable\":false,\"stateMutability\":\"view\",\"type\":\"function\"},{\"constant\":true,\"inputs\":[{\"internalType\":\"uint256\",\"name\":\"tokenId\",\"type\":\"uint256\"}],\"name\":\"ownerOf\",\"outputs\":[{\"internalType\":\"address\",\"name\":\"\",\"type\":\"address\"}],\"payable\":false,\"stateMutability\":\"view\",\"type\":\"function\"},{\"constant\":false,\"inputs\":[{\"internalType\":\"uint256\",\"name\":\"id\",\"type\":\"uint256\"},{\"internalType\":\"address\",\"name\":\"owner\",\"type\":\"address\"}],\"name\":\"reclaim\",\"outputs\":[],\"payable\":false,\"stateMutability\":\"nonpayable\",\"type\":\"function\"},{\"constant\":false,\"inputs\":[{\"internalType\":\"uint256\",\"name\":\"id\",\"type\":\"uint256\"},{\"internalType\":\"address\",\"name\":\"owner\",\"type\":\"address\"},{\"internalType\":\"uint256\",\"name\":\"duration\",\"type\":\"uint256\"}],\"name\":\"register\",\"outputs\":[{\"internalType\":\"uint256\",\"name\":\"\",\"type\":\"uint256\"}],\"payable\":false,\"stateMutability\":\"nonpayable\",\"type\":\"function\"},{\"constant\":false,\"inputs\":[{\"internalType\":\"uint256\",\"name\":\"id\",\"type\":\"uint256\"},{\"internalType\":\"address\",\"name\":\"owner\",\"type\":\"address\"},{\"internalType\":\"uint256\",\"name\":\"duration\",\"type\":\"uint256\"}],\"name\":\"registerOnly\",\"outputs\":[{\"internalType\":\"uint256\",\"name\":\"\",\"type\":\"uint256\"}],\"payable\":false,\"stateMutability\":\"nonpayable\",\"type\":\"function\"},{\"constant\":false,\"inputs\":[{\"internalType\":\"address\",\"name\":\"controller\",\"type\":\"address\"}],\"name\":\"removeController\",\"outputs\":[],\"payable\":false,\"stateMutability\":\"nonpayable\",\"type\":\"function\"},{\"constant\":false,\"inputs\":[{\"internalType\":\"uint256\",\"name\":\"id\",\"type\":\"uint256\"},{\"internalType\":\"uint256\",\"name\":\"duration\",\"type\":\"uint256\"}],\"name\":\"renew\",\"outputs\":[{\"internalType\":\"uint256\",\"name\":\"\",\"type\":\"uint256\"}],\"payable\":false,\"stateMutability\":\"nonpayable\",\"type\":\"function\"},{\"constant\":false,\"inputs\":[],\"name\":\"renounceOwnership\",\"outputs\":[],\"payable\":false,\"stateMutability\":\"nonpayable\",\"type\":\"function\"},{\"constant\":false,\"inputs\":[{\"internalType\":\"address\",\"name\":\"from\",\"type\":\"address\"},{\"internalType\":\"address\",\"name\":\"to\",\"type\":\"address\"},{\"internalType\":\"uint256\",\"name\":\"tokenId\",\"type\":\"uint256\"}],\"name\":\"safeTransferFrom\",\"outputs\":[],\"payable\":false,\"stateMutability\":\"nonpayable\",\"type\":\"function\"},{\"constant\":false,\"inputs\":[{\"internalType\":\"address\",\"name\":\"from\",\"type\":\"address\"},{\"internalType\":\"address\",\"name\":\"to\",\"type\":\"address\"},{\"internalType\":\"uint256\",\"name\":\"tokenId\",\"type\":\"uint256\"},{\"internalType\":\"bytes\",\"name\":\"_data\",\"type\":\"bytes\"}],\"name\":\"safeTransferFrom\",\"outputs\":[],\"payable\":false,\"stateMutability\":\"nonpayable\",\"type\":\"function\"},{\"constant\":false,\"inputs\":[{\"internalType\":\"address\",\"name\":\"to\",\"type\":\"address\"},{\"internalType\":\"bool\",\"name\":\"approved\",\"type\":\"bool\"}],\"name\":\"setApprovalForAll\",\"outputs\":[],\"payable\":false,\"stateMutability\":\"nonpayable\",\"type\":\"function\"},{\"constant\":false,\"inputs\":[{\"internalType\":\"address\",\"name\":\"resolver\",\"type\":\"address\"}],\"name\":\"setResolver\",\"outputs\":[],\"payable\":false,\"stateMutability\":\"nonpayable\",\"type\":\"function\"},{\"constant\":true,\"inputs\":[{\"internalType\":\"bytes4\",\"name\":\"interfaceID\",\"type\":\"bytes4\"}],\"name\":\"supportsInterface\",\"outputs\":[{\"internalType\":\"bool\",\"name\":\"\",\"type\":\"bool\"}],\"payable\":false,\"stateMutability\":\"view\",\"type\":\"function\"},{\"constant\":false,\"inputs\":[{\"internalType\":\"address\",\"name\":\"from\",\"type\":\"address\"},{\"internalType\":\"address\",\"name\":\"to\",\"type\":\"address\"},{\"internalType\":\"uint256\",\"name\":\"tokenId\",\"type\":\"uint256\"}],\"name\":\"transferFrom\",\"outputs\":[],\"payable\":false,\"stateMutability\":\"nonpayable\",\"type\":\"function\"},{\"constant\":false,\"inputs\":[{\"internalType\":\"address\",\"name\":\"newOwner\",\"type\":\"address\"}],\"name\":\"transferOwnership\",\"outputs\":[],\"payable\":false,\"stateMutability\":\"nonpayable\",\"type\":\"function\"}]'\n",
    "\n",
    "ens_token_address = Web3.toChecksumAddress(\"0xc18360217d8f7ab5e7c516566761ea12ce7f9d72\")\n",
    "ens_token_abi = '[{\"inputs\":[{\"internalType\":\"uint256\",\"name\":\"freeSupply\",\"type\":\"uint256\"},{\"internalType\":\"uint256\",\"name\":\"airdropSupply\",\"type\":\"uint256\"},{\"internalType\":\"uint256\",\"name\":\"_claimPeriodEnds\",\"type\":\"uint256\"}],\"stateMutability\":\"nonpayable\",\"type\":\"constructor\"},{\"anonymous\":false,\"inputs\":[{\"indexed\":true,\"internalType\":\"address\",\"name\":\"owner\",\"type\":\"address\"},{\"indexed\":true,\"internalType\":\"address\",\"name\":\"spender\",\"type\":\"address\"},{\"indexed\":false,\"internalType\":\"uint256\",\"name\":\"value\",\"type\":\"uint256\"}],\"name\":\"Approval\",\"type\":\"event\"},{\"anonymous\":false,\"inputs\":[{\"indexed\":true,\"internalType\":\"address\",\"name\":\"claimant\",\"type\":\"address\"},{\"indexed\":false,\"internalType\":\"uint256\",\"name\":\"amount\",\"type\":\"uint256\"}],\"name\":\"Claim\",\"type\":\"event\"},{\"anonymous\":false,\"inputs\":[{\"indexed\":true,\"internalType\":\"address\",\"name\":\"delegator\",\"type\":\"address\"},{\"indexed\":true,\"internalType\":\"address\",\"name\":\"fromDelegate\",\"type\":\"address\"},{\"indexed\":true,\"internalType\":\"address\",\"name\":\"toDelegate\",\"type\":\"address\"}],\"name\":\"DelegateChanged\",\"type\":\"event\"},{\"anonymous\":false,\"inputs\":[{\"indexed\":true,\"internalType\":\"address\",\"name\":\"delegate\",\"type\":\"address\"},{\"indexed\":false,\"internalType\":\"uint256\",\"name\":\"previousBalance\",\"type\":\"uint256\"},{\"indexed\":false,\"internalType\":\"uint256\",\"name\":\"newBalance\",\"type\":\"uint256\"}],\"name\":\"DelegateVotesChanged\",\"type\":\"event\"},{\"anonymous\":false,\"inputs\":[{\"indexed\":false,\"internalType\":\"bytes32\",\"name\":\"merkleRoot\",\"type\":\"bytes32\"}],\"name\":\"MerkleRootChanged\",\"type\":\"event\"},{\"anonymous\":false,\"inputs\":[{\"indexed\":true,\"internalType\":\"address\",\"name\":\"previousOwner\",\"type\":\"address\"},{\"indexed\":true,\"internalType\":\"address\",\"name\":\"newOwner\",\"type\":\"address\"}],\"name\":\"OwnershipTransferred\",\"type\":\"event\"},{\"anonymous\":false,\"inputs\":[{\"indexed\":true,\"internalType\":\"address\",\"name\":\"from\",\"type\":\"address\"},{\"indexed\":true,\"internalType\":\"address\",\"name\":\"to\",\"type\":\"address\"},{\"indexed\":false,\"internalType\":\"uint256\",\"name\":\"value\",\"type\":\"uint256\"}],\"name\":\"Transfer\",\"type\":\"event\"},{\"inputs\":[],\"name\":\"DOMAIN_SEPARATOR\",\"outputs\":[{\"internalType\":\"bytes32\",\"name\":\"\",\"type\":\"bytes32\"}],\"stateMutability\":\"view\",\"type\":\"function\"},{\"inputs\":[{\"internalType\":\"address\",\"name\":\"owner\",\"type\":\"address\"},{\"internalType\":\"address\",\"name\":\"spender\",\"type\":\"address\"}],\"name\":\"allowance\",\"outputs\":[{\"internalType\":\"uint256\",\"name\":\"\",\"type\":\"uint256\"}],\"stateMutability\":\"view\",\"type\":\"function\"},{\"inputs\":[{\"internalType\":\"address\",\"name\":\"spender\",\"type\":\"address\"},{\"internalType\":\"uint256\",\"name\":\"amount\",\"type\":\"uint256\"}],\"name\":\"approve\",\"outputs\":[{\"internalType\":\"bool\",\"name\":\"\",\"type\":\"bool\"}],\"stateMutability\":\"nonpayable\",\"type\":\"function\"},{\"inputs\":[{\"internalType\":\"address\",\"name\":\"account\",\"type\":\"address\"}],\"name\":\"balanceOf\",\"outputs\":[{\"internalType\":\"uint256\",\"name\":\"\",\"type\":\"uint256\"}],\"stateMutability\":\"view\",\"type\":\"function\"},{\"inputs\":[{\"internalType\":\"address\",\"name\":\"account\",\"type\":\"address\"},{\"internalType\":\"uint32\",\"name\":\"pos\",\"type\":\"uint32\"}],\"name\":\"checkpoints\",\"outputs\":[{\"components\":[{\"internalType\":\"uint32\",\"name\":\"fromBlock\",\"type\":\"uint32\"},{\"internalType\":\"uint224\",\"name\":\"votes\",\"type\":\"uint224\"}],\"internalType\":\"struct ERC20Votes.Checkpoint\",\"name\":\"\",\"type\":\"tuple\"}],\"stateMutability\":\"view\",\"type\":\"function\"},{\"inputs\":[],\"name\":\"claimPeriodEnds\",\"outputs\":[{\"internalType\":\"uint256\",\"name\":\"\",\"type\":\"uint256\"}],\"stateMutability\":\"view\",\"type\":\"function\"},{\"inputs\":[{\"internalType\":\"uint256\",\"name\":\"amount\",\"type\":\"uint256\"},{\"internalType\":\"address\",\"name\":\"delegate\",\"type\":\"address\"},{\"internalType\":\"bytes32[]\",\"name\":\"merkleProof\",\"type\":\"bytes32[]\"}],\"name\":\"claimTokens\",\"outputs\":[],\"stateMutability\":\"nonpayable\",\"type\":\"function\"},{\"inputs\":[],\"name\":\"decimals\",\"outputs\":[{\"internalType\":\"uint8\",\"name\":\"\",\"type\":\"uint8\"}],\"stateMutability\":\"view\",\"type\":\"function\"},{\"inputs\":[{\"internalType\":\"address\",\"name\":\"spender\",\"type\":\"address\"},{\"internalType\":\"uint256\",\"name\":\"subtractedValue\",\"type\":\"uint256\"}],\"name\":\"decreaseAllowance\",\"outputs\":[{\"internalType\":\"bool\",\"name\":\"\",\"type\":\"bool\"}],\"stateMutability\":\"nonpayable\",\"type\":\"function\"},{\"inputs\":[{\"internalType\":\"address\",\"name\":\"delegatee\",\"type\":\"address\"}],\"name\":\"delegate\",\"outputs\":[],\"stateMutability\":\"nonpayable\",\"type\":\"function\"},{\"inputs\":[{\"internalType\":\"address\",\"name\":\"delegatee\",\"type\":\"address\"},{\"internalType\":\"uint256\",\"name\":\"nonce\",\"type\":\"uint256\"},{\"internalType\":\"uint256\",\"name\":\"expiry\",\"type\":\"uint256\"},{\"internalType\":\"uint8\",\"name\":\"v\",\"type\":\"uint8\"},{\"internalType\":\"bytes32\",\"name\":\"r\",\"type\":\"bytes32\"},{\"internalType\":\"bytes32\",\"name\":\"s\",\"type\":\"bytes32\"}],\"name\":\"delegateBySig\",\"outputs\":[],\"stateMutability\":\"nonpayable\",\"type\":\"function\"},{\"inputs\":[{\"internalType\":\"address\",\"name\":\"account\",\"type\":\"address\"}],\"name\":\"delegates\",\"outputs\":[{\"internalType\":\"address\",\"name\":\"\",\"type\":\"address\"}],\"stateMutability\":\"view\",\"type\":\"function\"},{\"inputs\":[{\"internalType\":\"uint256\",\"name\":\"blockNumber\",\"type\":\"uint256\"}],\"name\":\"getPastTotalSupply\",\"outputs\":[{\"internalType\":\"uint256\",\"name\":\"\",\"type\":\"uint256\"}],\"stateMutability\":\"view\",\"type\":\"function\"},{\"inputs\":[{\"internalType\":\"address\",\"name\":\"account\",\"type\":\"address\"},{\"internalType\":\"uint256\",\"name\":\"blockNumber\",\"type\":\"uint256\"}],\"name\":\"getPastVotes\",\"outputs\":[{\"internalType\":\"uint256\",\"name\":\"\",\"type\":\"uint256\"}],\"stateMutability\":\"view\",\"type\":\"function\"},{\"inputs\":[{\"internalType\":\"address\",\"name\":\"account\",\"type\":\"address\"}],\"name\":\"getVotes\",\"outputs\":[{\"internalType\":\"uint256\",\"name\":\"\",\"type\":\"uint256\"}],\"stateMutability\":\"view\",\"type\":\"function\"},{\"inputs\":[{\"internalType\":\"address\",\"name\":\"spender\",\"type\":\"address\"},{\"internalType\":\"uint256\",\"name\":\"addedValue\",\"type\":\"uint256\"}],\"name\":\"increaseAllowance\",\"outputs\":[{\"internalType\":\"bool\",\"name\":\"\",\"type\":\"bool\"}],\"stateMutability\":\"nonpayable\",\"type\":\"function\"},{\"inputs\":[{\"internalType\":\"uint256\",\"name\":\"index\",\"type\":\"uint256\"}],\"name\":\"isClaimed\",\"outputs\":[{\"internalType\":\"bool\",\"name\":\"\",\"type\":\"bool\"}],\"stateMutability\":\"view\",\"type\":\"function\"},{\"inputs\":[],\"name\":\"merkleRoot\",\"outputs\":[{\"internalType\":\"bytes32\",\"name\":\"\",\"type\":\"bytes32\"}],\"stateMutability\":\"view\",\"type\":\"function\"},{\"inputs\":[],\"name\":\"minimumMintInterval\",\"outputs\":[{\"internalType\":\"uint256\",\"name\":\"\",\"type\":\"uint256\"}],\"stateMutability\":\"view\",\"type\":\"function\"},{\"inputs\":[{\"internalType\":\"address\",\"name\":\"dest\",\"type\":\"address\"},{\"internalType\":\"uint256\",\"name\":\"amount\",\"type\":\"uint256\"}],\"name\":\"mint\",\"outputs\":[],\"stateMutability\":\"nonpayable\",\"type\":\"function\"},{\"inputs\":[],\"name\":\"mintCap\",\"outputs\":[{\"internalType\":\"uint256\",\"name\":\"\",\"type\":\"uint256\"}],\"stateMutability\":\"view\",\"type\":\"function\"},{\"inputs\":[],\"name\":\"name\",\"outputs\":[{\"internalType\":\"string\",\"name\":\"\",\"type\":\"string\"}],\"stateMutability\":\"view\",\"type\":\"function\"},{\"inputs\":[],\"name\":\"nextMint\",\"outputs\":[{\"internalType\":\"uint256\",\"name\":\"\",\"type\":\"uint256\"}],\"stateMutability\":\"view\",\"type\":\"function\"},{\"inputs\":[{\"internalType\":\"address\",\"name\":\"owner\",\"type\":\"address\"}],\"name\":\"nonces\",\"outputs\":[{\"internalType\":\"uint256\",\"name\":\"\",\"type\":\"uint256\"}],\"stateMutability\":\"view\",\"type\":\"function\"},{\"inputs\":[{\"internalType\":\"address\",\"name\":\"account\",\"type\":\"address\"}],\"name\":\"numCheckpoints\",\"outputs\":[{\"internalType\":\"uint32\",\"name\":\"\",\"type\":\"uint32\"}],\"stateMutability\":\"view\",\"type\":\"function\"},{\"inputs\":[],\"name\":\"owner\",\"outputs\":[{\"internalType\":\"address\",\"name\":\"\",\"type\":\"address\"}],\"stateMutability\":\"view\",\"type\":\"function\"},{\"inputs\":[{\"internalType\":\"address\",\"name\":\"owner\",\"type\":\"address\"},{\"internalType\":\"address\",\"name\":\"spender\",\"type\":\"address\"},{\"internalType\":\"uint256\",\"name\":\"value\",\"type\":\"uint256\"},{\"internalType\":\"uint256\",\"name\":\"deadline\",\"type\":\"uint256\"},{\"internalType\":\"uint8\",\"name\":\"v\",\"type\":\"uint8\"},{\"internalType\":\"bytes32\",\"name\":\"r\",\"type\":\"bytes32\"},{\"internalType\":\"bytes32\",\"name\":\"s\",\"type\":\"bytes32\"}],\"name\":\"permit\",\"outputs\":[],\"stateMutability\":\"nonpayable\",\"type\":\"function\"},{\"inputs\":[],\"name\":\"renounceOwnership\",\"outputs\":[],\"stateMutability\":\"nonpayable\",\"type\":\"function\"},{\"inputs\":[{\"internalType\":\"bytes32\",\"name\":\"_merkleRoot\",\"type\":\"bytes32\"}],\"name\":\"setMerkleRoot\",\"outputs\":[],\"stateMutability\":\"nonpayable\",\"type\":\"function\"},{\"inputs\":[{\"internalType\":\"address\",\"name\":\"dest\",\"type\":\"address\"}],\"name\":\"sweep\",\"outputs\":[],\"stateMutability\":\"nonpayable\",\"type\":\"function\"},{\"inputs\":[],\"name\":\"symbol\",\"outputs\":[{\"internalType\":\"string\",\"name\":\"\",\"type\":\"string\"}],\"stateMutability\":\"view\",\"type\":\"function\"},{\"inputs\":[],\"name\":\"totalSupply\",\"outputs\":[{\"internalType\":\"uint256\",\"name\":\"\",\"type\":\"uint256\"}],\"stateMutability\":\"view\",\"type\":\"function\"},{\"inputs\":[{\"internalType\":\"address\",\"name\":\"recipient\",\"type\":\"address\"},{\"internalType\":\"uint256\",\"name\":\"amount\",\"type\":\"uint256\"}],\"name\":\"transfer\",\"outputs\":[{\"internalType\":\"bool\",\"name\":\"\",\"type\":\"bool\"}],\"stateMutability\":\"nonpayable\",\"type\":\"function\"},{\"inputs\":[{\"internalType\":\"address\",\"name\":\"sender\",\"type\":\"address\"},{\"internalType\":\"address\",\"name\":\"recipient\",\"type\":\"address\"},{\"internalType\":\"uint256\",\"name\":\"amount\",\"type\":\"uint256\"}],\"name\":\"transferFrom\",\"outputs\":[{\"internalType\":\"bool\",\"name\":\"\",\"type\":\"bool\"}],\"stateMutability\":\"nonpayable\",\"type\":\"function\"},{\"inputs\":[{\"internalType\":\"address\",\"name\":\"newOwner\",\"type\":\"address\"}],\"name\":\"transferOwnership\",\"outputs\":[],\"stateMutability\":\"nonpayable\",\"type\":\"function\"}]'\n",
    "\n",
    "ens_dao_treasury_address =  Web3.toChecksumAddress(\"0xfe89cc7abb2c4183683ab71653c4cdc9b02d44b7\")\n",
    "ens_dao_treasury_abi = '[{\"inputs\":[{\"internalType\":\"uint256\",\"name\":\"minDelay\",\"type\":\"uint256\"},{\"internalType\":\"address[]\",\"name\":\"proposers\",\"type\":\"address[]\"},{\"internalType\":\"address[]\",\"name\":\"executors\",\"type\":\"address[]\"}],\"stateMutability\":\"nonpayable\",\"type\":\"constructor\"},{\"anonymous\":false,\"inputs\":[{\"indexed\":true,\"internalType\":\"bytes32\",\"name\":\"id\",\"type\":\"bytes32\"},{\"indexed\":true,\"internalType\":\"uint256\",\"name\":\"index\",\"type\":\"uint256\"},{\"indexed\":false,\"internalType\":\"address\",\"name\":\"target\",\"type\":\"address\"},{\"indexed\":false,\"internalType\":\"uint256\",\"name\":\"value\",\"type\":\"uint256\"},{\"indexed\":false,\"internalType\":\"bytes\",\"name\":\"data\",\"type\":\"bytes\"}],\"name\":\"CallExecuted\",\"type\":\"event\"},{\"anonymous\":false,\"inputs\":[{\"indexed\":true,\"internalType\":\"bytes32\",\"name\":\"id\",\"type\":\"bytes32\"},{\"indexed\":true,\"internalType\":\"uint256\",\"name\":\"index\",\"type\":\"uint256\"},{\"indexed\":false,\"internalType\":\"address\",\"name\":\"target\",\"type\":\"address\"},{\"indexed\":false,\"internalType\":\"uint256\",\"name\":\"value\",\"type\":\"uint256\"},{\"indexed\":false,\"internalType\":\"bytes\",\"name\":\"data\",\"type\":\"bytes\"},{\"indexed\":false,\"internalType\":\"bytes32\",\"name\":\"predecessor\",\"type\":\"bytes32\"},{\"indexed\":false,\"internalType\":\"uint256\",\"name\":\"delay\",\"type\":\"uint256\"}],\"name\":\"CallScheduled\",\"type\":\"event\"},{\"anonymous\":false,\"inputs\":[{\"indexed\":true,\"internalType\":\"bytes32\",\"name\":\"id\",\"type\":\"bytes32\"}],\"name\":\"Cancelled\",\"type\":\"event\"},{\"anonymous\":false,\"inputs\":[{\"indexed\":false,\"internalType\":\"uint256\",\"name\":\"oldDuration\",\"type\":\"uint256\"},{\"indexed\":false,\"internalType\":\"uint256\",\"name\":\"newDuration\",\"type\":\"uint256\"}],\"name\":\"MinDelayChange\",\"type\":\"event\"},{\"anonymous\":false,\"inputs\":[{\"indexed\":true,\"internalType\":\"bytes32\",\"name\":\"role\",\"type\":\"bytes32\"},{\"indexed\":true,\"internalType\":\"bytes32\",\"name\":\"previousAdminRole\",\"type\":\"bytes32\"},{\"indexed\":true,\"internalType\":\"bytes32\",\"name\":\"newAdminRole\",\"type\":\"bytes32\"}],\"name\":\"RoleAdminChanged\",\"type\":\"event\"},{\"anonymous\":false,\"inputs\":[{\"indexed\":true,\"internalType\":\"bytes32\",\"name\":\"role\",\"type\":\"bytes32\"},{\"indexed\":true,\"internalType\":\"address\",\"name\":\"account\",\"type\":\"address\"},{\"indexed\":true,\"internalType\":\"address\",\"name\":\"sender\",\"type\":\"address\"}],\"name\":\"RoleGranted\",\"type\":\"event\"},{\"anonymous\":false,\"inputs\":[{\"indexed\":true,\"internalType\":\"bytes32\",\"name\":\"role\",\"type\":\"bytes32\"},{\"indexed\":true,\"internalType\":\"address\",\"name\":\"account\",\"type\":\"address\"},{\"indexed\":true,\"internalType\":\"address\",\"name\":\"sender\",\"type\":\"address\"}],\"name\":\"RoleRevoked\",\"type\":\"event\"},{\"inputs\":[],\"name\":\"DEFAULT_ADMIN_ROLE\",\"outputs\":[{\"internalType\":\"bytes32\",\"name\":\"\",\"type\":\"bytes32\"}],\"stateMutability\":\"view\",\"type\":\"function\"},{\"inputs\":[],\"name\":\"EXECUTOR_ROLE\",\"outputs\":[{\"internalType\":\"bytes32\",\"name\":\"\",\"type\":\"bytes32\"}],\"stateMutability\":\"view\",\"type\":\"function\"},{\"inputs\":[],\"name\":\"PROPOSER_ROLE\",\"outputs\":[{\"internalType\":\"bytes32\",\"name\":\"\",\"type\":\"bytes32\"}],\"stateMutability\":\"view\",\"type\":\"function\"},{\"inputs\":[],\"name\":\"TIMELOCK_ADMIN_ROLE\",\"outputs\":[{\"internalType\":\"bytes32\",\"name\":\"\",\"type\":\"bytes32\"}],\"stateMutability\":\"view\",\"type\":\"function\"},{\"inputs\":[{\"internalType\":\"bytes32\",\"name\":\"id\",\"type\":\"bytes32\"}],\"name\":\"cancel\",\"outputs\":[],\"stateMutability\":\"nonpayable\",\"type\":\"function\"},{\"inputs\":[{\"internalType\":\"address\",\"name\":\"target\",\"type\":\"address\"},{\"internalType\":\"uint256\",\"name\":\"value\",\"type\":\"uint256\"},{\"internalType\":\"bytes\",\"name\":\"data\",\"type\":\"bytes\"},{\"internalType\":\"bytes32\",\"name\":\"predecessor\",\"type\":\"bytes32\"},{\"internalType\":\"bytes32\",\"name\":\"salt\",\"type\":\"bytes32\"}],\"name\":\"execute\",\"outputs\":[],\"stateMutability\":\"payable\",\"type\":\"function\"},{\"inputs\":[{\"internalType\":\"address[]\",\"name\":\"targets\",\"type\":\"address[]\"},{\"internalType\":\"uint256[]\",\"name\":\"values\",\"type\":\"uint256[]\"},{\"internalType\":\"bytes[]\",\"name\":\"datas\",\"type\":\"bytes[]\"},{\"internalType\":\"bytes32\",\"name\":\"predecessor\",\"type\":\"bytes32\"},{\"internalType\":\"bytes32\",\"name\":\"salt\",\"type\":\"bytes32\"}],\"name\":\"executeBatch\",\"outputs\":[],\"stateMutability\":\"payable\",\"type\":\"function\"},{\"inputs\":[],\"name\":\"getMinDelay\",\"outputs\":[{\"internalType\":\"uint256\",\"name\":\"duration\",\"type\":\"uint256\"}],\"stateMutability\":\"view\",\"type\":\"function\"},{\"inputs\":[{\"internalType\":\"bytes32\",\"name\":\"role\",\"type\":\"bytes32\"}],\"name\":\"getRoleAdmin\",\"outputs\":[{\"internalType\":\"bytes32\",\"name\":\"\",\"type\":\"bytes32\"}],\"stateMutability\":\"view\",\"type\":\"function\"},{\"inputs\":[{\"internalType\":\"bytes32\",\"name\":\"id\",\"type\":\"bytes32\"}],\"name\":\"getTimestamp\",\"outputs\":[{\"internalType\":\"uint256\",\"name\":\"timestamp\",\"type\":\"uint256\"}],\"stateMutability\":\"view\",\"type\":\"function\"},{\"inputs\":[{\"internalType\":\"bytes32\",\"name\":\"role\",\"type\":\"bytes32\"},{\"internalType\":\"address\",\"name\":\"account\",\"type\":\"address\"}],\"name\":\"grantRole\",\"outputs\":[],\"stateMutability\":\"nonpayable\",\"type\":\"function\"},{\"inputs\":[{\"internalType\":\"bytes32\",\"name\":\"role\",\"type\":\"bytes32\"},{\"internalType\":\"address\",\"name\":\"account\",\"type\":\"address\"}],\"name\":\"hasRole\",\"outputs\":[{\"internalType\":\"bool\",\"name\":\"\",\"type\":\"bool\"}],\"stateMutability\":\"view\",\"type\":\"function\"},{\"inputs\":[{\"internalType\":\"address\",\"name\":\"target\",\"type\":\"address\"},{\"internalType\":\"uint256\",\"name\":\"value\",\"type\":\"uint256\"},{\"internalType\":\"bytes\",\"name\":\"data\",\"type\":\"bytes\"},{\"internalType\":\"bytes32\",\"name\":\"predecessor\",\"type\":\"bytes32\"},{\"internalType\":\"bytes32\",\"name\":\"salt\",\"type\":\"bytes32\"}],\"name\":\"hashOperation\",\"outputs\":[{\"internalType\":\"bytes32\",\"name\":\"hash\",\"type\":\"bytes32\"}],\"stateMutability\":\"pure\",\"type\":\"function\"},{\"inputs\":[{\"internalType\":\"address[]\",\"name\":\"targets\",\"type\":\"address[]\"},{\"internalType\":\"uint256[]\",\"name\":\"values\",\"type\":\"uint256[]\"},{\"internalType\":\"bytes[]\",\"name\":\"datas\",\"type\":\"bytes[]\"},{\"internalType\":\"bytes32\",\"name\":\"predecessor\",\"type\":\"bytes32\"},{\"internalType\":\"bytes32\",\"name\":\"salt\",\"type\":\"bytes32\"}],\"name\":\"hashOperationBatch\",\"outputs\":[{\"internalType\":\"bytes32\",\"name\":\"hash\",\"type\":\"bytes32\"}],\"stateMutability\":\"pure\",\"type\":\"function\"},{\"inputs\":[{\"internalType\":\"bytes32\",\"name\":\"id\",\"type\":\"bytes32\"}],\"name\":\"isOperation\",\"outputs\":[{\"internalType\":\"bool\",\"name\":\"pending\",\"type\":\"bool\"}],\"stateMutability\":\"view\",\"type\":\"function\"},{\"inputs\":[{\"internalType\":\"bytes32\",\"name\":\"id\",\"type\":\"bytes32\"}],\"name\":\"isOperationDone\",\"outputs\":[{\"internalType\":\"bool\",\"name\":\"done\",\"type\":\"bool\"}],\"stateMutability\":\"view\",\"type\":\"function\"},{\"inputs\":[{\"internalType\":\"bytes32\",\"name\":\"id\",\"type\":\"bytes32\"}],\"name\":\"isOperationPending\",\"outputs\":[{\"internalType\":\"bool\",\"name\":\"pending\",\"type\":\"bool\"}],\"stateMutability\":\"view\",\"type\":\"function\"},{\"inputs\":[{\"internalType\":\"bytes32\",\"name\":\"id\",\"type\":\"bytes32\"}],\"name\":\"isOperationReady\",\"outputs\":[{\"internalType\":\"bool\",\"name\":\"ready\",\"type\":\"bool\"}],\"stateMutability\":\"view\",\"type\":\"function\"},{\"inputs\":[{\"internalType\":\"bytes32\",\"name\":\"role\",\"type\":\"bytes32\"},{\"internalType\":\"address\",\"name\":\"account\",\"type\":\"address\"}],\"name\":\"renounceRole\",\"outputs\":[],\"stateMutability\":\"nonpayable\",\"type\":\"function\"},{\"inputs\":[{\"internalType\":\"bytes32\",\"name\":\"role\",\"type\":\"bytes32\"},{\"internalType\":\"address\",\"name\":\"account\",\"type\":\"address\"}],\"name\":\"revokeRole\",\"outputs\":[],\"stateMutability\":\"nonpayable\",\"type\":\"function\"},{\"inputs\":[{\"internalType\":\"address\",\"name\":\"target\",\"type\":\"address\"},{\"internalType\":\"uint256\",\"name\":\"value\",\"type\":\"uint256\"},{\"internalType\":\"bytes\",\"name\":\"data\",\"type\":\"bytes\"},{\"internalType\":\"bytes32\",\"name\":\"predecessor\",\"type\":\"bytes32\"},{\"internalType\":\"bytes32\",\"name\":\"salt\",\"type\":\"bytes32\"},{\"internalType\":\"uint256\",\"name\":\"delay\",\"type\":\"uint256\"}],\"name\":\"schedule\",\"outputs\":[],\"stateMutability\":\"nonpayable\",\"type\":\"function\"},{\"inputs\":[{\"internalType\":\"address[]\",\"name\":\"targets\",\"type\":\"address[]\"},{\"internalType\":\"uint256[]\",\"name\":\"values\",\"type\":\"uint256[]\"},{\"internalType\":\"bytes[]\",\"name\":\"datas\",\"type\":\"bytes[]\"},{\"internalType\":\"bytes32\",\"name\":\"predecessor\",\"type\":\"bytes32\"},{\"internalType\":\"bytes32\",\"name\":\"salt\",\"type\":\"bytes32\"},{\"internalType\":\"uint256\",\"name\":\"delay\",\"type\":\"uint256\"}],\"name\":\"scheduleBatch\",\"outputs\":[],\"stateMutability\":\"nonpayable\",\"type\":\"function\"},{\"inputs\":[{\"internalType\":\"bytes4\",\"name\":\"interfaceId\",\"type\":\"bytes4\"}],\"name\":\"supportsInterface\",\"outputs\":[{\"internalType\":\"bool\",\"name\":\"\",\"type\":\"bool\"}],\"stateMutability\":\"view\",\"type\":\"function\"},{\"inputs\":[{\"internalType\":\"uint256\",\"name\":\"newDelay\",\"type\":\"uint256\"}],\"name\":\"updateDelay\",\"outputs\":[],\"stateMutability\":\"nonpayable\",\"type\":\"function\"},{\"stateMutability\":\"payable\",\"type\":\"receive\"}]'\n",
    "\n",
    "ens_registrar_address = Web3.toChecksumAddress(\"0x283af0b28c62c092c9727f1ee09c02ca627eb7f5\")\n",
    "ens_registrar_abi = '[{\"inputs\":[{\"internalType\":\"contract BaseRegistrar\",\"name\":\"_base\",\"type\":\"address\"},{\"internalType\":\"contract PriceOracle\",\"name\":\"_prices\",\"type\":\"address\"},{\"internalType\":\"uint256\",\"name\":\"_minCommitmentAge\",\"type\":\"uint256\"},{\"internalType\":\"uint256\",\"name\":\"_maxCommitmentAge\",\"type\":\"uint256\"}],\"payable\":false,\"stateMutability\":\"nonpayable\",\"type\":\"constructor\"},{\"anonymous\":false,\"inputs\":[{\"indexed\":false,\"internalType\":\"string\",\"name\":\"name\",\"type\":\"string\"},{\"indexed\":true,\"internalType\":\"bytes32\",\"name\":\"label\",\"type\":\"bytes32\"},{\"indexed\":true,\"internalType\":\"address\",\"name\":\"owner\",\"type\":\"address\"},{\"indexed\":false,\"internalType\":\"uint256\",\"name\":\"cost\",\"type\":\"uint256\"},{\"indexed\":false,\"internalType\":\"uint256\",\"name\":\"expires\",\"type\":\"uint256\"}],\"name\":\"NameRegistered\",\"type\":\"event\"},{\"anonymous\":false,\"inputs\":[{\"indexed\":false,\"internalType\":\"string\",\"name\":\"name\",\"type\":\"string\"},{\"indexed\":true,\"internalType\":\"bytes32\",\"name\":\"label\",\"type\":\"bytes32\"},{\"indexed\":false,\"internalType\":\"uint256\",\"name\":\"cost\",\"type\":\"uint256\"},{\"indexed\":false,\"internalType\":\"uint256\",\"name\":\"expires\",\"type\":\"uint256\"}],\"name\":\"NameRenewed\",\"type\":\"event\"},{\"anonymous\":false,\"inputs\":[{\"indexed\":true,\"internalType\":\"address\",\"name\":\"oracle\",\"type\":\"address\"}],\"name\":\"NewPriceOracle\",\"type\":\"event\"},{\"anonymous\":false,\"inputs\":[{\"indexed\":true,\"internalType\":\"address\",\"name\":\"previousOwner\",\"type\":\"address\"},{\"indexed\":true,\"internalType\":\"address\",\"name\":\"newOwner\",\"type\":\"address\"}],\"name\":\"OwnershipTransferred\",\"type\":\"event\"},{\"constant\":true,\"inputs\":[],\"name\":\"MIN_REGISTRATION_DURATION\",\"outputs\":[{\"internalType\":\"uint256\",\"name\":\"\",\"type\":\"uint256\"}],\"payable\":false,\"stateMutability\":\"view\",\"type\":\"function\"},{\"constant\":true,\"inputs\":[{\"internalType\":\"string\",\"name\":\"name\",\"type\":\"string\"}],\"name\":\"available\",\"outputs\":[{\"internalType\":\"bool\",\"name\":\"\",\"type\":\"bool\"}],\"payable\":false,\"stateMutability\":\"view\",\"type\":\"function\"},{\"constant\":false,\"inputs\":[{\"internalType\":\"bytes32\",\"name\":\"commitment\",\"type\":\"bytes32\"}],\"name\":\"commit\",\"outputs\":[],\"payable\":false,\"stateMutability\":\"nonpayable\",\"type\":\"function\"},{\"constant\":true,\"inputs\":[{\"internalType\":\"bytes32\",\"name\":\"\",\"type\":\"bytes32\"}],\"name\":\"commitments\",\"outputs\":[{\"internalType\":\"uint256\",\"name\":\"\",\"type\":\"uint256\"}],\"payable\":false,\"stateMutability\":\"view\",\"type\":\"function\"},{\"constant\":true,\"inputs\":[],\"name\":\"isOwner\",\"outputs\":[{\"internalType\":\"bool\",\"name\":\"\",\"type\":\"bool\"}],\"payable\":false,\"stateMutability\":\"view\",\"type\":\"function\"},{\"constant\":true,\"inputs\":[{\"internalType\":\"string\",\"name\":\"name\",\"type\":\"string\"},{\"internalType\":\"address\",\"name\":\"owner\",\"type\":\"address\"},{\"internalType\":\"bytes32\",\"name\":\"secret\",\"type\":\"bytes32\"}],\"name\":\"makeCommitment\",\"outputs\":[{\"internalType\":\"bytes32\",\"name\":\"\",\"type\":\"bytes32\"}],\"payable\":false,\"stateMutability\":\"pure\",\"type\":\"function\"},{\"constant\":true,\"inputs\":[{\"internalType\":\"string\",\"name\":\"name\",\"type\":\"string\"},{\"internalType\":\"address\",\"name\":\"owner\",\"type\":\"address\"},{\"internalType\":\"bytes32\",\"name\":\"secret\",\"type\":\"bytes32\"},{\"internalType\":\"address\",\"name\":\"resolver\",\"type\":\"address\"},{\"internalType\":\"address\",\"name\":\"addr\",\"type\":\"address\"}],\"name\":\"makeCommitmentWithConfig\",\"outputs\":[{\"internalType\":\"bytes32\",\"name\":\"\",\"type\":\"bytes32\"}],\"payable\":false,\"stateMutability\":\"pure\",\"type\":\"function\"},{\"constant\":true,\"inputs\":[],\"name\":\"maxCommitmentAge\",\"outputs\":[{\"internalType\":\"uint256\",\"name\":\"\",\"type\":\"uint256\"}],\"payable\":false,\"stateMutability\":\"view\",\"type\":\"function\"},{\"constant\":true,\"inputs\":[],\"name\":\"minCommitmentAge\",\"outputs\":[{\"internalType\":\"uint256\",\"name\":\"\",\"type\":\"uint256\"}],\"payable\":false,\"stateMutability\":\"view\",\"type\":\"function\"},{\"constant\":true,\"inputs\":[],\"name\":\"owner\",\"outputs\":[{\"internalType\":\"address\",\"name\":\"\",\"type\":\"address\"}],\"payable\":false,\"stateMutability\":\"view\",\"type\":\"function\"},{\"constant\":false,\"inputs\":[{\"internalType\":\"string\",\"name\":\"name\",\"type\":\"string\"},{\"internalType\":\"address\",\"name\":\"owner\",\"type\":\"address\"},{\"internalType\":\"uint256\",\"name\":\"duration\",\"type\":\"uint256\"},{\"internalType\":\"bytes32\",\"name\":\"secret\",\"type\":\"bytes32\"}],\"name\":\"register\",\"outputs\":[],\"payable\":true,\"stateMutability\":\"payable\",\"type\":\"function\"},{\"constant\":false,\"inputs\":[{\"internalType\":\"string\",\"name\":\"name\",\"type\":\"string\"},{\"internalType\":\"address\",\"name\":\"owner\",\"type\":\"address\"},{\"internalType\":\"uint256\",\"name\":\"duration\",\"type\":\"uint256\"},{\"internalType\":\"bytes32\",\"name\":\"secret\",\"type\":\"bytes32\"},{\"internalType\":\"address\",\"name\":\"resolver\",\"type\":\"address\"},{\"internalType\":\"address\",\"name\":\"addr\",\"type\":\"address\"}],\"name\":\"registerWithConfig\",\"outputs\":[],\"payable\":true,\"stateMutability\":\"payable\",\"type\":\"function\"},{\"constant\":false,\"inputs\":[{\"internalType\":\"string\",\"name\":\"name\",\"type\":\"string\"},{\"internalType\":\"uint256\",\"name\":\"duration\",\"type\":\"uint256\"}],\"name\":\"renew\",\"outputs\":[],\"payable\":true,\"stateMutability\":\"payable\",\"type\":\"function\"},{\"constant\":false,\"inputs\":[],\"name\":\"renounceOwnership\",\"outputs\":[],\"payable\":false,\"stateMutability\":\"nonpayable\",\"type\":\"function\"},{\"constant\":true,\"inputs\":[{\"internalType\":\"string\",\"name\":\"name\",\"type\":\"string\"},{\"internalType\":\"uint256\",\"name\":\"duration\",\"type\":\"uint256\"}],\"name\":\"rentPrice\",\"outputs\":[{\"internalType\":\"uint256\",\"name\":\"\",\"type\":\"uint256\"}],\"payable\":false,\"stateMutability\":\"view\",\"type\":\"function\"},{\"constant\":false,\"inputs\":[{\"internalType\":\"uint256\",\"name\":\"_minCommitmentAge\",\"type\":\"uint256\"},{\"internalType\":\"uint256\",\"name\":\"_maxCommitmentAge\",\"type\":\"uint256\"}],\"name\":\"setCommitmentAges\",\"outputs\":[],\"payable\":false,\"stateMutability\":\"nonpayable\",\"type\":\"function\"},{\"constant\":false,\"inputs\":[{\"internalType\":\"contract PriceOracle\",\"name\":\"_prices\",\"type\":\"address\"}],\"name\":\"setPriceOracle\",\"outputs\":[],\"payable\":false,\"stateMutability\":\"nonpayable\",\"type\":\"function\"},{\"constant\":true,\"inputs\":[{\"internalType\":\"bytes4\",\"name\":\"interfaceID\",\"type\":\"bytes4\"}],\"name\":\"supportsInterface\",\"outputs\":[{\"internalType\":\"bool\",\"name\":\"\",\"type\":\"bool\"}],\"payable\":false,\"stateMutability\":\"pure\",\"type\":\"function\"},{\"constant\":false,\"inputs\":[{\"internalType\":\"address\",\"name\":\"newOwner\",\"type\":\"address\"}],\"name\":\"transferOwnership\",\"outputs\":[],\"payable\":false,\"stateMutability\":\"nonpayable\",\"type\":\"function\"},{\"constant\":true,\"inputs\":[{\"internalType\":\"string\",\"name\":\"name\",\"type\":\"string\"}],\"name\":\"valid\",\"outputs\":[{\"internalType\":\"bool\",\"name\":\"\",\"type\":\"bool\"}],\"payable\":false,\"stateMutability\":\"pure\",\"type\":\"function\"},{\"constant\":false,\"inputs\":[],\"name\":\"withdraw\",\"outputs\":[],\"payable\":false,\"stateMutability\":\"nonpayable\",\"type\":\"function\"}]'\n"
   ]
  },
  {
   "cell_type": "code",
   "execution_count": 5,
   "id": "50940801-eef3-4348-846a-8ae0bf07e915",
   "metadata": {},
   "outputs": [],
   "source": [
    "# initializing representations of contracts\n",
    "ens_token_contract = w3.eth.contract(address = ens_token_address, abi = ens_token_abi)\n",
    "ens_nft_contract = w3.eth.contract(address = ens_nft_address, abi = ens_nft_abi)\n",
    "ens_dao_treasury_wallet = w3.eth.contract(address = ens_dao_treasury_address, abi = ens_dao_treasury_abi)\n",
    "ens_registrar_contract = w3.eth.contract(address = ens_registrar_address, abi = ens_registrar_abi)"
   ]
  },
  {
   "cell_type": "code",
   "execution_count": 8,
   "id": "9878f83e-b882-4b53-88bf-a48f9a0bbc1d",
   "metadata": {},
   "outputs": [],
   "source": [
    "# get all registration logs\n",
    "end_block = w3.eth.block_number\n",
    "start_block = end_block - 6000 * 365 # get one year assuming roughly 6k blocks/day\n",
    "\n",
    "# dict keyed by block to make filling in chunks easier\n",
    "logs_all=list()\n",
    "block = start_block"
   ]
  },
  {
   "cell_type": "code",
   "execution_count": null,
   "id": "98c23cdb-17ef-4555-b5a2-ac364f8190b5",
   "metadata": {},
   "outputs": [],
   "source": [
    "# get all NameRegistered logs\n",
    "while block <= end_block:\n",
    "    logs_i = ens_nft_contract.events.NameRegistered().getLogs(fromBlock = block - 2000, toBlock = min(block,end_block+2001))\n",
    "    logs_all+=list(logs_i)\n",
    "    save_obj(logs_all, 'registration_logs')\n",
    "    block+=2001\n",
    "    if block%100==0:\n",
    "        print(f'{block}, {block-start_block}/{end_block-start_block} ({(block-start_block)/(end_block-start_block)}% done)')"
   ]
  },
  {
   "cell_type": "code",
   "execution_count": null,
   "id": "af63f21b-cef4-412c-b20d-de3160ccd0c9",
   "metadata": {},
   "outputs": [],
   "source": [
    "# process renewal logs, save processed logs\n",
    "# load logs from loop above\n",
    "registration_logs=load_obj('registration_logs')"
   ]
  },
  {
   "cell_type": "code",
   "execution_count": null,
   "id": "f0d502f4-ee16-4892-b3d2-83486d804908",
   "metadata": {},
   "outputs": [],
   "source": [
    "# d=dict()\n",
    "# for log in registration_logs:\n",
    "#     tx_hash = log.transactionHash\n",
    "#     # tx = w3.eth.get_transaction(tx_hash)\n",
    "#     tx_receipt = w3.eth.get_transaction_receipt(tx_hash)\n",
    "#     register_event = ens_registrar_contract.events.NameRegistered().processReceipt(tx_receipt)\n",
    "    \n",
    "#     d[register_event[0]['transactionHash'].hex()] = {\n",
    "#     'blockNumber':register_event[0]['blockNumber'],\n",
    "#     'owner': register_event[0]['args']['owner'], # not included in renew events\n",
    "#     'name': register_event[0]['args']['name'],\n",
    "#     'cost': register_event[0]['args']['cost'],\n",
    "#     'expires': register_event[0]['args']['expires']\n",
    "#     }\n",
    "\n",
    "# save_obj(d, 'renewal_logs_dict')"
   ]
  },
  {
   "cell_type": "code",
   "execution_count": null,
   "id": "6ca081bd-4016-44b1-a3f2-0962d77eb831",
   "metadata": {},
   "outputs": [],
   "source": [
    "# # # get all NameRenewed logs\n",
    "\n",
    "# # params for getting registration and renewal events\n",
    "# # (run before either of the following blocks)\n",
    "# end_block = w3.eth.block_number\n",
    "# start_block = end_block - 6000 * 365 # get one year assuming roughly 6k blocks/day\n",
    "\n",
    "# # dict keyed by block to make filling in chunks easier\n",
    "# logs_all=list()\n",
    "# block = start_block\n",
    "\n",
    "# while block <= end_block:\n",
    "#     logs_i = ens_nft_contract.events.NameRenewed().getLogs(fromBlock = block - 2000, toBlock = min(block,end_block+2001))\n",
    "#     logs_all+=list(logs_i)\n",
    "#     save_obj(logs_all, 'renewal_logs')\n",
    "#     block+=2001\n",
    "#     if block%100==0:\n",
    "#         print(f'{block}, {block-start_block}/{end_block-start_block} ({(block-start_block)/(end_block-start_block)}% done)')"
   ]
  },
  {
   "cell_type": "code",
   "execution_count": null,
   "id": "da80a511-542e-4bfe-bed2-2ed42a0e5a3d",
   "metadata": {},
   "outputs": [],
   "source": [
    "# process renewal logs, save processed logs\n",
    "# load logs from loop above\n",
    "# renewal_logs=load_obj('renewal_logs')"
   ]
  },
  {
   "cell_type": "code",
   "execution_count": null,
   "id": "4d7e828a-899e-4c49-b4a5-0e534d386abe",
   "metadata": {},
   "outputs": [],
   "source": [
    "# # convert them to a dict\n",
    "\n",
    "# d=dict()\n",
    "# for log in renewal_logs:\n",
    "#     tx_hash = log.transactionHash\n",
    "#     tx_receipt = w3.eth.get_transaction_receipt(tx_hash)\n",
    "#     register_event = ens_registrar_contract.events.NameRenewed().processReceipt(tx_receipt)\n",
    "    \n",
    "#     d[register_event[0]['transactionHash'].hex()] = {\n",
    "#     'blockNumber':register_event[0]['blockNumber'],\n",
    "#     # 'owner': register_event[0]['args']['owner'], # not included in renew events\n",
    "#     'name': register_event[0]['args']['name'],\n",
    "#     'cost': register_event[0]['args']['cost'],\n",
    "#     'expires': register_event[0]['args']['expires']\n",
    "#     }\n",
    "\n",
    "# save_obj(d, 'renewal_logs_dict')"
   ]
  },
  {
   "cell_type": "code",
   "execution_count": null,
   "id": "753b1c90-39d0-40e2-81dc-2b8a40b0f8ea",
   "metadata": {},
   "outputs": [],
   "source": [
    "tmp = load_obj('renewal_logs_dict')"
   ]
  },
  {
   "cell_type": "code",
   "execution_count": null,
   "id": "81393a65-b71f-4aba-b442-306588d2bdb8",
   "metadata": {},
   "outputs": [],
   "source": [
    "len(renewal_logs),len(tmp)"
   ]
  },
  {
   "cell_type": "code",
   "execution_count": null,
   "id": "0403dcce-8c68-4220-8197-c7af99891382",
   "metadata": {},
   "outputs": [],
   "source": [
    "# TODO: convert to df, and analyze!"
   ]
  },
  {
   "cell_type": "code",
   "execution_count": null,
   "id": "e170fdaf-1c54-4f61-889c-19cdd6417005",
   "metadata": {},
   "outputs": [],
   "source": []
  },
  {
   "cell_type": "code",
   "execution_count": null,
   "id": "e6bb46f1-6709-46b2-bafa-bc13ed481a5f",
   "metadata": {},
   "outputs": [],
   "source": []
  },
  {
   "cell_type": "code",
   "execution_count": null,
   "id": "3cde403f-8ba9-4a30-a86c-babb5c041a24",
   "metadata": {},
   "outputs": [],
   "source": []
  },
  {
   "cell_type": "code",
   "execution_count": 9,
   "id": "4d4ce02b-e3c1-4005-a355-596998c16cc4",
   "metadata": {},
   "outputs": [],
   "source": [
    "# tx_hash = logs[-1].transactionHash\n",
    "# tx = w3.eth.get_transaction(tx_hash)\n",
    "# this was a registration/minting\n",
    "# https://etherscan.io/tx/0x7f3bd853681c0f75a35f71bae631c2e2bb3bce58b6ad9a97b595eefcb9b99f8a\n",
    "# tx"
   ]
  },
  {
   "cell_type": "code",
   "execution_count": 10,
   "id": "092aa624-ff75-4174-a212-95e75dc0d318",
   "metadata": {},
   "outputs": [],
   "source": [
    "# tx_receipt = w3.eth.get_transaction_receipt(tx_hash)"
   ]
  },
  {
   "cell_type": "code",
   "execution_count": 11,
   "id": "0801d5b4-2017-4dcd-8aa4-0f481760267d",
   "metadata": {},
   "outputs": [],
   "source": [
    "# gets cost, which can be accuumulated for revenue!!\n",
    "# ens_registrar_contract.events.NameRegistered().processReceipt(tx_receipt)"
   ]
  },
  {
   "cell_type": "code",
   "execution_count": 12,
   "id": "6c8127db-a3f8-40fb-a501-edf472abf362",
   "metadata": {},
   "outputs": [],
   "source": [
    "# ens_nft_contract.all_functions\n",
    "# ens_nft_contract.decode_function_input(tx.input)"
   ]
  },
  {
   "cell_type": "code",
   "execution_count": 13,
   "id": "7c428851-fed1-46d2-9a4a-149cd1f79108",
   "metadata": {},
   "outputs": [],
   "source": [
    "# TODO: \n",
    "# check each alchamey function...\n",
    "\n",
    "# - change token balances to=true? and see what is returned?\n",
    "\n",
    "# - write function for getNFTsForCollection\n",
    "# - process output of getNFTsForCollection\n",
    "\n",
    "\n",
    "# revenue and income projections.. \n",
    "# revenue data from alchamey & knoeledge of registration costs;\n",
    "# name_length, registration date, & expiration date can be used to estimate future revenue?\n",
    "# assuming everyone re-registers at the same prices for the same duration ; \n",
    "# revenue = annual price|name_langth * (expiration date - registration date) in years\n",
    "\n",
    "# estimate\n",
    "# - new users / new registrations & project this with a regression model?\n",
    "# - historical re-registration rate\n",
    "# - quarterly profits from registrations, & from re-registrations?\n"
   ]
  },
  {
   "cell_type": "markdown",
   "id": "e4fdd824-8180-42f6-aef5-fdade9986ee9",
   "metadata": {},
   "source": [
    "# Use Alchemy for NFT transaction and holder data"
   ]
  },
  {
   "cell_type": "code",
   "execution_count": 14,
   "id": "be4c33e8-dc94-4039-9746-b90ce95caa81",
   "metadata": {},
   "outputs": [],
   "source": [
    "# Alchamey requests api;\n",
    "\n",
    "base_url = f\"https://eth-mainnet.g.alchemy.com/nft/v2/{apiKey}\"\n",
    "\n",
    "# collection -> owners & owned tokens\n",
    "def getOwnersForCollection():\n",
    "    # docs: https://docs.alchemy.com/reference/getownersforcollection\n",
    "    # first page\n",
    "    first_page_url = base_url+ f\"/getOwnersForCollection?contractAddress={ens_nft_address}&withTokenBalances=true\"\n",
    "    headers = {\"accept\": \"application/json\"}\n",
    "    response = requests.get(first_page_url, headers=headers) \n",
    "\n",
    "    # response.json()['ownerAddresses'] is a list with len() usually around 50k\n",
    "    owner_addresses_page = response.json()['ownerAddresses']\n",
    "    owner_addresses_all = owner_addresses_page\n",
    "\n",
    "    # subsequent pages (todo:add more conditions avoid infinite loops)\n",
    "    while True:\n",
    "        page_key_old = response.json()['pageKey']\n",
    "        next_page_url = first_page_url + f\"&pageKey={page_key_old}\"\n",
    "        response = requests.get(next_page_url, headers=headers) \n",
    "        owner_addresses_page = response.json()['ownerAddresses']\n",
    "        owner_addresses_all+=owner_addresses_page\n",
    "        print(len(owner_addresses_all),page_key_old) # feedback to monitor\n",
    "        if 'pageKey' not in response.json():\n",
    "            print('no more page keys')\n",
    "            return owner_addresses_all\n",
    "\n",
    "# owner -> NFTs owned\n",
    "# https://docs.alchemy.com/reference/getnfts\n",
    "def getNFTs(owner):\n",
    "    first_page_url = base_url + f\"/getNFTs?owner={owner}&contractAddresses[]={ens_nft_address}&withMetadata=true\"\n",
    "    headers = {\"accept\": \"application/json\"}\n",
    "    response = requests.get(first_page_url, headers=headers)\n",
    "    response_json = response.json()\n",
    "\n",
    "    owner_nfts_all = response_json['ownedNfts']\n",
    "    while len(owner_nfts_all) < response_json['totalCount']:\n",
    "            page_key = response_json['pageKey']\n",
    "            next_page_url = first_page_url + f\"&pageKey={page_key}\"\n",
    "            response = requests.get(next_page_url, headers=headers) # introduces dupes bc of page size being 100, need to dedupe later\n",
    "            response_json=response.json()\n",
    "            owner_nfts_all += response_json['ownedNfts']\n",
    "            print(f\"{len(owner_nfts_all)} / {response_json['totalCount']}\",page_key) # feedback to monitor\n",
    "\n",
    "    return owner_nfts_all # may have dupes -- could dedupe by processing into a dict keyed by tokenId\n",
    "\n",
    "def process_nft_list(nft_list):\n",
    "    nfts_df = pd.DataFrame()\n",
    "    for nft in nft_list:\n",
    "        if 'metadata' in nft.keys():\n",
    "            if 'attributes' in nft['metadata'].keys():\n",
    "                if nft['metadata']['attributes']:\n",
    "                    tmp_df=pd.DataFrame(nft['metadata']['attributes']).set_index('trait_type')\n",
    "                    tmp_df=tmp_df.T.loc[['value']] # transpose for easier formatting\n",
    "                else: tmp_df=pd.DataFrame()\n",
    "            else: tmp_df=pd.DataFrame()\n",
    "        else: tmp_df=pd.DataFrame()\n",
    "\n",
    "        if 'title' in nft.keys(): \n",
    "            tmp_df['title'] = nft['title']\n",
    "        else: tmp_df['title'] = None\n",
    "\n",
    "        if 'id' in nft.keys():\n",
    "            if 'tokenId' in nft['id'].keys():\n",
    "                tmp_df['id'] = nft['id']['tokenId']\n",
    "        else: tmp_df['id'] = None\n",
    "\n",
    "        # if 'owner' in nft.keys():\n",
    "        #     tmp_df['owner']=owner\n",
    "        # else: tmp_df['owner']=owner\n",
    "\n",
    "        nfts_df=nfts_df.append(tmp_df)\n",
    "\n",
    "    nfts_df=nfts_df.drop_duplicates()\n",
    "    return nfts_df\n",
    "\n",
    "# process the list of nfts with metadata and dupes\n",
    "\n",
    "# collection -> NFT info\n",
    "# https://docs.alchemy.com/reference/getnftsforcollection\n",
    "# skipped bc relevant info was returned by getNFTs\n",
    "# # getNFTsForCollection\n",
    "# url = f\"https://eth-mainnet.g.alchemy.com/nft/v2/{apiKey}/getNFTsForCollection?contractAddress={ens_nft_address}&withMetadata=true\"\n",
    "# headers = {\"accept\": \"application/json\"}\n",
    "# response = requests.get(url, headers=headers)\n",
    "\n",
    "# NFT sales\n",
    "# https://docs.alchemy.com/reference/getnftsales\n"
   ]
  },
  {
   "cell_type": "markdown",
   "id": "7801b3d9-b960-4330-b201-e5f483360cec",
   "metadata": {},
   "source": [
    "## Owners and domains owned"
   ]
  },
  {
   "cell_type": "markdown",
   "id": "150c7270-9fb6-4f10-8435-36c5ee6e437c",
   "metadata": {},
   "source": [
    "## Method 1: owners -> NFTs -> metadata"
   ]
  },
  {
   "cell_type": "markdown",
   "id": "cd5002b6-d386-4b26-9243-ad6121cc7d60",
   "metadata": {},
   "source": [
    "### Get owners"
   ]
  },
  {
   "cell_type": "code",
   "execution_count": 15,
   "id": "cfe49f38-1188-4ba0-8838-ea7135b917d3",
   "metadata": {},
   "outputs": [
    {
     "name": "stdout",
     "output_type": "stream",
     "text": [
      "19926 MHgwM2QzMmY4OGZjOGIxMGFmMGNiYmJkZjNjOWE3NGEzNmMzNjhlZWZjOjB4N2U5NzMzNjQ1MzZhMmMwNjRjOTFiNjlkMzI3NWZjYWE3NzY4MzUwYTI0NmRhZGJiZTZmOGQyNTU4NzZhMTgxNDpmYWxzZQ==\n",
      "29783 MHgwOGNmOTk2MGM5Mjc3N2JkNmE1OTZhNGYzZGMzNDIxMGQxNjZjODdmOjB4NjAyYzA3NjgyZDg2Y2RkMmE2OTkwM2VjYWUxZjgzNWE0M2VmMjU1MmIwMTk2YWE2YWU0OTA2MGQ1NThlOGViYTpmYWxzZQ==\n",
      "41968 MHgwZDU1ZWE4OGIwYjc2OWY5Mzg3M2Y1Yjk3ODVhYjgwNGQzNzZiZjA4OjB4YTMxMjVkMzY5MDZmZDdiYzhjYjBlNDBkYzM3YjgyOTlhZDhiYTBhMzc4ODliYTI1ZDFjNjJkZTg5M2JlOTJmMDpmYWxzZQ==\n",
      "53778 MHgxMmYzZDU5MzJkMmZkZmJjNGQ2ODU3ZGE5OGIxNDNmNTRmZjVmYjMzOjB4OWI0OGUwYWNiNzg4YzhlNjQ5YTc4MWZhYmMxZmIxYjhlYjMzZGEzYzM0MzlmZjM0Y2ZiMjU2NzZiMjUxMjM4YzpmYWxzZQ==\n",
      "64844 MHgxODU1MWJlMmRiZGUwM2NhYjc1YzU4NWVkYmVkZDgwZmUxZTVlMWYzOjB4NjkwMmNmMDc4YWY4ZTExNWFjYjcwNjNlYWQ5NWEyODA3MzAxYTY2NzA1ZmRiNmFlMGJhOGJjZjA0ZmUxZTgyODpmYWxzZQ==\n",
      "76405 MHgxZDZmMmYwMzU2YjNkZWZhZGYxNGIxYTBmOGEzZGNkYTg5MzY3ZDY4OjB4Y2E4Nzc1YTJkYzhlNWFhZjBmNzZhYmZkZTRlYTgwMzNlOWM5Y2VhMDQ4ZTliMmI3YjJjYjU1MjljMzMxMTgxYjpmYWxzZQ==\n",
      "86700 MHgyMmRmMDA2N2EwOTYxZjhiYTJkMTViNzNiYWUyOWM0ODgyNWE5YWEzOjB4MzM4ZTU0ZmVlY2IyNjg3N2E4NDIzOTBmZDQ5OGQzNmQ1NjBjMTFjZTE1NzA5N2Q3ZmIzNzA0NDY4YTlhMWU2NzpmYWxzZQ==\n",
      "97307 MHgyNzljNGFjNTlmMDM4ZTAyZTc2OTBhOTYyYWI3Yjc0M2Q0NjY3N2ZhOjB4NmZmYjFjOTYxYTJhMzJjYzUyOTc0ZWJkYzZiY2VkODJmNmZmMTYzOTMwZDQ3N2JjYWFjZWQ1OWU5NTg1MDIwYTpmYWxzZQ==\n",
      "104199 MHgyYzczZWJiZjc4YmNlN2NjYzVhMzMzZDZkMTlhZGJmZTA2YWFjOWY1OjB4MjMyNTc5Mjc4ZjViODhiYWRhMzEzNDgyNzYwOTJhM2UyM2JlYzQxYjJmZTEyMTlkZjExODc4MzNhOWQ3ZjU3MzpmYWxzZQ==\n",
      "115253 MHgyZmFiMDI0OWM2YTYwZDcxNTEzNWYxMmU1MWRlN2MxMzBjMjYyODlkOjB4NWU4MDBiYzRmNWJkODdmMGJlNzZiOGQxNWRkODczZmRhNTlmNDFmYWE0YThiOGE1YjliYWJlMGJmZDFjNWMwYjpmYWxzZQ==\n",
      "126207 MHgzNGIzZmUxZjM0ZTNkZjk3Mzg1NDRiYmYyZGYzZDQ3NzI1MDAzNjAzOjB4NmIxMWRhOTMyYzNlNTdkODUyYzczMDMzZWFmNjM1MDM1ZDY0Yzk3NDQzMzVjNzgzNjM0MWUxN2EyNDMyMmI0ZTpmYWxzZQ==\n",
      "137005 MHgzOWQwNzkyYWQ4YTI3N2FmOTBiOTFjMzJlYWJjMmFlZjM3ZjhjMTUxOjB4NjRkZTkyMjE0ZDU2MjZlZDg4YmM5ZTI4OWJhYjE5YjA4OWY4Y2IwNTQ2MTU4MGU1ODIzMzFhZDcyYTE4OWQ3NjpmYWxzZQ==\n",
      "148190 MHgzZWQ3MDA5ZmEyYzJiNWJlOGNhMGVkZjJlZGJiNmY5MzJiYzlhMzk3OjB4NTY0NmQ5Njg3MzgzMTQyN2JiNDEwNDY1ZTYzM2FkODk3ZDZmMDczMWM2ZjE4N2QyNjYyMTkzYmU2ODE3ODJjODpmYWxzZQ==\n",
      "159423 MHg0NDA0MDkzNjllODgzOTNhNTYyZWY5NjhkMWU2MDQ3YjAwZDAzNDBmOjB4MjRkODRkZTVkY2FhYjllN2Y2ZjhkOGRmYWIyZDI5NzVmMmMwMWM3Y2I2YWE4YWE2NTExYTUwNzI3OTJhMGEzNjpmYWxzZQ==\n",
      "170247 MHg0OTI0NjBmNDk4NjM2MGQ1MTRlODdiYmZlMThhOTBlNDg1MThjOWQ3OjB4OTFhN2YyN2IyOTY2MGM1MzkyOWIyYTE2MjNkM2Y5MWRkZWUwZmY3NWQyZjVjOTYzZTk1NjM2YTZiNjg4Yzc0NjpmYWxzZQ==\n",
      "181825 MHg0ZTI0ODE3N2U0MjhiOTdiMTQ2MmEyMDU2YTgwMDBjNThjNGRhZTA1OjB4OGI0NTFjNWJmNzU5OWE2MGUwMjE1NjZhM2I4Yzk5Y2M4OTEyOGUyZmY4ODE5YjE0ZDMzZmJkODZmZWNiNTZjNDpmYWxzZQ==\n",
      "193730 MHg1MzcwYjNjYTU1YmI1NjFlN2JjMDUwYzgxODQ4ODczYjliY2ViYmVjOjB4MTcyMGM5NThjYzU1MDA3OWVlOTY3YWI1ZmQ2YjQ3NWE4NjBhOGExNWMzZGYwOTAxZTdkNjYyMGVhMjE2MjM3NzpmYWxzZQ==\n",
      "206517 MHg1OTA2NGQzNTYyZjI5YTZiZjQ1ZTA3NDI4ZWFkNWQzM2M2NjRlZGM1OjB4ZTY5MWU3MmVkZWZkOGUyYjM0MjBjZGM1NTcxZTBmYmFjNjUwMGE2NmQ2NjY0N2ZjNmQ5Nzk5NzU0NGU5OTFlYzpmYWxzZQ==\n",
      "217750 MHg1ZWZhNWU3MzZiY2JkMzlmYWI5ZDZhZTFkM2ZkNGNhNzBhODBhNjM3OjB4MjgyMzk2ZTk4ZDQ4OTI4ODc1MjNhYmYxOWJjYjEyYjA4ZjE2ZTc4MTBkODk5YjZmZTkxNTZjZWU3NGI4ODA0MzpmYWxzZQ==\n",
      "227898 MHg2NDM3MmRiNjQwNTg3OTIxNGEwYTc2YTdmMWU5YzAxM2ZkMmZkODRiOjB4NDk1YjhiY2NiZWQyMjczZmM3NDI1ZWZhNWRiODQzNjFhNjNlMzYzNmZmMmNmNGU2ODgwMmFjZTJjYzQyNDMzMjpmYWxzZQ==\n",
      "239469 MHg2OGRkYWY3MDMwM2UwNjY4YTYyNTlhM2VhZDA5MGQwYjBhNzc5ZmM4OjB4OTkyZDUwMmJjMDBlYzYzMThjMjQ3YTA1NjQ4Y2EzODFkODUyZDc2ZTRiODcxOTYxZjcxMGNjNjQyYWZkN2VjMDpmYWxzZQ==\n",
      "250925 MHg2ZTNhYTg1ZGI5NWJiYTM2Mjc2YTM3ZWQ5M2IxMmI3YWIwNzgyYWZiOjB4ZmFlODE5NWQwZjQwMWNiZjI0ZWRmZmI4Zjg3MmNlOTI1MzIxY2FlYzg3ZmFlMTljN2FhMDBlMzhiYWJjNmQzMjpmYWxzZQ==\n",
      "262226 MHg3MzgyZjg5MzU5NTY1OWY1NzdhN2VmY2YzYzllNmQ2NmQxMGZkMjdiOjB4MWJlMzFkMDE0ZjFhNzU5NjQxOGYxZDcwOTAzNWUyN2FhY2ExMjI1MGMwNWYxNmI0ZWU1MWZmMjEyMzczYWNhYjpmYWxzZQ==\n",
      "272633 MHg3OGE2YzI3OTAyNjYwYTQwN2QyZGZjZDZhZDJiMDE0ZmRiY2MzZDgxOjB4ODBiNDBhOGM0YjgwNjc1Zjg2NjhlMWYwMDNjM2RhNjlmODFlYjhjOTc4NjgwYjFmMTljODU4ZDZiOTM0OGQwZjpmYWxzZQ==\n",
      "282480 MHg3ZDY3ZmQzZDNjMWY0NTUyY2NiZTYxZmYzYzdiZTk1OTg4NmRhY2Y1OjB4ZmJkMjcyMzMxYzFiOGRkZjlkZWFiNWNkNGJhZGNjYWRhZTY0YzI3MTBmYmRkOWZhNGJlNjI3NjNkM2RlNWI2YzpmYWxzZQ==\n",
      "293613 MHg4MjA0ZWMzYjZiNzU5N2YzN2I5Y2RlYzQ0MGE5M2RjYWYxZjcxMWQ5OjB4ODJmOGQ5N2Q5Y2EzMDViZDg0MDNiMzIyZDdhMjBlMDUzNWEwNTE5ZmFlOWEzMjdmOTIzNzMxMjk0MjU3YjQwZjpmYWxzZQ==\n",
      "303862 MHg4NzMwM2NjYjZiNmNhZTdhZTIxM2E3YTQ1MjY4YmY1ZWVlMWVmMDhlOjB4YTk4Y2YzNzM2NmJkMGIwNzljZDhmMDFhOTFmMzgyZmEwYTk3ZmZjMDM0Njg1YTY2MGQ1ZDBmZmRhOGUwNmMzODpmYWxzZQ==\n",
      "315306 MHg4YmY0NDdiYjcyZTczN2ZjYmZiMzZjNTIyNWUyNDNjMjYyMWJmNWRlOjB4YjFlYmYzNmZmOTk4M2U0MjQxODQ3MmVhNGFjM2IzMWJmOGU0YmQyNDgzNWI3ZjBkY2JhYjJmY2Y4YjEzZjZlODpmYWxzZQ==\n",
      "324626 MHg5MTU5OWM2ZWZmNGEyY2E0YjExZjIwMDE4NDU0YzU1MWI1M2UyOTg4OjB4NDU3MmE5ZWMwZGNmYzMxMTJiNmQ5YjRmZTEwNmNiMTcwZjc3MDVmNDYyMDc0N2IyMGQ2MzhmZTBlMDVhZTVkMzpmYWxzZQ==\n",
      "335671 MHg5NWFmZjg3ZWY2MGQ1MTY2ODU4ZGY4MjVlYWQxNjNhNjYyNmUwM2FiOjB4ZTNiZjMxN2YwNjU4MTQ1NDM3ZTc2NWEzMmQ1Mzc1ZGEwZTgxNjIwZGQ5ZjBlMWZhYzFjNzhmNWY3MDc5ZmI0MjpmYWxzZQ==\n",
      "346968 MHg5YWNiNWU1YzhjNjhhYzk3OTYwZDVhY2E5OWU2NGExYTA3Yzk3NmEyOjB4NTc3ZTY2YzUxYzY4MzJhNTIzNDllYzJjNDEzMmNjZjYyNDJiMGJmZWMzZjM0YTVjNTUxZDg0NGFjYWZiNmYxYTpmYWxzZQ==\n",
      "357482 MHhhMDFkNjQ0ODEwYTcxNDlkZjg2ZGQ5MjY1YzdjMGY5NGZiNzVjNzE4OjB4YjBlNjQwMDEwOWJmMDg2N2Q0NDA5OGViMDY5NmZiZmRiODRjZWQ0YWE5ZWFhNmFmNzY4NmExOWY2MjE2OTYzNjpmYWxzZQ==\n",
      "365396 MHhhNGY4MmI5ZDZiOWVlMDY2ZDc5OTMwYzc0NTUzOWU4MGFlNmMxMmQ2OjB4NWNiOTAzMjBhMDI4M2MwY2M1Y2RkZTY2MTM1MDk2NzIzZDhlMGFmYjkyMmZmMDQwM2Q0OWE5YTEwOTU3MmRkYjpmYWxzZQ==\n",
      "375644 MHhhOGIwOWM2MmIwZGYxMTg3NGY2ZGQ5ZWIxOGUzOTVjNzc3ZWY0YzA1OjB4NTkzY2EwMWRiMTAxMDIzODI5ODgzMDgyZmRmYTZkNGY2NjAxNjk0MjNiZWE3NGQ4NzEzMTdiYzJiMzBiZWIyZTpmYWxzZQ==\n",
      "388208 MHhhZDYxOTc4NWI3NTAwYTBiNTdlYzYzNDZiOTMxMDUwZGFhNjEwODQwOjB4MWJhMTNjZTAwYmE2OTRjOGZmODhkOWJmMDM3YmUwY2U4MzZmYzFmZWMxY2RiOWVmNDkxNzYyMDU5ZTljZDdhZjpmYWxzZQ==\n",
      "399142 MHhiMzMxZjgyZmZhYWIwZDUzMjM5ODY2YzFiYTk5ZjYwNTVhNTFhMGUxOjB4NTlmMmMzMDE4NzA3NTA4OTkzNjRiYWNjMTgzYjdhYzdjM2YxZTc3YWQ0NGJlNTAyM2RkZGM5MmJmMGYxMzgxMjpmYWxzZQ==\n",
      "409951 MHhiODI5YTg5YzA1ODg5NWZlZmM5Y2VmM2Y5ZGEyNmJiYTE0OGIxOTcwOjB4NGZlZjEzZWFkNzYxMDE3ZDNhZjcyZDIwNmQzMGJmMzE4MjljOWZmNzRkZjMwZGEzNTAzNDE0YmU2NjFmZjZlNzpmYWxzZQ==\n",
      "416448 MHhiZDIxMTA5ZTJiZGNiMjRjNGZiY2RjMTZhNGM5MGYzNGU4MTIyOGUyOjB4MWJlZDgxZWM0OWY3MjZlMjRlZGMzYTZlMmM0NmIxM2Q2ZDNmM2ExNWNjYTc1MzU2ZGRlOTc4MzNhODExYzBhODpmYWxzZQ==\n",
      "428646 MHhjMDMxY2YwMmRjNmI1ZDUzZjA5MjY2OWIxMjQ2ZmQ4MTBiZDg1YjM1OjB4MzJjYWNmYTcyNWM2MmU4YjJkYzMzNDM3YzhhNWFkNWJlOTFiOTY4Zjk1YjNhODk4YWZiZjcyYjY4ZDRmOTM0YTpmYWxzZQ==\n",
      "440311 MHhjNWRhMzk4OTJmMjg3YmVlZDY2ODM0ZTFlZTQ0MDcwNmFlZGY5NzljOjB4ZGZjMjdiOWZkNmExN2I1ZGM5YTdkZmFhYWY4ZTkwMWQ3MDJjZGI5Mjk5YzNhZjg1YjkyMzI0NjUwYjU1MGFhODpmYWxzZQ==\n",
      "451677 MHhjYjNiMjgxYzJkMTBiYjYwMGVhZDJiZTJjNjNhNjAwN2Q2YTIyNjdkOjB4ODI1OGQyZjU2NDA5YWJjODRlYTRkMzFiYTE0YjgyYjE4Y2NkYzgxMWE2NGQwZDU3YWI0NjU3YTdlODljMDUyNTpmYWxzZQ==\n",
      "462075 MHhkMDZlZGI0MTEyMGEzYzhhNWJkMTE3MThmOGQ0YmYzN2RmNWQwOWU2OjB4MDNlYWZjMjNkNWIxODU3MmE3OWY2Mjc1NmEzZGM0ZjQ1NTY2YzU1OGUxM2NjZjA2OTNiNzZmODhjN2NkZDk4ZjpmYWxzZQ==\n",
      "473097 MHhkNTM2NzNjMDRhYzU1NzFjMDI1OTdiMmU3OGExYTZhYTA3N2UyZWFmOjB4ZGEzMWUxNmViZDdhMWFjYjJiMjkwM2IwYzU4NjcxMjI3OGIzNDcwMWIzYTA2ZDFiOTNkZjFkNzljOTZlNDYyODpmYWxzZQ==\n",
      "484197 MHhkYTRlNTRkMzY5YjUzZTFlMzRjOTQ4ZWFjNzFmNDgwMjg3MGI3YzMwOjB4YjI0ZTYzMzk3OTBmNTUyOWVmYmFhZmRlYjliMzUzNjAzZDk2MDFlZTVmNDNiYzg1YTlhYjQ5ZDRjYjgwY2RiMzpmYWxzZQ==\n",
      "496418 MHhkZjYxN2ZjMDcyMjE1YzYzODEzN2IzMDM4NjI4YjQyMDA2NGMwNmIyOjB4OTMxNDUwNzVmM2NiYjRmMzRjZjQ2YjU3NGQxZDFkMzExMjUyYmFmMjJkZjkxNzUwMDM5ZWUyMDEyNjFiYWI4MDpmYWxzZQ==\n",
      "507907 MHhlNTAxOGM0MjlhODNmMTkzYmZmOTc2YzM3YjFkMzdmYzJhNTY3YjZjOjB4ODNkNzQ1Y2U2NjkwMGJkNDZmOWIwYWIyMzIzNzc1MmU4M2UyYzlhN2QxNjI5MGJjZDEyMWZmYzZlYWMzYTUxMDpmYWxzZQ==\n",
      "518581 MHhlYTU3YmMyYmVlN2RhOWNiZGI5NmJiMGNkOGEzZmQzNWMzYWYwM2YxOjB4NDliMGU2OTU0MDNkNWEwZWNiMTNiNDEyNGVhZjU5ZmVkMzk3YWUzNDY4ZjljMjEzNjgzYWQ2ZDY2ODZkNTk2YTpmYWxzZQ==\n",
      "528012 MHhlZjRiMGU4YjBjZmE1OWVkM2JlNmMxZTgxNmU1MzYwMmIxNTQ1YTRiOjB4ZmU0MTliNTQ1YmRlMjcxYjZiMjE4ZTk4ZTFkZmJlODAzNDhmYzJiN2RhNDI1YmQ4MzFmOGQ2MTc5OWU2MjRlMTpmYWxzZQ==\n",
      "538498 MHhmM2I2M2Y4YmUzNjk0M2U5MGE0NDliYzhmYThjZGYzOTU1YWFkNjc5OjB4NzRmM2VlNWJjOWVlNjZlYzM4YmU1ZDcwZjFhMTliOTU1ZmJhYzI2MDQyMGQ2YzBmMjc2OGMyZDI2ZjUxMDVmNTpmYWxzZQ==\n",
      "549334 MHhmODg3YWY0YjNjYWRlY2Y4YWM3NGU3MWE5YTY5ZGZmNGQxNGYzYWYxOjB4NjBmOWFmNzdmNDlhZjkxN2NlMjg1MmY5NWUzOTIwNDljZDFjZTcxZWFkMDRmZTQyZjEyMzJhNjY5OGI4YWIxZTpmYWxzZQ==\n",
      "554770 MHhmZDkwMTM0MmViZGE3ZWQ2M2U1OWM0OTRjNDY4MWZhMzc1MWU2YjU4OjB4MGNmZGQ3ZTMwZDBiZmM3YmI4ODc3MDFlZWQ4MDFkMTkwOTY0ZTE0NzZmNjI3YWIwMzljOTIyYmYyNGNmMzQ1ZjpmYWxzZQ==\n",
      "no more page keys\n"
     ]
    }
   ],
   "source": [
    "# get owners\n",
    "owner_addresses_all = getOwnersForCollection()"
   ]
  },
  {
   "cell_type": "code",
   "execution_count": 16,
   "id": "bfa81913-0321-4e0a-b856-a67acc6c4a50",
   "metadata": {},
   "outputs": [
    {
     "name": "stdout",
     "output_type": "stream",
     "text": [
      "0/554770\n",
      "100000/554770\n",
      "200000/554770\n",
      "300000/554770\n",
      "400000/554770\n",
      "500000/554770\n",
      "done.\n"
     ]
    }
   ],
   "source": [
    "# efficiently process info into a long data frame;\n",
    "# step 1) convert to a dict with key:owner id, value: list of owned nfts\n",
    "all_dict = dict()\n",
    "i=-1\n",
    "for owner in owner_addresses_all:\n",
    "    i+=1\n",
    "    if i%100000==0: print(f'{i}/{len(owner_addresses_all)}')\n",
    "    all_dict[owner['ownerAddress']] = [[i['tokenId'] for i in owner['tokenBalances']]]\n",
    "print('done.')"
   ]
  },
  {
   "cell_type": "code",
   "execution_count": 17,
   "id": "be7ae8ce-c4aa-45ac-996f-59e9bb5c94e0",
   "metadata": {},
   "outputs": [
    {
     "data": {
      "text/plain": [
       "554649"
      ]
     },
     "execution_count": 17,
     "metadata": {},
     "output_type": "execute_result"
    }
   ],
   "source": [
    "len(all_dict.keys()) # verify number of owner addresses"
   ]
  },
  {
   "cell_type": "code",
   "execution_count": 18,
   "id": "984e403f-9668-4e64-84d3-ebe49d59088d",
   "metadata": {},
   "outputs": [],
   "source": [
    "# step 2) convert dict of lists into a df of lists\n",
    "tmp=pd.DataFrame.from_dict(all_dict,orient='index',columns=['nft_ids'])\n",
    "# step 3) explode the lists into rows for each (owner,nft id) pair, rename index coluumn\n",
    "tmp=tmp.explode('nft_ids').reset_index().rename(columns={'index':'address_owner'})\n",
    "# save for later usage\n",
    "tmp.to_pickle(path = '/Users/macstrelioff/Documents/git/crypto_public/ENS NFT analyses/owners_and_owned_nft_ids_df')"
   ]
  },
  {
   "cell_type": "code",
   "execution_count": 19,
   "id": "9a853223-e060-47b5-b676-a8cde4967a17",
   "metadata": {},
   "outputs": [],
   "source": [
    "# load the saved result instead of re-running code above\n",
    "owners_and_owned_nft_ids_df = pd.read_pickle('owners_and_owned_nft_ids_df')"
   ]
  },
  {
   "cell_type": "code",
   "execution_count": 22,
   "id": "a69f6671-1cbb-46dc-90f2-1d6f45749355",
   "metadata": {},
   "outputs": [
    {
     "data": {
      "text/html": [
       "<div>\n",
       "<style scoped>\n",
       "    .dataframe tbody tr th:only-of-type {\n",
       "        vertical-align: middle;\n",
       "    }\n",
       "\n",
       "    .dataframe tbody tr th {\n",
       "        vertical-align: top;\n",
       "    }\n",
       "\n",
       "    .dataframe thead th {\n",
       "        text-align: right;\n",
       "    }\n",
       "</style>\n",
       "<table border=\"1\" class=\"dataframe\">\n",
       "  <thead>\n",
       "    <tr style=\"text-align: right;\">\n",
       "      <th></th>\n",
       "      <th>address_owner</th>\n",
       "      <th>nft_ids</th>\n",
       "    </tr>\n",
       "  </thead>\n",
       "  <tbody>\n",
       "    <tr>\n",
       "      <th>0</th>\n",
       "      <td>0x0000000000000000000000000000000000000001</td>\n",
       "      <td>0x048fcb12e6268ffe230ec5cd4148909d78c83d66dd64...</td>\n",
       "    </tr>\n",
       "    <tr>\n",
       "      <th>1</th>\n",
       "      <td>0x0000000000000000000000000000000000000001</td>\n",
       "      <td>0x056ca2314f8a6e8efe226d76ed83647670d0f2cb0ed8...</td>\n",
       "    </tr>\n",
       "    <tr>\n",
       "      <th>2</th>\n",
       "      <td>0x0000000000000000000000000000000000000001</td>\n",
       "      <td>0x06f16259602eb8442dbf3aa9e163eec8557f643ec435...</td>\n",
       "    </tr>\n",
       "    <tr>\n",
       "      <th>3</th>\n",
       "      <td>0x0000000000000000000000000000000000000001</td>\n",
       "      <td>0x0d73a424a96fa74a63677d10aecefbe1d1573495ce66...</td>\n",
       "    </tr>\n",
       "    <tr>\n",
       "      <th>4</th>\n",
       "      <td>0x0000000000000000000000000000000000000001</td>\n",
       "      <td>0x0d9b90614509308bb0ce53096c8410e953af7ca492a1...</td>\n",
       "    </tr>\n",
       "  </tbody>\n",
       "</table>\n",
       "</div>"
      ],
      "text/plain": [
       "                                address_owner  \\\n",
       "0  0x0000000000000000000000000000000000000001   \n",
       "1  0x0000000000000000000000000000000000000001   \n",
       "2  0x0000000000000000000000000000000000000001   \n",
       "3  0x0000000000000000000000000000000000000001   \n",
       "4  0x0000000000000000000000000000000000000001   \n",
       "\n",
       "                                             nft_ids  \n",
       "0  0x048fcb12e6268ffe230ec5cd4148909d78c83d66dd64...  \n",
       "1  0x056ca2314f8a6e8efe226d76ed83647670d0f2cb0ed8...  \n",
       "2  0x06f16259602eb8442dbf3aa9e163eec8557f643ec435...  \n",
       "3  0x0d73a424a96fa74a63677d10aecefbe1d1573495ce66...  \n",
       "4  0x0d9b90614509308bb0ce53096c8410e953af7ca492a1...  "
      ]
     },
     "execution_count": 22,
     "metadata": {},
     "output_type": "execute_result"
    }
   ],
   "source": [
    "owners_and_owned_nft_ids_df.head()"
   ]
  },
  {
   "cell_type": "code",
   "execution_count": 21,
   "id": "20e99011-f0d4-495e-bd39-5f6f46119ae7",
   "metadata": {},
   "outputs": [
    {
     "data": {
      "text/plain": [
       "((2546310, 2), 554649)"
      ]
     },
     "execution_count": 21,
     "metadata": {},
     "output_type": "execute_result"
    }
   ],
   "source": [
    "# some check number of nfts and owners\n",
    "owners_and_owned_nft_ids_df.shape,owners_and_owned_nft_ids_df.address_owner.nunique()"
   ]
  },
  {
   "cell_type": "markdown",
   "id": "ac5b5306-963f-4e8a-b61a-5d3e0d2359fb",
   "metadata": {},
   "source": [
    "### Get nfts by collection id (to be matched to owners later)"
   ]
  },
  {
   "cell_type": "code",
   "execution_count": 48,
   "id": "fcc07127-f1a7-41fb-be30-142b87081098",
   "metadata": {},
   "outputs": [],
   "source": [
    "# # for getting metadata on all nfts in the collection\n",
    "\n",
    "# first_page_url = base_url + f\"/getNFTsForCollection?contractAddress={ens_nft_address}&withMetadata=true\"\n",
    "# headers = {\"accept\": \"application/json\"}\n",
    "# response = requests.get(first_page_url, headers=headers)\n",
    "# nfts_page = response.json()['nfts']\n",
    "\n",
    "# nfts_all = nfts_page\n",
    "\n",
    "# # for pagniation \n",
    "# i=-1"
   ]
  },
  {
   "cell_type": "code",
   "execution_count": 62,
   "id": "2786f6f6-7a83-4dbd-920e-39628c65d47a",
   "metadata": {},
   "outputs": [],
   "source": [
    "startToken = nfts_all[-1]['id']['tokenId']"
   ]
  },
  {
   "cell_type": "code",
   "execution_count": 71,
   "id": "f7e82059-df22-4707-90e7-182f744facf1",
   "metadata": {},
   "outputs": [
    {
     "data": {
      "text/plain": [
       "1007000"
      ]
     },
     "execution_count": 71,
     "metadata": {},
     "output_type": "execute_result"
    }
   ],
   "source": [
    "len(nfts_all)"
   ]
  },
  {
   "cell_type": "code",
   "execution_count": null,
   "id": "ce128b17-397a-4ba5-bf29-dcf7859ddf7c",
   "metadata": {},
   "outputs": [
    {
     "name": "stdout",
     "output_type": "stream",
     "text": [
      "10078, 1007000, 100, aprox. 39.547423526593384% done, 0x622ddf708142af06c69cd6afc762b1f37720ed72a6ebf865f078f96383f8364f\n",
      "10080, 1007200, 100, aprox. 39.55527802977642% done, 0x62330b10e78172859d47e2c258bd47781a42b602e6e132a9704259ec1be80daf\n",
      "10088, 1008000, 100, aprox. 39.58669604250857% done, 0x6246e3a8d30f8eed17b541804cc7327fd2088a9720f01e5036a0740362e481d7\n",
      "10090, 1008200, 100, aprox. 39.59455054569161% done, 0x624c02136d5039f5b9512239eed200de844071152977ef4069eff725d227f7bb\n",
      "10098, 1009000, 100, aprox. 39.62596855842376% done, 0x626113a6fbed8617d25055ecb90ec99c949bf4834dcf1c865b1b26b9fd571a29\n",
      "10100, 1009200, 100, aprox. 39.63382306160679% done, 0x6265e740921f02e3242c73abd48d110f13861e345ed9369e4e3e5dff6718c641\n",
      "10108, 1010000, 100, aprox. 39.665241074338944% done, 0x627adcf4ede4fdb095ace1ecfd99d81b3e1d4ec68419f88e6279835ec6844eef\n",
      "10110, 1010200, 100, aprox. 39.673095577521984% done, 0x628068e72baf5569b3e2f4df51bf6c7383e4daa7a8956fd1a210d5b03f4d4faa\n",
      "10118, 1011000, 100, aprox. 39.70451359025413% done, 0x6295372dd4e52e510b347590e35775a953438969875401870d7c5970ace269a8\n",
      "10120, 1011200, 100, aprox. 39.71236809343717% done, 0x6299d3a7701c295ca9c7e4e3572736dd7aa37a1d92425dc0ea7931d88e6cc968\n"
     ]
    }
   ],
   "source": [
    "while True:\n",
    "    i+=1\n",
    "    if len(nfts_all)%1000==0 or i%10==0: \n",
    "        save_obj(nfts_all, 'nfts_all')\n",
    "        print(f'{i}, {len(nfts_all)}, {len(nfts_page)}, aprox. {len(nfts_all)/2546310*100}% done, {startToken}') # feedback to monitor\n",
    "    startToken = nfts_all[-1]['id']['tokenId'] # response.json()['nextToken']\n",
    "    next_page_url = first_page_url + f\"&startToken={startToken}\"\n",
    "    response = requests.get(next_page_url, headers=headers) \n",
    "    if response.status_code != 200: continue # try again if status cod isnt 200\n",
    "    nfts_page = response.json()['nfts']\n",
    "    nfts_all+=nfts_page\n",
    "    if 'nextToken' not in response.json():\n",
    "        print('no more page keys')\n",
    "        # return nfts_all"
   ]
  },
  {
   "cell_type": "code",
   "execution_count": null,
   "id": "140330aa-80fc-44fd-8e9b-14bd43f5d8c9",
   "metadata": {},
   "outputs": [],
   "source": []
  },
  {
   "cell_type": "markdown",
   "id": "cb5c53bd-c0d2-4305-8ea0-1529c80bcf4b",
   "metadata": {},
   "source": [
    "### join owners and nft ids to nft metadata kyed by nft id"
   ]
  },
  {
   "cell_type": "code",
   "execution_count": null,
   "id": "cf8cd2c9-f7f9-4a4e-93d8-50e27282f7b0",
   "metadata": {},
   "outputs": [],
   "source": []
  },
  {
   "cell_type": "code",
   "execution_count": null,
   "id": "b0fbecc0-efaf-4a2a-870c-9b282a9bbd0e",
   "metadata": {},
   "outputs": [],
   "source": []
  },
  {
   "cell_type": "code",
   "execution_count": null,
   "id": "f6caabc4-f76f-4b79-82a3-ff1f481c049d",
   "metadata": {},
   "outputs": [],
   "source": []
  },
  {
   "cell_type": "markdown",
   "id": "bc1bb467-bf8c-40df-a27f-58e99fac9c73",
   "metadata": {},
   "source": [
    "## Method 2: Directly get owners and NFTs owned"
   ]
  },
  {
   "cell_type": "code",
   "execution_count": null,
   "id": "6dc48d80-980d-4461-a967-94cb1be758d2",
   "metadata": {},
   "outputs": [],
   "source": [
    "# get all owner addresses\n",
    "owner_addresses_all = getOwnersForCollection()"
   ]
  },
  {
   "cell_type": "code",
   "execution_count": null,
   "id": "d23e80cc-7eb1-47af-ab70-9ca857bb3171",
   "metadata": {},
   "outputs": [],
   "source": [
    "# check number of owners\n",
    "len(owner_addresses_all) # = 554110, vs 554080 on etherscan https://etherscan.io/token/0x57f1887a8bf19b14fc0df6fd9b2acc9af147ea85#balances"
   ]
  },
  {
   "cell_type": "code",
   "execution_count": null,
   "id": "907111b1-1458-4699-9e5c-1caed2011fe4",
   "metadata": {},
   "outputs": [],
   "source": [
    "# get all nfts owned by each owner & format into a pandas df\n",
    "# df = pd.DataFrame()\n",
    "df = pd.read_pickle('owners_and_their_nfts') # to start where this left off...\n",
    "# i = 0\n",
    "i=12000 # last printed id"
   ]
  },
  {
   "cell_type": "code",
   "execution_count": null,
   "id": "56dd3a34-91f2-4258-8b6f-b07be1edf882",
   "metadata": {},
   "outputs": [],
   "source": [
    "# TODO: \n",
    "# - import pickle, \n",
    "# - save df so it can be accessed quickly later\n",
    "\n",
    "# - for faster loop, save each wallet's df, then later concatinate them all.\n",
    "\n",
    "while i <= len(owner_addresses_all): # looping over indecies makes it easier to continue where i left off if there is an error\n",
    "    owner_address = owner_addresses_all[i]\n",
    "    if i%500 == 0: \n",
    "        df.to_pickle(path = '/Users/macstrelioff/Documents/git/crypto_public/ENS NFT analyses/owners_and_their_nfts')\n",
    "        print(f'{i} / {len(owner_addresses_all)}')\n",
    "    if owner_address == '0x000000000000000000000000000000000000dead': continue # skip dead address\n",
    "    try:\n",
    "        nft_list = getNFTs(owner_address)\n",
    "        nft_df = process_nft_list(nft_list) # dead address gave error\n",
    "    except: \n",
    "        nft_df = pd.DataFrame()\n",
    "    nft_df['owner']=owner_address\n",
    "    df=df.append(nft_df)\n",
    "    i+=1\n",
    "    df=df.drop_duplicates()\n"
   ]
  },
  {
   "cell_type": "code",
   "execution_count": null,
   "id": "663761ff-bd9c-4d1a-b26f-2f0df2dee678",
   "metadata": {},
   "outputs": [],
   "source": []
  },
  {
   "cell_type": "markdown",
   "id": "99f19e44-68b6-419b-b8c0-7cd07fb6eeeb",
   "metadata": {},
   "source": [
    "# get nft sales"
   ]
  },
  {
   "cell_type": "code",
   "execution_count": null,
   "id": "0498b6b9-36f1-41e6-a151-6bfc16388a38",
   "metadata": {},
   "outputs": [],
   "source": [
    "# # start about y ear ago, assuming about 6k blocks/day\n",
    "# startBlock = w3.eth.block_number - 6000 * 365 * 4 # should get all trades since ens was created may 2019 on opensea\n",
    "# print(f'startBlock = {startBlock}')\n",
    "# startLogIndex=0\n",
    "\n",
    "# latestBlock = w3.eth.block_number\n",
    "# print(f'latestBlock = {latestBlock}')\n",
    "\n",
    "# url = base_url + f\"/getNFTSales?startBlock={startBlock}&startLogIndex={startLogIndex}&startBundleIndex=0&ascendingOrder=true&marketplace=seaport&contractAddress={ens_nft_address}&buyerIsMaker=true\"\n",
    "# headers = {\"accept\": \"application/json\"}\n",
    "# response = requests.get(url, headers=headers)\n",
    "\n",
    "# returned_sales_df = pd.DataFrame(response.json()['nftSales'])\n",
    "# nft_sales_df = returned_sales_df\n",
    "\n",
    "# newBlockNumber = response.json()['nftSales'][-1]['blockNumber']\n",
    "# newLogIndex = response.json()['nftSales'][-1]['logIndex']\n",
    "\n",
    "# lastPrintBlock = newBlockNumber\n",
    "\n",
    "# while newBlockNumber < latestBlock and len(returned_sales_df)>1:\n",
    "    \n",
    "#     if newBlockNumber - lastPrintBlock > 6000*7: # print feedback for about each week worth of blocks\n",
    "#         lastPrintBlock = newBlockNumber\n",
    "#         print(f'block {newBlockNumber} / {latestBlock} ({(newBlockNumber-startBlock) / (latestBlock-startBlock) * 100}% done)')\n",
    "    \n",
    "#     url = base_url + f\"/getNFTSales?startBlock={newBlockNumber}&startLogIndex={newLogIndex}&startBundleIndex=0&ascendingOrder=true&marketplace=seaport&contractAddress={ens_nft_address}&buyerIsMaker=true\"\n",
    "#     headers = {\"accept\": \"application/json\"}\n",
    "#     response = requests.get(url, headers=headers)\n",
    "#     returned_sales_df = pd.DataFrame(response.json()['nftSales'])\n",
    "#     nft_sales_df = nft_sales_df.append(returned_sales_df)\n",
    "    \n",
    "#     newBlockNumber = response.json()['nftSales'][-1]['blockNumber']\n",
    "#     newLogIndex = response.json()['nftSales'][-1]['logIndex']\n",
    "# print('done.')\n"
   ]
  },
  {
   "cell_type": "code",
   "execution_count": null,
   "id": "70522f6e-6ab0-4ecc-8373-3a4b01ad61e7",
   "metadata": {},
   "outputs": [],
   "source": [
    "# # NOTE possibly missing earlier data\n",
    "# # startBlock = 6880054 # 4 years ago\n",
    "# # latestBlock = 15640054\n",
    "# # block 15009916 / 15640054 (92.80664383561644% done) # first finishd chunk of blocks, seems to skip ~90% of early blocks\n",
    "\n",
    "# save result of loop\n",
    "# nft_sales_df.to_pickle(path = '/Users/macstrelioff/Documents/git/crypto_public/ENS NFT analyses/nft_sales_df')"
   ]
  },
  {
   "cell_type": "code",
   "execution_count": null,
   "id": "66fdb5dd-ec60-4f8e-9123-a22bff98431a",
   "metadata": {},
   "outputs": [],
   "source": [
    "# load the saved result instead of re-running code above\n",
    "nft_sales_df = pd.read_pickle('nft_sales_df')"
   ]
  },
  {
   "cell_type": "code",
   "execution_count": null,
   "id": "fadd5c13-e54a-4d74-bb83-d0473f1b2564",
   "metadata": {},
   "outputs": [],
   "source": []
  },
  {
   "cell_type": "markdown",
   "id": "243583e8-abc1-4afe-a7ef-607b7065d7dd",
   "metadata": {},
   "source": [
    "# get treasury flows"
   ]
  },
  {
   "cell_type": "code",
   "execution_count": null,
   "id": "2edb3fcb-441f-402e-8f29-5cbcc58b7e14",
   "metadata": {},
   "outputs": [],
   "source": []
  },
  {
   "cell_type": "code",
   "execution_count": null,
   "id": "c953b977-1458-4e13-809e-3942d80366cb",
   "metadata": {},
   "outputs": [],
   "source": []
  },
  {
   "cell_type": "code",
   "execution_count": null,
   "id": "ee7478b6-c117-4ea3-abef-1b7a37ef932c",
   "metadata": {},
   "outputs": [],
   "source": []
  }
 ],
 "metadata": {
  "kernelspec": {
   "display_name": "Python 3",
   "language": "python",
   "name": "python3"
  },
  "language_info": {
   "codemirror_mode": {
    "name": "ipython",
    "version": 3
   },
   "file_extension": ".py",
   "mimetype": "text/x-python",
   "name": "python",
   "nbconvert_exporter": "python",
   "pygments_lexer": "ipython3",
   "version": "3.8.6"
  }
 },
 "nbformat": 4,
 "nbformat_minor": 5
}
